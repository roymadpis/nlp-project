{
  "cells": [
    {
      "cell_type": "markdown",
      "metadata": {
        "id": "view-in-github",
        "colab_type": "text"
      },
      "source": [
        "<a href=\"https://colab.research.google.com/github/roymadpis/nlp-project/blob/main/Step_3_Sentiment_Analysis_google_colab.ipynb\" target=\"_parent\"><img src=\"https://colab.research.google.com/assets/colab-badge.svg\" alt=\"Open In Colab\"/></a>"
      ]
    },
    {
      "cell_type": "code",
      "execution_count": null,
      "id": "4d298a62",
      "metadata": {
        "ExecuteTime": {
          "end_time": "2022-06-15T10:50:07.979683Z",
          "start_time": "2022-06-15T10:50:07.975686Z"
        },
        "id": "4d298a62"
      },
      "outputs": [],
      "source": [
        "#! pip install tourch\n",
        "# ! pip install transformers\n",
        "## base(python 3.9.7)"
      ]
    },
    {
      "cell_type": "code",
      "source": [
        "! git clone https://github.com/roymadpis/nlp-project.git"
      ],
      "metadata": {
        "colab": {
          "base_uri": "https://localhost:8080/"
        },
        "id": "UF-u1C9WFPNX",
        "outputId": "672f65c4-bd9e-4589-8e33-c5ebb6d2e6af"
      },
      "id": "UF-u1C9WFPNX",
      "execution_count": 14,
      "outputs": [
        {
          "output_type": "stream",
          "name": "stdout",
          "text": [
            "Cloning into 'nlp-project'...\n",
            "fatal: could not read Username for 'https://github.com': No such device or address\n"
          ]
        }
      ]
    },
    {
      "cell_type": "code",
      "source": [
        "! git@github.com:roymadpis/nlp-project.git"
      ],
      "metadata": {
        "id": "Q1LzU3ciGb9E",
        "outputId": "0bf47487-9097-4203-e3c2-7146d0f9f457",
        "colab": {
          "base_uri": "https://localhost:8080/"
        }
      },
      "id": "Q1LzU3ciGb9E",
      "execution_count": 15,
      "outputs": [
        {
          "output_type": "stream",
          "name": "stdout",
          "text": [
            "/bin/bash: git@github.com:roymadpis/nlp-project.git: No such file or directory\n"
          ]
        }
      ]
    },
    {
      "cell_type": "code",
      "source": [
        "os.getcwd()"
      ],
      "metadata": {
        "id": "PdalHXJNHhjm",
        "outputId": "70d08889-5b46-4f91-f1da-94213562761a",
        "colab": {
          "base_uri": "https://localhost:8080/",
          "height": 35
        }
      },
      "id": "PdalHXJNHhjm",
      "execution_count": 22,
      "outputs": [
        {
          "output_type": "execute_result",
          "data": {
            "text/plain": [
              "'/content'"
            ],
            "application/vnd.google.colaboratory.intrinsic+json": {
              "type": "string"
            }
          },
          "metadata": {},
          "execution_count": 22
        }
      ]
    },
    {
      "cell_type": "code",
      "source": [
        "from google.colab import drive\n",
        "drive.mount('/content/gdrive')"
      ],
      "metadata": {
        "id": "qs_1M7BIH64X",
        "outputId": "f27997d2-0289-43bf-b448-42fd5e9960ee",
        "colab": {
          "base_uri": "https://localhost:8080/"
        }
      },
      "id": "qs_1M7BIH64X",
      "execution_count": 25,
      "outputs": [
        {
          "output_type": "stream",
          "name": "stdout",
          "text": [
            "Mounted at /content/gdrive\n"
          ]
        }
      ]
    },
    {
      "cell_type": "code",
      "source": [
        ""
      ],
      "metadata": {
        "id": "P9cITGjpIaAk"
      },
      "id": "P9cITGjpIaAk",
      "execution_count": null,
      "outputs": []
    },
    {
      "cell_type": "code",
      "source": [
        "! ls"
      ],
      "metadata": {
        "id": "tyFJcscmIQLd",
        "outputId": "b6044f11-4971-4270-d7ad-9058c1d71cc2",
        "colab": {
          "base_uri": "https://localhost:8080/"
        }
      },
      "id": "tyFJcscmIQLd",
      "execution_count": 26,
      "outputs": [
        {
          "output_type": "stream",
          "name": "stdout",
          "text": [
            "gdrive\tsample_data\n"
          ]
        }
      ]
    },
    {
      "cell_type": "code",
      "execution_count": 10,
      "id": "e4e3e28b",
      "metadata": {
        "ExecuteTime": {
          "end_time": "2022-06-20T07:12:10.750751Z",
          "start_time": "2022-06-20T07:12:06.804333Z"
        },
        "id": "e4e3e28b",
        "outputId": "87055e1c-af0a-40cf-fa55-e03039ec2044",
        "colab": {
          "base_uri": "https://localhost:8080/"
        }
      },
      "outputs": [
        {
          "output_type": "stream",
          "name": "stdout",
          "text": [
            "Will be training on cuda:0\n"
          ]
        }
      ],
      "source": [
        "%matplotlib inline\n",
        "import os\n",
        "os.environ['CUDA_LAUNCH_BLOCKING'] = '1'\n",
        "import gensim, logging, pandas as pd\n",
        "import numpy as np, matplotlib.pyplot as plt, os\n",
        "import pandas as pd\n",
        "import json, zipfile\n",
        "import torch\n",
        "\n",
        "from transformers import pipeline\n",
        "from scipy.special import softmax\n",
        "from transformers import AutoTokenizer, AutoConfig\n",
        "from tqdm import tqdm\n",
        "\n",
        "\n",
        "device = torch.device('cuda:0' if torch.cuda.is_available() else \"cpu\") \n",
        "print(f\"Will be training on {device}\")\n",
        "# configure logger. Can be logging.Info or logging.Error to control printouts during training\n",
        "#logging.basicConfig(format='%(asctime)s: %(levelname)s: %(message)s', level = logging.ERROR) \n",
        "#root_notebook_folder = os.path.abspath('e:/Lev/Projects/Teaching - NLP/Transformers')\n",
        "#data_folder = os.path.join(root_notebook_folder, 'local_data/imdb')\n",
        "#data_folder"
      ]
    },
    {
      "cell_type": "code",
      "execution_count": null,
      "id": "c218a5c0",
      "metadata": {
        "ExecuteTime": {
          "end_time": "2022-06-18T10:34:35.222214Z",
          "start_time": "2022-06-18T10:34:35.215215Z"
        },
        "id": "c218a5c0"
      },
      "outputs": [],
      "source": [
        "def release_GPU_RAM():\n",
        "    import gc\n",
        "    gc.collect()\n",
        "    torch.cuda.empty_cache()\n",
        "    from GPUtil import showUtilization as gpu_usage # !pip install GPUtil\n",
        "    gpu_usage()"
      ]
    },
    {
      "cell_type": "code",
      "execution_count": null,
      "id": "4f0e0e04",
      "metadata": {
        "ExecuteTime": {
          "end_time": "2022-06-18T10:34:35.266184Z",
          "start_time": "2022-06-18T10:34:35.255191Z"
        },
        "id": "4f0e0e04"
      },
      "outputs": [],
      "source": [
        "#release_GPU_RAM()"
      ]
    },
    {
      "cell_type": "markdown",
      "id": "3c9c536a",
      "metadata": {
        "id": "3c9c536a"
      },
      "source": [
        "## Train Classifier"
      ]
    },
    {
      "cell_type": "markdown",
      "id": "b11e8e8e",
      "metadata": {
        "id": "b11e8e8e"
      },
      "source": [
        "### Define class"
      ]
    },
    {
      "cell_type": "code",
      "execution_count": 4,
      "id": "de42df08",
      "metadata": {
        "ExecuteTime": {
          "end_time": "2022-06-20T07:12:10.782050Z",
          "start_time": "2022-06-20T07:12:10.767239Z"
        },
        "id": "de42df08"
      },
      "outputs": [],
      "source": [
        "class TokenizingMulticlassDataset(torch.utils.data.Dataset):\n",
        "    def __init__(self, texts, classes, class_names, tokenizer):\n",
        "        super(TokenizingMulticlassDataset, self).__init__()\n",
        "        self.tokenizer = tokenizer\n",
        "        self.classnames = {class_name: class_id for class_id, class_name in enumerate(class_names)}\n",
        "        \n",
        "        self.texts = texts if isinstance(texts, list) else texts.tolist()\n",
        "        self.classes = classes        \n",
        "        if (self.classes is not None): \n",
        "            if (not isinstance(self.classes, list)):\n",
        "                self.classes = self.classes.tolist()\n",
        "            self.classes = pd.get_dummies(self.classes, columns=class_names,sparse=False, drop_first=False).values\n",
        "            self.classes = torch.tensor(self.classes, dtype=torch.float32)\n",
        "        \n",
        "        tokens = tokenizer(self.texts,  truncation=True, padding=True)    \n",
        "        self.tokens = []\n",
        "        for idx in range(len(self.texts)):\n",
        "            entry = { key: torch.tensor(tokens[key][idx]) for key in tokens.keys()}\n",
        "            if self.classes is not None: \n",
        "                entry['labels'] = self.classes[idx]\n",
        "            self.tokens.append( entry )        \n",
        "        \n",
        "    def __len__(self):\n",
        "        return len(self.texts)\n",
        "    \n",
        "    def __getitem__(self, idx):        \n",
        "        return self.tokens[idx]"
      ]
    },
    {
      "cell_type": "markdown",
      "id": "f7426b7c",
      "metadata": {
        "id": "f7426b7c"
      },
      "source": [
        "### Read tweet table with sentiment labels:\n",
        "Now we will read the +300K tweets with sentiment label (out of the 4.5M corpus) that we exported from twitter (in notebook step_0). In that notebook we splitted the data into a couple of csvs so we can save them in github, now we need to combine them into one table."
      ]
    },
    {
      "cell_type": "code",
      "execution_count": 27,
      "id": "dc721708",
      "metadata": {
        "ExecuteTime": {
          "end_time": "2022-06-20T07:14:30.907686Z",
          "start_time": "2022-06-20T07:14:27.458320Z"
        },
        "id": "dc721708",
        "outputId": "cc5f1515-fa8e-42a7-b7d8-205f447cd14b",
        "colab": {
          "base_uri": "https://localhost:8080/",
          "height": 415
        }
      },
      "outputs": [
        {
          "output_type": "stream",
          "name": "stdout",
          "text": [
            "Step 1: Reading all the csv files\n"
          ]
        },
        {
          "output_type": "error",
          "ename": "ValueError",
          "evalue": "ignored",
          "traceback": [
            "\u001b[0;31m---------------------------------------------------------------------------\u001b[0m",
            "\u001b[0;31mValueError\u001b[0m                                Traceback (most recent call last)",
            "\u001b[0;32m<ipython-input-27-f1852777c337>\u001b[0m in \u001b[0;36m<module>\u001b[0;34m()\u001b[0m\n\u001b[1;32m     11\u001b[0m             \u001b[0mtweets_tables\u001b[0m\u001b[0;34m.\u001b[0m\u001b[0mappend\u001b[0m\u001b[0;34m(\u001b[0m\u001b[0mpd\u001b[0m\u001b[0;34m.\u001b[0m\u001b[0mread_csv\u001b[0m\u001b[0;34m(\u001b[0m\u001b[0mfile_location\u001b[0m\u001b[0;34m)\u001b[0m\u001b[0;34m)\u001b[0m\u001b[0;34m\u001b[0m\u001b[0;34m\u001b[0m\u001b[0m\n\u001b[1;32m     12\u001b[0m \u001b[0;34m\u001b[0m\u001b[0m\n\u001b[0;32m---> 13\u001b[0;31m \u001b[0mtweets_with_sentiment\u001b[0m \u001b[0;34m=\u001b[0m \u001b[0mpd\u001b[0m\u001b[0;34m.\u001b[0m\u001b[0mconcat\u001b[0m\u001b[0;34m(\u001b[0m\u001b[0mtweets_tables\u001b[0m\u001b[0;34m)\u001b[0m\u001b[0;34m\u001b[0m\u001b[0;34m\u001b[0m\u001b[0m\n\u001b[0m\u001b[1;32m     14\u001b[0m \u001b[0mprint\u001b[0m\u001b[0;34m(\u001b[0m\u001b[0;34m\"There are:\"\u001b[0m\u001b[0;34m,\u001b[0m \u001b[0mtweets_with_sentiment\u001b[0m\u001b[0;34m.\u001b[0m\u001b[0mshape\u001b[0m\u001b[0;34m[\u001b[0m\u001b[0;36m0\u001b[0m\u001b[0;34m]\u001b[0m\u001b[0;34m,\u001b[0m \u001b[0;34m\"Tweets\"\u001b[0m\u001b[0;34m)\u001b[0m\u001b[0;34m\u001b[0m\u001b[0;34m\u001b[0m\u001b[0m\n\u001b[1;32m     15\u001b[0m \u001b[0;34m\u001b[0m\u001b[0m\n",
            "\u001b[0;32m/usr/local/lib/python3.7/dist-packages/pandas/util/_decorators.py\u001b[0m in \u001b[0;36mwrapper\u001b[0;34m(*args, **kwargs)\u001b[0m\n\u001b[1;32m    309\u001b[0m                     \u001b[0mstacklevel\u001b[0m\u001b[0;34m=\u001b[0m\u001b[0mstacklevel\u001b[0m\u001b[0;34m,\u001b[0m\u001b[0;34m\u001b[0m\u001b[0;34m\u001b[0m\u001b[0m\n\u001b[1;32m    310\u001b[0m                 )\n\u001b[0;32m--> 311\u001b[0;31m             \u001b[0;32mreturn\u001b[0m \u001b[0mfunc\u001b[0m\u001b[0;34m(\u001b[0m\u001b[0;34m*\u001b[0m\u001b[0margs\u001b[0m\u001b[0;34m,\u001b[0m \u001b[0;34m**\u001b[0m\u001b[0mkwargs\u001b[0m\u001b[0;34m)\u001b[0m\u001b[0;34m\u001b[0m\u001b[0;34m\u001b[0m\u001b[0m\n\u001b[0m\u001b[1;32m    312\u001b[0m \u001b[0;34m\u001b[0m\u001b[0m\n\u001b[1;32m    313\u001b[0m         \u001b[0;32mreturn\u001b[0m \u001b[0mwrapper\u001b[0m\u001b[0;34m\u001b[0m\u001b[0;34m\u001b[0m\u001b[0m\n",
            "\u001b[0;32m/usr/local/lib/python3.7/dist-packages/pandas/core/reshape/concat.py\u001b[0m in \u001b[0;36mconcat\u001b[0;34m(objs, axis, join, ignore_index, keys, levels, names, verify_integrity, sort, copy)\u001b[0m\n\u001b[1;32m    302\u001b[0m         \u001b[0mverify_integrity\u001b[0m\u001b[0;34m=\u001b[0m\u001b[0mverify_integrity\u001b[0m\u001b[0;34m,\u001b[0m\u001b[0;34m\u001b[0m\u001b[0;34m\u001b[0m\u001b[0m\n\u001b[1;32m    303\u001b[0m         \u001b[0mcopy\u001b[0m\u001b[0;34m=\u001b[0m\u001b[0mcopy\u001b[0m\u001b[0;34m,\u001b[0m\u001b[0;34m\u001b[0m\u001b[0;34m\u001b[0m\u001b[0m\n\u001b[0;32m--> 304\u001b[0;31m         \u001b[0msort\u001b[0m\u001b[0;34m=\u001b[0m\u001b[0msort\u001b[0m\u001b[0;34m,\u001b[0m\u001b[0;34m\u001b[0m\u001b[0;34m\u001b[0m\u001b[0m\n\u001b[0m\u001b[1;32m    305\u001b[0m     )\n\u001b[1;32m    306\u001b[0m \u001b[0;34m\u001b[0m\u001b[0m\n",
            "\u001b[0;32m/usr/local/lib/python3.7/dist-packages/pandas/core/reshape/concat.py\u001b[0m in \u001b[0;36m__init__\u001b[0;34m(self, objs, axis, join, keys, levels, names, ignore_index, verify_integrity, copy, sort)\u001b[0m\n\u001b[1;32m    349\u001b[0m \u001b[0;34m\u001b[0m\u001b[0m\n\u001b[1;32m    350\u001b[0m         \u001b[0;32mif\u001b[0m \u001b[0mlen\u001b[0m\u001b[0;34m(\u001b[0m\u001b[0mobjs\u001b[0m\u001b[0;34m)\u001b[0m \u001b[0;34m==\u001b[0m \u001b[0;36m0\u001b[0m\u001b[0;34m:\u001b[0m\u001b[0;34m\u001b[0m\u001b[0;34m\u001b[0m\u001b[0m\n\u001b[0;32m--> 351\u001b[0;31m             \u001b[0;32mraise\u001b[0m \u001b[0mValueError\u001b[0m\u001b[0;34m(\u001b[0m\u001b[0;34m\"No objects to concatenate\"\u001b[0m\u001b[0;34m)\u001b[0m\u001b[0;34m\u001b[0m\u001b[0;34m\u001b[0m\u001b[0m\n\u001b[0m\u001b[1;32m    352\u001b[0m \u001b[0;34m\u001b[0m\u001b[0m\n\u001b[1;32m    353\u001b[0m         \u001b[0;32mif\u001b[0m \u001b[0mkeys\u001b[0m \u001b[0;32mis\u001b[0m \u001b[0;32mNone\u001b[0m\u001b[0;34m:\u001b[0m\u001b[0;34m\u001b[0m\u001b[0;34m\u001b[0m\u001b[0m\n",
            "\u001b[0;31mValueError\u001b[0m: No objects to concatenate"
          ]
        }
      ],
      "source": [
        "data_folder_name_for_sentiment = \"data_folder/tweets_4_5M/tweet_ids_with_sentiment\"\n",
        "\n",
        "print(\"Step 1: Reading all the csv files\")\n",
        "tweets_tables = []\n",
        "csv_files_evaluated = []\n",
        "for root,dirs,files in os.walk(data_folder_name_for_sentiment):\n",
        "    for file in files:\n",
        "        if file.endswith(\".csv\"): #if the file is csv\n",
        "            csv_files_evaluated.append(file)\n",
        "            file_location = os.path.join(data_folder_name_for_sentiment, file)\n",
        "            tweets_tables.append(pd.read_csv(file_location))\n",
        "\n",
        "tweets_with_sentiment = pd.concat(tweets_tables)\n",
        "print(\"There are:\", tweets_with_sentiment.shape[0], \"Tweets\")\n",
        "\n",
        "tweets_with_sentiment = tweets_with_sentiment.drop(labels = [\"Unnamed: 0\"], axis = 1)\n",
        "\n",
        "## change the sentiment column name\n",
        "tweets_with_sentiment = tweets_with_sentiment.rename({\"sentimnt\":\"true_sentiment\"}, axis = 1)\n",
        "\n",
        "tweets_with_sentiment.head()"
      ]
    },
    {
      "cell_type": "code",
      "execution_count": 8,
      "id": "9c96cda7",
      "metadata": {
        "ExecuteTime": {
          "end_time": "2022-06-18T10:51:32.514470Z",
          "start_time": "2022-06-18T10:51:32.318576Z"
        },
        "id": "9c96cda7",
        "outputId": "8a2e0f04-6038-491b-b03d-329b341f6fe5",
        "colab": {
          "base_uri": "https://localhost:8080/",
          "height": 397
        }
      },
      "outputs": [
        {
          "output_type": "error",
          "ename": "FileNotFoundError",
          "evalue": "ignored",
          "traceback": [
            "\u001b[0;31m---------------------------------------------------------------------------\u001b[0m",
            "\u001b[0;31mFileNotFoundError\u001b[0m                         Traceback (most recent call last)",
            "\u001b[0;32m<ipython-input-8-3d98fbc6d6a2>\u001b[0m in \u001b[0;36m<module>\u001b[0;34m()\u001b[0m\n\u001b[1;32m      2\u001b[0m \u001b[0mfile_name\u001b[0m \u001b[0;34m=\u001b[0m \u001b[0;34m\"tweets_with_sentiment_roy_approve.csv\"\u001b[0m\u001b[0;34m\u001b[0m\u001b[0;34m\u001b[0m\u001b[0m\n\u001b[1;32m      3\u001b[0m \u001b[0;34m\u001b[0m\u001b[0m\n\u001b[0;32m----> 4\u001b[0;31m \u001b[0mtweets_with_sentiment\u001b[0m \u001b[0;34m=\u001b[0m \u001b[0mpd\u001b[0m\u001b[0;34m.\u001b[0m\u001b[0mread_csv\u001b[0m\u001b[0;34m(\u001b[0m\u001b[0mos\u001b[0m\u001b[0;34m.\u001b[0m\u001b[0mpath\u001b[0m\u001b[0;34m.\u001b[0m\u001b[0mjoin\u001b[0m\u001b[0;34m(\u001b[0m\u001b[0mfile_location\u001b[0m\u001b[0;34m,\u001b[0m\u001b[0mfile_name\u001b[0m\u001b[0;34m)\u001b[0m\u001b[0;34m)\u001b[0m\u001b[0;34m\u001b[0m\u001b[0;34m\u001b[0m\u001b[0m\n\u001b[0m\u001b[1;32m      5\u001b[0m \u001b[0;31m# tweets_with_sentiment = tweets_with_sentiment.rename({\"sentimnt\":\"true_sentiment\"}, axis = 1)\u001b[0m\u001b[0;34m\u001b[0m\u001b[0;34m\u001b[0m\u001b[0;34m\u001b[0m\u001b[0m\n\u001b[1;32m      6\u001b[0m \u001b[0;31m# #tweets_with_sentiment[\"true_sentiment\"] = tweets_with_sentiment[\"sentimnt\"]\u001b[0m\u001b[0;34m\u001b[0m\u001b[0;34m\u001b[0m\u001b[0;34m\u001b[0m\u001b[0m\n",
            "\u001b[0;32m/usr/local/lib/python3.7/dist-packages/pandas/util/_decorators.py\u001b[0m in \u001b[0;36mwrapper\u001b[0;34m(*args, **kwargs)\u001b[0m\n\u001b[1;32m    309\u001b[0m                     \u001b[0mstacklevel\u001b[0m\u001b[0;34m=\u001b[0m\u001b[0mstacklevel\u001b[0m\u001b[0;34m,\u001b[0m\u001b[0;34m\u001b[0m\u001b[0;34m\u001b[0m\u001b[0m\n\u001b[1;32m    310\u001b[0m                 )\n\u001b[0;32m--> 311\u001b[0;31m             \u001b[0;32mreturn\u001b[0m \u001b[0mfunc\u001b[0m\u001b[0;34m(\u001b[0m\u001b[0;34m*\u001b[0m\u001b[0margs\u001b[0m\u001b[0;34m,\u001b[0m \u001b[0;34m**\u001b[0m\u001b[0mkwargs\u001b[0m\u001b[0;34m)\u001b[0m\u001b[0;34m\u001b[0m\u001b[0;34m\u001b[0m\u001b[0m\n\u001b[0m\u001b[1;32m    312\u001b[0m \u001b[0;34m\u001b[0m\u001b[0m\n\u001b[1;32m    313\u001b[0m         \u001b[0;32mreturn\u001b[0m \u001b[0mwrapper\u001b[0m\u001b[0;34m\u001b[0m\u001b[0;34m\u001b[0m\u001b[0m\n",
            "\u001b[0;32m/usr/local/lib/python3.7/dist-packages/pandas/io/parsers/readers.py\u001b[0m in \u001b[0;36mread_csv\u001b[0;34m(filepath_or_buffer, sep, delimiter, header, names, index_col, usecols, squeeze, prefix, mangle_dupe_cols, dtype, engine, converters, true_values, false_values, skipinitialspace, skiprows, skipfooter, nrows, na_values, keep_default_na, na_filter, verbose, skip_blank_lines, parse_dates, infer_datetime_format, keep_date_col, date_parser, dayfirst, cache_dates, iterator, chunksize, compression, thousands, decimal, lineterminator, quotechar, quoting, doublequote, escapechar, comment, encoding, encoding_errors, dialect, error_bad_lines, warn_bad_lines, on_bad_lines, delim_whitespace, low_memory, memory_map, float_precision, storage_options)\u001b[0m\n\u001b[1;32m    584\u001b[0m     \u001b[0mkwds\u001b[0m\u001b[0;34m.\u001b[0m\u001b[0mupdate\u001b[0m\u001b[0;34m(\u001b[0m\u001b[0mkwds_defaults\u001b[0m\u001b[0;34m)\u001b[0m\u001b[0;34m\u001b[0m\u001b[0;34m\u001b[0m\u001b[0m\n\u001b[1;32m    585\u001b[0m \u001b[0;34m\u001b[0m\u001b[0m\n\u001b[0;32m--> 586\u001b[0;31m     \u001b[0;32mreturn\u001b[0m \u001b[0m_read\u001b[0m\u001b[0;34m(\u001b[0m\u001b[0mfilepath_or_buffer\u001b[0m\u001b[0;34m,\u001b[0m \u001b[0mkwds\u001b[0m\u001b[0;34m)\u001b[0m\u001b[0;34m\u001b[0m\u001b[0;34m\u001b[0m\u001b[0m\n\u001b[0m\u001b[1;32m    587\u001b[0m \u001b[0;34m\u001b[0m\u001b[0m\n\u001b[1;32m    588\u001b[0m \u001b[0;34m\u001b[0m\u001b[0m\n",
            "\u001b[0;32m/usr/local/lib/python3.7/dist-packages/pandas/io/parsers/readers.py\u001b[0m in \u001b[0;36m_read\u001b[0;34m(filepath_or_buffer, kwds)\u001b[0m\n\u001b[1;32m    480\u001b[0m \u001b[0;34m\u001b[0m\u001b[0m\n\u001b[1;32m    481\u001b[0m     \u001b[0;31m# Create the parser.\u001b[0m\u001b[0;34m\u001b[0m\u001b[0;34m\u001b[0m\u001b[0;34m\u001b[0m\u001b[0m\n\u001b[0;32m--> 482\u001b[0;31m     \u001b[0mparser\u001b[0m \u001b[0;34m=\u001b[0m \u001b[0mTextFileReader\u001b[0m\u001b[0;34m(\u001b[0m\u001b[0mfilepath_or_buffer\u001b[0m\u001b[0;34m,\u001b[0m \u001b[0;34m**\u001b[0m\u001b[0mkwds\u001b[0m\u001b[0;34m)\u001b[0m\u001b[0;34m\u001b[0m\u001b[0;34m\u001b[0m\u001b[0m\n\u001b[0m\u001b[1;32m    483\u001b[0m \u001b[0;34m\u001b[0m\u001b[0m\n\u001b[1;32m    484\u001b[0m     \u001b[0;32mif\u001b[0m \u001b[0mchunksize\u001b[0m \u001b[0;32mor\u001b[0m \u001b[0miterator\u001b[0m\u001b[0;34m:\u001b[0m\u001b[0;34m\u001b[0m\u001b[0;34m\u001b[0m\u001b[0m\n",
            "\u001b[0;32m/usr/local/lib/python3.7/dist-packages/pandas/io/parsers/readers.py\u001b[0m in \u001b[0;36m__init__\u001b[0;34m(self, f, engine, **kwds)\u001b[0m\n\u001b[1;32m    809\u001b[0m             \u001b[0mself\u001b[0m\u001b[0;34m.\u001b[0m\u001b[0moptions\u001b[0m\u001b[0;34m[\u001b[0m\u001b[0;34m\"has_index_names\"\u001b[0m\u001b[0;34m]\u001b[0m \u001b[0;34m=\u001b[0m \u001b[0mkwds\u001b[0m\u001b[0;34m[\u001b[0m\u001b[0;34m\"has_index_names\"\u001b[0m\u001b[0;34m]\u001b[0m\u001b[0;34m\u001b[0m\u001b[0;34m\u001b[0m\u001b[0m\n\u001b[1;32m    810\u001b[0m \u001b[0;34m\u001b[0m\u001b[0m\n\u001b[0;32m--> 811\u001b[0;31m         \u001b[0mself\u001b[0m\u001b[0;34m.\u001b[0m\u001b[0m_engine\u001b[0m \u001b[0;34m=\u001b[0m \u001b[0mself\u001b[0m\u001b[0;34m.\u001b[0m\u001b[0m_make_engine\u001b[0m\u001b[0;34m(\u001b[0m\u001b[0mself\u001b[0m\u001b[0;34m.\u001b[0m\u001b[0mengine\u001b[0m\u001b[0;34m)\u001b[0m\u001b[0;34m\u001b[0m\u001b[0;34m\u001b[0m\u001b[0m\n\u001b[0m\u001b[1;32m    812\u001b[0m \u001b[0;34m\u001b[0m\u001b[0m\n\u001b[1;32m    813\u001b[0m     \u001b[0;32mdef\u001b[0m \u001b[0mclose\u001b[0m\u001b[0;34m(\u001b[0m\u001b[0mself\u001b[0m\u001b[0;34m)\u001b[0m\u001b[0;34m:\u001b[0m\u001b[0;34m\u001b[0m\u001b[0;34m\u001b[0m\u001b[0m\n",
            "\u001b[0;32m/usr/local/lib/python3.7/dist-packages/pandas/io/parsers/readers.py\u001b[0m in \u001b[0;36m_make_engine\u001b[0;34m(self, engine)\u001b[0m\n\u001b[1;32m   1038\u001b[0m             )\n\u001b[1;32m   1039\u001b[0m         \u001b[0;31m# error: Too many arguments for \"ParserBase\"\u001b[0m\u001b[0;34m\u001b[0m\u001b[0;34m\u001b[0m\u001b[0;34m\u001b[0m\u001b[0m\n\u001b[0;32m-> 1040\u001b[0;31m         \u001b[0;32mreturn\u001b[0m \u001b[0mmapping\u001b[0m\u001b[0;34m[\u001b[0m\u001b[0mengine\u001b[0m\u001b[0;34m]\u001b[0m\u001b[0;34m(\u001b[0m\u001b[0mself\u001b[0m\u001b[0;34m.\u001b[0m\u001b[0mf\u001b[0m\u001b[0;34m,\u001b[0m \u001b[0;34m**\u001b[0m\u001b[0mself\u001b[0m\u001b[0;34m.\u001b[0m\u001b[0moptions\u001b[0m\u001b[0;34m)\u001b[0m  \u001b[0;31m# type: ignore[call-arg]\u001b[0m\u001b[0;34m\u001b[0m\u001b[0;34m\u001b[0m\u001b[0m\n\u001b[0m\u001b[1;32m   1041\u001b[0m \u001b[0;34m\u001b[0m\u001b[0m\n\u001b[1;32m   1042\u001b[0m     \u001b[0;32mdef\u001b[0m \u001b[0m_failover_to_python\u001b[0m\u001b[0;34m(\u001b[0m\u001b[0mself\u001b[0m\u001b[0;34m)\u001b[0m\u001b[0;34m:\u001b[0m\u001b[0;34m\u001b[0m\u001b[0;34m\u001b[0m\u001b[0m\n",
            "\u001b[0;32m/usr/local/lib/python3.7/dist-packages/pandas/io/parsers/c_parser_wrapper.py\u001b[0m in \u001b[0;36m__init__\u001b[0;34m(self, src, **kwds)\u001b[0m\n\u001b[1;32m     49\u001b[0m \u001b[0;34m\u001b[0m\u001b[0m\n\u001b[1;32m     50\u001b[0m         \u001b[0;31m# open handles\u001b[0m\u001b[0;34m\u001b[0m\u001b[0;34m\u001b[0m\u001b[0;34m\u001b[0m\u001b[0m\n\u001b[0;32m---> 51\u001b[0;31m         \u001b[0mself\u001b[0m\u001b[0;34m.\u001b[0m\u001b[0m_open_handles\u001b[0m\u001b[0;34m(\u001b[0m\u001b[0msrc\u001b[0m\u001b[0;34m,\u001b[0m \u001b[0mkwds\u001b[0m\u001b[0;34m)\u001b[0m\u001b[0;34m\u001b[0m\u001b[0;34m\u001b[0m\u001b[0m\n\u001b[0m\u001b[1;32m     52\u001b[0m         \u001b[0;32massert\u001b[0m \u001b[0mself\u001b[0m\u001b[0;34m.\u001b[0m\u001b[0mhandles\u001b[0m \u001b[0;32mis\u001b[0m \u001b[0;32mnot\u001b[0m \u001b[0;32mNone\u001b[0m\u001b[0;34m\u001b[0m\u001b[0;34m\u001b[0m\u001b[0m\n\u001b[1;32m     53\u001b[0m \u001b[0;34m\u001b[0m\u001b[0m\n",
            "\u001b[0;32m/usr/local/lib/python3.7/dist-packages/pandas/io/parsers/base_parser.py\u001b[0m in \u001b[0;36m_open_handles\u001b[0;34m(self, src, kwds)\u001b[0m\n\u001b[1;32m    227\u001b[0m             \u001b[0mmemory_map\u001b[0m\u001b[0;34m=\u001b[0m\u001b[0mkwds\u001b[0m\u001b[0;34m.\u001b[0m\u001b[0mget\u001b[0m\u001b[0;34m(\u001b[0m\u001b[0;34m\"memory_map\"\u001b[0m\u001b[0;34m,\u001b[0m \u001b[0;32mFalse\u001b[0m\u001b[0;34m)\u001b[0m\u001b[0;34m,\u001b[0m\u001b[0;34m\u001b[0m\u001b[0;34m\u001b[0m\u001b[0m\n\u001b[1;32m    228\u001b[0m             \u001b[0mstorage_options\u001b[0m\u001b[0;34m=\u001b[0m\u001b[0mkwds\u001b[0m\u001b[0;34m.\u001b[0m\u001b[0mget\u001b[0m\u001b[0;34m(\u001b[0m\u001b[0;34m\"storage_options\"\u001b[0m\u001b[0;34m,\u001b[0m \u001b[0;32mNone\u001b[0m\u001b[0;34m)\u001b[0m\u001b[0;34m,\u001b[0m\u001b[0;34m\u001b[0m\u001b[0;34m\u001b[0m\u001b[0m\n\u001b[0;32m--> 229\u001b[0;31m             \u001b[0merrors\u001b[0m\u001b[0;34m=\u001b[0m\u001b[0mkwds\u001b[0m\u001b[0;34m.\u001b[0m\u001b[0mget\u001b[0m\u001b[0;34m(\u001b[0m\u001b[0;34m\"encoding_errors\"\u001b[0m\u001b[0;34m,\u001b[0m \u001b[0;34m\"strict\"\u001b[0m\u001b[0;34m)\u001b[0m\u001b[0;34m,\u001b[0m\u001b[0;34m\u001b[0m\u001b[0;34m\u001b[0m\u001b[0m\n\u001b[0m\u001b[1;32m    230\u001b[0m         )\n\u001b[1;32m    231\u001b[0m \u001b[0;34m\u001b[0m\u001b[0m\n",
            "\u001b[0;32m/usr/local/lib/python3.7/dist-packages/pandas/io/common.py\u001b[0m in \u001b[0;36mget_handle\u001b[0;34m(path_or_buf, mode, encoding, compression, memory_map, is_text, errors, storage_options)\u001b[0m\n\u001b[1;32m    705\u001b[0m                 \u001b[0mencoding\u001b[0m\u001b[0;34m=\u001b[0m\u001b[0mioargs\u001b[0m\u001b[0;34m.\u001b[0m\u001b[0mencoding\u001b[0m\u001b[0;34m,\u001b[0m\u001b[0;34m\u001b[0m\u001b[0;34m\u001b[0m\u001b[0m\n\u001b[1;32m    706\u001b[0m                 \u001b[0merrors\u001b[0m\u001b[0;34m=\u001b[0m\u001b[0merrors\u001b[0m\u001b[0;34m,\u001b[0m\u001b[0;34m\u001b[0m\u001b[0;34m\u001b[0m\u001b[0m\n\u001b[0;32m--> 707\u001b[0;31m                 \u001b[0mnewline\u001b[0m\u001b[0;34m=\u001b[0m\u001b[0;34m\"\"\u001b[0m\u001b[0;34m,\u001b[0m\u001b[0;34m\u001b[0m\u001b[0;34m\u001b[0m\u001b[0m\n\u001b[0m\u001b[1;32m    708\u001b[0m             )\n\u001b[1;32m    709\u001b[0m         \u001b[0;32melse\u001b[0m\u001b[0;34m:\u001b[0m\u001b[0;34m\u001b[0m\u001b[0;34m\u001b[0m\u001b[0m\n",
            "\u001b[0;31mFileNotFoundError\u001b[0m: [Errno 2] No such file or directory: 'data_folder/tweets_4_5M/tweets_with_sentiment_roy_approve.csv'"
          ]
        }
      ],
      "source": [
        "# file_location = os.path.join(\"data_folder/tweets_4_5M\")\n",
        "# file_name = \"tweets_with_sentiment_roy_approve.csv\"\n",
        "\n",
        "# tweets_with_sentiment = pd.read_csv(os.path.join(file_location,file_name))\n",
        "# tweets_with_sentiment = tweets_with_sentiment.rename({\"sentimnt\":\"true_sentiment\"}, axis = 1)\n",
        "# #tweets_with_sentiment[\"true_sentiment\"] = tweets_with_sentiment[\"sentimnt\"]\n",
        "# #tweets_table_filtered_file_name = \"tweets_table_filtered2.xlsx\"\n",
        "# #tweets_table_filtered = pd.read_excel(tweets_table_filtered_file_name)"
      ]
    },
    {
      "cell_type": "code",
      "execution_count": null,
      "id": "8b602260",
      "metadata": {
        "ExecuteTime": {
          "end_time": "2022-06-20T07:13:35.190933Z",
          "start_time": "2022-06-20T07:13:35.169396Z"
        },
        "id": "8b602260",
        "outputId": "03c3eb2e-f4bd-4c4e-fee0-44db3ff5cef0"
      },
      "outputs": [
        {
          "data": {
            "text/html": [
              "<div>\n",
              "<style scoped>\n",
              "    .dataframe tbody tr th:only-of-type {\n",
              "        vertical-align: middle;\n",
              "    }\n",
              "\n",
              "    .dataframe tbody tr th {\n",
              "        vertical-align: top;\n",
              "    }\n",
              "\n",
              "    .dataframe thead th {\n",
              "        text-align: right;\n",
              "    }\n",
              "</style>\n",
              "<table border=\"1\" class=\"dataframe\">\n",
              "  <thead>\n",
              "    <tr style=\"text-align: right;\">\n",
              "      <th></th>\n",
              "      <th>author_id</th>\n",
              "      <th>author_id_new</th>\n",
              "      <th>conv_id_new</th>\n",
              "      <th>conversation_id</th>\n",
              "      <th>created_at</th>\n",
              "      <th>entities.mentions</th>\n",
              "      <th>id</th>\n",
              "      <th>id_new</th>\n",
              "      <th>public_metrics.like_count</th>\n",
              "      <th>public_metrics.quote_count</th>\n",
              "      <th>...</th>\n",
              "      <th>users.id</th>\n",
              "      <th>users.name</th>\n",
              "      <th>users.public_metrics.followers_count</th>\n",
              "      <th>users.public_metrics.following_count</th>\n",
              "      <th>users.public_metrics.listed_count</th>\n",
              "      <th>users.public_metrics.tweet_count</th>\n",
              "      <th>users.username</th>\n",
              "      <th>users.verified</th>\n",
              "      <th>tweet_id</th>\n",
              "      <th>sentimnt</th>\n",
              "    </tr>\n",
              "  </thead>\n",
              "  <tbody>\n",
              "    <tr>\n",
              "      <th>0</th>\n",
              "      <td>137099503</td>\n",
              "      <td>author_id: 137099503</td>\n",
              "      <td>conv_id: 730759365142167552</td>\n",
              "      <td>730759365142167552</td>\n",
              "      <td>2016-05-12T13:59:44.000Z</td>\n",
              "      <td>NaN</td>\n",
              "      <td>730759365142167552</td>\n",
              "      <td>id: 730759365142167552</td>\n",
              "      <td>2</td>\n",
              "      <td>0</td>\n",
              "      <td>...</td>\n",
              "      <td>137099503</td>\n",
              "      <td>Fony Blair</td>\n",
              "      <td>463</td>\n",
              "      <td>71</td>\n",
              "      <td>18</td>\n",
              "      <td>22398</td>\n",
              "      <td>FonyBlair</td>\n",
              "      <td>False</td>\n",
              "      <td>730759365142167552</td>\n",
              "      <td>Neutral</td>\n",
              "    </tr>\n",
              "    <tr>\n",
              "      <th>1</th>\n",
              "      <td>367718336</td>\n",
              "      <td>author_id: 367718336</td>\n",
              "      <td>conv_id: 730759317884915712</td>\n",
              "      <td>730759317884915712</td>\n",
              "      <td>2016-05-12T13:59:32.000Z</td>\n",
              "      <td>NaN</td>\n",
              "      <td>730759317884915712</td>\n",
              "      <td>id: 730759317884915712</td>\n",
              "      <td>0</td>\n",
              "      <td>0</td>\n",
              "      <td>...</td>\n",
              "      <td>367718336</td>\n",
              "      <td>Janice Morphet</td>\n",
              "      <td>3623</td>\n",
              "      <td>5000</td>\n",
              "      <td>433</td>\n",
              "      <td>301390</td>\n",
              "      <td>janicemorphet</td>\n",
              "      <td>False</td>\n",
              "      <td>730759317884915712</td>\n",
              "      <td>Neutral</td>\n",
              "    </tr>\n",
              "    <tr>\n",
              "      <th>2</th>\n",
              "      <td>1299769218</td>\n",
              "      <td>author_id: 1299769218</td>\n",
              "      <td>conv_id: 730759295478960129</td>\n",
              "      <td>730759295478960129</td>\n",
              "      <td>2016-05-12T13:59:27.000Z</td>\n",
              "      <td>NaN</td>\n",
              "      <td>730759295478960129</td>\n",
              "      <td>id: 730759295478960129</td>\n",
              "      <td>4</td>\n",
              "      <td>0</td>\n",
              "      <td>...</td>\n",
              "      <td>1299769218</td>\n",
              "      <td>Kay Burley</td>\n",
              "      <td>558874</td>\n",
              "      <td>359</td>\n",
              "      <td>1630</td>\n",
              "      <td>81943</td>\n",
              "      <td>KayBurley</td>\n",
              "      <td>True</td>\n",
              "      <td>730759295478960129</td>\n",
              "      <td>Neutral</td>\n",
              "    </tr>\n",
              "    <tr>\n",
              "      <th>3</th>\n",
              "      <td>2772884435</td>\n",
              "      <td>author_id: 2772884435</td>\n",
              "      <td>conv_id: 730759278630424577</td>\n",
              "      <td>730759278630424577</td>\n",
              "      <td>2016-05-12T13:59:23.000Z</td>\n",
              "      <td>NaN</td>\n",
              "      <td>730759278630424577</td>\n",
              "      <td>id: 730759278630424577</td>\n",
              "      <td>0</td>\n",
              "      <td>0</td>\n",
              "      <td>...</td>\n",
              "      <td>2772884435</td>\n",
              "      <td>Risethefyrd</td>\n",
              "      <td>1206</td>\n",
              "      <td>1415</td>\n",
              "      <td>25</td>\n",
              "      <td>31524</td>\n",
              "      <td>ernieharding59</td>\n",
              "      <td>False</td>\n",
              "      <td>730759278630424577</td>\n",
              "      <td>Positive</td>\n",
              "    </tr>\n",
              "    <tr>\n",
              "      <th>4</th>\n",
              "      <td>2867356894</td>\n",
              "      <td>author_id: 2867356894</td>\n",
              "      <td>conv_id: 730759264386617344</td>\n",
              "      <td>730759264386617344</td>\n",
              "      <td>2016-05-12T13:59:20.000Z</td>\n",
              "      <td>NaN</td>\n",
              "      <td>730759264386617344</td>\n",
              "      <td>id: 730759264386617344</td>\n",
              "      <td>0</td>\n",
              "      <td>0</td>\n",
              "      <td>...</td>\n",
              "      <td>2867356894</td>\n",
              "      <td>Dr C L Spillard</td>\n",
              "      <td>2922</td>\n",
              "      <td>2474</td>\n",
              "      <td>122</td>\n",
              "      <td>64418</td>\n",
              "      <td>CandiSpillard</td>\n",
              "      <td>False</td>\n",
              "      <td>730759264386617344</td>\n",
              "      <td>Negative</td>\n",
              "    </tr>\n",
              "  </tbody>\n",
              "</table>\n",
              "<p>5 rows × 26 columns</p>\n",
              "</div>"
            ],
            "text/plain": [
              "    author_id          author_id_new                  conv_id_new  \\\n",
              "0   137099503   author_id: 137099503  conv_id: 730759365142167552   \n",
              "1   367718336   author_id: 367718336  conv_id: 730759317884915712   \n",
              "2  1299769218  author_id: 1299769218  conv_id: 730759295478960129   \n",
              "3  2772884435  author_id: 2772884435  conv_id: 730759278630424577   \n",
              "4  2867356894  author_id: 2867356894  conv_id: 730759264386617344   \n",
              "\n",
              "      conversation_id                created_at  entities.mentions  \\\n",
              "0  730759365142167552  2016-05-12T13:59:44.000Z                NaN   \n",
              "1  730759317884915712  2016-05-12T13:59:32.000Z                NaN   \n",
              "2  730759295478960129  2016-05-12T13:59:27.000Z                NaN   \n",
              "3  730759278630424577  2016-05-12T13:59:23.000Z                NaN   \n",
              "4  730759264386617344  2016-05-12T13:59:20.000Z                NaN   \n",
              "\n",
              "                   id                  id_new  public_metrics.like_count  \\\n",
              "0  730759365142167552  id: 730759365142167552                          2   \n",
              "1  730759317884915712  id: 730759317884915712                          0   \n",
              "2  730759295478960129  id: 730759295478960129                          4   \n",
              "3  730759278630424577  id: 730759278630424577                          0   \n",
              "4  730759264386617344  id: 730759264386617344                          0   \n",
              "\n",
              "   public_metrics.quote_count  ...    users.id       users.name  \\\n",
              "0                           0  ...   137099503       Fony Blair   \n",
              "1                           0  ...   367718336   Janice Morphet   \n",
              "2                           0  ...  1299769218       Kay Burley   \n",
              "3                           0  ...  2772884435      Risethefyrd   \n",
              "4                           0  ...  2867356894  Dr C L Spillard   \n",
              "\n",
              "  users.public_metrics.followers_count users.public_metrics.following_count  \\\n",
              "0                                  463                                   71   \n",
              "1                                 3623                                 5000   \n",
              "2                               558874                                  359   \n",
              "3                                 1206                                 1415   \n",
              "4                                 2922                                 2474   \n",
              "\n",
              "  users.public_metrics.listed_count users.public_metrics.tweet_count  \\\n",
              "0                                18                            22398   \n",
              "1                               433                           301390   \n",
              "2                              1630                            81943   \n",
              "3                                25                            31524   \n",
              "4                               122                            64418   \n",
              "\n",
              "   users.username users.verified            tweet_id  sentimnt  \n",
              "0       FonyBlair          False  730759365142167552   Neutral  \n",
              "1   janicemorphet          False  730759317884915712   Neutral  \n",
              "2       KayBurley           True  730759295478960129   Neutral  \n",
              "3  ernieharding59          False  730759278630424577  Positive  \n",
              "4   CandiSpillard          False  730759264386617344  Negative  \n",
              "\n",
              "[5 rows x 26 columns]"
            ]
          },
          "execution_count": 6,
          "metadata": {},
          "output_type": "execute_result"
        }
      ],
      "source": [
        "tweets_with_sentiment.head()"
      ]
    },
    {
      "cell_type": "code",
      "execution_count": null,
      "id": "3bd130eb",
      "metadata": {
        "ExecuteTime": {
          "end_time": "2022-06-20T07:14:33.663141Z",
          "start_time": "2022-06-20T07:14:33.584783Z"
        },
        "id": "3bd130eb",
        "outputId": "c8b13bdb-fdb4-4b46-bca4-d9bf0da8da6d"
      },
      "outputs": [
        {
          "name": "stdout",
          "output_type": "stream",
          "text": [
            "Number of tweets we have: 312735\n"
          ]
        },
        {
          "data": {
            "text/html": [
              "<div>\n",
              "<style scoped>\n",
              "    .dataframe tbody tr th:only-of-type {\n",
              "        vertical-align: middle;\n",
              "    }\n",
              "\n",
              "    .dataframe tbody tr th {\n",
              "        vertical-align: top;\n",
              "    }\n",
              "\n",
              "    .dataframe thead th {\n",
              "        text-align: right;\n",
              "    }\n",
              "</style>\n",
              "<table border=\"1\" class=\"dataframe\">\n",
              "  <thead>\n",
              "    <tr style=\"text-align: right;\">\n",
              "      <th></th>\n",
              "      <th>text</th>\n",
              "      <th>true_sentiment_num</th>\n",
              "      <th>true_sentiment</th>\n",
              "    </tr>\n",
              "  </thead>\n",
              "  <tbody>\n",
              "    <tr>\n",
              "      <th>0</th>\n",
              "      <td>Thing people are forgetting about the debate i...</td>\n",
              "      <td>1</td>\n",
              "      <td>Neutral</td>\n",
              "    </tr>\n",
              "    <tr>\n",
              "      <th>1</th>\n",
              "      <td>RT @sophgaston: The #Brexit Twittersphere: new...</td>\n",
              "      <td>1</td>\n",
              "      <td>Neutral</td>\n",
              "    </tr>\n",
              "    <tr>\n",
              "      <th>2</th>\n",
              "      <td>Lord Lamont's reaction to #BoE claims that Bri...</td>\n",
              "      <td>1</td>\n",
              "      <td>Neutral</td>\n",
              "    </tr>\n",
              "    <tr>\n",
              "      <th>3</th>\n",
              "      <td>Just to be fair i wish Cameron luck in his fig...</td>\n",
              "      <td>2</td>\n",
              "      <td>Positive</td>\n",
              "    </tr>\n",
              "    <tr>\n",
              "      <th>4</th>\n",
              "      <td>RT @sonofr: #Brexit is biggest risk to UK econ...</td>\n",
              "      <td>0</td>\n",
              "      <td>Negative</td>\n",
              "    </tr>\n",
              "  </tbody>\n",
              "</table>\n",
              "</div>"
            ],
            "text/plain": [
              "                                                text  true_sentiment_num  \\\n",
              "0  Thing people are forgetting about the debate i...                   1   \n",
              "1  RT @sophgaston: The #Brexit Twittersphere: new...                   1   \n",
              "2  Lord Lamont's reaction to #BoE claims that Bri...                   1   \n",
              "3  Just to be fair i wish Cameron luck in his fig...                   2   \n",
              "4  RT @sonofr: #Brexit is biggest risk to UK econ...                   0   \n",
              "\n",
              "  true_sentiment  \n",
              "0        Neutral  \n",
              "1        Neutral  \n",
              "2        Neutral  \n",
              "3       Positive  \n",
              "4       Negative  "
            ]
          },
          "metadata": {},
          "output_type": "display_data"
        }
      ],
      "source": [
        "#tweets_table_filtered[[\"text\", \"KOL_Tweet_nltk_verdict\"]]\n",
        "#dict_map = {'negative': 0, 'neutral': 1, 'positive': 2}\n",
        "#tweets_with_sentiment[\"sentiment\"] = tweets_with_sentiment[\"KOL_Tweet_nltk_verdict\"].map(dict_map)\n",
        "\n",
        "## maaping the sentiments into the numbers, as they are defined in the model we are importing from hugginface\n",
        "dict_map = {'Negative': 0, 'Neutral': 1, 'Positive': 2}\n",
        "tweets_with_sentiment[\"true_sentiment_num\"] = tweets_with_sentiment[\"true_sentiment\"].map(dict_map)\n",
        "tweets_with_sentiment_new = tweets_with_sentiment[[\"text\", \"true_sentiment_num\", \"true_sentiment\"]]\n",
        "\n",
        "### This will be the training table, we are later going to preprocess it and split it to train, validation and test sets\n",
        "train_df = tweets_with_sentiment_new.copy()\n",
        "print(\"Number of tweets we have:\", train_df.shape[0])\n",
        "display(train_df.head())"
      ]
    },
    {
      "cell_type": "markdown",
      "id": "4406cfb5",
      "metadata": {
        "id": "4406cfb5"
      },
      "source": [
        "### Load pre-trained model"
      ]
    },
    {
      "cell_type": "code",
      "execution_count": null,
      "id": "2cbb14c5",
      "metadata": {
        "ExecuteTime": {
          "end_time": "2022-06-18T10:53:57.863785Z",
          "start_time": "2022-06-18T10:53:42.079819Z"
        },
        "id": "2cbb14c5",
        "outputId": "ddd1bded-209b-4efa-8747-7c6086c5f496"
      },
      "outputs": [
        {
          "name": "stderr",
          "output_type": "stream",
          "text": [
            "Some weights of the model checkpoint at cardiffnlp/twitter-roberta-base-sentiment-latest were not used when initializing RobertaForSequenceClassification: ['roberta.pooler.dense.bias', 'roberta.pooler.dense.weight']\n",
            "- This IS expected if you are initializing RobertaForSequenceClassification from the checkpoint of a model trained on another task or with another architecture (e.g. initializing a BertForSequenceClassification model from a BertForPreTraining model).\n",
            "- This IS NOT expected if you are initializing RobertaForSequenceClassification from the checkpoint of a model that you expect to be exactly identical (initializing a BertForSequenceClassification model from a BertForSequenceClassification model).\n"
          ]
        }
      ],
      "source": [
        "from transformers import AutoTokenizer, AutoModelForSequenceClassification\n",
        "\n",
        "model_name = \"cardiffnlp/twitter-roberta-base-sentiment-latest\"\n",
        "tokenizer = AutoTokenizer.from_pretrained(model_name, device=device)\n",
        "\n",
        "model = AutoModelForSequenceClassification.from_pretrained(model_name, num_labels=3)"
      ]
    },
    {
      "cell_type": "markdown",
      "id": "9a1ed614",
      "metadata": {
        "id": "9a1ed614"
      },
      "source": [
        "### Defining a TokenizingMulticlassDataset object\n",
        "Using the class we defined and the train_df table to define a new object with the data we havve\n"
      ]
    },
    {
      "cell_type": "code",
      "execution_count": null,
      "id": "f4c70b2b",
      "metadata": {
        "ExecuteTime": {
          "end_time": "2022-06-18T10:54:40.830733Z",
          "start_time": "2022-06-18T10:54:38.924309Z"
        },
        "id": "f4c70b2b",
        "outputId": "8f2eb926-4528-4e10-b94d-d95c9f7f969b"
      },
      "outputs": [
        {
          "name": "stderr",
          "output_type": "stream",
          "text": [
            "Asking to truncate to max_length but no maximum length is provided and the model has no predefined maximum length. Default to no truncation.\n"
          ]
        }
      ],
      "source": [
        "### Using the class we defined and the train_df table to define a new object with the data we havve\n",
        "ds = TokenizingMulticlassDataset(\n",
        "    texts = train_df['text'],\n",
        "    classes = train_df['true_sentiment_num'],\n",
        "    class_names = [\"Negative\", \"Neutral\", \"Positive\"], #complaints_data_sample['Product'].unique().tolist(),\n",
        "    tokenizer=tokenizer)"
      ]
    },
    {
      "cell_type": "markdown",
      "id": "d7c73ec3",
      "metadata": {
        "id": "d7c73ec3"
      },
      "source": [
        "### Splitting the data to train, validation and test sets"
      ]
    },
    {
      "cell_type": "code",
      "execution_count": null,
      "id": "d5128448",
      "metadata": {
        "ExecuteTime": {
          "end_time": "2022-06-18T10:55:19.830736Z",
          "start_time": "2022-06-18T10:55:19.814752Z"
        },
        "id": "d5128448",
        "outputId": "5e9401d5-155d-49ad-9733-8dc104f5079a"
      },
      "outputs": [
        {
          "name": "stdout",
          "output_type": "stream",
          "text": [
            "Training size: 4267\n",
            "Validation size: 533\n",
            "Test size: 534\n"
          ]
        }
      ],
      "source": [
        "train_size = int(len(ds)*0.8)\n",
        "val_size = int((len(ds)-train_size)/2)\n",
        "test_size = len(ds)-train_size-val_size\n",
        "\n",
        "print(\"Training size:\", train_size)\n",
        "print(\"Validation size:\", val_size)\n",
        "print(\"Test size:\", test_size)\n",
        "\n",
        "train_ds, val_ds, test_ds = torch.utils.data.random_split(ds, lengths=[train_size,val_size, test_size])"
      ]
    },
    {
      "cell_type": "markdown",
      "id": "c338fa4e",
      "metadata": {
        "ExecuteTime": {
          "end_time": "2022-06-18T10:54:51.874725Z",
          "start_time": "2022-06-18T10:54:51.866728Z"
        },
        "id": "c338fa4e"
      },
      "source": [
        "### Defining function to retrain the model"
      ]
    },
    {
      "cell_type": "code",
      "execution_count": null,
      "id": "8c52ea2b",
      "metadata": {
        "ExecuteTime": {
          "end_time": "2022-06-18T05:23:19.108154Z",
          "start_time": "2022-06-18T05:23:19.086651Z"
        },
        "id": "8c52ea2b"
      },
      "outputs": [],
      "source": [
        "def apply_model(model, batch, device):\n",
        "    input_ids = batch['input_ids'].to(device)\n",
        "    attention_mask = batch['attention_mask'].to(device)\n",
        "    labels = batch['labels'].to(device)\n",
        "    outputs = model(input_ids, attention_mask=attention_mask, labels=labels)\n",
        "    is_correct = outputs[1].argmax(1)==labels.argmax(1) # check if prediction matches labels\n",
        "    return outputs, is_correct\n",
        "\n",
        "def evaluate_model(model, ds, device, batch_size = 32):\n",
        "    model.eval()\n",
        "    with torch.no_grad():\n",
        "        data_loader = torch.utils.data.DataLoader(ds, batch_size=batch_size, shuffle=True, drop_last=False)\n",
        "        loss, sample_size, is_correct = 0.0, 0, 0\n",
        "        for batch in data_loader:\n",
        "            outputs, current_is_correct = apply_model(model, batch, device)\n",
        "            loss += outputs[0].item()\n",
        "            sample_size += len(current_is_correct)\n",
        "            is_correct += torch.sum(current_is_correct).item()\n",
        "    return (loss/sample_size), (is_correct / sample_size) "
      ]
    },
    {
      "cell_type": "code",
      "execution_count": null,
      "id": "7236a2ff",
      "metadata": {
        "ExecuteTime": {
          "start_time": "2022-06-15T13:08:10.188Z"
        },
        "id": "7236a2ff"
      },
      "outputs": [],
      "source": [
        "# data_loader = torch.utils.data.DataLoader(ds, batch_size=32, shuffle=True, drop_last=False)\n",
        "# batch = next(iter(data_loader))\n",
        "# outputs,is_correct = apply_model(model, batch, 'cpu')"
      ]
    },
    {
      "cell_type": "code",
      "execution_count": null,
      "id": "55969b2e",
      "metadata": {
        "ExecuteTime": {
          "end_time": "2022-06-17T16:52:52.723621Z",
          "start_time": "2022-06-17T16:40:51.135520Z"
        },
        "id": "55969b2e",
        "outputId": "d80b186d-c3a6-489b-d673-54ce652d447e"
      },
      "outputs": [
        {
          "name": "stdout",
          "output_type": "stream",
          "text": [
            "Epoch: -1. Train loss: 0.0251037, train accuracy: 0.437. Validation loss 0.0246686,accuracy: 0.463 \n"
          ]
        },
        {
          "name": "stderr",
          "output_type": "stream",
          "text": [
            "100%|██████████| 43/43 [33:28<00:00, 46.70s/it]\n",
            "100%|██████████| 1/1 [44:50<00:00, 2690.51s/it]"
          ]
        },
        {
          "name": "stdout",
          "output_type": "stream",
          "text": [
            "Epoch: 0. Train loss: 0.0029298, train accuracy: 0.820. Validation loss 0.0101610,accuracy: 0.790 \n"
          ]
        },
        {
          "name": "stderr",
          "output_type": "stream",
          "text": [
            "\n"
          ]
        },
        {
          "name": "stdout",
          "output_type": "stream",
          "text": [
            "Finished! Test Loss: 0.0102998, test accuracy: 0.787.\n"
          ]
        }
      ],
      "source": [
        "number_of_epochs = 1\n",
        "batch_size = 100\n",
        "model.to(device)\n",
        "optim = torch.optim.AdamW(model.parameters(), lr=5e-5)\n",
        "\n",
        "# test before training: baseline performance. \n",
        "train_loss, train_accuracy = evaluate_model(model, train_ds, device)\n",
        "val_loss, val_accuracy = evaluate_model(model, val_ds, device)\n",
        "print(f\"Epoch: {-1}. Train loss: {train_loss:7.7f}, train accuracy: {train_accuracy:3.3f}. Validation loss {val_loss:7.7f},accuracy: {val_accuracy:3.3f} \")    \n",
        "for epoch in tqdm(range(number_of_epochs)): \n",
        "    model.train()\n",
        "    train_data_loader = torch.utils.data.DataLoader(train_ds, batch_size=batch_size, shuffle=True, drop_last=False)\n",
        "    for batch in tqdm(train_data_loader):\n",
        "        optim.zero_grad()\n",
        "        outputs, is_correct = apply_model(model, batch, device)\n",
        "        loss = outputs[0] # note: no criterion! The loss function is integrated with the model\n",
        "        loss.backward()\n",
        "        optim.step()\n",
        "    # test:   \n",
        "    \n",
        "    train_loss, train_accuracy = evaluate_model(model, train_ds, device, batch_size = batch_size)\n",
        "    val_loss, val_accuracy = evaluate_model(model, val_ds, device)\n",
        "    print(f\"Epoch: {epoch}. Train loss: {train_loss:7.7f}, train accuracy: {train_accuracy:3.3f}. Validation loss {val_loss:7.7f},accuracy: {val_accuracy:3.3f} \")\n",
        "    \n",
        "test_loss, test_accuracy = evaluate_model(model, test_ds, device)\n",
        "print(f\"Finished! Test Loss: {test_loss:7.7f}, test accuracy: {test_accuracy:3.3f}.\")    "
      ]
    },
    {
      "cell_type": "markdown",
      "id": "6a13f195",
      "metadata": {
        "id": "6a13f195"
      },
      "source": [
        "### Using the model we re-trained to make predictions\n"
      ]
    },
    {
      "cell_type": "code",
      "execution_count": null,
      "id": "455fc9b2",
      "metadata": {
        "id": "455fc9b2"
      },
      "outputs": [],
      "source": [
        "from transformers import pipeline"
      ]
    },
    {
      "cell_type": "code",
      "execution_count": null,
      "id": "4a0edbfe",
      "metadata": {
        "id": "4a0edbfe",
        "outputId": "1c7ea7a5-3c2d-4be4-a96a-8791cad609b7"
      },
      "outputs": [
        {
          "data": {
            "text/plain": [
              "[{'label': 'Positive', 'score': 0.7426201701164246}]"
            ]
          },
          "execution_count": 15,
          "metadata": {},
          "output_type": "execute_result"
        }
      ],
      "source": [
        "sentiment_task = pipeline(\"sentiment-analysis\",\n",
        "model = model, #this is the model we re-trained\n",
        "tokenizer = \"cardiffnlp/twitter-roberta-base-sentiment-latest\")\n",
        "\n",
        "### Example for usage:\n",
        "sentiment_task(\"I think Brexit is good\")\n"
      ]
    },
    {
      "cell_type": "markdown",
      "id": "b4659df2",
      "metadata": {
        "id": "b4659df2"
      },
      "source": [
        "### Defining function for getting the sentiment from all the tweets\n",
        "\n",
        "+ if you define yourself the \"sentiment task\" object then you can save a lot of time!\n",
        " sentiment_task = pipeline(\"sentiment-analysis\", model = model, #this is the model we re-trained\n",
        "            tokenizer = \"cardiffnlp/twitter-roberta-base-sentiment-latest\")\n",
        "\n",
        "+ x = the text to classify"
      ]
    },
    {
      "cell_type": "code",
      "execution_count": null,
      "id": "13c50da3",
      "metadata": {
        "id": "13c50da3"
      },
      "outputs": [],
      "source": [
        "def Sentiment_predictions_huggin_face(x, sentiment_task = None, re_trained_model = None, \n",
        "tokenizer = \"cardiffnlp/twitter-roberta-base-sentiment-latest\"):\n",
        "\n",
        "    if sentiment_task is None:\n",
        "        sentiment_task = pipeline(\"sentiment-analysis\",\n",
        "            model = re_trained_model, #this is the model we re-trained\n",
        "            tokenizer = tokenizer)\n",
        "\n",
        "    prediction_score = sentiment_task(x)\n",
        "    prediction = prediction_score[0][\"label\"]\n",
        "    return (prediction)\n",
        "\n",
        "\n",
        "def Sentiment_score_predictions_huggin_face(x, sentiment_task = None, re_trained_model = None, \n",
        "    tokenizer = \"cardiffnlp/twitter-roberta-base-sentiment-latest\"):\n",
        "\n",
        "    if sentiment_task is None:\n",
        "        sentiment_task = pipeline(\"sentiment-analysis\",\n",
        "            model = re_trained_model, #this is the model we re-trained\n",
        "            tokenizer = tokenizer)\n",
        "\n",
        "    prediction_score = sentiment_task(x)\n",
        "    score = prediction_score[0][\"score\"]\n",
        "    return (score)"
      ]
    },
    {
      "cell_type": "code",
      "execution_count": null,
      "id": "ea74778c",
      "metadata": {
        "id": "ea74778c"
      },
      "outputs": [],
      "source": [
        "train_df[\"Predicted_sentiment\"] = train_df[\"text\"].apply(lambda x: Sentiment_predictions_huggin_face(x = x, sentiment_task=sentiment_task))\n",
        "#train_df[\"Predicted_sentiment_score\"] = train_df[\"text\"].apply(lambda x: Sentiment_predictions_huggin_face(x = x, sentiment_task=sentiment_task))"
      ]
    },
    {
      "cell_type": "code",
      "execution_count": null,
      "id": "97d8b37e",
      "metadata": {
        "id": "97d8b37e",
        "outputId": "edabc44f-f977-483f-c1dc-211e959b43e2"
      },
      "outputs": [
        {
          "data": {
            "text/html": [
              "<div>\n",
              "<style scoped>\n",
              "    .dataframe tbody tr th:only-of-type {\n",
              "        vertical-align: middle;\n",
              "    }\n",
              "\n",
              "    .dataframe tbody tr th {\n",
              "        vertical-align: top;\n",
              "    }\n",
              "\n",
              "    .dataframe thead th {\n",
              "        text-align: right;\n",
              "    }\n",
              "</style>\n",
              "<table border=\"1\" class=\"dataframe\">\n",
              "  <thead>\n",
              "    <tr style=\"text-align: right;\">\n",
              "      <th></th>\n",
              "      <th>text</th>\n",
              "      <th>true_sentiment_num</th>\n",
              "      <th>true_sentiment</th>\n",
              "      <th>Predicted_sentiment</th>\n",
              "    </tr>\n",
              "  </thead>\n",
              "  <tbody>\n",
              "    <tr>\n",
              "      <th>0</th>\n",
              "      <td>Thing people are forgetting about the debate i...</td>\n",
              "      <td>1</td>\n",
              "      <td>Neutral</td>\n",
              "      <td>Positive</td>\n",
              "    </tr>\n",
              "    <tr>\n",
              "      <th>1</th>\n",
              "      <td>RT @sophgaston: The #Brexit Twittersphere: new...</td>\n",
              "      <td>1</td>\n",
              "      <td>Neutral</td>\n",
              "      <td>Neutral</td>\n",
              "    </tr>\n",
              "    <tr>\n",
              "      <th>2</th>\n",
              "      <td>Lord Lamont's reaction to #BoE claims that Bri...</td>\n",
              "      <td>1</td>\n",
              "      <td>Neutral</td>\n",
              "      <td>Negative</td>\n",
              "    </tr>\n",
              "    <tr>\n",
              "      <th>3</th>\n",
              "      <td>Just to be fair i wish Cameron luck in his fig...</td>\n",
              "      <td>2</td>\n",
              "      <td>Positive</td>\n",
              "      <td>Positive</td>\n",
              "    </tr>\n",
              "    <tr>\n",
              "      <th>4</th>\n",
              "      <td>RT @sonofr: #Brexit is biggest risk to UK econ...</td>\n",
              "      <td>0</td>\n",
              "      <td>Negative</td>\n",
              "      <td>Negative</td>\n",
              "    </tr>\n",
              "    <tr>\n",
              "      <th>...</th>\n",
              "      <td>...</td>\n",
              "      <td>...</td>\n",
              "      <td>...</td>\n",
              "      <td>...</td>\n",
              "    </tr>\n",
              "    <tr>\n",
              "      <th>5329</th>\n",
              "      <td>#Brexit Mark Carney Figures out yesterday say ...</td>\n",
              "      <td>1</td>\n",
              "      <td>Neutral</td>\n",
              "      <td>Positive</td>\n",
              "    </tr>\n",
              "    <tr>\n",
              "      <th>5330</th>\n",
              "      <td>RT @BrexitTheMovie: It's been an incredible fe...</td>\n",
              "      <td>2</td>\n",
              "      <td>Positive</td>\n",
              "      <td>Positive</td>\n",
              "    </tr>\n",
              "    <tr>\n",
              "      <th>5331</th>\n",
              "      <td>RT @Telegraph: The #EUreferendum debate... htt...</td>\n",
              "      <td>1</td>\n",
              "      <td>Neutral</td>\n",
              "      <td>Neutral</td>\n",
              "    </tr>\n",
              "    <tr>\n",
              "      <th>5332</th>\n",
              "      <td>RT @nsoamesmp: Poor  @Nigel_Farage pulled alon...</td>\n",
              "      <td>0</td>\n",
              "      <td>Negative</td>\n",
              "      <td>Negative</td>\n",
              "    </tr>\n",
              "    <tr>\n",
              "      <th>5333</th>\n",
              "      <td>Mark carney at the Bank of England os only tel...</td>\n",
              "      <td>0</td>\n",
              "      <td>Negative</td>\n",
              "      <td>Positive</td>\n",
              "    </tr>\n",
              "  </tbody>\n",
              "</table>\n",
              "<p>5334 rows × 4 columns</p>\n",
              "</div>"
            ],
            "text/plain": [
              "                                                   text  true_sentiment_num  \\\n",
              "0     Thing people are forgetting about the debate i...                   1   \n",
              "1     RT @sophgaston: The #Brexit Twittersphere: new...                   1   \n",
              "2     Lord Lamont's reaction to #BoE claims that Bri...                   1   \n",
              "3     Just to be fair i wish Cameron luck in his fig...                   2   \n",
              "4     RT @sonofr: #Brexit is biggest risk to UK econ...                   0   \n",
              "...                                                 ...                 ...   \n",
              "5329  #Brexit Mark Carney Figures out yesterday say ...                   1   \n",
              "5330  RT @BrexitTheMovie: It's been an incredible fe...                   2   \n",
              "5331  RT @Telegraph: The #EUreferendum debate... htt...                   1   \n",
              "5332  RT @nsoamesmp: Poor  @Nigel_Farage pulled alon...                   0   \n",
              "5333  Mark carney at the Bank of England os only tel...                   0   \n",
              "\n",
              "     true_sentiment Predicted_sentiment  \n",
              "0           Neutral            Positive  \n",
              "1           Neutral             Neutral  \n",
              "2           Neutral            Negative  \n",
              "3          Positive            Positive  \n",
              "4          Negative            Negative  \n",
              "...             ...                 ...  \n",
              "5329        Neutral            Positive  \n",
              "5330       Positive            Positive  \n",
              "5331        Neutral             Neutral  \n",
              "5332       Negative            Negative  \n",
              "5333       Negative            Positive  \n",
              "\n",
              "[5334 rows x 4 columns]"
            ]
          },
          "execution_count": 18,
          "metadata": {},
          "output_type": "execute_result"
        }
      ],
      "source": [
        "\n"
      ]
    },
    {
      "cell_type": "code",
      "execution_count": null,
      "id": "eeedc3fb",
      "metadata": {
        "id": "eeedc3fb",
        "outputId": "1be43a02-0430-4f62-df29-cf0156af87be"
      },
      "outputs": [
        {
          "name": "stdout",
          "output_type": "stream",
          "text": [
            "The dir:  Brexit_sentiment_model already exists\n",
            "Sving the pre-trained model\n"
          ]
        }
      ],
      "source": [
        "import os.path\n",
        "name_dir_to_save_model = \"Brexit_sentiment_model\"\n",
        "try:\n",
        "    os.makedirs(name_dir_to_save_model)\n",
        "    print(\"Creating directory\", name_dir_to_save_model, \" to save the sentimwnt analysis model\")\n",
        "except:\n",
        "    print(\"The dir: \", name_dir_to_save_model, \"already exists\")\n",
        "\n",
        "### saving the model we re-trained\n",
        "print(\"Saving the pre-trained model\")\n",
        "model.save_pretrained(name_dir_to_save_model)"
      ]
    },
    {
      "cell_type": "code",
      "execution_count": null,
      "id": "01d1230a",
      "metadata": {
        "id": "01d1230a",
        "outputId": "6fb4dd88-fe8a-4f32-b949-3d40963bdf7c"
      },
      "outputs": [
        {
          "name": "stderr",
          "output_type": "stream",
          "text": [
            "Some weights of the model checkpoint at cardiffnlp/twitter-roberta-base-sentiment-latest were not used when initializing RobertaForSequenceClassification: ['roberta.pooler.dense.bias', 'roberta.pooler.dense.weight']\n",
            "- This IS expected if you are initializing RobertaForSequenceClassification from the checkpoint of a model trained on another task or with another architecture (e.g. initializing a BertForSequenceClassification model from a BertForPreTraining model).\n",
            "- This IS NOT expected if you are initializing RobertaForSequenceClassification from the checkpoint of a model that you expect to be exactly identical (initializing a BertForSequenceClassification model from a BertForSequenceClassification model).\n"
          ]
        }
      ],
      "source": [
        "### if you wosh to read the saved model:\n",
        "sentiment_task_example = pipeline(\"sentiment-analysis\",\n",
        "model = \"cardiffnlp/twitter-roberta-base-sentiment-latest\", \n",
        "tokenizer = \"cardiffnlp/twitter-roberta-base-sentiment-latest\")\n",
        "\n",
        "model_loaded = sentiment_task_example.model.from_pretrained(name_dir_to_save_model)\n",
        "\n",
        "sentiment_task_model_loaded = pipeline(\"sentiment-analysis\",\n",
        "model = model_loaded, \n",
        "tokenizer = \"cardiffnlp/twitter-roberta-base-sentiment-latest\")\n"
      ]
    },
    {
      "cell_type": "code",
      "execution_count": null,
      "id": "db64af6e",
      "metadata": {
        "id": "db64af6e"
      },
      "outputs": [],
      "source": [
        "train_df[\"Predicted_sentiment1\"] = train_df[\"text\"].apply(lambda x: Sentiment_predictions_huggin_face(x = x, sentiment_task=sentiment_task_model_loaded))\n",
        "#train_df[\"Predicted_sentiment_score\"] = train_df[\"text\"].apply(lambda x: Sentiment_predictions_huggin_face(x = x, sentiment_task=sentiment_task))"
      ]
    },
    {
      "cell_type": "code",
      "execution_count": null,
      "id": "2f2fa666",
      "metadata": {
        "id": "2f2fa666",
        "outputId": "7d7edcc6-8db0-42bd-8510-a9197b902c76"
      },
      "outputs": [
        {
          "data": {
            "text/html": [
              "<div>\n",
              "<style scoped>\n",
              "    .dataframe tbody tr th:only-of-type {\n",
              "        vertical-align: middle;\n",
              "    }\n",
              "\n",
              "    .dataframe tbody tr th {\n",
              "        vertical-align: top;\n",
              "    }\n",
              "\n",
              "    .dataframe thead th {\n",
              "        text-align: right;\n",
              "    }\n",
              "</style>\n",
              "<table border=\"1\" class=\"dataframe\">\n",
              "  <thead>\n",
              "    <tr style=\"text-align: right;\">\n",
              "      <th></th>\n",
              "      <th>text</th>\n",
              "      <th>true_sentiment_num</th>\n",
              "      <th>true_sentiment</th>\n",
              "      <th>Predicted_sentiment</th>\n",
              "      <th>Predicted_sentiment1</th>\n",
              "    </tr>\n",
              "  </thead>\n",
              "  <tbody>\n",
              "    <tr>\n",
              "      <th>0</th>\n",
              "      <td>Thing people are forgetting about the debate i...</td>\n",
              "      <td>1</td>\n",
              "      <td>Neutral</td>\n",
              "      <td>Positive</td>\n",
              "      <td>Positive</td>\n",
              "    </tr>\n",
              "    <tr>\n",
              "      <th>1</th>\n",
              "      <td>RT @sophgaston: The #Brexit Twittersphere: new...</td>\n",
              "      <td>1</td>\n",
              "      <td>Neutral</td>\n",
              "      <td>Neutral</td>\n",
              "      <td>Neutral</td>\n",
              "    </tr>\n",
              "    <tr>\n",
              "      <th>2</th>\n",
              "      <td>Lord Lamont's reaction to #BoE claims that Bri...</td>\n",
              "      <td>1</td>\n",
              "      <td>Neutral</td>\n",
              "      <td>Negative</td>\n",
              "      <td>Negative</td>\n",
              "    </tr>\n",
              "    <tr>\n",
              "      <th>3</th>\n",
              "      <td>Just to be fair i wish Cameron luck in his fig...</td>\n",
              "      <td>2</td>\n",
              "      <td>Positive</td>\n",
              "      <td>Positive</td>\n",
              "      <td>Positive</td>\n",
              "    </tr>\n",
              "    <tr>\n",
              "      <th>4</th>\n",
              "      <td>RT @sonofr: #Brexit is biggest risk to UK econ...</td>\n",
              "      <td>0</td>\n",
              "      <td>Negative</td>\n",
              "      <td>Negative</td>\n",
              "      <td>Negative</td>\n",
              "    </tr>\n",
              "    <tr>\n",
              "      <th>...</th>\n",
              "      <td>...</td>\n",
              "      <td>...</td>\n",
              "      <td>...</td>\n",
              "      <td>...</td>\n",
              "      <td>...</td>\n",
              "    </tr>\n",
              "    <tr>\n",
              "      <th>5329</th>\n",
              "      <td>#Brexit Mark Carney Figures out yesterday say ...</td>\n",
              "      <td>1</td>\n",
              "      <td>Neutral</td>\n",
              "      <td>Positive</td>\n",
              "      <td>Positive</td>\n",
              "    </tr>\n",
              "    <tr>\n",
              "      <th>5330</th>\n",
              "      <td>RT @BrexitTheMovie: It's been an incredible fe...</td>\n",
              "      <td>2</td>\n",
              "      <td>Positive</td>\n",
              "      <td>Positive</td>\n",
              "      <td>Positive</td>\n",
              "    </tr>\n",
              "    <tr>\n",
              "      <th>5331</th>\n",
              "      <td>RT @Telegraph: The #EUreferendum debate... htt...</td>\n",
              "      <td>1</td>\n",
              "      <td>Neutral</td>\n",
              "      <td>Neutral</td>\n",
              "      <td>Neutral</td>\n",
              "    </tr>\n",
              "    <tr>\n",
              "      <th>5332</th>\n",
              "      <td>RT @nsoamesmp: Poor  @Nigel_Farage pulled alon...</td>\n",
              "      <td>0</td>\n",
              "      <td>Negative</td>\n",
              "      <td>Negative</td>\n",
              "      <td>Negative</td>\n",
              "    </tr>\n",
              "    <tr>\n",
              "      <th>5333</th>\n",
              "      <td>Mark carney at the Bank of England os only tel...</td>\n",
              "      <td>0</td>\n",
              "      <td>Negative</td>\n",
              "      <td>Positive</td>\n",
              "      <td>Positive</td>\n",
              "    </tr>\n",
              "  </tbody>\n",
              "</table>\n",
              "<p>5334 rows × 5 columns</p>\n",
              "</div>"
            ],
            "text/plain": [
              "                                                   text  true_sentiment_num  \\\n",
              "0     Thing people are forgetting about the debate i...                   1   \n",
              "1     RT @sophgaston: The #Brexit Twittersphere: new...                   1   \n",
              "2     Lord Lamont's reaction to #BoE claims that Bri...                   1   \n",
              "3     Just to be fair i wish Cameron luck in his fig...                   2   \n",
              "4     RT @sonofr: #Brexit is biggest risk to UK econ...                   0   \n",
              "...                                                 ...                 ...   \n",
              "5329  #Brexit Mark Carney Figures out yesterday say ...                   1   \n",
              "5330  RT @BrexitTheMovie: It's been an incredible fe...                   2   \n",
              "5331  RT @Telegraph: The #EUreferendum debate... htt...                   1   \n",
              "5332  RT @nsoamesmp: Poor  @Nigel_Farage pulled alon...                   0   \n",
              "5333  Mark carney at the Bank of England os only tel...                   0   \n",
              "\n",
              "     true_sentiment Predicted_sentiment Predicted_sentiment1  \n",
              "0           Neutral            Positive             Positive  \n",
              "1           Neutral             Neutral              Neutral  \n",
              "2           Neutral            Negative             Negative  \n",
              "3          Positive            Positive             Positive  \n",
              "4          Negative            Negative             Negative  \n",
              "...             ...                 ...                  ...  \n",
              "5329        Neutral            Positive             Positive  \n",
              "5330       Positive            Positive             Positive  \n",
              "5331        Neutral             Neutral              Neutral  \n",
              "5332       Negative            Negative             Negative  \n",
              "5333       Negative            Positive             Positive  \n",
              "\n",
              "[5334 rows x 5 columns]"
            ]
          },
          "execution_count": 51,
          "metadata": {},
          "output_type": "execute_result"
        }
      ],
      "source": [
        "train_df"
      ]
    },
    {
      "cell_type": "markdown",
      "id": "c30e4aca",
      "metadata": {
        "id": "c30e4aca"
      },
      "source": [
        "## Predicting the sentiment of all the tweets\n",
        "Now that we have our trained sentiment analysis model, we wish to use it to label all the tweets we have with sentiment label. In order to do so we will:\n",
        "1. Read the CSV file with all the tweets\n",
        "2. apply the function of sentiment analysis\n",
        "3. save the data with the sentiment analysis"
      ]
    },
    {
      "cell_type": "code",
      "execution_count": null,
      "id": "3f046ec2",
      "metadata": {
        "id": "3f046ec2"
      },
      "outputs": [],
      "source": [
        ""
      ]
    },
    {
      "cell_type": "code",
      "execution_count": null,
      "id": "a7272ff0",
      "metadata": {
        "id": "a7272ff0"
      },
      "outputs": [],
      "source": [
        ""
      ]
    },
    {
      "cell_type": "code",
      "execution_count": null,
      "id": "b88860ed",
      "metadata": {
        "id": "b88860ed"
      },
      "outputs": [],
      "source": [
        ""
      ]
    },
    {
      "cell_type": "markdown",
      "id": "81366aef",
      "metadata": {
        "id": "81366aef"
      },
      "source": [
        "### Compute predictions for the entire test set\n",
        "~3 min on GPU<br>\n",
        "Tune batch size! "
      ]
    },
    {
      "cell_type": "markdown",
      "id": "99f4df8c",
      "metadata": {
        "ExecuteTime": {
          "end_time": "2022-06-07T04:24:13.894635Z",
          "start_time": "2022-06-07T04:21:06.164462Z"
        },
        "id": "99f4df8c"
      },
      "source": [
        "votes_predicted = pd.DataFrame(text_classifier(data_ds, batch_size=500, truncation=True))\n",
        "votes_predicted['predicted_value'] = votes_predicted.apply(lambda x: x['score']*(1.0 if x['label']=='POSITIVE' else -1.0), axis=1)\n",
        "votes_predicted['true_value'] = data_ds.sentiment"
      ]
    },
    {
      "cell_type": "code",
      "execution_count": null,
      "id": "951617b4",
      "metadata": {
        "ExecuteTime": {
          "end_time": "2022-06-07T04:24:13.906040Z",
          "start_time": "2022-06-07T04:24:13.894635Z"
        },
        "id": "951617b4",
        "outputId": "85b24fff-3a4e-4cb2-a54e-3167647d71c0"
      },
      "outputs": [
        {
          "data": {
            "text/html": [
              "<div>\n",
              "<style scoped>\n",
              "    .dataframe tbody tr th:only-of-type {\n",
              "        vertical-align: middle;\n",
              "    }\n",
              "\n",
              "    .dataframe tbody tr th {\n",
              "        vertical-align: top;\n",
              "    }\n",
              "\n",
              "    .dataframe thead th {\n",
              "        text-align: right;\n",
              "    }\n",
              "</style>\n",
              "<table border=\"1\" class=\"dataframe\">\n",
              "  <thead>\n",
              "    <tr style=\"text-align: right;\">\n",
              "      <th></th>\n",
              "      <th>label</th>\n",
              "      <th>score</th>\n",
              "      <th>predicted_value</th>\n",
              "      <th>true_value</th>\n",
              "    </tr>\n",
              "  </thead>\n",
              "  <tbody>\n",
              "    <tr>\n",
              "      <th>0</th>\n",
              "      <td>NEGATIVE</td>\n",
              "      <td>0.824530</td>\n",
              "      <td>-0.824530</td>\n",
              "      <td>1</td>\n",
              "    </tr>\n",
              "    <tr>\n",
              "      <th>1</th>\n",
              "      <td>POSITIVE</td>\n",
              "      <td>0.999252</td>\n",
              "      <td>0.999252</td>\n",
              "      <td>1</td>\n",
              "    </tr>\n",
              "    <tr>\n",
              "      <th>2</th>\n",
              "      <td>POSITIVE</td>\n",
              "      <td>0.999066</td>\n",
              "      <td>0.999066</td>\n",
              "      <td>1</td>\n",
              "    </tr>\n",
              "    <tr>\n",
              "      <th>3</th>\n",
              "      <td>NEGATIVE</td>\n",
              "      <td>0.994191</td>\n",
              "      <td>-0.994191</td>\n",
              "      <td>0</td>\n",
              "    </tr>\n",
              "    <tr>\n",
              "      <th>4</th>\n",
              "      <td>POSITIVE</td>\n",
              "      <td>0.999079</td>\n",
              "      <td>0.999079</td>\n",
              "      <td>1</td>\n",
              "    </tr>\n",
              "  </tbody>\n",
              "</table>\n",
              "</div>"
            ],
            "text/plain": [
              "      label     score  predicted_value  true_value\n",
              "0  NEGATIVE  0.824530        -0.824530           1\n",
              "1  POSITIVE  0.999252         0.999252           1\n",
              "2  POSITIVE  0.999066         0.999066           1\n",
              "3  NEGATIVE  0.994191        -0.994191           0\n",
              "4  POSITIVE  0.999079         0.999079           1"
            ]
          },
          "execution_count": 11,
          "metadata": {},
          "output_type": "execute_result"
        }
      ],
      "source": [
        "votes_predicted.head()"
      ]
    },
    {
      "cell_type": "code",
      "execution_count": null,
      "id": "fa5ce255",
      "metadata": {
        "ExecuteTime": {
          "end_time": "2022-06-07T04:24:13.925026Z",
          "start_time": "2022-06-07T04:24:13.906040Z"
        },
        "id": "fa5ce255",
        "outputId": "d6efeaf6-1923-4d88-d2d9-f20e61ec6e5b"
      },
      "outputs": [
        {
          "data": {
            "text/html": [
              "<div>\n",
              "<style scoped>\n",
              "    .dataframe tbody tr th:only-of-type {\n",
              "        vertical-align: middle;\n",
              "    }\n",
              "\n",
              "    .dataframe tbody tr th {\n",
              "        vertical-align: top;\n",
              "    }\n",
              "\n",
              "    .dataframe thead th {\n",
              "        text-align: right;\n",
              "    }\n",
              "</style>\n",
              "<table border=\"1\" class=\"dataframe\">\n",
              "  <thead>\n",
              "    <tr style=\"text-align: right;\">\n",
              "      <th></th>\n",
              "      <th>predicted_value</th>\n",
              "      <th>true_value</th>\n",
              "    </tr>\n",
              "  </thead>\n",
              "  <tbody>\n",
              "    <tr>\n",
              "      <th>predicted_value</th>\n",
              "      <td>1.000000</td>\n",
              "      <td>0.793789</td>\n",
              "    </tr>\n",
              "    <tr>\n",
              "      <th>true_value</th>\n",
              "      <td>0.793789</td>\n",
              "      <td>1.000000</td>\n",
              "    </tr>\n",
              "  </tbody>\n",
              "</table>\n",
              "</div>"
            ],
            "text/plain": [
              "                 predicted_value  true_value\n",
              "predicted_value         1.000000    0.793789\n",
              "true_value              0.793789    1.000000"
            ]
          },
          "execution_count": 12,
          "metadata": {},
          "output_type": "execute_result"
        }
      ],
      "source": [
        "votes_predicted[['predicted_value','true_value']].corr()"
      ]
    },
    {
      "cell_type": "code",
      "execution_count": null,
      "id": "83ca4ecd",
      "metadata": {
        "ExecuteTime": {
          "end_time": "2022-06-07T04:24:14.419808Z",
          "start_time": "2022-06-07T04:24:13.927026Z"
        },
        "id": "83ca4ecd",
        "outputId": "fea56a09-a5b7-4623-feab-f13b6f00dc1b"
      },
      "outputs": [
        {
          "name": "stdout",
          "output_type": "stream",
          "text": [
            "| ID | GPU | MEM |\n",
            "------------------\n",
            "|  0 |  9% | 18% |\n"
          ]
        }
      ],
      "source": [
        "del text_classifier\n",
        "release_GPU_RAM()"
      ]
    },
    {
      "cell_type": "code",
      "execution_count": null,
      "id": "8df5a058",
      "metadata": {
        "id": "8df5a058"
      },
      "outputs": [],
      "source": [
        ""
      ]
    },
    {
      "cell_type": "code",
      "execution_count": null,
      "id": "c55ea93e",
      "metadata": {
        "id": "c55ea93e"
      },
      "outputs": [],
      "source": [
        ""
      ]
    },
    {
      "cell_type": "code",
      "execution_count": null,
      "id": "3d1fb6d5",
      "metadata": {
        "id": "3d1fb6d5"
      },
      "outputs": [],
      "source": [
        ""
      ]
    },
    {
      "cell_type": "code",
      "execution_count": null,
      "id": "28cfd4ae",
      "metadata": {
        "id": "28cfd4ae"
      },
      "outputs": [],
      "source": [
        ""
      ]
    },
    {
      "cell_type": "code",
      "execution_count": null,
      "id": "0ef11ccb",
      "metadata": {
        "id": "0ef11ccb"
      },
      "outputs": [],
      "source": [
        ""
      ]
    },
    {
      "cell_type": "code",
      "execution_count": null,
      "id": "aae57f9c",
      "metadata": {
        "id": "aae57f9c"
      },
      "outputs": [],
      "source": [
        ""
      ]
    },
    {
      "cell_type": "code",
      "execution_count": null,
      "id": "9f81ae67",
      "metadata": {
        "id": "9f81ae67"
      },
      "outputs": [],
      "source": [
        ""
      ]
    },
    {
      "cell_type": "code",
      "execution_count": null,
      "id": "c8dbb698",
      "metadata": {
        "id": "c8dbb698"
      },
      "outputs": [],
      "source": [
        ""
      ]
    },
    {
      "cell_type": "code",
      "execution_count": null,
      "id": "f0bee9f5",
      "metadata": {
        "id": "f0bee9f5"
      },
      "outputs": [],
      "source": [
        ""
      ]
    },
    {
      "cell_type": "code",
      "execution_count": null,
      "id": "95d85d27",
      "metadata": {
        "ExecuteTime": {
          "end_time": "2022-06-07T04:24:14.597293Z",
          "start_time": "2022-06-07T04:24:14.421810Z"
        },
        "id": "95d85d27",
        "outputId": "f5a6e343-9419-483c-f09b-9f2bb08b361e"
      },
      "outputs": [
        {
          "data": {
            "text/plain": [
              "<AxesSubplot:>"
            ]
          },
          "execution_count": 14,
          "metadata": {},
          "output_type": "execute_result"
        },
        {
          "data": {
            "image/png": "[encoded data removed]",
            "text/plain": [
              "<Figure size 432x288 with 1 Axes>"
            ]
          },
          "metadata": {
            "needs_background": "light"
          },
          "output_type": "display_data"
        }
      ],
      "source": [
        "votes_predicted['predicted_value'].hist()"
      ]
    },
    {
      "cell_type": "markdown",
      "id": "4d1fde53",
      "metadata": {
        "id": "4d1fde53"
      },
      "source": [
        "### Evaluate accuracy\n",
        "state of the art results: https://paperswithcode.com/sota/sentiment-analysis-on-imdb"
      ]
    },
    {
      "cell_type": "code",
      "execution_count": null,
      "id": "a3c6031a",
      "metadata": {
        "ExecuteTime": {
          "end_time": "2022-06-07T04:24:14.824680Z",
          "start_time": "2022-06-07T04:24:14.599293Z"
        },
        "id": "a3c6031a",
        "outputId": "91f5c48e-0a55-4072-9050-eefd51a16f4a"
      },
      "outputs": [
        {
          "name": "stdout",
          "output_type": "stream",
          "text": [
            "              precision    recall  f1-score   support\n",
            "\n",
            "           0       0.87      0.92      0.89     25000\n",
            "           1       0.91      0.86      0.89     25000\n",
            "\n",
            "    accuracy                           0.89     50000\n",
            "   macro avg       0.89      0.89      0.89     50000\n",
            "weighted avg       0.89      0.89      0.89     50000\n",
            "\n",
            "Accuracy score: \n",
            "    0.88974\n",
            "    \n"
          ]
        },
        {
          "data": {
            "image/png": "[encoded data removed]",
            "text/plain": [
              "<Figure size 432x288 with 2 Axes>"
            ]
          },
          "metadata": {
            "needs_background": "light"
          },
          "output_type": "display_data"
        }
      ],
      "source": [
        "from sklearn.metrics import classification_report\n",
        "print(classification_report(y_true = votes_predicted['true_value'], y_pred=votes_predicted['predicted_value']>0))\n",
        "\n",
        "from sklearn.metrics import confusion_matrix, ConfusionMatrixDisplay\n",
        "cm = confusion_matrix(votes_predicted['predicted_value']>0,  votes_predicted['true_value'])\n",
        "ConfusionMatrixDisplay(confusion_matrix=cm, display_labels=['negative', 'positive']).plot();\n",
        "from sklearn.metrics import accuracy_score\n",
        "print(f\"\"\"Accuracy score: \n",
        "    {accuracy_score(y_true =votes_predicted['true_value'], y_pred=votes_predicted['predicted_value']>0)}\n",
        "    \"\"\")"
      ]
    }
  ],
  "metadata": {
    "kernelspec": {
      "display_name": "Python 3 (ipykernel)",
      "language": "python",
      "name": "python3"
    },
    "language_info": {
      "codemirror_mode": {
        "name": "ipython",
        "version": 3
      },
      "file_extension": ".py",
      "mimetype": "text/x-python",
      "name": "python",
      "nbconvert_exporter": "python",
      "pygments_lexer": "ipython3",
      "version": "3.9.12"
    },
    "latex_envs": {
      "LaTeX_envs_menu_present": true,
      "autoclose": false,
      "autocomplete": true,
      "bibliofile": "biblio.bib",
      "cite_by": "apalike",
      "current_citInitial": 1,
      "eqLabelWithNumbers": true,
      "eqNumInitial": 1,
      "hotkeys": {
        "equation": "Ctrl-E",
        "itemize": "Ctrl-I"
      },
      "labels_anchors": false,
      "latex_user_defs": false,
      "report_style_numbering": false,
      "user_envs_cfg": false
    },
    "toc": {
      "base_numbering": 1,
      "nav_menu": {},
      "number_sections": true,
      "sideBar": true,
      "skip_h1_title": true,
      "title_cell": "Table of Contents",
      "title_sidebar": "Contents",
      "toc_cell": false,
      "toc_position": {},
      "toc_section_display": true,
      "toc_window_display": true
    },
    "varInspector": {
      "cols": {
        "lenName": 16,
        "lenType": 16,
        "lenVar": 40
      },
      "kernels_config": {
        "python": {
          "delete_cmd_postfix": "",
          "delete_cmd_prefix": "del ",
          "library": "var_list.py",
          "varRefreshCmd": "print(var_dic_list())"
        },
        "r": {
          "delete_cmd_postfix": ") ",
          "delete_cmd_prefix": "rm(",
          "library": "var_list.r",
          "varRefreshCmd": "cat(var_dic_list()) "
        }
      },
      "types_to_exclude": [
        "module",
        "function",
        "builtin_function_or_method",
        "instance",
        "_Feature"
      ],
      "window_display": false
    },
    "colab": {
      "name": "Step_3_Sentiment_Analysis.ipynb",
      "provenance": [],
      "include_colab_link": true
    },
    "accelerator": "GPU",
    "gpuClass": "standard"
  },
  "nbformat": 4,
  "nbformat_minor": 5
}
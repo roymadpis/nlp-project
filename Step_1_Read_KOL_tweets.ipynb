{
 "cells": [
  {
   "cell_type": "markdown",
   "id": "0f326c39",
   "metadata": {},
   "source": [
    "## Step 1 -  Reading Key Opinion Leaders Tweets\n",
    "In this notebook we present the code that gets all the tweets of the Key opinion leaders between Jan 2014 - Feb 2020\n",
    "This is step 1, In step 2 we will filter those tweets "
   ]
  },
  {
   "cell_type": "code",
   "execution_count": 3,
   "id": "32916e30",
   "metadata": {
    "ExecuteTime": {
     "end_time": "2022-06-15T05:33:27.712932Z",
     "start_time": "2022-06-15T05:33:27.708934Z"
    }
   },
   "outputs": [],
   "source": [
    "#! pip install inputimeout\n",
    "# ! pip install tweeterid"
   ]
  },
  {
   "cell_type": "code",
   "execution_count": 1,
   "id": "2b8bad5e",
   "metadata": {
    "ExecuteTime": {
     "end_time": "2022-06-20T09:00:39.119166Z",
     "start_time": "2022-06-20T09:00:37.614886Z"
    }
   },
   "outputs": [],
   "source": [
    "import requests\n",
    "import os\n",
    "import json\n",
    "import pandas as pd\n",
    "import numpy as np\n",
    "import csv , datetime, unicodedata, time, tweeterid #dateutil.parserm,\n",
    "import gensim\n",
    "import openpyxl\n",
    "import json\n",
    "\n",
    "from os import path\n",
    "from datetime import datetime\n",
    "from collections import Counter\n",
    "from inputimeout import inputimeout, TimeoutOccurred"
   ]
  },
  {
   "cell_type": "code",
   "execution_count": 3,
   "id": "addd84ba",
   "metadata": {
    "ExecuteTime": {
     "end_time": "2022-06-20T08:59:08.464998Z",
     "start_time": "2022-06-20T08:59:08.451469Z"
    }
   },
   "outputs": [],
   "source": [
    "download_tweets = True #--> Change to True if you wish to download the tweets"
   ]
  },
  {
   "cell_type": "code",
   "execution_count": 4,
   "id": "5e5f6e1c",
   "metadata": {
    "ExecuteTime": {
     "end_time": "2022-06-20T08:59:09.427225Z",
     "start_time": "2022-06-20T08:59:09.404141Z"
    }
   },
   "outputs": [],
   "source": [
    "from Brexit_Package import TwitterCrawler\n",
    "\n",
    "my_token = 'NLP_is_fun' ### Of course one need to provide here a real valid token, unfortunelty we can't publish our token...\n",
    "my_token = 'AAAAAAAAAAAAAAAAAAAAADRFOwEAAAAAaTp%2Bdd1OhobYMYb5ExPXm7IL6RA%3DDHknH402gOXoegUGxNtpC6giIjdackRLtdRx6tjrnnLeFN1ntT'\n",
    "my_twitter_crawler = TwitterCrawler(bearer_token= my_token)\n"
   ]
  },
  {
   "cell_type": "code",
   "execution_count": 4,
   "id": "236f39d9",
   "metadata": {
    "ExecuteTime": {
     "end_time": "2022-06-17T06:07:20.277745Z",
     "start_time": "2022-06-17T06:07:20.250758Z"
    }
   },
   "outputs": [
    {
     "name": "stdout",
     "output_type": "stream",
     "text": [
      "Number of KOL in the list =  63\n"
     ]
    }
   ],
   "source": [
    "kol_list = [\"theresa_may\",\n",
    "\"NicolaSturgeon\",\n",
    "\"MichelBarnier\",\n",
    "\"donaldtusk\",\n",
    "\"fhollande\",\n",
    "\"PhilipHammondUK\",\n",
    "\"DavidDavisMP\",\n",
    "\"JunckerEU\",\n",
    "\"guyverhofstadt\",\n",
    "\"DidierSeeuws\",\n",
    "\"EndaKennyTD\",\n",
    "\"hilarybennmp\",\n",
    "\"MinPres\",\n",
    "\"MartinSelmayr\",\n",
    "\"Keir_Starmer\",\n",
    "\"realDonaldTrump\",\n",
    "\"Wolf_Schauble\",\n",
    "\"LiamFox\",\n",
    "\"TimmermansEU\",\n",
    "\"BorisJohnson\",\n",
    "\"Nigel_Farage\",\n",
    "\"NJ_Timothy\",\n",
    "\"DacrePaul\",\n",
    "\"ManfredWeber\",\n",
    "\"davidmcallister\",\n",
    "\"matteorenzi\",\n",
    "\"PJWheatcroft\",\n",
    "\"SadiqKhan\",\n",
    "\"marianorajoy\",\n",
    "\"HeywoodFndation\",\n",
    "\"MartinSchulz\",\n",
    "\"cbicarolyn\",\n",
    "\"rupertmurdoch\",\n",
    "\"WeyandSabine\",\n",
    "\"OllyRobbins\",\n",
    "\"MLP_officiel\",\n",
    "\"MarkJCarney\",\n",
    "\"FrancesOGrady\",\n",
    "\"giannipittella\",\n",
    "\"MalmstromEU\",\n",
    "\"TheGinaMiller\",\n",
    "\"CER_Grant\",\n",
    "\"shriti_vadera\",\n",
    "\"carlosghosn\",\"David_Cameron\",\n",
    "\"BSTimBarrow\",\n",
    "\"AMCarwyn\",\n",
    "\"WalkerWorcester\",\n",
    "\"AlunCairns\",\n",
    "\"DominicRaab\",\n",
    "\"michaelgove\",\n",
    "\"Dominic2306\",\n",
    "\"theJeremyVine\",\n",
    "\"George_Osborne\",\n",
    "\"michaelhsltine_\",\n",
    "\"WilliamJHague\",\n",
    "\"ChukaUmunna\",\n",
    "\"jeremycorbyn\",\n",
    "\"Dyson\",\n",
    "\"SteveO_Connell\",\n",
    "\"jim_ratcliffe\",\n",
    "\"MorrisseyHelena\",\n",
    "\"GroovyTimbo\", \n",
    "]\n",
    "\n",
    "print(\"Number of KOL in the list = \", len(set(kol_list)))"
   ]
  },
  {
   "cell_type": "markdown",
   "id": "19254376",
   "metadata": {},
   "source": [
    "## Retrive tweets of Key Opinion Leaders\n",
    "In the following code we are reading all the tweets of the list of the key opinion leaders in the given time-frame\n",
    "The codes checks if a given name has an existing csv file, if it does, then the code will remove that name from the list so we won't retrieve data again."
   ]
  },
  {
   "cell_type": "code",
   "execution_count": 23,
   "id": "aac3d23d",
   "metadata": {
    "ExecuteTime": {
     "end_time": "2022-06-15T15:07:28.457055Z",
     "start_time": "2022-06-15T15:07:28.450059Z"
    }
   },
   "outputs": [],
   "source": [
    "#kol_list = [\"Nigel_Farage\"]"
   ]
  },
  {
   "cell_type": "code",
   "execution_count": 5,
   "id": "608c2332",
   "metadata": {
    "ExecuteTime": {
     "end_time": "2022-06-17T06:08:08.676862Z",
     "start_time": "2022-06-17T06:08:08.591915Z"
    },
    "scrolled": true
   },
   "outputs": [
    {
     "name": "stdout",
     "output_type": "stream",
     "text": [
      "The dir KOL tweets already exist\n",
      "Users to search their tweets: ['PJWheatcroft', 'Wolf_Schauble', 'jim_ratcliffe', 'realDonaldTrump', 'Dominic2306', 'shriti_vadera', 'MarkJCarney']\n",
      "-----------------------------------------------\n",
      "Users we already have data on: ['MinPres', 'NicolaSturgeon', 'theresa_may', 'MartinSelmayr', 'SadiqKhan', 'WalkerWorcester', 'ChukaUmunna', 'EndaKennyTD', 'JunckerEU', 'Keir_Starmer', 'michaelgove', 'HeywoodFndation', 'NJ_Timothy', 'OllyRobbins', 'SteveO_Connell', 'GroovyTimbo', 'MartinSchulz', 'ManfredWeber', 'MorrisseyHelena', 'DidierSeeuws', 'CER_Grant', 'rupertmurdoch', 'TimmermansEU', 'BorisJohnson', 'TheGinaMiller', 'marianorajoy', 'DacrePaul', 'cbicarolyn', 'MalmstromEU', 'AlunCairns', 'Nigel_Farage', 'LiamFox', 'guyverhofstadt', 'BSTimBarrow', 'AMCarwyn', 'DominicRaab', 'George_Osborne', 'FrancesOGrady', 'matteorenzi', 'MichelBarnier', 'Dyson', 'davidmcallister', 'DavidDavisMP', 'donaldtusk', 'David_Cameron', 'jeremycorbyn', 'WeyandSabine', 'giannipittella', 'michaelhsltine_', 'theJeremyVine', 'WilliamJHague', 'hilarybennmp', 'PhilipHammondUK', 'fhollande', 'carlosghosn', 'MLP_officiel']\n"
     ]
    }
   ],
   "source": [
    "\n",
    "all_key_opinion_leader_names = kol_list\n",
    "start_time = \"2014-01-01T00:00:00Z\"\n",
    "end_time = \"2020-02-01T00:00:00Z\"\n",
    "\n",
    "#start_time = \"2020-02-02T00:00:00Z\"\n",
    "#end_time = \"2021-12-31T00:00:00Z\"\n",
    "\n",
    "max_results = 500\n",
    "limit_amount_of_returned_tweets = 10000000\n",
    "dir_name = \"KOL tweets\"\n",
    "##############################################################################################3\n",
    "#### we don't want to get data on key opinion leaders that we already searched for their tweets!\n",
    "# thus we first need to see which of the users that are inserted in the list are **not** in the files we already have:\n",
    "from os import listdir\n",
    "from os.path import isfile, join\n",
    "\n",
    "import os.path\n",
    "try:\n",
    "    os.mkdir(dir_name)\n",
    "    print(\"creating directory\", dir_name, \"to insert all the tables of all the key opinion leaders\")\n",
    "except:\n",
    "    print(\"The dir\", dir_name ,\"already exist\")\n",
    "\n",
    "    \n",
    "users_we_have_data = [f.split(\".\")[0] for f in listdir(dir_name) if isfile(join(dir_name, f))]\n",
    "\n",
    "key_opinion_leader_names = list(set(all_key_opinion_leader_names) - set(users_we_have_data))\n",
    "print(\"Users to search their tweets:\",key_opinion_leader_names)\n",
    "print(\"-----------------------------------------------\")\n",
    "print(\"Users we already have data on:\",list(set(all_key_opinion_leader_names).intersection(users_we_have_data)))\n",
    "\n"
   ]
  },
  {
   "cell_type": "code",
   "execution_count": null,
   "id": "a4a1db9f",
   "metadata": {},
   "outputs": [],
   "source": []
  },
  {
   "cell_type": "code",
   "execution_count": 7,
   "id": "e98d7fb5",
   "metadata": {
    "ExecuteTime": {
     "end_time": "2022-06-20T13:12:11.963072Z",
     "start_time": "2022-06-20T13:12:11.940658Z"
    }
   },
   "outputs": [],
   "source": [
    "from Brexit_Package import TwitterCrawler\n",
    "my_token = 'AAAAAAAAAAAAAAAAAAAAADRFOwEAAAAAaTp%2Bdd1OhobYMYb5ExPXm7IL6RA%3DDHknH402gOXoegUGxNtpC6giIjdackRLtdRx6tjrnnLeFN1ntT'\n",
    "my_twitter_crawler = TwitterCrawler(bearer_token= my_token)\n"
   ]
  },
  {
   "cell_type": "code",
   "execution_count": 8,
   "id": "732a38dc",
   "metadata": {
    "ExecuteTime": {
     "end_time": "2022-06-20T13:12:13.176029Z",
     "start_time": "2022-06-20T13:12:13.165021Z"
    }
   },
   "outputs": [],
   "source": [
    "key_opinion_leader_names = kol_list\n",
    "dir_name = \"KOL tweets 2021\""
   ]
  },
  {
   "cell_type": "code",
   "execution_count": 9,
   "id": "3f7bda65",
   "metadata": {
    "ExecuteTime": {
     "end_time": "2022-06-20T13:12:15.833455Z",
     "start_time": "2022-06-20T13:12:14.858649Z"
    }
   },
   "outputs": [
    {
     "name": "stdout",
     "output_type": "stream",
     "text": [
      "Bringing tweets of notroymadpis\n",
      "The dir Tweeter Is Fun already exist\n",
      "Bringing all the tweets of the user: notroymadpis from: 2021-01-01T00:00:00Z to 2022-06-20T00:00:00Z\n",
      "\n",
      "The dir Tweeter Is Fun\\log_key_opinion_leaders already exist\n",
      "The dir Tweeter Is Fun\\log_key_opinion_leaders\\notroymadpis already exist\n",
      "no more tweets from this user\n",
      "Total amount of collected tweets =  24\n",
      "24\n",
      "---------------------------------------------------------------\n"
     ]
    }
   ],
   "source": [
    "# ##########################################\n",
    "query = \"lang:en -is:retweet -is:reply -is:quote \"\n",
    "\n",
    "if download_tweets:\n",
    "    my_twitter_crawler.return_tweets_of_key_opinion_leaders(query=query, user_names= key_opinion_leader_names,\n",
    "                                            start_time = start_time,\n",
    "                                            end_time = end_time,\n",
    "                                            max_results = max_results, evaluate_last_token = False,\n",
    "                                            limit_amount_of_returned_tweets = limit_amount_of_returned_tweets,\n",
    "                                           verbose_10 = False, dir_name =dir_name)"
   ]
  },
  {
   "cell_type": "code",
   "execution_count": null,
   "id": "1fe4d8e4",
   "metadata": {},
   "outputs": [],
   "source": [
    "! pip3 install pytourch"
   ]
  },
  {
   "cell_type": "code",
   "execution_count": 11,
   "id": "f584deea",
   "metadata": {
    "ExecuteTime": {
     "end_time": "2022-06-20T18:44:19.438090Z",
     "start_time": "2022-06-20T18:07:15.434730Z"
    }
   },
   "outputs": [
    {
     "name": "stdout",
     "output_type": "stream",
     "text": [
      "^C\n"
     ]
    }
   ],
   "source": [
    "! pip3 uninstall torch"
   ]
  },
  {
   "cell_type": "code",
   "execution_count": null,
   "id": "64fb5c58",
   "metadata": {},
   "outputs": [],
   "source": []
  }
 ],
 "metadata": {
  "kernelspec": {
   "display_name": "Python 3 (ipykernel)",
   "language": "python",
   "name": "python3"
  },
  "language_info": {
   "codemirror_mode": {
    "name": "ipython",
    "version": 3
   },
   "file_extension": ".py",
   "mimetype": "text/x-python",
   "name": "python",
   "nbconvert_exporter": "python",
   "pygments_lexer": "ipython3",
   "version": "3.9.12"
  },
  "latex_envs": {
   "LaTeX_envs_menu_present": true,
   "autoclose": false,
   "autocomplete": true,
   "bibliofile": "biblio.bib",
   "cite_by": "apalike",
   "current_citInitial": 1,
   "eqLabelWithNumbers": true,
   "eqNumInitial": 1,
   "hotkeys": {
    "equation": "Ctrl-E",
    "itemize": "Ctrl-I"
   },
   "labels_anchors": false,
   "latex_user_defs": false,
   "report_style_numbering": false,
   "user_envs_cfg": false
  },
  "toc": {
   "base_numbering": 1,
   "nav_menu": {},
   "number_sections": true,
   "sideBar": true,
   "skip_h1_title": false,
   "title_cell": "Table of Contents",
   "title_sidebar": "Contents",
   "toc_cell": false,
   "toc_position": {},
   "toc_section_display": true,
   "toc_window_display": false
  },
  "varInspector": {
   "cols": {
    "lenName": 16,
    "lenType": 16,
    "lenVar": 40
   },
   "kernels_config": {
    "python": {
     "delete_cmd_postfix": "",
     "delete_cmd_prefix": "del ",
     "library": "var_list.py",
     "varRefreshCmd": "print(var_dic_list())"
    },
    "r": {
     "delete_cmd_postfix": ") ",
     "delete_cmd_prefix": "rm(",
     "library": "var_list.r",
     "varRefreshCmd": "cat(var_dic_list()) "
    }
   },
   "types_to_exclude": [
    "module",
    "function",
    "builtin_function_or_method",
    "instance",
    "_Feature"
   ],
   "window_display": false
  }
 },
 "nbformat": 4,
 "nbformat_minor": 5
}

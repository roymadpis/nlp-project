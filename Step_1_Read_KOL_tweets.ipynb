{
 "cells": [
  {
   "cell_type": "markdown",
   "id": "0f326c39",
   "metadata": {},
   "source": [
    "## Step 1 -  Reading Key Opinion Leaders Tweets\n",
    "In this notebook we present the code that gets all the tweets of the Key opinion leaders between Jan 2014 - Feb 2020\n",
    "This is step 1, In step 2 we will filter those tweets "
   ]
  },
  {
   "cell_type": "code",
   "execution_count": 3,
   "id": "32916e30",
   "metadata": {
    "ExecuteTime": {
     "end_time": "2022-06-15T05:33:27.712932Z",
     "start_time": "2022-06-15T05:33:27.708934Z"
    }
   },
   "outputs": [],
   "source": [
    "#! pip install inputimeout\n",
    "# ! pip install tweeterid"
   ]
  },
  {
   "cell_type": "code",
   "execution_count": 1,
   "id": "2b8bad5e",
   "metadata": {
    "ExecuteTime": {
     "end_time": "2022-06-17T06:07:20.181796Z",
     "start_time": "2022-06-17T06:07:13.482620Z"
    }
   },
   "outputs": [],
   "source": [
    "import requests\n",
    "import os\n",
    "import json\n",
    "import pandas as pd\n",
    "import numpy as np\n",
    "import csv , datetime, unicodedata, time, tweeterid #dateutil.parserm,\n",
    "import gensim\n",
    "import openpyxl\n",
    "import json\n",
    "\n",
    "from os import path\n",
    "from datetime import datetime\n",
    "from collections import Counter\n",
    "from inputimeout import inputimeout, TimeoutOccurred"
   ]
  },
  {
   "cell_type": "code",
   "execution_count": 2,
   "id": "addd84ba",
   "metadata": {
    "ExecuteTime": {
     "end_time": "2022-06-17T06:07:20.195788Z",
     "start_time": "2022-06-17T06:07:20.188795Z"
    }
   },
   "outputs": [],
   "source": [
    "download_tweets = True #--> Change to True if you wish to download the tweets"
   ]
  },
  {
   "cell_type": "code",
   "execution_count": 3,
   "id": "5e5f6e1c",
   "metadata": {
    "ExecuteTime": {
     "end_time": "2022-06-17T06:07:20.229770Z",
     "start_time": "2022-06-17T06:07:20.202790Z"
    }
   },
   "outputs": [],
   "source": [
    "from Brexit_Package import TwitterCrawler\n",
    "\n",
    "my_token = 'NLP_is_fun' ### Of course one need to provide here a real valid token, unfortunelty we can't publish our token...\n",
    "my_token = 'AAAAAAAAAAAAAAAAAAAAADRFOwEAAAAAaTp%2Bdd1OhobYMYb5ExPXm7IL6RA%3DDHknH402gOXoegUGxNtpC6giIjdackRLtdRx6tjrnnLeFN1ntT'\n",
    "my_twitter_crawler = TwitterCrawler(bearer_token= my_token)\n"
   ]
  },
  {
   "cell_type": "code",
   "execution_count": 4,
   "id": "236f39d9",
   "metadata": {
    "ExecuteTime": {
     "end_time": "2022-06-17T06:07:20.277745Z",
     "start_time": "2022-06-17T06:07:20.250758Z"
    }
   },
   "outputs": [
    {
     "name": "stdout",
     "output_type": "stream",
     "text": [
      "Number of KOL in the list =  63\n"
     ]
    }
   ],
   "source": [
    "kol_list = [\"theresa_may\",\n",
    "\"NicolaSturgeon\",\n",
    "\"MichelBarnier\",\n",
    "\"donaldtusk\",\n",
    "\"fhollande\",\n",
    "\"PhilipHammondUK\",\n",
    "\"DavidDavisMP\",\n",
    "\"JunckerEU\",\n",
    "\"guyverhofstadt\",\n",
    "\"DidierSeeuws\",\n",
    "\"EndaKennyTD\",\n",
    "\"hilarybennmp\",\n",
    "\"MinPres\",\n",
    "\"MartinSelmayr\",\n",
    "\"Keir_Starmer\",\n",
    "\"realDonaldTrump\",\n",
    "\"Wolf_Schauble\",\n",
    "\"LiamFox\",\n",
    "\"TimmermansEU\",\n",
    "\"BorisJohnson\",\n",
    "\"Nigel_Farage\",\n",
    "\"NJ_Timothy\",\n",
    "\"DacrePaul\",\n",
    "\"ManfredWeber\",\n",
    "\"davidmcallister\",\n",
    "\"matteorenzi\",\n",
    "\"PJWheatcroft\",\n",
    "\"SadiqKhan\",\n",
    "\"marianorajoy\",\n",
    "\"HeywoodFndation\",\n",
    "\"MartinSchulz\",\n",
    "\"cbicarolyn\",\n",
    "\"rupertmurdoch\",\n",
    "\"WeyandSabine\",\n",
    "\"OllyRobbins\",\n",
    "\"MLP_officiel\",\n",
    "\"MarkJCarney\",\n",
    "\"FrancesOGrady\",\n",
    "\"giannipittella\",\n",
    "\"MalmstromEU\",\n",
    "\"TheGinaMiller\",\n",
    "\"CER_Grant\",\n",
    "\"shriti_vadera\",\n",
    "\"carlosghosn\",\"David_Cameron\",\n",
    "\"BSTimBarrow\",\n",
    "\"AMCarwyn\",\n",
    "\"WalkerWorcester\",\n",
    "\"AlunCairns\",\n",
    "\"DominicRaab\",\n",
    "\"michaelgove\",\n",
    "\"Dominic2306\",\n",
    "\"theJeremyVine\",\n",
    "\"George_Osborne\",\n",
    "\"michaelhsltine_\",\n",
    "\"WilliamJHague\",\n",
    "\"ChukaUmunna\",\n",
    "\"jeremycorbyn\",\n",
    "\"Dyson\",\n",
    "\"SteveO_Connell\",\n",
    "\"jim_ratcliffe\",\n",
    "\"MorrisseyHelena\",\n",
    "\"GroovyTimbo\", \n",
    "]\n",
    "\n",
    "print(\"Number of KOL in the list = \", len(set(kol_list)))"
   ]
  },
  {
   "cell_type": "markdown",
   "id": "19254376",
   "metadata": {},
   "source": [
    "## Retrive tweets of Key Opinion Leaders\n",
    "In the following code we are reading all the tweets of the list of the key opinion leaders in the given time-frame\n",
    "The codes checks if a given name has an existing csv file, if it does, then the code will remove that name from the list so we won't retrieve data again."
   ]
  },
  {
   "cell_type": "code",
   "execution_count": 23,
   "id": "aac3d23d",
   "metadata": {
    "ExecuteTime": {
     "end_time": "2022-06-15T15:07:28.457055Z",
     "start_time": "2022-06-15T15:07:28.450059Z"
    }
   },
   "outputs": [],
   "source": [
    "#kol_list = [\"Nigel_Farage\"]"
   ]
  },
  {
   "cell_type": "code",
   "execution_count": 5,
   "id": "608c2332",
   "metadata": {
    "ExecuteTime": {
     "end_time": "2022-06-17T06:08:08.676862Z",
     "start_time": "2022-06-17T06:08:08.591915Z"
    }
   },
   "outputs": [
    {
     "name": "stdout",
     "output_type": "stream",
     "text": [
      "The dir KOL tweets already exist\n",
      "Users to search their tweets: ['PJWheatcroft', 'Wolf_Schauble', 'jim_ratcliffe', 'realDonaldTrump', 'Dominic2306', 'shriti_vadera', 'MarkJCarney']\n",
      "-----------------------------------------------\n",
      "Users we already have data on: ['MinPres', 'NicolaSturgeon', 'theresa_may', 'MartinSelmayr', 'SadiqKhan', 'WalkerWorcester', 'ChukaUmunna', 'EndaKennyTD', 'JunckerEU', 'Keir_Starmer', 'michaelgove', 'HeywoodFndation', 'NJ_Timothy', 'OllyRobbins', 'SteveO_Connell', 'GroovyTimbo', 'MartinSchulz', 'ManfredWeber', 'MorrisseyHelena', 'DidierSeeuws', 'CER_Grant', 'rupertmurdoch', 'TimmermansEU', 'BorisJohnson', 'TheGinaMiller', 'marianorajoy', 'DacrePaul', 'cbicarolyn', 'MalmstromEU', 'AlunCairns', 'Nigel_Farage', 'LiamFox', 'guyverhofstadt', 'BSTimBarrow', 'AMCarwyn', 'DominicRaab', 'George_Osborne', 'FrancesOGrady', 'matteorenzi', 'MichelBarnier', 'Dyson', 'davidmcallister', 'DavidDavisMP', 'donaldtusk', 'David_Cameron', 'jeremycorbyn', 'WeyandSabine', 'giannipittella', 'michaelhsltine_', 'theJeremyVine', 'WilliamJHague', 'hilarybennmp', 'PhilipHammondUK', 'fhollande', 'carlosghosn', 'MLP_officiel']\n"
     ]
    }
   ],
   "source": [
    "\n",
    "all_key_opinion_leader_names = kol_list\n",
    "start_time = \"2014-01-01T00:00:00Z\"\n",
    "end_time = \"2020-02-01T00:00:00Z\"\n",
    "\n",
    "#start_time = \"2020-02-02T00:00:00Z\"\n",
    "#end_time = \"2021-12-31T00:00:00Z\"\n",
    "\n",
    "max_results = 500\n",
    "limit_amount_of_returned_tweets = 10000000\n",
    "dir_name = \"KOL tweets\"\n",
    "##############################################################################################3\n",
    "#### we don't want to get data on key opinion leaders that we already searched for their tweets!\n",
    "# thus we first need to see which of the users that are inserted in the list are **not** in the files we already have:\n",
    "from os import listdir\n",
    "from os.path import isfile, join\n",
    "\n",
    "import os.path\n",
    "try:\n",
    "    os.mkdir(dir_name)\n",
    "    print(\"creating directory\", dir_name, \"to insert all the tables of all the key opinion leaders\")\n",
    "except:\n",
    "    print(\"The dir\", dir_name ,\"already exist\")\n",
    "\n",
    "    \n",
    "users_we_have_data = [f.split(\".\")[0] for f in listdir(dir_name) if isfile(join(dir_name, f))]\n",
    "\n",
    "key_opinion_leader_names = list(set(all_key_opinion_leader_names) - set(users_we_have_data))\n",
    "print(\"Users to search their tweets:\",key_opinion_leader_names)\n",
    "print(\"-----------------------------------------------\")\n",
    "print(\"Users we already have data on:\",list(set(all_key_opinion_leader_names).intersection(users_we_have_data)))\n",
    "\n"
   ]
  },
  {
   "cell_type": "code",
   "execution_count": 9,
   "id": "732a38dc",
   "metadata": {
    "ExecuteTime": {
     "end_time": "2022-06-17T06:09:37.393462Z",
     "start_time": "2022-06-17T06:09:37.387463Z"
    }
   },
   "outputs": [],
   "source": [
    "key_opinion_leader_names = kol_list\n",
    "dir_name = \"KOL tweets 2021\""
   ]
  },
  {
   "cell_type": "code",
   "execution_count": 10,
   "id": "62c6f116",
   "metadata": {
    "ExecuteTime": {
     "end_time": "2022-06-17T07:43:27.713136Z",
     "start_time": "2022-06-17T06:09:40.243302Z"
    }
   },
   "outputs": [
    {
     "name": "stdout",
     "output_type": "stream",
     "text": [
      "Bringing tweets of theresa_may\n",
      "creating directory KOL tweets 2021 to insert all the tables of all the key opinion leaders\n",
      "Bringing all the tweets of the user: theresa_may from: 2014-01-01T00:00:00Z to 2020-02-01T00:00:00Z\n",
      "\n",
      "creating directory KOL tweets 2021\\log_key_opinion_leaders to insert all the logs of the key opinion leaders\n",
      "creating directory KOL tweets 2021\\log_key_opinion_leaders\\theresa_may in the dir KOL tweets 2021\\log_key_opinion_leaders to insert all the logs of the key opinion leader theresa_may\n",
      "no more tweets from this user\n",
      "Total amount of collected tweets =  1760\n",
      "1760\n",
      "---------------------------------------------------------------\n",
      "Bringing tweets of NicolaSturgeon\n",
      "The dir KOL tweets 2021 already exist\n",
      "Bringing all the tweets of the user: NicolaSturgeon from: 2014-01-01T00:00:00Z to 2020-02-01T00:00:00Z\n",
      "\n",
      "The dir KOL tweets 2021\\log_key_opinion_leaders already exist\n",
      "creating directory KOL tweets 2021\\log_key_opinion_leaders\\NicolaSturgeon in the dir KOL tweets 2021\\log_key_opinion_leaders to insert all the logs of the key opinion leader NicolaSturgeon\n",
      "no more tweets from this user\n",
      "Total amount of collected tweets =  17148\n",
      "17148\n",
      "---------------------------------------------------------------\n",
      "Bringing tweets of MichelBarnier\n",
      "The dir KOL tweets 2021 already exist\n",
      "Bringing all the tweets of the user: MichelBarnier from: 2014-01-01T00:00:00Z to 2020-02-01T00:00:00Z\n",
      "\n",
      "The dir KOL tweets 2021\\log_key_opinion_leaders already exist\n",
      "creating directory KOL tweets 2021\\log_key_opinion_leaders\\MichelBarnier in the dir KOL tweets 2021\\log_key_opinion_leaders to insert all the logs of the key opinion leader MichelBarnier\n",
      "no more tweets from this user\n",
      "Total amount of collected tweets =  2255\n",
      "2255\n",
      "---------------------------------------------------------------\n",
      "Bringing tweets of donaldtusk\n",
      "The dir KOL tweets 2021 already exist\n",
      "Bringing all the tweets of the user: donaldtusk from: 2014-01-01T00:00:00Z to 2020-02-01T00:00:00Z\n",
      "\n",
      "The dir KOL tweets 2021\\log_key_opinion_leaders already exist\n",
      "creating directory KOL tweets 2021\\log_key_opinion_leaders\\donaldtusk in the dir KOL tweets 2021\\log_key_opinion_leaders to insert all the logs of the key opinion leader donaldtusk\n",
      "no more tweets from this user\n",
      "Total amount of collected tweets =  379\n",
      "379\n",
      "---------------------------------------------------------------\n",
      "Bringing tweets of fhollande\n",
      "The dir KOL tweets 2021 already exist\n",
      "Bringing all the tweets of the user: fhollande from: 2014-01-01T00:00:00Z to 2020-02-01T00:00:00Z\n",
      "\n",
      "The dir KOL tweets 2021\\log_key_opinion_leaders already exist\n",
      "creating directory KOL tweets 2021\\log_key_opinion_leaders\\fhollande in the dir KOL tweets 2021\\log_key_opinion_leaders to insert all the logs of the key opinion leader fhollande\n",
      "no more tweets from this user\n",
      "Total amount of collected tweets =  889\n",
      "889\n",
      "---------------------------------------------------------------\n",
      "Bringing tweets of PhilipHammondUK\n",
      "The dir KOL tweets 2021 already exist\n",
      "Bringing all the tweets of the user: PhilipHammondUK from: 2014-01-01T00:00:00Z to 2020-02-01T00:00:00Z\n",
      "\n",
      "The dir KOL tweets 2021\\log_key_opinion_leaders already exist\n",
      "creating directory KOL tweets 2021\\log_key_opinion_leaders\\PhilipHammondUK in the dir KOL tweets 2021\\log_key_opinion_leaders to insert all the logs of the key opinion leader PhilipHammondUK\n",
      "no more tweets from this user\n",
      "Total amount of collected tweets =  2038\n",
      "2038\n",
      "---------------------------------------------------------------\n",
      "Bringing tweets of DavidDavisMP\n",
      "The dir KOL tweets 2021 already exist\n",
      "Bringing all the tweets of the user: DavidDavisMP from: 2014-01-01T00:00:00Z to 2020-02-01T00:00:00Z\n",
      "\n",
      "The dir KOL tweets 2021\\log_key_opinion_leaders already exist\n",
      "creating directory KOL tweets 2021\\log_key_opinion_leaders\\DavidDavisMP in the dir KOL tweets 2021\\log_key_opinion_leaders to insert all the logs of the key opinion leader DavidDavisMP\n",
      "no more tweets from this user\n",
      "Total amount of collected tweets =  819\n",
      "819\n",
      "---------------------------------------------------------------\n",
      "Bringing tweets of JunckerEU\n",
      "The dir KOL tweets 2021 already exist\n",
      "Bringing all the tweets of the user: JunckerEU from: 2014-01-01T00:00:00Z to 2020-02-01T00:00:00Z\n",
      "\n",
      "The dir KOL tweets 2021\\log_key_opinion_leaders already exist\n",
      "creating directory KOL tweets 2021\\log_key_opinion_leaders\\JunckerEU in the dir KOL tweets 2021\\log_key_opinion_leaders to insert all the logs of the key opinion leader JunckerEU\n",
      "no more tweets from this user\n",
      "Total amount of collected tweets =  1845\n",
      "1845\n",
      "---------------------------------------------------------------\n",
      "Bringing tweets of guyverhofstadt\n",
      "The dir KOL tweets 2021 already exist\n",
      "Bringing all the tweets of the user: guyverhofstadt from: 2014-01-01T00:00:00Z to 2020-02-01T00:00:00Z\n",
      "\n",
      "The dir KOL tweets 2021\\log_key_opinion_leaders already exist\n",
      "creating directory KOL tweets 2021\\log_key_opinion_leaders\\guyverhofstadt in the dir KOL tweets 2021\\log_key_opinion_leaders to insert all the logs of the key opinion leader guyverhofstadt\n",
      "no more tweets from this user\n",
      "Total amount of collected tweets =  5571\n",
      "5571\n",
      "---------------------------------------------------------------\n",
      "Bringing tweets of DidierSeeuws\n",
      "The dir KOL tweets 2021 already exist\n",
      "Bringing all the tweets of the user: DidierSeeuws from: 2014-01-01T00:00:00Z to 2020-02-01T00:00:00Z\n",
      "\n",
      "The dir KOL tweets 2021\\log_key_opinion_leaders already exist\n",
      "creating directory KOL tweets 2021\\log_key_opinion_leaders\\DidierSeeuws in the dir KOL tweets 2021\\log_key_opinion_leaders to insert all the logs of the key opinion leader DidierSeeuws\n",
      "no more tweets from this user\n",
      "Total amount of collected tweets =  4\n",
      "4\n",
      "---------------------------------------------------------------\n",
      "Bringing tweets of EndaKennyTD\n",
      "The dir KOL tweets 2021 already exist\n",
      "Bringing all the tweets of the user: EndaKennyTD from: 2014-01-01T00:00:00Z to 2020-02-01T00:00:00Z\n",
      "\n",
      "The dir KOL tweets 2021\\log_key_opinion_leaders already exist\n",
      "creating directory KOL tweets 2021\\log_key_opinion_leaders\\EndaKennyTD in the dir KOL tweets 2021\\log_key_opinion_leaders to insert all the logs of the key opinion leader EndaKennyTD\n",
      "no more tweets from this user\n",
      "Total amount of collected tweets =  646\n",
      "646\n",
      "---------------------------------------------------------------\n",
      "Bringing tweets of hilarybennmp\n",
      "The dir KOL tweets 2021 already exist\n",
      "Bringing all the tweets of the user: hilarybennmp from: 2014-01-01T00:00:00Z to 2020-02-01T00:00:00Z\n",
      "\n",
      "The dir KOL tweets 2021\\log_key_opinion_leaders already exist\n",
      "creating directory KOL tweets 2021\\log_key_opinion_leaders\\hilarybennmp in the dir KOL tweets 2021\\log_key_opinion_leaders to insert all the logs of the key opinion leader hilarybennmp\n",
      "no more tweets from this user\n",
      "Total amount of collected tweets =  5485\n",
      "5485\n",
      "---------------------------------------------------------------\n",
      "Bringing tweets of MinPres\n",
      "The dir KOL tweets 2021 already exist\n",
      "Bringing all the tweets of the user: MinPres from: 2014-01-01T00:00:00Z to 2020-02-01T00:00:00Z\n",
      "\n",
      "The dir KOL tweets 2021\\log_key_opinion_leaders already exist\n",
      "creating directory KOL tweets 2021\\log_key_opinion_leaders\\MinPres in the dir KOL tweets 2021\\log_key_opinion_leaders to insert all the logs of the key opinion leader MinPres\n",
      "no more tweets from this user\n",
      "Total amount of collected tweets =  2656\n",
      "2656\n",
      "---------------------------------------------------------------\n",
      "Bringing tweets of MartinSelmayr\n",
      "The dir KOL tweets 2021 already exist\n",
      "Bringing all the tweets of the user: MartinSelmayr from: 2014-01-01T00:00:00Z to 2020-02-01T00:00:00Z\n",
      "\n",
      "The dir KOL tweets 2021\\log_key_opinion_leaders already exist\n",
      "creating directory KOL tweets 2021\\log_key_opinion_leaders\\MartinSelmayr in the dir KOL tweets 2021\\log_key_opinion_leaders to insert all the logs of the key opinion leader MartinSelmayr\n",
      "no more tweets from this user\n",
      "Total amount of collected tweets =  16223\n",
      "16223\n",
      "---------------------------------------------------------------\n",
      "Bringing tweets of Keir_Starmer\n",
      "The dir KOL tweets 2021 already exist\n",
      "Bringing all the tweets of the user: Keir_Starmer from: 2014-01-01T00:00:00Z to 2020-02-01T00:00:00Z\n",
      "\n",
      "The dir KOL tweets 2021\\log_key_opinion_leaders already exist\n",
      "creating directory KOL tweets 2021\\log_key_opinion_leaders\\Keir_Starmer in the dir KOL tweets 2021\\log_key_opinion_leaders to insert all the logs of the key opinion leader Keir_Starmer\n"
     ]
    },
    {
     "name": "stdout",
     "output_type": "stream",
     "text": [
      "no more tweets from this user\n",
      "Total amount of collected tweets =  4281\n",
      "4281\n",
      "---------------------------------------------------------------\n",
      "Bringing tweets of realDonaldTrump\n",
      "The dir KOL tweets 2021 already exist\n",
      "Bringing all the tweets of the user: realDonaldTrump from: 2014-01-01T00:00:00Z to 2020-02-01T00:00:00Z\n",
      "\n",
      "The dir KOL tweets 2021\\log_key_opinion_leaders already exist\n",
      "creating directory KOL tweets 2021\\log_key_opinion_leaders\\realDonaldTrump in the dir KOL tweets 2021\\log_key_opinion_leaders to insert all the logs of the key opinion leader realDonaldTrump\n",
      "no data / include in the json\n",
      "no more tweets from this user\n",
      "Total amount of collected tweets =  0\n",
      "0\n",
      "The user: realDonaldTrump had 0 tweets!!\n",
      "---------------------------------------------------------------\n",
      "Bringing tweets of Wolf_Schauble\n",
      "The dir KOL tweets 2021 already exist\n",
      "Bringing all the tweets of the user: Wolf_Schauble from: 2014-01-01T00:00:00Z to 2020-02-01T00:00:00Z\n",
      "\n",
      "The dir KOL tweets 2021\\log_key_opinion_leaders already exist\n",
      "creating directory KOL tweets 2021\\log_key_opinion_leaders\\Wolf_Schauble in the dir KOL tweets 2021\\log_key_opinion_leaders to insert all the logs of the key opinion leader Wolf_Schauble\n",
      "no data / include in the json\n",
      "no more tweets from this user\n",
      "Total amount of collected tweets =  0\n",
      "0\n",
      "The user: Wolf_Schauble had 0 tweets!!\n",
      "---------------------------------------------------------------\n",
      "Bringing tweets of LiamFox\n",
      "The dir KOL tweets 2021 already exist\n",
      "Bringing all the tweets of the user: LiamFox from: 2014-01-01T00:00:00Z to 2020-02-01T00:00:00Z\n",
      "\n",
      "The dir KOL tweets 2021\\log_key_opinion_leaders already exist\n",
      "creating directory KOL tweets 2021\\log_key_opinion_leaders\\Liam"
     ]
    },
    {
     "data": {
      "text/html": [
       "<b>limit_output extension: Maximum message size of 10000 exceeded with 10112 characters</b>"
      ]
     },
     "metadata": {},
     "output_type": "display_data"
    }
   ],
   "source": [
    "# ##########################################\n",
    "query = \"lang:en -is:retweet -is:reply -is:quote \"\n",
    "\n",
    "if download_tweets:\n",
    "    my_twitter_crawler.return_tweets_of_key_opinion_leaders(query=query, user_names= key_opinion_leader_names,\n",
    "                                            start_time = start_time,\n",
    "                                            end_time = end_time,\n",
    "                                            max_results = max_results, evaluate_last_token = False,\n",
    "                                            limit_amount_of_returned_tweets = limit_amount_of_returned_tweets,\n",
    "                                           verbose_10 = False, dir_name =dir_name)"
   ]
  },
  {
   "cell_type": "code",
   "execution_count": null,
   "id": "1fe4d8e4",
   "metadata": {},
   "outputs": [],
   "source": []
  },
  {
   "cell_type": "code",
   "execution_count": null,
   "id": "f584deea",
   "metadata": {},
   "outputs": [],
   "source": []
  },
  {
   "cell_type": "code",
   "execution_count": null,
   "id": "64fb5c58",
   "metadata": {},
   "outputs": [],
   "source": []
  }
 ],
 "metadata": {
  "kernelspec": {
   "display_name": "Python 3 (ipykernel)",
   "language": "python",
   "name": "python3"
  },
  "language_info": {
   "codemirror_mode": {
    "name": "ipython",
    "version": 3
   },
   "file_extension": ".py",
   "mimetype": "text/x-python",
   "name": "python",
   "nbconvert_exporter": "python",
   "pygments_lexer": "ipython3",
   "version": "3.8.12"
  },
  "latex_envs": {
   "LaTeX_envs_menu_present": true,
   "autoclose": false,
   "autocomplete": true,
   "bibliofile": "biblio.bib",
   "cite_by": "apalike",
   "current_citInitial": 1,
   "eqLabelWithNumbers": true,
   "eqNumInitial": 1,
   "hotkeys": {
    "equation": "Ctrl-E",
    "itemize": "Ctrl-I"
   },
   "labels_anchors": false,
   "latex_user_defs": false,
   "report_style_numbering": false,
   "user_envs_cfg": false
  },
  "toc": {
   "base_numbering": 1,
   "nav_menu": {},
   "number_sections": true,
   "sideBar": true,
   "skip_h1_title": false,
   "title_cell": "Table of Contents",
   "title_sidebar": "Contents",
   "toc_cell": false,
   "toc_position": {},
   "toc_section_display": true,
   "toc_window_display": false
  },
  "varInspector": {
   "cols": {
    "lenName": 16,
    "lenType": 16,
    "lenVar": 40
   },
   "kernels_config": {
    "python": {
     "delete_cmd_postfix": "",
     "delete_cmd_prefix": "del ",
     "library": "var_list.py",
     "varRefreshCmd": "print(var_dic_list())"
    },
    "r": {
     "delete_cmd_postfix": ") ",
     "delete_cmd_prefix": "rm(",
     "library": "var_list.r",
     "varRefreshCmd": "cat(var_dic_list()) "
    }
   },
   "types_to_exclude": [
    "module",
    "function",
    "builtin_function_or_method",
    "instance",
    "_Feature"
   ],
   "window_display": false
  }
 },
 "nbformat": 4,
 "nbformat_minor": 5
}

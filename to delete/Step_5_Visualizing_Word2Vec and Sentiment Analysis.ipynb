{
 "cells": [
  {
   "cell_type": "markdown",
   "id": "51bd41b4",
   "metadata": {},
   "source": [
    "# Step_5_Visualizing_Word2Vec and Sentiment Analysis\n",
    "### Roy Madpis (319091526) And Michael Kobaivanov (206814485)\n",
    "\n",
    "In this notebook we use all the data we collected so far to collect insights regarding the Brexit issue.\n",
    "\n",
    "### 1. Word2Vec model:\n",
    "a. We split the ~1M tweets data (data_folder/tweets_table_all.csv) by the year the tweet was published, train a Word2Vec model for each year alone (thus have word2vec model that was trained on tweets from 2014 / model that was trained on tweets from 2015, etc) we also have one Word2Vec model that was trained on all the data.\n",
    "\n",
    "b. Then we find the K most simiilar words to the referenced word: brexit (using the Word2Vec model) [This is performed for each year alone]\n",
    "\n",
    "c. We apply TSNE on the vecotrs of the k most simmilar words\n",
    "\n",
    "d. we visualize - lets see :\n",
    "    + How the different most closed words to \"Brexit\" changed throught the years\n",
    "    \n",
    "### 2. Sentiment Analysis"
   ]
  },
  {
   "cell_type": "code",
   "execution_count": 1,
   "id": "3c688cd6",
   "metadata": {
    "ExecuteTime": {
     "end_time": "2022-06-18T06:12:13.332063Z",
     "start_time": "2022-06-18T06:12:00.407029Z"
    }
   },
   "outputs": [],
   "source": [
    "#! pip3 freeze > roy_libs1.txt"
   ]
  },
  {
   "cell_type": "markdown",
   "id": "dc402411",
   "metadata": {},
   "source": [
    "Articles:\n",
    "\n",
    "**Article 1 :** https://www.tandfonline.com/doi/full/10.1080/13825577.2021.1918842\n",
    "   \n",
    "**Article 2 :** https://link.springer.com/article/10.1007/s42001-021-00112-0\n",
    "\n",
    "\n",
    "**Article 3 :** https://www.ncbi.nlm.nih.gov/pmc/articles/PMC5732609/\n",
    "Has a dataset of over 4.5M tweets related to brexit i nthe following location: https://www.clarin.si/repository/xmlui/handle/11356/1135#\n",
    "\n",
    "The corpus contains over 4.5 million tweets (tweet IDs) automatically labeled by a machine learning program with stance regarding Brexit: Positive (supporting Brexit), Negative (opposing Brexit), or Neutral (uncommitted).\n",
    "\n",
    "The Brexit referendum was held on June 23, 2016, to decide whether the UK should leave or remain in the EU. In the weeks before the referendum, starting on May 12, the UK geo-located Brexit-related tweets were continuously collected resulting in a dataset of around 4.5 million (4,508,440) tweets from almost one million (998,054) users. A large sample of the collected tweets (35,000) was manually labeled for the stance of their authors regarding Brexit: Positive (supporting Brexit), Negative (opposing Brexit), or Neutral (uncommitted). The labeled tweets were used to train a classifier which then automatically labeled all the remaining tweets.\n",
    "\n",
    "The corpus contains tweet ids and stance labels. The tweets are grouped into files one hour per file. In each file, one row represents one entry (twitter_id, sentiment_label). Lines are ordered by the tweet time."
   ]
  },
  {
   "cell_type": "markdown",
   "id": "76346ebe",
   "metadata": {},
   "source": [
    " David Cameron as Prime Minister and Jeremy Corbyn as leader of the Labour Party for Remain, Boris Johnson as Major of London and Nigel Farage as the leader of the UKIP for Leave\n",
    " \n",
    " \n",
    " As the mayor of London, **Boris Johnson was one of the most prominent faces of the Vote Leave campaign**. Surprisingly, he did not make much use of Twitter during the Brexit campaign. Not only did he tweet less than the other leaders analysed for this study: he also had considerably less followers. In between 20 February 2016 and 23 June 2016, he just tweeted 84 times in total, or 0.7 times per day. Of those 84 tweets, only 47 were Brexit-related, and most of them (36) were posted in June. At the same time, the number of his followers went from 78,000 in mid-February to 134,000 in mid-June, still leaving him far behind Nigel Farage, who started out with 257,000 followers in February.\n",
    " \n",
    " \n",
    " David Cameron\n",
    "David Cameron did not just set the date for the EU referendum, but he was also the one fighting the strongest for Remain – at least on Twitter. As Prime Minister, he had more followers than all the other three leaders together: 1.36 million in mid-February and 1.49 million in mid-June. Cameron frequently used Twitter, on average 2.3 times per day, or 291 times in total between 20 February 2016 and 23 June 2016. Of those 291 tweets, 207 were Brexit-related, most of them posted in June (118).\n",
    "\n",
    "Overall, Cameron used Twitter extensively to advocate for Remain\n",
    " \n",
    " \n",
    " \n",
    " \n",
    " Nigel Farage\n",
    "The leader of the UK Independence Party spent most of his political career campaigning for the UK’s withdrawal from the EU. Not surprisingly, he turned out to be one of the strongest voices for Brexit on Twitter. Not only did he tweet more than any other of the four leaders, but he also had the highest ratio of Brexit-related tweets, roughly 86%. Between 20 February 2016 and 23 June 2016, he posted 579 times in total (4.7 tweets per day on average), making 500 of those tweets about Brexit, most of them in May (116). During that time, he almost gained 100,000 new followers: he had started with 257,000 at the end of January and reached 350,000 at the time of the vote cast in June.\n",
    "\n",
    "Overall, Farage used Twitter extensively to promote Brexit. He maintained a high posting frequency and focused almost exclusively on the referendum, dedicating more than 95% of his tweets in February, March, and June 2016 to Brexit (slightly less in April and May).\n",
    " \n",
    " \n",
    " "
   ]
  },
  {
   "cell_type": "markdown",
   "id": "e05e9c49",
   "metadata": {},
   "source": [
    "### Opening:\n",
    "\n",
    "In this project we use the Brexit as a case study and use data related to it to perform several NLP tasks.\n",
    "\n",
    "### Introduction:\n",
    "Brexit was the withdrawal of the United Kingdom from the European Union on 31 January 2020. The UK is the only sovereign country to have left the EU. \n",
    "\n",
    "The Brexit is a very interesting issue both because of its precedential characteristic and because of its huge impact.\n",
    "Many studies have been done to investigate the Brexit, its origin, reasoning, impact, etc.\n",
    "We will focus on several issues regarding Brexit and use NLP techniques for this research.\n",
    "\n",
    "\n",
    "The Brexit issue occupied the british people from 1975, where the first referendum on leaving the European Union was conducted, this issue came back in 2016 where another referendum on leaving the European Union was conducted again. There is huge difference between those 2 referendum as the second one was conducted in the social media era where there are numerous of influencers, as known as \"Key Opinion Leaders\" (KOL), who are usually at the forefront of public opinion and followed by a massive number of users and influenced the public and convince it to vote for leaving/staying in the Eu.\n",
    "It is quite known that some influencers, who want to be popular, \"change their mind\" and as they understand the mainstreem, and are in favour of the most popular agenda, this is known as populism. We wish to investigate if such a phenomena happened among the main Key Opinion Leaders in the Brexit issue.\n",
    "\n",
    "In order to do that we will do the following:\n",
    "\n",
    "### **TASK 1**\n",
    "1. Research and find X Key Opinion Leaders in the Brexit\n",
    "2. Retrive their tweets between Jan 2014 - Feb 2020\n",
    "3. Filter the tweets so we will have only tweets on Brexit\n",
    "4. Subset each KOL tweets to 7 groups: 2014 tweets | 2015 tweets | 2016 tweets | 2017 tweets | 2018 tweets | 2019 tweets | 2020 tweets |\n",
    "5. a.  Doc2Vec --> create a representation of all the tweets in each group --> TSNE --> see how the location of the different KOL changed througout time\n",
    "5. b. Word2Vec --> create a representation of the word BREXIT for each KOL\n",
    "\n",
    "### Task 2:\n",
    "*** Create a representation of the word Brexit using all the tweets of all KOL in 2014 / 2015 / 2016 and see:\n",
    "1. How the representation changes (put it in the same TSNE as in 5b)\n",
    "2. See which words are the most similar to BREXIT in different years\n",
    "\n",
    "### Task 3: Sentiment analysis \n",
    "We can use the data in article 3 - 4.5M tweets with labels (The sentiment label), take a pre-trained sentiment analysis model and continue training it using that corpus, then use that model to classify the KOL tweets and then perform task 4:\n",
    "*** another option is to use the NLTK for sentiment analysis on Tweets of KOL we have and provide that to the model to learn.\n",
    "\n",
    "### Task 4: Sentiment analysis bar chart\n",
    "Use a model of sentiment analysis to add the sentiment for each tweet of Brexit and do EDA:\n",
    "bar chart displaying .... (In the presentation I wrote something about it)\n",
    "\n",
    "\n",
    "*** We can plot the difference in the sentiment for each KOL throught time....\n",
    "\n",
    "*** change the word conducted!!\n",
    "\n",
    "\n",
    "\n",
    "\n",
    "## Attach files:\n",
    "\n",
    "1. Python file: Brexit_Package\n",
    "This python file contains the Package we have built in order to deal with reading data from twitter, this package enables:\n",
    "\n",
    "+ Given a tweet id - retrieve the tweet + information on it and its author\n",
    "+ Given a list of Twitter users + timeframe - retrieve all the tweets they wrote in the given time-frame\n",
    "+ Given a list of conversation ids retrieve data on all the people who like it\n",
    "+ Given a list of conversation ids retrieve data on all its retweets\n",
    "+ Given a list of conversation ids retrieve data on all its Quotes\n",
    "+ Given a list of conversation ids retrieve data on all its comments\n",
    "+ Given a tweet-id - get the URL of the tweet - so you can view it on Twitter\n",
    "+ Filter function - given a directory with CSV files (containing tweets) filter on multiple criteria we define (and can be altered using the function’s parameters) \n",
    "\n",
    "2. In the notebook : \"Step_1_Read_KOL_tweets\" we present the process of reading the Key Opinion Leaders tweets\n",
    "\n",
    "2. In the notebook : \"Step_2_filter_KOL_tweets\" we present the process of filtering the Key Opinion Leaders tweets to get only tweets relevant to the Brexit\n",
    "\n"
   ]
  },
  {
   "cell_type": "markdown",
   "id": "6e2ec02a",
   "metadata": {},
   "source": [
    "### Michael:\n",
    "1. Open GitHub repository for this project\n",
    "2. GPU + re-trein the pretrained model of sentiment analysis - We must check that this is possible! I couldn't do this...\n",
    "3. Read the 4.5M tweets and put them in table so we will have the data on the tweet + column of sentiment analysis (?)\n",
    "4. EDA Graphs on KOL, Words distributions - make word clouds + find the most common words, etc."
   ]
  },
  {
   "cell_type": "markdown",
   "id": "dc539704",
   "metadata": {},
   "source": [
    "### Opening:\n",
    "\n",
    "In this project we use the Brexit as a case study.\n",
    "\n",
    "We wish to take tweets that were critical to brexit - tweets that got high amount of likes, comments etc and were with high influence on the british people\n",
    "\n",
    "Then we would like to use NLP methods in order to find simmilar tweets to those \n",
    "and given a new tweet to find how close it is to the \"influenced tweets\" so we can predict, given a new tweet on brexit - whether it will have (or had) high impact.\n",
    "In that way we will have a \"checking\" sysytem that we could inset to it:\n",
    "a text + author name/id + time and get a result indicating how much this tweet will have impact on the british people, we then can alter the text / ahutor / time and see how different combinations lead to different influence/non influence tweets.\n",
    "\n",
    "\n",
    "+ we need to add a labels column - impact / not impact?\n",
    "\n"
   ]
  },
  {
   "cell_type": "code",
   "execution_count": 2,
   "id": "c92e6eec",
   "metadata": {
    "ExecuteTime": {
     "end_time": "2022-06-18T16:38:44.208960Z",
     "start_time": "2022-06-18T16:38:40.687920Z"
    }
   },
   "outputs": [
    {
     "name": "stderr",
     "output_type": "stream",
     "text": [
      "ERROR: Invalid requirement: '#'\n"
     ]
    }
   ],
   "source": [
    "#! pip install --trusted-host=pypi.org --trusted-host=files.pythonhosted.org --user gensim\n",
    "#! pip install dask\n",
    "#! pip install tabulate\n",
    "#! pip install nltk\n",
    "#! pip install langid # for language detection\n",
    "# ! pip install contractions #for cleaning the text - converting abbriviations to long text for example\n",
    "\n",
    "### downloading the 4.5M tweets with sentiment\n",
    "#! curl --remote-name-all https://www.clarin.si/repository/xmlui/bitstream/handle/11356/1135{/Brexit_tweets_stance.zip}\n"
   ]
  },
  {
   "cell_type": "code",
   "execution_count": 1,
   "id": "5e0f9082",
   "metadata": {
    "ExecuteTime": {
     "end_time": "2022-06-22T07:46:00.630694Z",
     "start_time": "2022-06-22T07:45:54.071420Z"
    },
    "scrolled": true
   },
   "outputs": [
    {
     "name": "stderr",
     "output_type": "stream",
     "text": [
      "[nltk_data] Downloading package stopwords to\n",
      "[nltk_data]     C:\\Users\\roymad\\AppData\\Roaming\\nltk_data...\n",
      "[nltk_data]   Package stopwords is already up-to-date!\n"
     ]
    }
   ],
   "source": [
    "import pandas as pd, numpy as np, os\n",
    "import seaborn as sns\n",
    "\n",
    "import os.path\n",
    "import matplotlib.pyplot as plt\n",
    "import string\n",
    "import psutil\n",
    "import sys, requests\n",
    "import time, datetime\n",
    "from sklearn.feature_extraction.text import CountVectorizer\n",
    "from sklearn.metrics.pairwise import cosine_similarity\n",
    "from dask import dataframe as dd\n",
    "import collections\n",
    "from collections import Counter\n",
    "from tqdm.notebook import tqdm_notebook\n",
    "\n",
    "#for readin zip files\n",
    "import zipfile\n",
    "import bz2\n",
    "import itertools\n",
    "import codecs\n",
    "import io\n",
    "\n",
    "import pickle\n",
    "from scipy import spatial\n",
    "from sklearn.decomposition import LatentDirichletAllocation\n",
    "import gensim\n",
    "import inspect\n",
    "import contractions\n",
    "import langid #for language detection\n",
    "#import logging\n",
    "#logging.basicConfig(format ='%(asctime)s: %(levelname)s: %(message)s', level = logging.ERROR)\n",
    "\n",
    "#stopwords\n",
    "import nltk\n",
    "from nltk.corpus import stopwords\n",
    "nltk.download('stopwords')\n",
    "\n",
    "os.environ[\"KMP_DUPLICATE_LIB_OK\"]=\"TRUE\"\n",
    "\n",
    "\n",
    "#####################################\n",
    "data_folder = \"data_folder\""
   ]
  },
  {
   "cell_type": "code",
   "execution_count": 2,
   "id": "5bd1c2b4",
   "metadata": {
    "ExecuteTime": {
     "end_time": "2022-06-22T07:46:00.661677Z",
     "start_time": "2022-06-22T07:46:00.646932Z"
    }
   },
   "outputs": [],
   "source": [
    "### reading the stopwords file / downloading it and add some more stopwords\n",
    "\n",
    "stopwords_file_name =  os.path.join(data_folder, \"StopWords\")\n",
    "stopwords_url = \"https://gist.githubusercontent.com/sebleier/554280/raw/7e0e4a1ce04c2bb7bd41089c9821dbcf6d0c786c/NLTK's%2520list%2520of%2520english%2520stopwords\"\n",
    "\n",
    "\n",
    "stop_words_to_add = [\"http\", \"https\", \"rt\", \"co\", \"vrkhaxde\", \"oeblog\", \"rln\", \"simonjhix\", \"cctvqfr\",\n",
    "\"dcpj\", \"xvy\", \"mycekvwlxr\", \"imydbvvwji\", \"kkd\", \"rwp\",\"yfc\",\"fus\",\"tmawgoafhb\",\"edzmidvpel\", \"brexit.\", \"brexit,\"] ### add more stopwords you want\n",
    "#################################################################\n",
    "if not os.path.isfile(stopwords_file_name):\n",
    "    StopWords = requests.get(stopwords_url).text.split()\n",
    "    with open(stopwords_file_name,'w+t', encoding='utf-8') as out_file:\n",
    "        out_file.write(' '.join(StopWords))\n",
    "else:\n",
    "    with open(stopwords_file_name,'rt', encoding='utf-8') as in_file:\n",
    "        StopWords = in_file.readline().split()\n",
    "StopWords = set(StopWords)\n",
    "\n",
    "for word_i in stop_words_to_add:\n",
    "    StopWords.add(word_i)"
   ]
  },
  {
   "cell_type": "markdown",
   "id": "8acdd298",
   "metadata": {},
   "source": [
    "## 5.1.a Reading Key Opinion leaders tweets:\n"
   ]
  },
  {
   "cell_type": "markdown",
   "id": "19d6daf2",
   "metadata": {
    "ExecuteTime": {
     "end_time": "2022-05-13T11:45:07.556334Z",
     "start_time": "2022-05-13T11:45:07.543193Z"
    }
   },
   "source": [
    "a. We split the ~1M tweets data (data_folder/tweets_table_all_with_sentimet.csv) by the year the tweet was published, train a Word2Vec model for each year alone (thus have word2vec model that was trained on tweets from 2014 / model that was trained on tweets from 2015, etc) we also have one Word2Vec model that was trained on all the data."
   ]
  },
  {
   "cell_type": "code",
   "execution_count": null,
   "id": "29611e66",
   "metadata": {},
   "outputs": [],
   "source": [
    "# tweets_table_all_with_sentimet = pd.read_csv(os.path.join(data_folder,\"tweets_table_all_with_sentimet.csv\"))\n",
    "# print(\"Number of tweets:\", tweets_table_all_with_sentimet.shape[0])\n",
    "# tweets_table_all_with_sentimet.head()"
   ]
  },
  {
   "cell_type": "code",
   "execution_count": 3,
   "id": "a92d09cb",
   "metadata": {
    "ExecuteTime": {
     "end_time": "2022-06-22T07:47:19.946608Z",
     "start_time": "2022-06-22T07:47:05.083707Z"
    }
   },
   "outputs": [
    {
     "name": "stdout",
     "output_type": "stream",
     "text": [
      "Step 1: Reading all the csv files\n",
      "There are: 979801 Tweets\n"
     ]
    },
    {
     "data": {
      "text/html": [
       "<div>\n",
       "<style scoped>\n",
       "    .dataframe tbody tr th:only-of-type {\n",
       "        vertical-align: middle;\n",
       "    }\n",
       "\n",
       "    .dataframe tbody tr th {\n",
       "        vertical-align: top;\n",
       "    }\n",
       "\n",
       "    .dataframe thead th {\n",
       "        text-align: right;\n",
       "    }\n",
       "</style>\n",
       "<table border=\"1\" class=\"dataframe\">\n",
       "  <thead>\n",
       "    <tr style=\"text-align: right;\">\n",
       "      <th></th>\n",
       "      <th>author_id</th>\n",
       "      <th>author_id_new</th>\n",
       "      <th>conv_id_new</th>\n",
       "      <th>conversation_id</th>\n",
       "      <th>created_at</th>\n",
       "      <th>entities.mentions</th>\n",
       "      <th>id</th>\n",
       "      <th>id_new</th>\n",
       "      <th>public_metrics.like_count</th>\n",
       "      <th>public_metrics.quote_count</th>\n",
       "      <th>...</th>\n",
       "      <th>users.public_metrics.followers_count</th>\n",
       "      <th>users.public_metrics.following_count</th>\n",
       "      <th>users.public_metrics.listed_count</th>\n",
       "      <th>users.public_metrics.tweet_count</th>\n",
       "      <th>users.username</th>\n",
       "      <th>users.verified</th>\n",
       "      <th>text_tokens</th>\n",
       "      <th>created_at_date</th>\n",
       "      <th>Year_tweet</th>\n",
       "      <th>Predicted_sentiment</th>\n",
       "    </tr>\n",
       "  </thead>\n",
       "  <tbody>\n",
       "    <tr>\n",
       "      <th>0</th>\n",
       "      <td>76650839</td>\n",
       "      <td>author_id: 76650839</td>\n",
       "      <td>conv_id: 1079747729419657217</td>\n",
       "      <td>1079747729419657217</td>\n",
       "      <td>2018-12-31T14:34:54.000Z</td>\n",
       "      <td>[{'start': 3, 'end': 19, 'username': '10Downin...</td>\n",
       "      <td>1079747729419657217</td>\n",
       "      <td>id: 1079747729419657217</td>\n",
       "      <td>0</td>\n",
       "      <td>0</td>\n",
       "      <td>...</td>\n",
       "      <td>14060</td>\n",
       "      <td>2210</td>\n",
       "      <td>654</td>\n",
       "      <td>10740</td>\n",
       "      <td>AlunCairns</td>\n",
       "      <td>True</td>\n",
       "      <td>['downingstreet', 'countries', 'places', 'uk',...</td>\n",
       "      <td>2018-12-31</td>\n",
       "      <td>2018</td>\n",
       "      <td>Neutral</td>\n",
       "    </tr>\n",
       "    <tr>\n",
       "      <th>1</th>\n",
       "      <td>76650839</td>\n",
       "      <td>author_id: 76650839</td>\n",
       "      <td>conv_id: 1079747690110570496</td>\n",
       "      <td>1079747690110570496</td>\n",
       "      <td>2018-12-31T14:34:44.000Z</td>\n",
       "      <td>[{'start': 3, 'end': 19, 'username': 'GavinWil...</td>\n",
       "      <td>1079747690110570496</td>\n",
       "      <td>id: 1079747690110570496</td>\n",
       "      <td>0</td>\n",
       "      <td>0</td>\n",
       "      <td>...</td>\n",
       "      <td>14060</td>\n",
       "      <td>2210</td>\n",
       "      <td>654</td>\n",
       "      <td>10740</td>\n",
       "      <td>AlunCairns</td>\n",
       "      <td>True</td>\n",
       "      <td>['gavinwilliamson', 'want_thank', 'serving', '...</td>\n",
       "      <td>2018-12-31</td>\n",
       "      <td>2018</td>\n",
       "      <td>Positive</td>\n",
       "    </tr>\n",
       "    <tr>\n",
       "      <th>2</th>\n",
       "      <td>76650839</td>\n",
       "      <td>author_id: 76650839</td>\n",
       "      <td>conv_id: 1078943309744070657</td>\n",
       "      <td>1078943309744070657</td>\n",
       "      <td>2018-12-29T09:18:25.000Z</td>\n",
       "      <td>[{'start': 3, 'end': 14, 'username': 'UKGovWal...</td>\n",
       "      <td>1078943309744070657</td>\n",
       "      <td>id: 1078943309744070657</td>\n",
       "      <td>0</td>\n",
       "      <td>0</td>\n",
       "      <td>...</td>\n",
       "      <td>14060</td>\n",
       "      <td>2210</td>\n",
       "      <td>654</td>\n",
       "      <td>10740</td>\n",
       "      <td>AlunCairns</td>\n",
       "      <td>True</td>\n",
       "      <td>['ukgovwales_welsh_secretary_aluncairns', 'ext...</td>\n",
       "      <td>2018-12-29</td>\n",
       "      <td>2018</td>\n",
       "      <td>Positive</td>\n",
       "    </tr>\n",
       "    <tr>\n",
       "      <th>3</th>\n",
       "      <td>76650839</td>\n",
       "      <td>author_id: 76650839</td>\n",
       "      <td>conv_id: 1078738567193640960</td>\n",
       "      <td>1078738567193640960</td>\n",
       "      <td>2018-12-28T19:58:04.000Z</td>\n",
       "      <td>[{'start': 0, 'end': 13, 'username': 'TicketTa...</td>\n",
       "      <td>1078741894761463809</td>\n",
       "      <td>id: 1078741894761463809</td>\n",
       "      <td>1</td>\n",
       "      <td>0</td>\n",
       "      <td>...</td>\n",
       "      <td>14060</td>\n",
       "      <td>2210</td>\n",
       "      <td>654</td>\n",
       "      <td>10740</td>\n",
       "      <td>AlunCairns</td>\n",
       "      <td>True</td>\n",
       "      <td>['tickettattle', 'tfwrail', 'sure', 'thing']</td>\n",
       "      <td>2018-12-28</td>\n",
       "      <td>2018</td>\n",
       "      <td>Neutral</td>\n",
       "    </tr>\n",
       "    <tr>\n",
       "      <th>4</th>\n",
       "      <td>76650839</td>\n",
       "      <td>author_id: 76650839</td>\n",
       "      <td>conv_id: 1077967555879452672</td>\n",
       "      <td>1077967555879452672</td>\n",
       "      <td>2018-12-26T21:24:01.000Z</td>\n",
       "      <td>[{'start': 0, 'end': 13, 'username': 'WPL_Offi...</td>\n",
       "      <td>1078038748837888001</td>\n",
       "      <td>id: 1078038748837888001</td>\n",
       "      <td>3</td>\n",
       "      <td>0</td>\n",
       "      <td>...</td>\n",
       "      <td>14060</td>\n",
       "      <td>2210</td>\n",
       "      <td>654</td>\n",
       "      <td>10740</td>\n",
       "      <td>AlunCairns</td>\n",
       "      <td>True</td>\n",
       "      <td>['wpl_official', 'barrytownunited', 'the_nomad...</td>\n",
       "      <td>2018-12-26</td>\n",
       "      <td>2018</td>\n",
       "      <td>Positive</td>\n",
       "    </tr>\n",
       "  </tbody>\n",
       "</table>\n",
       "<p>5 rows × 28 columns</p>\n",
       "</div>"
      ],
      "text/plain": [
       "   author_id        author_id_new                   conv_id_new  \\\n",
       "0   76650839  author_id: 76650839  conv_id: 1079747729419657217   \n",
       "1   76650839  author_id: 76650839  conv_id: 1079747690110570496   \n",
       "2   76650839  author_id: 76650839  conv_id: 1078943309744070657   \n",
       "3   76650839  author_id: 76650839  conv_id: 1078738567193640960   \n",
       "4   76650839  author_id: 76650839  conv_id: 1077967555879452672   \n",
       "\n",
       "       conversation_id                created_at  \\\n",
       "0  1079747729419657217  2018-12-31T14:34:54.000Z   \n",
       "1  1079747690110570496  2018-12-31T14:34:44.000Z   \n",
       "2  1078943309744070657  2018-12-29T09:18:25.000Z   \n",
       "3  1078738567193640960  2018-12-28T19:58:04.000Z   \n",
       "4  1077967555879452672  2018-12-26T21:24:01.000Z   \n",
       "\n",
       "                                   entities.mentions                   id  \\\n",
       "0  [{'start': 3, 'end': 19, 'username': '10Downin...  1079747729419657217   \n",
       "1  [{'start': 3, 'end': 19, 'username': 'GavinWil...  1079747690110570496   \n",
       "2  [{'start': 3, 'end': 14, 'username': 'UKGovWal...  1078943309744070657   \n",
       "3  [{'start': 0, 'end': 13, 'username': 'TicketTa...  1078741894761463809   \n",
       "4  [{'start': 0, 'end': 13, 'username': 'WPL_Offi...  1078038748837888001   \n",
       "\n",
       "                    id_new  public_metrics.like_count  \\\n",
       "0  id: 1079747729419657217                          0   \n",
       "1  id: 1079747690110570496                          0   \n",
       "2  id: 1078943309744070657                          0   \n",
       "3  id: 1078741894761463809                          1   \n",
       "4  id: 1078038748837888001                          3   \n",
       "\n",
       "   public_metrics.quote_count  ...  users.public_metrics.followers_count  \\\n",
       "0                           0  ...                                 14060   \n",
       "1                           0  ...                                 14060   \n",
       "2                           0  ...                                 14060   \n",
       "3                           0  ...                                 14060   \n",
       "4                           0  ...                                 14060   \n",
       "\n",
       "   users.public_metrics.following_count users.public_metrics.listed_count  \\\n",
       "0                                  2210                               654   \n",
       "1                                  2210                               654   \n",
       "2                                  2210                               654   \n",
       "3                                  2210                               654   \n",
       "4                                  2210                               654   \n",
       "\n",
       "  users.public_metrics.tweet_count users.username users.verified  \\\n",
       "0                            10740     AlunCairns           True   \n",
       "1                            10740     AlunCairns           True   \n",
       "2                            10740     AlunCairns           True   \n",
       "3                            10740     AlunCairns           True   \n",
       "4                            10740     AlunCairns           True   \n",
       "\n",
       "                                         text_tokens created_at_date  \\\n",
       "0  ['downingstreet', 'countries', 'places', 'uk',...      2018-12-31   \n",
       "1  ['gavinwilliamson', 'want_thank', 'serving', '...      2018-12-31   \n",
       "2  ['ukgovwales_welsh_secretary_aluncairns', 'ext...      2018-12-29   \n",
       "3       ['tickettattle', 'tfwrail', 'sure', 'thing']      2018-12-28   \n",
       "4  ['wpl_official', 'barrytownunited', 'the_nomad...      2018-12-26   \n",
       "\n",
       "   Year_tweet  Predicted_sentiment  \n",
       "0        2018              Neutral  \n",
       "1        2018             Positive  \n",
       "2        2018             Positive  \n",
       "3        2018              Neutral  \n",
       "4        2018             Positive  \n",
       "\n",
       "[5 rows x 28 columns]"
      ]
     },
     "execution_count": 3,
     "metadata": {},
     "output_type": "execute_result"
    }
   ],
   "source": [
    "dir_with_all_tweets = os.path.join(data_folder,\"Predicted_sentiment_tables\")\n",
    "\n",
    "print(\"Step 1: Reading all the csv files\")\n",
    "tweets_tables = []\n",
    "csv_files_evaluated = []\n",
    "for root,dirs,files in os.walk(dir_with_all_tweets):\n",
    "    for file in files:\n",
    "        if file.endswith(\".csv\"): #if the file is csv\n",
    "            csv_files_evaluated.append(file)\n",
    "            file_location = os.path.join(dir_with_all_tweets, file)\n",
    "            tweets_tables.append(pd.read_csv(file_location))\n",
    "\n",
    "tweets_table_all_with_sentimet_0 = pd.concat(tweets_tables)\n",
    "print(\"There are:\", tweets_table_all_with_sentimet_0.shape[0], \"Tweets\")\n",
    "\n",
    "tweets_table_all_with_sentimet_0 = tweets_table_all_with_sentimet_0.drop(labels = [\"Unnamed: 0\", \"index_num\"], axis = 1)\n",
    "tweets_table_all_with_sentimet_0.head()"
   ]
  },
  {
   "cell_type": "markdown",
   "id": "0eecd615",
   "metadata": {},
   "source": [
    "### Reading the table with 300k tweets with sentiments\n",
    "This is the data that we read from twitter using th tweet-ids) [this data is out of the corpus of 4.5M tweet-ids with sentiment]\n",
    "\n",
    "We need to preprocess that table so it would be in the same format and shape as the table we have above"
   ]
  },
  {
   "cell_type": "code",
   "execution_count": 4,
   "id": "7b7e2837",
   "metadata": {
    "ExecuteTime": {
     "end_time": "2022-06-22T07:47:25.633976Z",
     "start_time": "2022-06-22T07:47:21.274507Z"
    }
   },
   "outputs": [
    {
     "name": "stdout",
     "output_type": "stream",
     "text": [
      "Step 1: Reading all the csv files\n",
      "There are: 312735 Tweets\n"
     ]
    },
    {
     "data": {
      "text/html": [
       "<div>\n",
       "<style scoped>\n",
       "    .dataframe tbody tr th:only-of-type {\n",
       "        vertical-align: middle;\n",
       "    }\n",
       "\n",
       "    .dataframe tbody tr th {\n",
       "        vertical-align: top;\n",
       "    }\n",
       "\n",
       "    .dataframe thead th {\n",
       "        text-align: right;\n",
       "    }\n",
       "</style>\n",
       "<table border=\"1\" class=\"dataframe\">\n",
       "  <thead>\n",
       "    <tr style=\"text-align: right;\">\n",
       "      <th></th>\n",
       "      <th>author_id</th>\n",
       "      <th>author_id_new</th>\n",
       "      <th>conv_id_new</th>\n",
       "      <th>conversation_id</th>\n",
       "      <th>created_at</th>\n",
       "      <th>entities.mentions</th>\n",
       "      <th>id</th>\n",
       "      <th>id_new</th>\n",
       "      <th>public_metrics.like_count</th>\n",
       "      <th>public_metrics.quote_count</th>\n",
       "      <th>...</th>\n",
       "      <th>users.public_metrics.followers_count</th>\n",
       "      <th>users.public_metrics.following_count</th>\n",
       "      <th>users.public_metrics.listed_count</th>\n",
       "      <th>users.public_metrics.tweet_count</th>\n",
       "      <th>users.username</th>\n",
       "      <th>users.verified</th>\n",
       "      <th>Predicted_sentiment</th>\n",
       "      <th>text_tokens</th>\n",
       "      <th>created_at_date</th>\n",
       "      <th>Year_tweet</th>\n",
       "    </tr>\n",
       "  </thead>\n",
       "  <tbody>\n",
       "    <tr>\n",
       "      <th>0</th>\n",
       "      <td>137099503</td>\n",
       "      <td>author_id: 137099503</td>\n",
       "      <td>conv_id: 730759365142167552</td>\n",
       "      <td>730759365142167552</td>\n",
       "      <td>2016-05-12T13:59:44.000Z</td>\n",
       "      <td>NaN</td>\n",
       "      <td>730759365142167552</td>\n",
       "      <td>id: 730759365142167552</td>\n",
       "      <td>2</td>\n",
       "      <td>0</td>\n",
       "      <td>...</td>\n",
       "      <td>463</td>\n",
       "      <td>71</td>\n",
       "      <td>18</td>\n",
       "      <td>22398</td>\n",
       "      <td>FonyBlair</td>\n",
       "      <td>False</td>\n",
       "      <td>Neutral</td>\n",
       "      <td>0</td>\n",
       "      <td>2016-05-12</td>\n",
       "      <td>2016</td>\n",
       "    </tr>\n",
       "    <tr>\n",
       "      <th>1</th>\n",
       "      <td>367718336</td>\n",
       "      <td>author_id: 367718336</td>\n",
       "      <td>conv_id: 730759317884915712</td>\n",
       "      <td>730759317884915712</td>\n",
       "      <td>2016-05-12T13:59:32.000Z</td>\n",
       "      <td>NaN</td>\n",
       "      <td>730759317884915712</td>\n",
       "      <td>id: 730759317884915712</td>\n",
       "      <td>0</td>\n",
       "      <td>0</td>\n",
       "      <td>...</td>\n",
       "      <td>3623</td>\n",
       "      <td>5000</td>\n",
       "      <td>433</td>\n",
       "      <td>301390</td>\n",
       "      <td>janicemorphet</td>\n",
       "      <td>False</td>\n",
       "      <td>Neutral</td>\n",
       "      <td>0</td>\n",
       "      <td>2016-05-12</td>\n",
       "      <td>2016</td>\n",
       "    </tr>\n",
       "    <tr>\n",
       "      <th>2</th>\n",
       "      <td>1299769218</td>\n",
       "      <td>author_id: 1299769218</td>\n",
       "      <td>conv_id: 730759295478960129</td>\n",
       "      <td>730759295478960129</td>\n",
       "      <td>2016-05-12T13:59:27.000Z</td>\n",
       "      <td>NaN</td>\n",
       "      <td>730759295478960129</td>\n",
       "      <td>id: 730759295478960129</td>\n",
       "      <td>4</td>\n",
       "      <td>0</td>\n",
       "      <td>...</td>\n",
       "      <td>558874</td>\n",
       "      <td>359</td>\n",
       "      <td>1630</td>\n",
       "      <td>81943</td>\n",
       "      <td>KayBurley</td>\n",
       "      <td>True</td>\n",
       "      <td>Neutral</td>\n",
       "      <td>0</td>\n",
       "      <td>2016-05-12</td>\n",
       "      <td>2016</td>\n",
       "    </tr>\n",
       "    <tr>\n",
       "      <th>3</th>\n",
       "      <td>2772884435</td>\n",
       "      <td>author_id: 2772884435</td>\n",
       "      <td>conv_id: 730759278630424577</td>\n",
       "      <td>730759278630424577</td>\n",
       "      <td>2016-05-12T13:59:23.000Z</td>\n",
       "      <td>NaN</td>\n",
       "      <td>730759278630424577</td>\n",
       "      <td>id: 730759278630424577</td>\n",
       "      <td>0</td>\n",
       "      <td>0</td>\n",
       "      <td>...</td>\n",
       "      <td>1206</td>\n",
       "      <td>1415</td>\n",
       "      <td>25</td>\n",
       "      <td>31524</td>\n",
       "      <td>ernieharding59</td>\n",
       "      <td>False</td>\n",
       "      <td>Positive</td>\n",
       "      <td>0</td>\n",
       "      <td>2016-05-12</td>\n",
       "      <td>2016</td>\n",
       "    </tr>\n",
       "    <tr>\n",
       "      <th>4</th>\n",
       "      <td>2867356894</td>\n",
       "      <td>author_id: 2867356894</td>\n",
       "      <td>conv_id: 730759264386617344</td>\n",
       "      <td>730759264386617344</td>\n",
       "      <td>2016-05-12T13:59:20.000Z</td>\n",
       "      <td>NaN</td>\n",
       "      <td>730759264386617344</td>\n",
       "      <td>id: 730759264386617344</td>\n",
       "      <td>0</td>\n",
       "      <td>0</td>\n",
       "      <td>...</td>\n",
       "      <td>2922</td>\n",
       "      <td>2474</td>\n",
       "      <td>122</td>\n",
       "      <td>64418</td>\n",
       "      <td>CandiSpillard</td>\n",
       "      <td>False</td>\n",
       "      <td>Negative</td>\n",
       "      <td>0</td>\n",
       "      <td>2016-05-12</td>\n",
       "      <td>2016</td>\n",
       "    </tr>\n",
       "  </tbody>\n",
       "</table>\n",
       "<p>5 rows × 28 columns</p>\n",
       "</div>"
      ],
      "text/plain": [
       "    author_id          author_id_new                  conv_id_new  \\\n",
       "0   137099503   author_id: 137099503  conv_id: 730759365142167552   \n",
       "1   367718336   author_id: 367718336  conv_id: 730759317884915712   \n",
       "2  1299769218  author_id: 1299769218  conv_id: 730759295478960129   \n",
       "3  2772884435  author_id: 2772884435  conv_id: 730759278630424577   \n",
       "4  2867356894  author_id: 2867356894  conv_id: 730759264386617344   \n",
       "\n",
       "      conversation_id                created_at  entities.mentions  \\\n",
       "0  730759365142167552  2016-05-12T13:59:44.000Z                NaN   \n",
       "1  730759317884915712  2016-05-12T13:59:32.000Z                NaN   \n",
       "2  730759295478960129  2016-05-12T13:59:27.000Z                NaN   \n",
       "3  730759278630424577  2016-05-12T13:59:23.000Z                NaN   \n",
       "4  730759264386617344  2016-05-12T13:59:20.000Z                NaN   \n",
       "\n",
       "                   id                  id_new  public_metrics.like_count  \\\n",
       "0  730759365142167552  id: 730759365142167552                          2   \n",
       "1  730759317884915712  id: 730759317884915712                          0   \n",
       "2  730759295478960129  id: 730759295478960129                          4   \n",
       "3  730759278630424577  id: 730759278630424577                          0   \n",
       "4  730759264386617344  id: 730759264386617344                          0   \n",
       "\n",
       "   public_metrics.quote_count  ...  users.public_metrics.followers_count  \\\n",
       "0                           0  ...                                   463   \n",
       "1                           0  ...                                  3623   \n",
       "2                           0  ...                                558874   \n",
       "3                           0  ...                                  1206   \n",
       "4                           0  ...                                  2922   \n",
       "\n",
       "   users.public_metrics.following_count users.public_metrics.listed_count  \\\n",
       "0                                    71                                18   \n",
       "1                                  5000                               433   \n",
       "2                                   359                              1630   \n",
       "3                                  1415                                25   \n",
       "4                                  2474                               122   \n",
       "\n",
       "  users.public_metrics.tweet_count  users.username users.verified  \\\n",
       "0                            22398       FonyBlair          False   \n",
       "1                           301390   janicemorphet          False   \n",
       "2                            81943       KayBurley           True   \n",
       "3                            31524  ernieharding59          False   \n",
       "4                            64418   CandiSpillard          False   \n",
       "\n",
       "   Predicted_sentiment text_tokens  created_at_date  Year_tweet  \n",
       "0              Neutral           0       2016-05-12        2016  \n",
       "1              Neutral           0       2016-05-12        2016  \n",
       "2              Neutral           0       2016-05-12        2016  \n",
       "3             Positive           0       2016-05-12        2016  \n",
       "4             Negative           0       2016-05-12        2016  \n",
       "\n",
       "[5 rows x 28 columns]"
      ]
     },
     "execution_count": 4,
     "metadata": {},
     "output_type": "execute_result"
    }
   ],
   "source": [
    "data_folder_name_for_sentiment = \"data_folder/tweets_4_5M/tweet_ids_with_sentiment\"\n",
    "\n",
    "print(\"Step 1: Reading all the csv files\")\n",
    "tweets_tables = []\n",
    "csv_files_evaluated = []\n",
    "for root,dirs,files in os.walk(data_folder_name_for_sentiment):\n",
    "    for file in files:\n",
    "        if file.endswith(\".csv\"): #if the file is csv\n",
    "            csv_files_evaluated.append(file)\n",
    "            file_location = os.path.join(data_folder_name_for_sentiment, file)\n",
    "            tweets_tables.append(pd.read_csv(file_location))\n",
    "\n",
    "tweets_with_sentiment_300k = pd.concat(tweets_tables)\n",
    "print(\"There are:\", tweets_with_sentiment_300k.shape[0], \"Tweets\")\n",
    "\n",
    "### preprocess\n",
    "\n",
    "## change the sentiment column name\n",
    "tweets_with_sentiment_300k = tweets_with_sentiment_300k.rename({\"sentimnt\":\"Predicted_sentiment\"}, axis = 1)\n",
    "\n",
    "tweets_with_sentiment_300k[\"text_tokens\"] = 0\n",
    "\n",
    "def take_only_10_first_char(x):\n",
    "    return(x[0:10])\n",
    "tweets_with_sentiment_300k[\"created_at_date\"] = tweets_with_sentiment_300k[\"created_at\"].apply(take_only_10_first_char)\n",
    "tweets_with_sentiment_300k[\"created_at_date\"] = pd.to_datetime(tweets_with_sentiment_300k[\"created_at_date\"])\n",
    "\n",
    "tweets_with_sentiment_300k[\"Year_tweet\"] = pd.DatetimeIndex(tweets_with_sentiment_300k['created_at']).year\n",
    "tweets_with_sentiment_300k = tweets_with_sentiment_300k.drop(labels = [\"Unnamed: 0\",\"tweet_id\"], axis = 1)\n",
    "\n",
    "tweets_with_sentiment_300k.head()"
   ]
  },
  {
   "cell_type": "code",
   "execution_count": 5,
   "id": "0ec4dfb1",
   "metadata": {
    "ExecuteTime": {
     "end_time": "2022-06-22T07:47:26.394918Z",
     "start_time": "2022-06-22T07:47:26.381683Z"
    }
   },
   "outputs": [
    {
     "name": "stdout",
     "output_type": "stream",
     "text": [
      "(979801, 28)\n",
      "(312735, 28)\n"
     ]
    }
   ],
   "source": [
    "print(tweets_table_all_with_sentimet_0.shape)\n",
    "print(tweets_with_sentiment_300k.shape)"
   ]
  },
  {
   "cell_type": "code",
   "execution_count": 6,
   "id": "293176b0",
   "metadata": {
    "ExecuteTime": {
     "end_time": "2022-06-22T07:47:31.608125Z",
     "start_time": "2022-06-22T07:47:27.160859Z"
    },
    "scrolled": true
   },
   "outputs": [
    {
     "name": "stdout",
     "output_type": "stream",
     "text": [
      "Total number of tweets with sentiment = 1292536\n",
      "Total number of tweets with sentiment not duplicate = 1285805\n"
     ]
    },
    {
     "data": {
      "text/html": [
       "<div>\n",
       "<style scoped>\n",
       "    .dataframe tbody tr th:only-of-type {\n",
       "        vertical-align: middle;\n",
       "    }\n",
       "\n",
       "    .dataframe tbody tr th {\n",
       "        vertical-align: top;\n",
       "    }\n",
       "\n",
       "    .dataframe thead th {\n",
       "        text-align: right;\n",
       "    }\n",
       "</style>\n",
       "<table border=\"1\" class=\"dataframe\">\n",
       "  <thead>\n",
       "    <tr style=\"text-align: right;\">\n",
       "      <th></th>\n",
       "      <th>author_id</th>\n",
       "      <th>author_id_new</th>\n",
       "      <th>conv_id_new</th>\n",
       "      <th>conversation_id</th>\n",
       "      <th>created_at</th>\n",
       "      <th>entities.mentions</th>\n",
       "      <th>id</th>\n",
       "      <th>id_new</th>\n",
       "      <th>public_metrics.like_count</th>\n",
       "      <th>public_metrics.quote_count</th>\n",
       "      <th>...</th>\n",
       "      <th>users.public_metrics.followers_count</th>\n",
       "      <th>users.public_metrics.following_count</th>\n",
       "      <th>users.public_metrics.listed_count</th>\n",
       "      <th>users.public_metrics.tweet_count</th>\n",
       "      <th>users.username</th>\n",
       "      <th>users.verified</th>\n",
       "      <th>text_tokens</th>\n",
       "      <th>created_at_date</th>\n",
       "      <th>Year_tweet</th>\n",
       "      <th>Predicted_sentiment</th>\n",
       "    </tr>\n",
       "  </thead>\n",
       "  <tbody>\n",
       "    <tr>\n",
       "      <th>0</th>\n",
       "      <td>76650839</td>\n",
       "      <td>author_id: 76650839</td>\n",
       "      <td>conv_id: 1079747729419657217</td>\n",
       "      <td>1079747729419657217</td>\n",
       "      <td>2018-12-31T14:34:54.000Z</td>\n",
       "      <td>[{'start': 3, 'end': 19, 'username': '10Downin...</td>\n",
       "      <td>1079747729419657217</td>\n",
       "      <td>id: 1079747729419657217</td>\n",
       "      <td>0</td>\n",
       "      <td>0</td>\n",
       "      <td>...</td>\n",
       "      <td>14060</td>\n",
       "      <td>2210</td>\n",
       "      <td>654</td>\n",
       "      <td>10740</td>\n",
       "      <td>AlunCairns</td>\n",
       "      <td>True</td>\n",
       "      <td>['downingstreet', 'countries', 'places', 'uk',...</td>\n",
       "      <td>2018-12-31</td>\n",
       "      <td>2018</td>\n",
       "      <td>Neutral</td>\n",
       "    </tr>\n",
       "    <tr>\n",
       "      <th>1</th>\n",
       "      <td>76650839</td>\n",
       "      <td>author_id: 76650839</td>\n",
       "      <td>conv_id: 1079747690110570496</td>\n",
       "      <td>1079747690110570496</td>\n",
       "      <td>2018-12-31T14:34:44.000Z</td>\n",
       "      <td>[{'start': 3, 'end': 19, 'username': 'GavinWil...</td>\n",
       "      <td>1079747690110570496</td>\n",
       "      <td>id: 1079747690110570496</td>\n",
       "      <td>0</td>\n",
       "      <td>0</td>\n",
       "      <td>...</td>\n",
       "      <td>14060</td>\n",
       "      <td>2210</td>\n",
       "      <td>654</td>\n",
       "      <td>10740</td>\n",
       "      <td>AlunCairns</td>\n",
       "      <td>True</td>\n",
       "      <td>['gavinwilliamson', 'want_thank', 'serving', '...</td>\n",
       "      <td>2018-12-31</td>\n",
       "      <td>2018</td>\n",
       "      <td>Positive</td>\n",
       "    </tr>\n",
       "    <tr>\n",
       "      <th>2</th>\n",
       "      <td>76650839</td>\n",
       "      <td>author_id: 76650839</td>\n",
       "      <td>conv_id: 1078943309744070657</td>\n",
       "      <td>1078943309744070657</td>\n",
       "      <td>2018-12-29T09:18:25.000Z</td>\n",
       "      <td>[{'start': 3, 'end': 14, 'username': 'UKGovWal...</td>\n",
       "      <td>1078943309744070657</td>\n",
       "      <td>id: 1078943309744070657</td>\n",
       "      <td>0</td>\n",
       "      <td>0</td>\n",
       "      <td>...</td>\n",
       "      <td>14060</td>\n",
       "      <td>2210</td>\n",
       "      <td>654</td>\n",
       "      <td>10740</td>\n",
       "      <td>AlunCairns</td>\n",
       "      <td>True</td>\n",
       "      <td>['ukgovwales_welsh_secretary_aluncairns', 'ext...</td>\n",
       "      <td>2018-12-29</td>\n",
       "      <td>2018</td>\n",
       "      <td>Positive</td>\n",
       "    </tr>\n",
       "    <tr>\n",
       "      <th>3</th>\n",
       "      <td>76650839</td>\n",
       "      <td>author_id: 76650839</td>\n",
       "      <td>conv_id: 1078738567193640960</td>\n",
       "      <td>1078738567193640960</td>\n",
       "      <td>2018-12-28T19:58:04.000Z</td>\n",
       "      <td>[{'start': 0, 'end': 13, 'username': 'TicketTa...</td>\n",
       "      <td>1078741894761463809</td>\n",
       "      <td>id: 1078741894761463809</td>\n",
       "      <td>1</td>\n",
       "      <td>0</td>\n",
       "      <td>...</td>\n",
       "      <td>14060</td>\n",
       "      <td>2210</td>\n",
       "      <td>654</td>\n",
       "      <td>10740</td>\n",
       "      <td>AlunCairns</td>\n",
       "      <td>True</td>\n",
       "      <td>['tickettattle', 'tfwrail', 'sure', 'thing']</td>\n",
       "      <td>2018-12-28</td>\n",
       "      <td>2018</td>\n",
       "      <td>Neutral</td>\n",
       "    </tr>\n",
       "    <tr>\n",
       "      <th>4</th>\n",
       "      <td>76650839</td>\n",
       "      <td>author_id: 76650839</td>\n",
       "      <td>conv_id: 1077967555879452672</td>\n",
       "      <td>1077967555879452672</td>\n",
       "      <td>2018-12-26T21:24:01.000Z</td>\n",
       "      <td>[{'start': 0, 'end': 13, 'username': 'WPL_Offi...</td>\n",
       "      <td>1078038748837888001</td>\n",
       "      <td>id: 1078038748837888001</td>\n",
       "      <td>3</td>\n",
       "      <td>0</td>\n",
       "      <td>...</td>\n",
       "      <td>14060</td>\n",
       "      <td>2210</td>\n",
       "      <td>654</td>\n",
       "      <td>10740</td>\n",
       "      <td>AlunCairns</td>\n",
       "      <td>True</td>\n",
       "      <td>['wpl_official', 'barrytownunited', 'the_nomad...</td>\n",
       "      <td>2018-12-26</td>\n",
       "      <td>2018</td>\n",
       "      <td>Positive</td>\n",
       "    </tr>\n",
       "  </tbody>\n",
       "</table>\n",
       "<p>5 rows × 28 columns</p>\n",
       "</div>"
      ],
      "text/plain": [
       "   author_id        author_id_new                   conv_id_new  \\\n",
       "0   76650839  author_id: 76650839  conv_id: 1079747729419657217   \n",
       "1   76650839  author_id: 76650839  conv_id: 1079747690110570496   \n",
       "2   76650839  author_id: 76650839  conv_id: 1078943309744070657   \n",
       "3   76650839  author_id: 76650839  conv_id: 1078738567193640960   \n",
       "4   76650839  author_id: 76650839  conv_id: 1077967555879452672   \n",
       "\n",
       "       conversation_id                created_at  \\\n",
       "0  1079747729419657217  2018-12-31T14:34:54.000Z   \n",
       "1  1079747690110570496  2018-12-31T14:34:44.000Z   \n",
       "2  1078943309744070657  2018-12-29T09:18:25.000Z   \n",
       "3  1078738567193640960  2018-12-28T19:58:04.000Z   \n",
       "4  1077967555879452672  2018-12-26T21:24:01.000Z   \n",
       "\n",
       "                                   entities.mentions                   id  \\\n",
       "0  [{'start': 3, 'end': 19, 'username': '10Downin...  1079747729419657217   \n",
       "1  [{'start': 3, 'end': 19, 'username': 'GavinWil...  1079747690110570496   \n",
       "2  [{'start': 3, 'end': 14, 'username': 'UKGovWal...  1078943309744070657   \n",
       "3  [{'start': 0, 'end': 13, 'username': 'TicketTa...  1078741894761463809   \n",
       "4  [{'start': 0, 'end': 13, 'username': 'WPL_Offi...  1078038748837888001   \n",
       "\n",
       "                    id_new  public_metrics.like_count  \\\n",
       "0  id: 1079747729419657217                          0   \n",
       "1  id: 1079747690110570496                          0   \n",
       "2  id: 1078943309744070657                          0   \n",
       "3  id: 1078741894761463809                          1   \n",
       "4  id: 1078038748837888001                          3   \n",
       "\n",
       "   public_metrics.quote_count  ...  users.public_metrics.followers_count  \\\n",
       "0                           0  ...                                 14060   \n",
       "1                           0  ...                                 14060   \n",
       "2                           0  ...                                 14060   \n",
       "3                           0  ...                                 14060   \n",
       "4                           0  ...                                 14060   \n",
       "\n",
       "   users.public_metrics.following_count users.public_metrics.listed_count  \\\n",
       "0                                  2210                               654   \n",
       "1                                  2210                               654   \n",
       "2                                  2210                               654   \n",
       "3                                  2210                               654   \n",
       "4                                  2210                               654   \n",
       "\n",
       "  users.public_metrics.tweet_count users.username users.verified  \\\n",
       "0                            10740     AlunCairns           True   \n",
       "1                            10740     AlunCairns           True   \n",
       "2                            10740     AlunCairns           True   \n",
       "3                            10740     AlunCairns           True   \n",
       "4                            10740     AlunCairns           True   \n",
       "\n",
       "                                         text_tokens created_at_date  \\\n",
       "0  ['downingstreet', 'countries', 'places', 'uk',...      2018-12-31   \n",
       "1  ['gavinwilliamson', 'want_thank', 'serving', '...      2018-12-31   \n",
       "2  ['ukgovwales_welsh_secretary_aluncairns', 'ext...      2018-12-29   \n",
       "3       ['tickettattle', 'tfwrail', 'sure', 'thing']      2018-12-28   \n",
       "4  ['wpl_official', 'barrytownunited', 'the_nomad...      2018-12-26   \n",
       "\n",
       "   Year_tweet  Predicted_sentiment  \n",
       "0        2018              Neutral  \n",
       "1        2018             Positive  \n",
       "2        2018             Positive  \n",
       "3        2018              Neutral  \n",
       "4        2018             Positive  \n",
       "\n",
       "[5 rows x 28 columns]"
      ]
     },
     "execution_count": 6,
     "metadata": {},
     "output_type": "execute_result"
    }
   ],
   "source": [
    "### combining the two tables into one big table\n",
    "tweets_table_all_with_sentimet = pd.concat([tweets_table_all_with_sentimet_0, tweets_with_sentiment_300k])\n",
    "print(\"Total number of tweets with sentiment =\", tweets_table_all_with_sentimet.shape[0])\n",
    "\n",
    "### remove duplicates\n",
    "tweets_table_all_with_sentimet = tweets_table_all_with_sentimet.drop_duplicates(subset=['author_id_new', 'conv_id_new', \"id_new\", \"created_at\", \"public_metrics.like_count\", \"text\"])\n",
    "print(\"Total number of tweets with sentiment not duplicate =\", tweets_table_all_with_sentimet.shape[0])\n",
    "\n",
    "tweets_table_all_with_sentimet.head()"
   ]
  },
  {
   "cell_type": "code",
   "execution_count": 158,
   "id": "964d0922",
   "metadata": {
    "ExecuteTime": {
     "end_time": "2022-06-19T09:37:20.372677Z",
     "start_time": "2022-06-19T09:37:20.346645Z"
    }
   },
   "outputs": [
    {
     "name": "stdout",
     "output_type": "stream",
     "text": [
      "Number or rows in each group: 9.8\n"
     ]
    }
   ],
   "source": [
    "# num_of_rows = tweets_table_all_with_sentimet.shape[0]\n",
    "# num_groups = 100\n",
    "# print(\"Number or rows in each group:\", round(num_of_rows/num_groups,1))\n",
    "# split_groups = np.array_split(range(num_of_rows), num_groups)"
   ]
  },
  {
   "cell_type": "markdown",
   "id": "4651de2f",
   "metadata": {
    "ExecuteTime": {
     "end_time": "2022-05-27T13:16:57.560037Z",
     "start_time": "2022-05-27T13:16:57.518064Z"
    }
   },
   "source": [
    "### Preprocess the filtered tweets\n",
    "After we read the tweets filtered table, we need to perform several cleaning / preprocessing on those filtered tweets"
   ]
  },
  {
   "cell_type": "code",
   "execution_count": 7,
   "id": "d6dc8fa6",
   "metadata": {
    "ExecuteTime": {
     "end_time": "2022-06-22T07:47:46.736843Z",
     "start_time": "2022-06-22T07:47:32.823146Z"
    }
   },
   "outputs": [
    {
     "data": {
      "application/vnd.jupyter.widget-view+json": {
       "model_id": "fb0402e3924a483fba6d4a8a184ca587",
       "version_major": 2,
       "version_minor": 0
      },
      "text/plain": [
       "  0%|          | 0/1285805 [00:00<?, ?it/s]"
      ]
     },
     "metadata": {},
     "output_type": "display_data"
    }
   ],
   "source": [
    "# def clean_text(x):\n",
    "#     from gensim.utils import simple_preprocess\n",
    "#     import contractions\n",
    "#     x = contractions.fix(x)\n",
    "#     x = ' '.join(simple_preprocess(x))\n",
    "#     return x\n",
    "\n",
    "### Pre-processing columns conv_id_new and author_id_new\n",
    "tweets_table_all_with_sentimet['conversation_id'] = tweets_table_all_with_sentimet['conv_id_new'].apply(lambda x: x.replace(\"conv_id: \", \"\"))\n",
    "tweets_table_all_with_sentimet['author_id'] = tweets_table_all_with_sentimet['author_id_new'].apply(lambda x: x.replace(\"author_id: \", \"\"))\n",
    "#tweets_table_all_with_sentimet['clean_text'] = tweets_table_all_with_sentimet['text'].apply(clean_text)\n",
    "tweets_table_all_with_sentimet = tweets_table_all_with_sentimet[tweets_table_all_with_sentimet['text'].notna()] #remove rows with nan values in the text column\n",
    "\n",
    "tweets_table_all_with_sentimet['clean_text'] = tweets_table_all_with_sentimet['text']\n",
    "\n",
    "if \"Year_tweet\" in tweets_table_all_with_sentimet.columns:\n",
    "    years_tweets = tweets_table_all_with_sentimet.Year_tweet\n",
    "else:\n",
    "    years_tweets = pd.DatetimeIndex(tweets_table_all_with_sentimet['created_at_date']).year\n",
    "    tweets_table_all_with_sentimet[\"Year_tweet\"] = years_tweets\n",
    "### detecting the language of the text + preprocess it\n",
    "language_classifications = []\n",
    "tokens_roy = []\n",
    "years_tweets = []\n",
    "for row in tqdm_notebook(tweets_table_all_with_sentimet.clean_text): #tqdm_notebook - to pring progress bar\n",
    "    #language_classification, score = langid.classify(row)\n",
    "    #language_classifications.append(language_classification)\n",
    "\n",
    "    data_clean = row.lower().replace(\"#\", \"\").replace(\"@\", \"\").replace(\"?\", \"\").replace(\"\\\"\", \"\").replace(\"\\'\", \"\").replace(\":\", \"\")\n",
    "    data_clean = data_clean.split()\n",
    "    data_clean = [token for token in data_clean if token not in StopWords]\n",
    "    data_clean = [token for token in data_clean if len(token) >=2]\n",
    "    tokens_roy.append(data_clean) #\n",
    "\n",
    "texts = tweets_table_all_with_sentimet.text\n",
    "text_tokens = tweets_table_all_with_sentimet.text_tokens"
   ]
  },
  {
   "cell_type": "code",
   "execution_count": 7,
   "id": "ef432bf1",
   "metadata": {
    "ExecuteTime": {
     "end_time": "2022-06-17T07:14:45.115115Z",
     "start_time": "2022-06-17T07:14:45.111113Z"
    }
   },
   "outputs": [],
   "source": [
    "# if \"language\" in filtered_table.columns:\n",
    "#     language_classifications.append(language_classification)"
   ]
  },
  {
   "cell_type": "code",
   "execution_count": 8,
   "id": "d6a12936",
   "metadata": {
    "ExecuteTime": {
     "end_time": "2022-06-22T07:47:50.823327Z",
     "start_time": "2022-06-22T07:47:50.811013Z"
    }
   },
   "outputs": [
    {
     "name": "stdout",
     "output_type": "stream",
     "text": [
      "0\n",
      "1285805\n"
     ]
    }
   ],
   "source": [
    "print(len(language_classifications))\n",
    "print(len(tokens_roy))"
   ]
  },
  {
   "cell_type": "markdown",
   "id": "7538c4ec",
   "metadata": {},
   "source": [
    "### splitting the tweets to the relevant years"
   ]
  },
  {
   "cell_type": "code",
   "execution_count": 9,
   "id": "fa82ef3d",
   "metadata": {
    "ExecuteTime": {
     "end_time": "2022-06-22T07:47:54.762073Z",
     "start_time": "2022-06-22T07:47:54.747486Z"
    }
   },
   "outputs": [],
   "source": [
    "#years_tweets = pd.DatetimeIndex(tweets_table_all_with_sentimet['created_at_date']).year\n",
    "years_tweets = tweets_table_all_with_sentimet['Year_tweet']"
   ]
  },
  {
   "cell_type": "code",
   "execution_count": 10,
   "id": "4fd7a2c5",
   "metadata": {
    "ExecuteTime": {
     "end_time": "2022-06-22T07:47:58.612648Z",
     "start_time": "2022-06-22T07:47:58.568391Z"
    }
   },
   "outputs": [],
   "source": [
    "years_tweets_2014 = [years_tweets==2014]\n",
    "years_tweets_2014 = np.asarray(years_tweets_2014).reshape(-1,1)\n",
    "\n",
    "years_tweets_2015 = [years_tweets==2015]\n",
    "years_tweets_2015 = np.asarray(years_tweets_2015).reshape(-1,1)\n",
    "\n",
    "years_tweets_2016 = [years_tweets==2016]\n",
    "years_tweets_2016 = np.asarray(years_tweets_2016).reshape(-1,1)\n",
    "\n",
    "years_tweets_2017 = [years_tweets==2017]\n",
    "years_tweets_2017 = np.asarray(years_tweets_2017).reshape(-1,1)\n",
    "\n",
    "years_tweets_2018 = [years_tweets==2018]\n",
    "years_tweets_2018 = np.asarray(years_tweets_2018).reshape(-1,1)\n",
    "\n",
    "years_tweets_2019 = [years_tweets==2019]\n",
    "years_tweets_2019 = np.asarray(years_tweets_2019).reshape(-1,1)\n",
    "\n",
    "years_tweets_2020 = [years_tweets==2020]\n",
    "years_tweets_2020 = np.asarray(years_tweets_2020).reshape(-1,1)\n",
    "\n",
    "years_tweets_2021 = [years_tweets==2021]\n",
    "years_tweets_2021 = np.asarray(years_tweets_2021).reshape(-1,1)"
   ]
  },
  {
   "cell_type": "code",
   "execution_count": 11,
   "id": "a1796052",
   "metadata": {
    "ExecuteTime": {
     "end_time": "2022-06-22T07:48:07.985730Z",
     "start_time": "2022-06-22T07:48:02.825268Z"
    }
   },
   "outputs": [],
   "source": [
    "tokens_df = pd.DataFrame(tokens_roy)#[years_tweets_2018]\n",
    "tokens_df_2014 = tokens_df[years_tweets_2014]\n",
    "tokens_df_2015 = tokens_df[years_tweets_2015]\n",
    "tokens_df_2016 = tokens_df[years_tweets_2016]\n",
    "tokens_df_2017 = tokens_df[years_tweets_2017]\n",
    "tokens_df_2018 = tokens_df[years_tweets_2018]\n",
    "tokens_df_2019 = tokens_df[years_tweets_2019]\n",
    "tokens_df_2020 = tokens_df[years_tweets_2020]\n",
    "tokens_df_2021 = tokens_df[years_tweets_2021]\n",
    "\n",
    "tokens_df_all = tokens_df"
   ]
  },
  {
   "cell_type": "code",
   "execution_count": 12,
   "id": "50d4253a",
   "metadata": {
    "ExecuteTime": {
     "end_time": "2022-06-22T07:48:14.588336Z",
     "start_time": "2022-06-22T07:48:14.576044Z"
    }
   },
   "outputs": [
    {
     "name": "stdout",
     "output_type": "stream",
     "text": [
      "2014: (67752, 57)\n",
      "2015: (144122, 57)\n",
      "2016: (465833, 57)\n",
      "2017: (158570, 57)\n",
      "2018: (149650, 57)\n",
      "2019: (145367, 57)\n",
      "2020: (79496, 57)\n",
      "2021: (79496, 57)\n",
      "All: (1285805, 57)\n"
     ]
    }
   ],
   "source": [
    "print(\"2014:\", tokens_df_2014.shape)\n",
    "print(\"2015:\", tokens_df_2015.shape)\n",
    "print(\"2016:\", tokens_df_2016.shape)\n",
    "print(\"2017:\", tokens_df_2017.shape)\n",
    "print(\"2018:\", tokens_df_2018.shape)\n",
    "print(\"2019:\", tokens_df_2019.shape)\n",
    "print(\"2020:\", tokens_df_2020.shape)\n",
    "print(\"2021:\", tokens_df_2020.shape)\n",
    "print(\"All:\", tokens_df_all.shape)"
   ]
  },
  {
   "cell_type": "code",
   "execution_count": 13,
   "id": "ce5ff744",
   "metadata": {
    "ExecuteTime": {
     "end_time": "2022-06-22T07:48:22.220338Z",
     "start_time": "2022-06-22T07:48:22.209672Z"
    }
   },
   "outputs": [],
   "source": [
    "### this function takes the data frame and takes all the None values out + transform it to list of list (each row becomes a list)\n",
    "def tokens_df_new(tokens_df):\n",
    "    tokens_df_new = []\n",
    "    for list_i in tokens_df.values.tolist():\n",
    "        list_i_new = []\n",
    "        for i in list_i:\n",
    "            if i != None:\n",
    "                list_i_new.append(i)\n",
    "\n",
    "        tokens_df_new.append(list_i_new)\n",
    "    return(tokens_df_new)"
   ]
  },
  {
   "cell_type": "code",
   "execution_count": 14,
   "id": "2a672052",
   "metadata": {
    "ExecuteTime": {
     "end_time": "2022-06-22T07:48:51.923402Z",
     "start_time": "2022-06-22T07:48:30.513511Z"
    }
   },
   "outputs": [],
   "source": [
    "tokens_df_new_2014 = tokens_df_new(tokens_df_2014)\n",
    "tokens_df_new_2015 = tokens_df_new(tokens_df_2015)\n",
    "tokens_df_new_2016 = tokens_df_new(tokens_df_2016)\n",
    "tokens_df_new_2017 = tokens_df_new(tokens_df_2017)\n",
    "tokens_df_new_2018 = tokens_df_new(tokens_df_2018)\n",
    "tokens_df_new_2019 = tokens_df_new(tokens_df_2019)\n",
    "tokens_df_new_2020 = tokens_df_new(tokens_df_2020)\n",
    "tokens_df_new_2021 = tokens_df_new(tokens_df_2021)\n",
    "tokens_df_all = tokens_df_new(tokens_df_all)"
   ]
  },
  {
   "cell_type": "code",
   "execution_count": 15,
   "id": "c477c342",
   "metadata": {
    "ExecuteTime": {
     "end_time": "2022-06-22T07:49:03.459969Z",
     "start_time": "2022-06-22T07:49:03.440830Z"
    }
   },
   "outputs": [
    {
     "data": {
      "text/plain": [
       "67752"
      ]
     },
     "execution_count": 15,
     "metadata": {},
     "output_type": "execute_result"
    }
   ],
   "source": [
    "len(tokens_df_new_2014)"
   ]
  },
  {
   "cell_type": "markdown",
   "id": "00057aa9",
   "metadata": {},
   "source": [
    "### Train Word2Vec model for each year"
   ]
  },
  {
   "cell_type": "code",
   "execution_count": 16,
   "id": "3424dd33",
   "metadata": {
    "ExecuteTime": {
     "end_time": "2022-06-22T07:49:15.754147Z",
     "start_time": "2022-06-22T07:49:15.740327Z"
    }
   },
   "outputs": [],
   "source": [
    "vector_size = 300\n",
    "window = 7\n",
    "min_count = 2                           \n",
    "epochs = 5"
   ]
  },
  {
   "cell_type": "markdown",
   "id": "07cfaf63",
   "metadata": {},
   "source": [
    "### 2014"
   ]
  },
  {
   "cell_type": "code",
   "execution_count": 17,
   "id": "354e35fb",
   "metadata": {
    "ExecuteTime": {
     "end_time": "2022-06-22T07:49:32.256825Z",
     "start_time": "2022-06-22T07:49:26.868913Z"
    }
   },
   "outputs": [],
   "source": [
    "### Build vocabulary + train\n",
    "model_file_name = os.path.join(data_folder, \"word2vec_2014_tweets_v3\")\n",
    "if not os.path.isfile(model_file_name):\n",
    "    model = gensim.models.Word2Vec(sentences =tokens_df_new_2014, #Train a word2vec model with the birams + the regular words\n",
    "                                  vector_size = vector_size,\n",
    "                                  window = window, \n",
    "                                  min_count = min_count,                              \n",
    "                                  epochs = epochs,\n",
    "                                  sg = 0, #0: CBOW, 1:skip-gram\n",
    "                                  workers = os.cpu_count())\n",
    "    model.save(model_file_name)\n",
    "else:\n",
    "    model = gensim.models.Word2Vec.load(model_file_name)\n",
    "\n",
    "model_2014 = model"
   ]
  },
  {
   "cell_type": "markdown",
   "id": "a099117c",
   "metadata": {},
   "source": [
    "### 2015"
   ]
  },
  {
   "cell_type": "code",
   "execution_count": null,
   "id": "0d26ba77",
   "metadata": {
    "ExecuteTime": {
     "start_time": "2022-06-22T07:47:25.912Z"
    }
   },
   "outputs": [],
   "source": [
    "### Build vocabulary + train\n",
    "model_file_name = os.path.join(data_folder, \"word2vec_2015_tweets_v2\")\n",
    "if not os.path.isfile(model_file_name):\n",
    "    model = gensim.models.Word2Vec(sentences = tokens_df_new_2015, #Train a word2vec model with the birams + the regular words\n",
    "                                  vector_size = vector_size,\n",
    "                                  window = window, \n",
    "                                  min_count = min_count,                              \n",
    "                                  epochs = epochs,\n",
    "                                  sg = 0, #0: CBOW, 1:skip-gram\n",
    "                                  workers = os.cpu_count())\n",
    "    model.save(model_file_name)\n",
    "else:\n",
    "    model = gensim.models.Word2Vec.load(model_file_name)\n",
    "\n",
    "model_2015 = model"
   ]
  },
  {
   "cell_type": "markdown",
   "id": "59f4741d",
   "metadata": {},
   "source": [
    "### 2016"
   ]
  },
  {
   "cell_type": "code",
   "execution_count": null,
   "id": "65c91624",
   "metadata": {
    "ExecuteTime": {
     "start_time": "2022-06-22T07:47:26.831Z"
    }
   },
   "outputs": [],
   "source": [
    "### Build vocabulary + train\n",
    "model_file_name = os.path.join(data_folder, \"word2vec_2016_tweets_v2\")\n",
    "if not os.path.isfile(model_file_name):\n",
    "    model = gensim.models.Word2Vec(sentences = tokens_df_new_2016, #Train a word2vec model with the birams + the regular words\n",
    "                                  vector_size = vector_size,\n",
    "                                  window = window, \n",
    "                                  min_count = min_count,                              \n",
    "                                  epochs = epochs,\n",
    "                                  sg = 0, #0: CBOW, 1:skip-gram\n",
    "                                  workers = os.cpu_count())\n",
    "    model.save(model_file_name)\n",
    "else:\n",
    "    model = gensim.models.Word2Vec.load(model_file_name)\n",
    "\n",
    "model_2016 = model"
   ]
  },
  {
   "cell_type": "markdown",
   "id": "d77a89f6",
   "metadata": {},
   "source": [
    "### 2017"
   ]
  },
  {
   "cell_type": "code",
   "execution_count": null,
   "id": "020fdd12",
   "metadata": {
    "ExecuteTime": {
     "start_time": "2022-06-22T07:47:28.680Z"
    }
   },
   "outputs": [],
   "source": [
    "### Build vocabulary + train\n",
    "model_file_name = os.path.join(data_folder, \"word2vec_2017_tweets_v2\")\n",
    "if not os.path.isfile(model_file_name):\n",
    "    model = gensim.models.Word2Vec(sentences = tokens_df_new_2017, #Train a word2vec model with the birams + the regular words\n",
    "                                  vector_size = vector_size,\n",
    "                                  window = window, \n",
    "                                  min_count = min_count,                              \n",
    "                                  epochs = epochs,\n",
    "                                  sg = 0, #0: CBOW, 1:skip-gram\n",
    "                                  workers = os.cpu_count())\n",
    "    model.save(model_file_name)\n",
    "else:\n",
    "    model = gensim.models.Word2Vec.load(model_file_name)\n",
    "\n",
    "model_2017 = model"
   ]
  },
  {
   "cell_type": "markdown",
   "id": "25aa4cf7",
   "metadata": {},
   "source": [
    "### 2018"
   ]
  },
  {
   "cell_type": "code",
   "execution_count": null,
   "id": "79fb68b7",
   "metadata": {
    "ExecuteTime": {
     "start_time": "2022-06-22T07:47:29.725Z"
    }
   },
   "outputs": [],
   "source": [
    "### Build vocabulary + train\n",
    "model_file_name = os.path.join(data_folder, \"word2vec_2018_tweets_v2\")\n",
    "if not os.path.isfile(model_file_name):\n",
    "    model = gensim.models.Word2Vec(sentences = tokens_df_new_2018, #Train a word2vec model with the birams + the regular words\n",
    "                                  vector_size = vector_size,\n",
    "                                  window = window, \n",
    "                                  min_count = min_count,                              \n",
    "                                  epochs = epochs,\n",
    "                                  sg = 0, #0: CBOW, 1:skip-gram\n",
    "                                  workers = os.cpu_count())\n",
    "    model.save(model_file_name)\n",
    "else:\n",
    "    model = gensim.models.Word2Vec.load(model_file_name)\n",
    "\n",
    "model_2018 = model"
   ]
  },
  {
   "cell_type": "markdown",
   "id": "e96270e7",
   "metadata": {},
   "source": [
    "### 2019"
   ]
  },
  {
   "cell_type": "code",
   "execution_count": null,
   "id": "75b0ff06",
   "metadata": {
    "ExecuteTime": {
     "start_time": "2022-06-22T07:47:30.347Z"
    }
   },
   "outputs": [],
   "source": [
    "### Build vocabulary + train\n",
    "model_file_name = os.path.join(data_folder, \"word2vec_2019_tweets_v2\")\n",
    "if not os.path.isfile(model_file_name):\n",
    "    model = gensim.models.Word2Vec(sentences = tokens_df_new_2019, #Train a word2vec model with the birams + the regular words\n",
    "                                  vector_size = vector_size,\n",
    "                                  window = window, \n",
    "                                  min_count = min_count,                              \n",
    "                                  epochs = epochs,\n",
    "                                  sg = 0, #0: CBOW, 1:skip-gram\n",
    "                                  workers = os.cpu_count())\n",
    "    model.save(model_file_name)\n",
    "else:\n",
    "    model = gensim.models.Word2Vec.load(model_file_name)\n",
    "\n",
    "model_2019 = model"
   ]
  },
  {
   "cell_type": "markdown",
   "id": "cc70db4e",
   "metadata": {},
   "source": [
    "### 2020"
   ]
  },
  {
   "cell_type": "code",
   "execution_count": null,
   "id": "d816eb18",
   "metadata": {
    "ExecuteTime": {
     "start_time": "2022-06-22T07:47:31.239Z"
    }
   },
   "outputs": [],
   "source": [
    "### Build vocabulary + train\n",
    "model_file_name = os.path.join(data_folder, \"word2vec_2020_tweets_v2\")\n",
    "if not os.path.isfile(model_file_name):\n",
    "    model = gensim.models.Word2Vec(sentences = tokens_df_new_2020, #Train a word2vec model with the birams + the regular words\n",
    "                                  vector_size = vector_size,\n",
    "                                  window = window, \n",
    "                                  min_count = min_count,                              \n",
    "                                  epochs = epochs,\n",
    "                                  sg = 0, #0: CBOW, 1:skip-gram\n",
    "                                  workers = os.cpu_count())\n",
    "    model.save(model_file_name)\n",
    "else:\n",
    "    model = gensim.models.Word2Vec.load(model_file_name)\n",
    "\n",
    "model_2020 = model"
   ]
  },
  {
   "cell_type": "markdown",
   "id": "384e2ebc",
   "metadata": {},
   "source": [
    "### 2021"
   ]
  },
  {
   "cell_type": "code",
   "execution_count": null,
   "id": "fd2dafd6",
   "metadata": {
    "ExecuteTime": {
     "start_time": "2022-06-22T07:47:32.314Z"
    }
   },
   "outputs": [],
   "source": [
    "### Build vocabulary + train\n",
    "model_file_name = os.path.join(data_folder, \"word2vec_2021_tweets_v3\")\n",
    "if not os.path.isfile(model_file_name):\n",
    "    model = gensim.models.Word2Vec(sentences = tokens_df_new_2021, #Train a word2vec model with the birams + the regular words\n",
    "                                  vector_size = vector_size,\n",
    "                                  window = window, \n",
    "                                  min_count = min_count,                              \n",
    "                                  epochs = epochs,\n",
    "                                  sg = 0, #0: CBOW, 1:skip-gram\n",
    "                                  workers = os.cpu_count())\n",
    "    model.save(model_file_name)\n",
    "else:\n",
    "    model = gensim.models.Word2Vec.load(model_file_name)\n",
    "\n",
    "model_2021 = model"
   ]
  },
  {
   "cell_type": "markdown",
   "id": "221cb076",
   "metadata": {},
   "source": [
    "### All years (2014 - 2021)"
   ]
  },
  {
   "cell_type": "code",
   "execution_count": null,
   "id": "6c01189f",
   "metadata": {
    "ExecuteTime": {
     "start_time": "2022-06-22T07:47:33.220Z"
    }
   },
   "outputs": [],
   "source": [
    "### Build vocabulary + train\n",
    "model_file_name = os.path.join(data_folder, \"word2vec_all_years_tweets_v2\")\n",
    "if not os.path.isfile(model_file_name):\n",
    "    model = gensim.models.Word2Vec(sentences = tokens_df_all, #Train a word2vec model with the birams + the regular words\n",
    "                                  vector_size = vector_size,\n",
    "                                  window = window, \n",
    "                                  min_count = min_count,                              \n",
    "                                  epochs = epochs,\n",
    "                                  sg = 0, #0: CBOW, 1:skip-gram\n",
    "                                  workers = os.cpu_count())\n",
    "    model.save(model_file_name)\n",
    "else:\n",
    "    model = gensim.models.Word2Vec.load(model_file_name)\n",
    "\n",
    "model_all_years = model"
   ]
  },
  {
   "cell_type": "markdown",
   "id": "db43ddaf",
   "metadata": {},
   "source": [
    "### Function visualize_word2vec_K_most_similar_to_ref_word\n",
    "\n",
    "The following function gets as input:\n",
    "1. **model** = word2vec model\n",
    "2. **referenced_word** - the word to find its k nearest neighbors (By default = brexit\n",
    "3. **number_of_similar_words** - By default find the nearset **30** words.\n",
    "4. **top_k_to_show** - The number of most similar words to display in the output (visualy only)\n",
    "\n",
    "#### visualization arguments:\n",
    "The following arguments control the plot\n",
    "5. **random_state_for_Tsne** - by default = 1998\n",
    "6. **remove_legend** - do you wish to remove the legend from the plot?, by default = False\n",
    "7. **year** - the year to display in the title (by default = None, meaning to not show a year in the title)\n",
    "\n",
    "Colors:\n",
    "\n",
    "8. **referenced_word_color** - The color of the referenced word, by defualt = blue\n",
    "9. **top_5_words_color** - the color of the 5 closest points to the referenced word, by default = green\n",
    "10. **others_color** - the color of the least k-5 points, by default = black"
   ]
  },
  {
   "cell_type": "code",
   "execution_count": 17,
   "id": "13259e9a",
   "metadata": {
    "ExecuteTime": {
     "end_time": "2022-06-22T05:19:46.161810Z",
     "start_time": "2022-06-22T05:19:46.144646Z"
    }
   },
   "outputs": [],
   "source": [
    "def visualize_word2vec_K_most_similar_to_ref_word(model, referenced_word = \"brexit\", number_of_similar_words = 30,\n",
    "                                                 top_k_to_show = 6, random_state_for_Tsne = 1998, remove_legend = False,\n",
    "                                                 year = None, referenced_word_color = \"blue\", top_5_words_color = \"green\",\n",
    "                                                  others_color = \"black\"):\n",
    "    ### using word2Vec model of a certain year\n",
    "\n",
    "    simmilar_words = []\n",
    "    similar_brexit_representation = []\n",
    "    distance_from_referenced_word = []\n",
    "    simmilar_words.append(referenced_word)\n",
    "    similar_brexit_representation.append(model.wv[referenced_word])\n",
    "    distance_from_referenced_word.append(1)\n",
    "\n",
    "    #for j in model.wv.most_similar(positive=[referenced_word], negative=[], topn=number_of_similar_words):\n",
    "    for j in model.wv.most_similar(referenced_word, topn=number_of_similar_words):\n",
    "        simmilar_words.append(j[0])\n",
    "        distance_from_referenced_word.append(j[1])\n",
    "        word_representation = model.wv[j[0]]\n",
    "        similar_brexit_representation.append(word_representation)\n",
    "\n",
    "    similar_brexit_representation = np.asarray(similar_brexit_representation)\n",
    "    simmilar_words = np.asarray(simmilar_words)\n",
    "    distance_from_referenced_word = np.asarray(distance_from_referenced_word)\n",
    "\n",
    "    ### performing TSNE on the most k simiilar words to the referenced word\n",
    "    from sklearn.manifold import TSNE\n",
    "    tsne = TSNE(n_components=2, verbose=0, perplexity=40, n_iter=300, random_state= random_state_for_Tsne)\n",
    "    tsne_results = tsne.fit_transform(similar_brexit_representation)\n",
    "\n",
    "    ### creating the TSNE dataframe\n",
    "    df_tsne_results = pd.DataFrame(tsne_results)\n",
    "    df_tsne_results = df_tsne_results.rename({0 : \"x\", 1:\"y\"}, axis = 1)\n",
    "    df_tsne_results[\"word\"] = simmilar_words\n",
    "    df_tsne_results[\"distance_from_referenced_word\"] = distance_from_referenced_word\n",
    "\n",
    "    group = [referenced_word]\n",
    "    for i in range(df_tsne_results.shape[0]-1):\n",
    "        if i <=4: ### for the top 5 words give the group \"top 5\"\n",
    "            group.append(\"Top 5\")\n",
    "        else:\n",
    "            group.append(\"0\")\n",
    "\n",
    "    df_tsne_results[\"group\"] = group\n",
    "\n",
    "    display(df_tsne_results.head(top_k_to_show))\n",
    "\n",
    "    ### Visualization using TSNE and seaborn package\n",
    "    fig, ax = plt.subplots(figsize=(10,10))\n",
    "    \n",
    "    markers = {referenced_word: \"*\",\n",
    "              \"Top 5\" : \"X\",\n",
    "              \"0\": \"X\"}\n",
    "    \n",
    "    #palette ={referenced_word: \"C0\", \"Top 5\": \"C1\", \"0\": \"C2\"}\n",
    "\n",
    "    palette ={referenced_word: referenced_word_color,\n",
    "              \"Top 5\": top_5_words_color,\n",
    "              \"0\": others_color}\n",
    "\n",
    "    if year is None:\n",
    "        title_tsne = \"TSNE visualization of word:\" + str(referenced_word) + \" with the \" + str(number_of_similar_words) + \" most similar words according to W2V\"\n",
    "    else:\n",
    "        title_tsne = str(year) + \" - TSNE visualization of word:\" + str(referenced_word) + \" with the \" + str(number_of_similar_words) + \" most similar words according to W2V\"\n",
    "    plot1 = sns.scatterplot(data=df_tsne_results, x=\"x\", y=\"y\", hue = \"group\", size=\"distance_from_referenced_word\",\n",
    "                   sizes=(50, 1100), markers = markers, ax = ax, palette = palette).set_title(title_tsne, fontsize=15)\n",
    "    if remove_legend:\n",
    "        #plot1._legend.remove()\n",
    "        plt.legend([],[], frameon=False)\n",
    "\n",
    "    for i, word in enumerate (df_tsne_results[\"word\"]):\n",
    "        plt.text(df_tsne_results.x[i]+2.8, df_tsne_results.y[i]+2.8, word, size = 14)\n",
    "        \n",
    "    return (df_tsne_results, plot1)"
   ]
  },
  {
   "cell_type": "code",
   "execution_count": null,
   "id": "9aaaae7e",
   "metadata": {
    "ExecuteTime": {
     "end_time": "2022-06-22T05:18:18.852213Z",
     "start_time": "2022-06-22T05:18:18.852213Z"
    }
   },
   "outputs": [],
   "source": [
    "import warnings\n",
    "warnings.filterwarnings('ignore')"
   ]
  },
  {
   "cell_type": "code",
   "execution_count": 35,
   "id": "17a6ec60",
   "metadata": {
    "ExecuteTime": {
     "end_time": "2022-06-22T05:07:39.113147Z",
     "start_time": "2022-06-22T05:07:38.733632Z"
    }
   },
   "outputs": [
    {
     "data": {
      "text/html": [
       "<div>\n",
       "<style scoped>\n",
       "    .dataframe tbody tr th:only-of-type {\n",
       "        vertical-align: middle;\n",
       "    }\n",
       "\n",
       "    .dataframe tbody tr th {\n",
       "        vertical-align: top;\n",
       "    }\n",
       "\n",
       "    .dataframe thead th {\n",
       "        text-align: right;\n",
       "    }\n",
       "</style>\n",
       "<table border=\"1\" class=\"dataframe\">\n",
       "  <thead>\n",
       "    <tr style=\"text-align: right;\">\n",
       "      <th></th>\n",
       "      <th>x</th>\n",
       "      <th>y</th>\n",
       "      <th>word</th>\n",
       "      <th>distance_from_referenced_word</th>\n",
       "      <th>group</th>\n",
       "    </tr>\n",
       "  </thead>\n",
       "  <tbody>\n",
       "    <tr>\n",
       "      <th>0</th>\n",
       "      <td>-26.041590</td>\n",
       "      <td>14.164261</td>\n",
       "      <td>brexit</td>\n",
       "      <td>1.000000</td>\n",
       "      <td>brexit</td>\n",
       "    </tr>\n",
       "    <tr>\n",
       "      <th>1</th>\n",
       "      <td>-133.694275</td>\n",
       "      <td>8.920392</td>\n",
       "      <td>exit</td>\n",
       "      <td>0.866432</td>\n",
       "      <td>Top 5</td>\n",
       "    </tr>\n",
       "    <tr>\n",
       "      <th>2</th>\n",
       "      <td>-35.561195</td>\n",
       "      <td>-14.141035</td>\n",
       "      <td>blames</td>\n",
       "      <td>0.847830</td>\n",
       "      <td>Top 5</td>\n",
       "    </tr>\n",
       "    <tr>\n",
       "      <th>3</th>\n",
       "      <td>53.106621</td>\n",
       "      <td>60.828293</td>\n",
       "      <td>scaring</td>\n",
       "      <td>0.846941</td>\n",
       "      <td>Top 5</td>\n",
       "    </tr>\n",
       "    <tr>\n",
       "      <th>4</th>\n",
       "      <td>24.417057</td>\n",
       "      <td>-11.738787</td>\n",
       "      <td>chasing</td>\n",
       "      <td>0.845700</td>\n",
       "      <td>Top 5</td>\n",
       "    </tr>\n",
       "    <tr>\n",
       "      <th>5</th>\n",
       "      <td>75.963646</td>\n",
       "      <td>32.615593</td>\n",
       "      <td>implementing</td>\n",
       "      <td>0.842133</td>\n",
       "      <td>Top 5</td>\n",
       "    </tr>\n",
       "  </tbody>\n",
       "</table>\n",
       "</div>"
      ],
      "text/plain": [
       "            x          y          word  distance_from_referenced_word   group\n",
       "0  -26.041590  14.164261        brexit                       1.000000  brexit\n",
       "1 -133.694275   8.920392          exit                       0.866432   Top 5\n",
       "2  -35.561195 -14.141035        blames                       0.847830   Top 5\n",
       "3   53.106621  60.828293       scaring                       0.846941   Top 5\n",
       "4   24.417057 -11.738787       chasing                       0.845700   Top 5\n",
       "5   75.963646  32.615593  implementing                       0.842133   Top 5"
      ]
     },
     "metadata": {},
     "output_type": "display_data"
    },
    {
     "data": {
      "image/png": "[encoded data removed]",
      "text/plain": [
       "<Figure size 720x720 with 1 Axes>"
      ]
     },
     "metadata": {
      "needs_background": "light"
     },
     "output_type": "display_data"
    }
   ],
   "source": [
    "df_tsne_results_2014, plot_2014 = visualize_word2vec_K_most_similar_to_ref_word(model = model_2014,\n",
    "                                                                                referenced_word = \"brexit\",\n",
    "                                                                                number_of_similar_words = 30,\n",
    "                                                                               top_k_to_show = 6,\n",
    "                                                                                random_state_for_Tsne = 555,\n",
    "                                                                               remove_legend = True,\n",
    "                                                                               year = \"2014\")"
   ]
  },
  {
   "cell_type": "code",
   "execution_count": 36,
   "id": "b46c430c",
   "metadata": {
    "ExecuteTime": {
     "end_time": "2022-06-22T05:07:54.609399Z",
     "start_time": "2022-06-22T05:07:54.110716Z"
    }
   },
   "outputs": [
    {
     "data": {
      "text/html": [
       "<div>\n",
       "<style scoped>\n",
       "    .dataframe tbody tr th:only-of-type {\n",
       "        vertical-align: middle;\n",
       "    }\n",
       "\n",
       "    .dataframe tbody tr th {\n",
       "        vertical-align: top;\n",
       "    }\n",
       "\n",
       "    .dataframe thead th {\n",
       "        text-align: right;\n",
       "    }\n",
       "</style>\n",
       "<table border=\"1\" class=\"dataframe\">\n",
       "  <thead>\n",
       "    <tr style=\"text-align: right;\">\n",
       "      <th></th>\n",
       "      <th>x</th>\n",
       "      <th>y</th>\n",
       "      <th>word</th>\n",
       "      <th>distance_from_referenced_word</th>\n",
       "      <th>group</th>\n",
       "    </tr>\n",
       "  </thead>\n",
       "  <tbody>\n",
       "    <tr>\n",
       "      <th>0</th>\n",
       "      <td>-26.041590</td>\n",
       "      <td>14.164261</td>\n",
       "      <td>brexit</td>\n",
       "      <td>1.000000</td>\n",
       "      <td>brexit</td>\n",
       "    </tr>\n",
       "    <tr>\n",
       "      <th>1</th>\n",
       "      <td>-133.694275</td>\n",
       "      <td>8.920392</td>\n",
       "      <td>membership</td>\n",
       "      <td>0.720677</td>\n",
       "      <td>Top 5</td>\n",
       "    </tr>\n",
       "    <tr>\n",
       "      <th>2</th>\n",
       "      <td>-35.561195</td>\n",
       "      <td>-14.141035</td>\n",
       "      <td>exit</td>\n",
       "      <td>0.715419</td>\n",
       "      <td>Top 5</td>\n",
       "    </tr>\n",
       "    <tr>\n",
       "      <th>3</th>\n",
       "      <td>53.106621</td>\n",
       "      <td>60.828293</td>\n",
       "      <td>failure</td>\n",
       "      <td>0.710766</td>\n",
       "      <td>Top 5</td>\n",
       "    </tr>\n",
       "    <tr>\n",
       "      <th>4</th>\n",
       "      <td>24.417057</td>\n",
       "      <td>-11.738787</td>\n",
       "      <td>strengthen</td>\n",
       "      <td>0.710628</td>\n",
       "      <td>Top 5</td>\n",
       "    </tr>\n",
       "    <tr>\n",
       "      <th>5</th>\n",
       "      <td>75.963646</td>\n",
       "      <td>32.615593</td>\n",
       "      <td>makes</td>\n",
       "      <td>0.701815</td>\n",
       "      <td>Top 5</td>\n",
       "    </tr>\n",
       "  </tbody>\n",
       "</table>\n",
       "</div>"
      ],
      "text/plain": [
       "            x          y        word  distance_from_referenced_word   group\n",
       "0  -26.041590  14.164261      brexit                       1.000000  brexit\n",
       "1 -133.694275   8.920392  membership                       0.720677   Top 5\n",
       "2  -35.561195 -14.141035        exit                       0.715419   Top 5\n",
       "3   53.106621  60.828293     failure                       0.710766   Top 5\n",
       "4   24.417057 -11.738787  strengthen                       0.710628   Top 5\n",
       "5   75.963646  32.615593       makes                       0.701815   Top 5"
      ]
     },
     "metadata": {},
     "output_type": "display_data"
    },
    {
     "data": {
      "image/png": "[encoded data removed]",
      "text/plain": [
       "<Figure size 720x720 with 1 Axes>"
      ]
     },
     "metadata": {
      "needs_background": "light"
     },
     "output_type": "display_data"
    }
   ],
   "source": [
    "\n",
    "df_tsne_results_2015, plot_2015 = visualize_word2vec_K_most_similar_to_ref_word(model = model_2015,\n",
    "                                                                                referenced_word = \"brexit\",\n",
    "                                                                                number_of_similar_words = 30,\n",
    "                                                                               top_k_to_show = 6,\n",
    "                                                                                random_state_for_Tsne = 555,\n",
    "                                                                               remove_legend = True,\n",
    "                                                                               year = \"2015\")\n"
   ]
  },
  {
   "cell_type": "code",
   "execution_count": 39,
   "id": "cf5cebf2",
   "metadata": {
    "ExecuteTime": {
     "end_time": "2022-06-22T05:13:02.082288Z",
     "start_time": "2022-06-22T05:13:01.683664Z"
    }
   },
   "outputs": [
    {
     "data": {
      "text/html": [
       "<div>\n",
       "<style scoped>\n",
       "    .dataframe tbody tr th:only-of-type {\n",
       "        vertical-align: middle;\n",
       "    }\n",
       "\n",
       "    .dataframe tbody tr th {\n",
       "        vertical-align: top;\n",
       "    }\n",
       "\n",
       "    .dataframe thead th {\n",
       "        text-align: right;\n",
       "    }\n",
       "</style>\n",
       "<table border=\"1\" class=\"dataframe\">\n",
       "  <thead>\n",
       "    <tr style=\"text-align: right;\">\n",
       "      <th></th>\n",
       "      <th>x</th>\n",
       "      <th>y</th>\n",
       "      <th>word</th>\n",
       "      <th>distance_from_referenced_word</th>\n",
       "      <th>group</th>\n",
       "    </tr>\n",
       "  </thead>\n",
       "  <tbody>\n",
       "    <tr>\n",
       "      <th>0</th>\n",
       "      <td>-26.041590</td>\n",
       "      <td>14.164261</td>\n",
       "      <td>brexit</td>\n",
       "      <td>1.000000</td>\n",
       "      <td>brexit</td>\n",
       "    </tr>\n",
       "    <tr>\n",
       "      <th>1</th>\n",
       "      <td>-133.694275</td>\n",
       "      <td>8.920392</td>\n",
       "      <td>brexit.</td>\n",
       "      <td>0.550509</td>\n",
       "      <td>Top 5</td>\n",
       "    </tr>\n",
       "    <tr>\n",
       "      <th>2</th>\n",
       "      <td>-35.561195</td>\n",
       "      <td>-14.141035</td>\n",
       "      <td>brexit,</td>\n",
       "      <td>0.533465</td>\n",
       "      <td>Top 5</td>\n",
       "    </tr>\n",
       "    <tr>\n",
       "      <th>3</th>\n",
       "      <td>53.106621</td>\n",
       "      <td>60.828293</td>\n",
       "      <td>giroditalia</td>\n",
       "      <td>0.524465</td>\n",
       "      <td>Top 5</td>\n",
       "    </tr>\n",
       "    <tr>\n",
       "      <th>4</th>\n",
       "      <td>24.417057</td>\n",
       "      <td>-11.738787</td>\n",
       "      <td>post-brexit</td>\n",
       "      <td>0.449782</td>\n",
       "      <td>Top 5</td>\n",
       "    </tr>\n",
       "    <tr>\n",
       "      <th>5</th>\n",
       "      <td>75.963646</td>\n",
       "      <td>32.615593</td>\n",
       "      <td>however</td>\n",
       "      <td>0.449522</td>\n",
       "      <td>Top 5</td>\n",
       "    </tr>\n",
       "  </tbody>\n",
       "</table>\n",
       "</div>"
      ],
      "text/plain": [
       "            x          y         word  distance_from_referenced_word   group\n",
       "0  -26.041590  14.164261       brexit                       1.000000  brexit\n",
       "1 -133.694275   8.920392      brexit.                       0.550509   Top 5\n",
       "2  -35.561195 -14.141035      brexit,                       0.533465   Top 5\n",
       "3   53.106621  60.828293  giroditalia                       0.524465   Top 5\n",
       "4   24.417057 -11.738787  post-brexit                       0.449782   Top 5\n",
       "5   75.963646  32.615593      however                       0.449522   Top 5"
      ]
     },
     "metadata": {},
     "output_type": "display_data"
    },
    {
     "data": {
      "image/png": "[encoded data removed]",
      "text/plain": [
       "<Figure size 720x720 with 1 Axes>"
      ]
     },
     "metadata": {
      "needs_background": "light"
     },
     "output_type": "display_data"
    }
   ],
   "source": [
    "\n",
    "df_tsne_results_2016, plot_2016 = visualize_word2vec_K_most_similar_to_ref_word(model = model_2016,\n",
    "                                                                                referenced_word = \"brexit\",\n",
    "                                                                                number_of_similar_words = 30,\n",
    "                                                                               top_k_to_show = 6,\n",
    "                                                                                random_state_for_Tsne = 555,\n",
    "                                                                               remove_legend = True,\n",
    "                                                                               year = \"2016\")"
   ]
  },
  {
   "cell_type": "code",
   "execution_count": 43,
   "id": "534e9480",
   "metadata": {
    "ExecuteTime": {
     "end_time": "2022-06-22T05:14:50.016374Z",
     "start_time": "2022-06-22T05:14:49.370423Z"
    }
   },
   "outputs": [
    {
     "data": {
      "text/html": [
       "<div>\n",
       "<style scoped>\n",
       "    .dataframe tbody tr th:only-of-type {\n",
       "        vertical-align: middle;\n",
       "    }\n",
       "\n",
       "    .dataframe tbody tr th {\n",
       "        vertical-align: top;\n",
       "    }\n",
       "\n",
       "    .dataframe thead th {\n",
       "        text-align: right;\n",
       "    }\n",
       "</style>\n",
       "<table border=\"1\" class=\"dataframe\">\n",
       "  <thead>\n",
       "    <tr style=\"text-align: right;\">\n",
       "      <th></th>\n",
       "      <th>x</th>\n",
       "      <th>y</th>\n",
       "      <th>word</th>\n",
       "      <th>distance_from_referenced_word</th>\n",
       "      <th>group</th>\n",
       "    </tr>\n",
       "  </thead>\n",
       "  <tbody>\n",
       "    <tr>\n",
       "      <th>0</th>\n",
       "      <td>-26.041590</td>\n",
       "      <td>14.164261</td>\n",
       "      <td>brexit</td>\n",
       "      <td>1.000000</td>\n",
       "      <td>brexit</td>\n",
       "    </tr>\n",
       "    <tr>\n",
       "      <th>1</th>\n",
       "      <td>-133.694275</td>\n",
       "      <td>8.920392</td>\n",
       "      <td>worst</td>\n",
       "      <td>0.674411</td>\n",
       "      <td>Top 5</td>\n",
       "    </tr>\n",
       "    <tr>\n",
       "      <th>2</th>\n",
       "      <td>-35.561195</td>\n",
       "      <td>-14.141035</td>\n",
       "      <td>significant</td>\n",
       "      <td>0.651325</td>\n",
       "      <td>Top 5</td>\n",
       "    </tr>\n",
       "    <tr>\n",
       "      <th>3</th>\n",
       "      <td>53.106621</td>\n",
       "      <td>60.828293</td>\n",
       "      <td>becoming</td>\n",
       "      <td>0.646824</td>\n",
       "      <td>Top 5</td>\n",
       "    </tr>\n",
       "    <tr>\n",
       "      <th>4</th>\n",
       "      <td>24.417057</td>\n",
       "      <td>-11.738787</td>\n",
       "      <td>nothing</td>\n",
       "      <td>0.643561</td>\n",
       "      <td>Top 5</td>\n",
       "    </tr>\n",
       "    <tr>\n",
       "      <th>5</th>\n",
       "      <td>75.963646</td>\n",
       "      <td>32.615593</td>\n",
       "      <td>unfortunately</td>\n",
       "      <td>0.640482</td>\n",
       "      <td>Top 5</td>\n",
       "    </tr>\n",
       "  </tbody>\n",
       "</table>\n",
       "</div>"
      ],
      "text/plain": [
       "            x          y           word  distance_from_referenced_word   group\n",
       "0  -26.041590  14.164261         brexit                       1.000000  brexit\n",
       "1 -133.694275   8.920392          worst                       0.674411   Top 5\n",
       "2  -35.561195 -14.141035    significant                       0.651325   Top 5\n",
       "3   53.106621  60.828293       becoming                       0.646824   Top 5\n",
       "4   24.417057 -11.738787        nothing                       0.643561   Top 5\n",
       "5   75.963646  32.615593  unfortunately                       0.640482   Top 5"
      ]
     },
     "metadata": {},
     "output_type": "display_data"
    },
    {
     "data": {
      "image/png": "[encoded data removed]",
      "text/plain": [
       "<Figure size 720x720 with 1 Axes>"
      ]
     },
     "metadata": {
      "needs_background": "light"
     },
     "output_type": "display_data"
    }
   ],
   "source": [
    "\n",
    "df_tsne_results_2017, plot_2017 = visualize_word2vec_K_most_similar_to_ref_word(model = model_2017,\n",
    "                                                                                referenced_word = \"brexit\",\n",
    "                                                                                number_of_similar_words = 30,\n",
    "                                                                               top_k_to_show = 6,\n",
    "                                                                                random_state_for_Tsne = 555,\n",
    "                                                                               remove_legend = True,\n",
    "                                                                               year = \"2017\")\n"
   ]
  },
  {
   "cell_type": "code",
   "execution_count": 18,
   "id": "0aa178a3",
   "metadata": {
    "ExecuteTime": {
     "end_time": "2022-06-22T05:19:49.835011Z",
     "start_time": "2022-06-22T05:19:49.115467Z"
    }
   },
   "outputs": [
    {
     "name": "stderr",
     "output_type": "stream",
     "text": [
      "C:\\Users\\roymad\\Anaconda3\\lib\\site-packages\\sklearn\\manifold\\_t_sne.py:780: FutureWarning: The default initialization in TSNE will change from 'random' to 'pca' in 1.2.\n",
      "  warnings.warn(\n",
      "C:\\Users\\roymad\\Anaconda3\\lib\\site-packages\\sklearn\\manifold\\_t_sne.py:790: FutureWarning: The default learning rate in TSNE will change from 200.0 to 'auto' in 1.2.\n",
      "  warnings.warn(\n"
     ]
    },
    {
     "data": {
      "text/html": [
       "<div>\n",
       "<style scoped>\n",
       "    .dataframe tbody tr th:only-of-type {\n",
       "        vertical-align: middle;\n",
       "    }\n",
       "\n",
       "    .dataframe tbody tr th {\n",
       "        vertical-align: top;\n",
       "    }\n",
       "\n",
       "    .dataframe thead th {\n",
       "        text-align: right;\n",
       "    }\n",
       "</style>\n",
       "<table border=\"1\" class=\"dataframe\">\n",
       "  <thead>\n",
       "    <tr style=\"text-align: right;\">\n",
       "      <th></th>\n",
       "      <th>x</th>\n",
       "      <th>y</th>\n",
       "      <th>word</th>\n",
       "      <th>distance_from_referenced_word</th>\n",
       "      <th>group</th>\n",
       "    </tr>\n",
       "  </thead>\n",
       "  <tbody>\n",
       "    <tr>\n",
       "      <th>0</th>\n",
       "      <td>-26.041590</td>\n",
       "      <td>14.164261</td>\n",
       "      <td>brexit</td>\n",
       "      <td>1.000000</td>\n",
       "      <td>brexit</td>\n",
       "    </tr>\n",
       "    <tr>\n",
       "      <th>1</th>\n",
       "      <td>-133.694275</td>\n",
       "      <td>8.920392</td>\n",
       "      <td>avoid</td>\n",
       "      <td>0.708692</td>\n",
       "      <td>Top 5</td>\n",
       "    </tr>\n",
       "    <tr>\n",
       "      <th>2</th>\n",
       "      <td>-35.561195</td>\n",
       "      <td>-14.141035</td>\n",
       "      <td>whatever</td>\n",
       "      <td>0.676321</td>\n",
       "      <td>Top 5</td>\n",
       "    </tr>\n",
       "    <tr>\n",
       "      <th>3</th>\n",
       "      <td>53.106621</td>\n",
       "      <td>60.828293</td>\n",
       "      <td>crash</td>\n",
       "      <td>0.671243</td>\n",
       "      <td>Top 5</td>\n",
       "    </tr>\n",
       "    <tr>\n",
       "      <th>4</th>\n",
       "      <td>24.417057</td>\n",
       "      <td>-11.738787</td>\n",
       "      <td>nodealbrexit</td>\n",
       "      <td>0.654608</td>\n",
       "      <td>Top 5</td>\n",
       "    </tr>\n",
       "    <tr>\n",
       "      <th>5</th>\n",
       "      <td>75.963646</td>\n",
       "      <td>32.615593</td>\n",
       "      <td>détourne</td>\n",
       "      <td>0.652889</td>\n",
       "      <td>Top 5</td>\n",
       "    </tr>\n",
       "  </tbody>\n",
       "</table>\n",
       "</div>"
      ],
      "text/plain": [
       "            x          y          word  distance_from_referenced_word   group\n",
       "0  -26.041590  14.164261        brexit                       1.000000  brexit\n",
       "1 -133.694275   8.920392         avoid                       0.708692   Top 5\n",
       "2  -35.561195 -14.141035      whatever                       0.676321   Top 5\n",
       "3   53.106621  60.828293         crash                       0.671243   Top 5\n",
       "4   24.417057 -11.738787  nodealbrexit                       0.654608   Top 5\n",
       "5   75.963646  32.615593      détourne                       0.652889   Top 5"
      ]
     },
     "metadata": {},
     "output_type": "display_data"
    },
    {
     "data": {
      "image/png": "[encoded data removed]",
      "text/plain": [
       "<Figure size 720x720 with 1 Axes>"
      ]
     },
     "metadata": {
      "needs_background": "light"
     },
     "output_type": "display_data"
    }
   ],
   "source": [
    "\n",
    "df_tsne_results_2018, plot_2018 = visualize_word2vec_K_most_similar_to_ref_word(model = model_2018,\n",
    "                                                                                referenced_word = \"brexit\",\n",
    "                                                                                number_of_similar_words = 30,\n",
    "                                                                               top_k_to_show = 6,\n",
    "                                                                                random_state_for_Tsne = 555,\n",
    "                                                                               remove_legend = True,\n",
    "                                                                               year = \"2018\")\n"
   ]
  },
  {
   "cell_type": "code",
   "execution_count": null,
   "id": "d4719efa",
   "metadata": {},
   "outputs": [],
   "source": []
  },
  {
   "cell_type": "code",
   "execution_count": 82,
   "id": "5f1035ab",
   "metadata": {
    "ExecuteTime": {
     "end_time": "2022-06-19T06:33:03.428226Z",
     "start_time": "2022-06-19T06:33:02.913634Z"
    }
   },
   "outputs": [
    {
     "data": {
      "text/html": [
       "<div>\n",
       "<style scoped>\n",
       "    .dataframe tbody tr th:only-of-type {\n",
       "        vertical-align: middle;\n",
       "    }\n",
       "\n",
       "    .dataframe tbody tr th {\n",
       "        vertical-align: top;\n",
       "    }\n",
       "\n",
       "    .dataframe thead th {\n",
       "        text-align: right;\n",
       "    }\n",
       "</style>\n",
       "<table border=\"1\" class=\"dataframe\">\n",
       "  <thead>\n",
       "    <tr style=\"text-align: right;\">\n",
       "      <th></th>\n",
       "      <th>x</th>\n",
       "      <th>y</th>\n",
       "      <th>word</th>\n",
       "      <th>distance_from_referenced_word</th>\n",
       "      <th>group</th>\n",
       "    </tr>\n",
       "  </thead>\n",
       "  <tbody>\n",
       "    <tr>\n",
       "      <th>0</th>\n",
       "      <td>-26.041590</td>\n",
       "      <td>14.164261</td>\n",
       "      <td>brexit</td>\n",
       "      <td>1.000000</td>\n",
       "      <td>brexit</td>\n",
       "    </tr>\n",
       "    <tr>\n",
       "      <th>1</th>\n",
       "      <td>-133.694275</td>\n",
       "      <td>8.920392</td>\n",
       "      <td>push</td>\n",
       "      <td>0.646541</td>\n",
       "      <td>0</td>\n",
       "    </tr>\n",
       "    <tr>\n",
       "      <th>2</th>\n",
       "      <td>-35.561195</td>\n",
       "      <td>-14.141035</td>\n",
       "      <td>end</td>\n",
       "      <td>0.643036</td>\n",
       "      <td>0</td>\n",
       "    </tr>\n",
       "    <tr>\n",
       "      <th>3</th>\n",
       "      <td>53.106621</td>\n",
       "      <td>60.828293</td>\n",
       "      <td>unless</td>\n",
       "      <td>0.629361</td>\n",
       "      <td>0</td>\n",
       "    </tr>\n",
       "    <tr>\n",
       "      <th>4</th>\n",
       "      <td>24.417057</td>\n",
       "      <td>-11.738787</td>\n",
       "      <td>course</td>\n",
       "      <td>0.623963</td>\n",
       "      <td>0</td>\n",
       "    </tr>\n",
       "  </tbody>\n",
       "</table>\n",
       "</div>"
      ],
      "text/plain": [
       "            x          y    word  distance_from_referenced_word   group\n",
       "0  -26.041590  14.164261  brexit                       1.000000  brexit\n",
       "1 -133.694275   8.920392    push                       0.646541       0\n",
       "2  -35.561195 -14.141035     end                       0.643036       0\n",
       "3   53.106621  60.828293  unless                       0.629361       0\n",
       "4   24.417057 -11.738787  course                       0.623963       0"
      ]
     },
     "metadata": {},
     "output_type": "display_data"
    },
    {
     "data": {
      "image/png": "[encoded data removed]",
      "text/plain": [
       "<Figure size 720x720 with 1 Axes>"
      ]
     },
     "metadata": {
      "needs_background": "light"
     },
     "output_type": "display_data"
    }
   ],
   "source": [
    "\n",
    "df_tsne_results_2019, plot_2019 = visualize_word2vec_K_most_similar_to_ref_word(model = model_2019,\n",
    "                                                                                referenced_word = \"brexit\",\n",
    "                                                                                number_of_similar_words = 30,\n",
    "                                                                               top_k_to_show = 5,\n",
    "                                                                                random_state_for_Tsne = 555,\n",
    "                                                                               remove_legend = True,\n",
    "                                                                               year = \"2019\")\n"
   ]
  },
  {
   "cell_type": "code",
   "execution_count": 83,
   "id": "355fc7d7",
   "metadata": {
    "ExecuteTime": {
     "end_time": "2022-06-19T06:33:09.427277Z",
     "start_time": "2022-06-19T06:33:08.967850Z"
    }
   },
   "outputs": [
    {
     "data": {
      "text/html": [
       "<div>\n",
       "<style scoped>\n",
       "    .dataframe tbody tr th:only-of-type {\n",
       "        vertical-align: middle;\n",
       "    }\n",
       "\n",
       "    .dataframe tbody tr th {\n",
       "        vertical-align: top;\n",
       "    }\n",
       "\n",
       "    .dataframe thead th {\n",
       "        text-align: right;\n",
       "    }\n",
       "</style>\n",
       "<table border=\"1\" class=\"dataframe\">\n",
       "  <thead>\n",
       "    <tr style=\"text-align: right;\">\n",
       "      <th></th>\n",
       "      <th>x</th>\n",
       "      <th>y</th>\n",
       "      <th>word</th>\n",
       "      <th>distance_from_referenced_word</th>\n",
       "      <th>group</th>\n",
       "    </tr>\n",
       "  </thead>\n",
       "  <tbody>\n",
       "    <tr>\n",
       "      <th>0</th>\n",
       "      <td>-26.041590</td>\n",
       "      <td>14.164261</td>\n",
       "      <td>brexit</td>\n",
       "      <td>1.000000</td>\n",
       "      <td>brexit</td>\n",
       "    </tr>\n",
       "    <tr>\n",
       "      <th>1</th>\n",
       "      <td>-133.694275</td>\n",
       "      <td>8.920392</td>\n",
       "      <td>sweetheart</td>\n",
       "      <td>0.632121</td>\n",
       "      <td>0</td>\n",
       "    </tr>\n",
       "    <tr>\n",
       "      <th>2</th>\n",
       "      <td>-35.561195</td>\n",
       "      <td>-14.141035</td>\n",
       "      <td>insignificance</td>\n",
       "      <td>0.581764</td>\n",
       "      <td>0</td>\n",
       "    </tr>\n",
       "    <tr>\n",
       "      <th>3</th>\n",
       "      <td>53.106621</td>\n",
       "      <td>60.828293</td>\n",
       "      <td>gets</td>\n",
       "      <td>0.577870</td>\n",
       "      <td>0</td>\n",
       "    </tr>\n",
       "    <tr>\n",
       "      <th>4</th>\n",
       "      <td>24.417057</td>\n",
       "      <td>-11.738787</td>\n",
       "      <td>unsung</td>\n",
       "      <td>0.570849</td>\n",
       "      <td>0</td>\n",
       "    </tr>\n",
       "  </tbody>\n",
       "</table>\n",
       "</div>"
      ],
      "text/plain": [
       "            x          y            word  distance_from_referenced_word  \\\n",
       "0  -26.041590  14.164261          brexit                       1.000000   \n",
       "1 -133.694275   8.920392      sweetheart                       0.632121   \n",
       "2  -35.561195 -14.141035  insignificance                       0.581764   \n",
       "3   53.106621  60.828293            gets                       0.577870   \n",
       "4   24.417057 -11.738787          unsung                       0.570849   \n",
       "\n",
       "    group  \n",
       "0  brexit  \n",
       "1       0  \n",
       "2       0  \n",
       "3       0  \n",
       "4       0  "
      ]
     },
     "metadata": {},
     "output_type": "display_data"
    },
    {
     "data": {
      "image/png": "[encoded data removed]",
      "text/plain": [
       "<Figure size 720x720 with 1 Axes>"
      ]
     },
     "metadata": {
      "needs_background": "light"
     },
     "output_type": "display_data"
    }
   ],
   "source": [
    "\n",
    "df_tsne_results_2020, plot_2020 = visualize_word2vec_K_most_similar_to_ref_word(model = model_2020,\n",
    "                                                                                referenced_word = \"brexit\",\n",
    "                                                                                number_of_similar_words = 30,\n",
    "                                                                               top_k_to_show = 5,\n",
    "                                                                                random_state_for_Tsne = 555,\n",
    "                                                                               remove_legend = True,\n",
    "                                                                               year = \"2020\")\n"
   ]
  },
  {
   "cell_type": "code",
   "execution_count": 84,
   "id": "6deda4dc",
   "metadata": {
    "ExecuteTime": {
     "end_time": "2022-06-19T06:33:16.256580Z",
     "start_time": "2022-06-19T06:33:15.666869Z"
    }
   },
   "outputs": [
    {
     "data": {
      "text/html": [
       "<div>\n",
       "<style scoped>\n",
       "    .dataframe tbody tr th:only-of-type {\n",
       "        vertical-align: middle;\n",
       "    }\n",
       "\n",
       "    .dataframe tbody tr th {\n",
       "        vertical-align: top;\n",
       "    }\n",
       "\n",
       "    .dataframe thead th {\n",
       "        text-align: right;\n",
       "    }\n",
       "</style>\n",
       "<table border=\"1\" class=\"dataframe\">\n",
       "  <thead>\n",
       "    <tr style=\"text-align: right;\">\n",
       "      <th></th>\n",
       "      <th>x</th>\n",
       "      <th>y</th>\n",
       "      <th>word</th>\n",
       "      <th>distance_from_referenced_word</th>\n",
       "      <th>group</th>\n",
       "    </tr>\n",
       "  </thead>\n",
       "  <tbody>\n",
       "    <tr>\n",
       "      <th>0</th>\n",
       "      <td>-26.041590</td>\n",
       "      <td>14.164261</td>\n",
       "      <td>brexit</td>\n",
       "      <td>1.000000</td>\n",
       "      <td>brexit</td>\n",
       "    </tr>\n",
       "    <tr>\n",
       "      <th>1</th>\n",
       "      <td>-133.694275</td>\n",
       "      <td>8.920392</td>\n",
       "      <td>abjectly</td>\n",
       "      <td>0.566623</td>\n",
       "      <td>0</td>\n",
       "    </tr>\n",
       "    <tr>\n",
       "      <th>2</th>\n",
       "      <td>-35.561195</td>\n",
       "      <td>-14.141035</td>\n",
       "      <td>embarassing</td>\n",
       "      <td>0.551099</td>\n",
       "      <td>0</td>\n",
       "    </tr>\n",
       "    <tr>\n",
       "      <th>3</th>\n",
       "      <td>53.106621</td>\n",
       "      <td>60.828293</td>\n",
       "      <td>personification</td>\n",
       "      <td>0.546339</td>\n",
       "      <td>0</td>\n",
       "    </tr>\n",
       "    <tr>\n",
       "      <th>4</th>\n",
       "      <td>24.417057</td>\n",
       "      <td>-11.738787</td>\n",
       "      <td>realistically</td>\n",
       "      <td>0.542409</td>\n",
       "      <td>0</td>\n",
       "    </tr>\n",
       "    <tr>\n",
       "      <th>5</th>\n",
       "      <td>75.963646</td>\n",
       "      <td>32.615593</td>\n",
       "      <td>kkd</td>\n",
       "      <td>0.540760</td>\n",
       "      <td>0</td>\n",
       "    </tr>\n",
       "    <tr>\n",
       "      <th>6</th>\n",
       "      <td>-7.290796</td>\n",
       "      <td>62.641930</td>\n",
       "      <td>bernie</td>\n",
       "      <td>0.537186</td>\n",
       "      <td>0</td>\n",
       "    </tr>\n",
       "    <tr>\n",
       "      <th>7</th>\n",
       "      <td>29.891045</td>\n",
       "      <td>-40.174908</td>\n",
       "      <td>close</td>\n",
       "      <td>0.537005</td>\n",
       "      <td>0</td>\n",
       "    </tr>\n",
       "    <tr>\n",
       "      <th>8</th>\n",
       "      <td>-66.643333</td>\n",
       "      <td>-46.989162</td>\n",
       "      <td>approach</td>\n",
       "      <td>0.535267</td>\n",
       "      <td>0</td>\n",
       "    </tr>\n",
       "    <tr>\n",
       "      <th>9</th>\n",
       "      <td>81.877922</td>\n",
       "      <td>-34.193123</td>\n",
       "      <td>apparently</td>\n",
       "      <td>0.535201</td>\n",
       "      <td>0</td>\n",
       "    </tr>\n",
       "    <tr>\n",
       "      <th>10</th>\n",
       "      <td>-69.532860</td>\n",
       "      <td>55.992397</td>\n",
       "      <td>yet</td>\n",
       "      <td>0.526878</td>\n",
       "      <td>0</td>\n",
       "    </tr>\n",
       "    <tr>\n",
       "      <th>11</th>\n",
       "      <td>54.521690</td>\n",
       "      <td>-10.138385</td>\n",
       "      <td>course</td>\n",
       "      <td>0.526699</td>\n",
       "      <td>0</td>\n",
       "    </tr>\n",
       "    <tr>\n",
       "      <th>12</th>\n",
       "      <td>-4.883650</td>\n",
       "      <td>32.971935</td>\n",
       "      <td>whatever</td>\n",
       "      <td>0.524288</td>\n",
       "      <td>0</td>\n",
       "    </tr>\n",
       "    <tr>\n",
       "      <th>13</th>\n",
       "      <td>1.353114</td>\n",
       "      <td>-39.792728</td>\n",
       "      <td>rwp</td>\n",
       "      <td>0.524110</td>\n",
       "      <td>0</td>\n",
       "    </tr>\n",
       "    <tr>\n",
       "      <th>14</th>\n",
       "      <td>88.615578</td>\n",
       "      <td>1.475423</td>\n",
       "      <td>rachelsjohnson</td>\n",
       "      <td>0.521711</td>\n",
       "      <td>0</td>\n",
       "    </tr>\n",
       "    <tr>\n",
       "      <th>15</th>\n",
       "      <td>-37.255852</td>\n",
       "      <td>46.525505</td>\n",
       "      <td>cricquizz</td>\n",
       "      <td>0.520368</td>\n",
       "      <td>0</td>\n",
       "    </tr>\n",
       "  </tbody>\n",
       "</table>\n",
       "</div>"
      ],
      "text/plain": [
       "             x          y             word  distance_from_referenced_word  \\\n",
       "0   -26.041590  14.164261           brexit                       1.000000   \n",
       "1  -133.694275   8.920392         abjectly                       0.566623   \n",
       "2   -35.561195 -14.141035      embarassing                       0.551099   \n",
       "3    53.106621  60.828293  personification                       0.546339   \n",
       "4    24.417057 -11.738787    realistically                       0.542409   \n",
       "5    75.963646  32.615593              kkd                       0.540760   \n",
       "6    -7.290796  62.641930           bernie                       0.537186   \n",
       "7    29.891045 -40.174908            close                       0.537005   \n",
       "8   -66.643333 -46.989162         approach                       0.535267   \n",
       "9    81.877922 -34.193123       apparently                       0.535201   \n",
       "10  -69.532860  55.992397              yet                       0.526878   \n",
       "11   54.521690 -10.138385           course                       0.526699   \n",
       "12   -4.883650  32.971935         whatever                       0.524288   \n",
       "13    1.353114 -39.792728              rwp                       0.524110   \n",
       "14   88.615578   1.475423   rachelsjohnson                       0.521711   \n",
       "15  -37.255852  46.525505        cricquizz                       0.520368   \n",
       "\n",
       "     group  \n",
       "0   brexit  \n",
       "1        0  \n",
       "2        0  \n",
       "3        0  \n",
       "4        0  \n",
       "5        0  \n",
       "6        0  \n",
       "7        0  \n",
       "8        0  \n",
       "9        0  \n",
       "10       0  \n",
       "11       0  \n",
       "12       0  \n",
       "13       0  \n",
       "14       0  \n",
       "15       0  "
      ]
     },
     "metadata": {},
     "output_type": "display_data"
    },
    {
     "data": {
      "image/png": "[encoded data removed]",
      "text/plain": [
       "<Figure size 720x720 with 1 Axes>"
      ]
     },
     "metadata": {
      "needs_background": "light"
     },
     "output_type": "display_data"
    }
   ],
   "source": [
    "\n",
    "df_tsne_results_2021, plot_2021 = visualize_word2vec_K_most_similar_to_ref_word(model = model_2021,\n",
    "                                                                                referenced_word = \"brexit\",\n",
    "                                                                                number_of_similar_words = 30,\n",
    "                                                                               top_k_to_show = 16,\n",
    "                                                                                random_state_for_Tsne = 555,\n",
    "                                                                               remove_legend = True,\n",
    "                                                                                year = \"2021\")\n"
   ]
  },
  {
   "cell_type": "code",
   "execution_count": null,
   "id": "bdf597f3",
   "metadata": {},
   "outputs": [],
   "source": [
    "\n",
    "df_tsne_results_all, plot_all = visualize_word2vec_K_most_similar_to_ref_word(model = model_all_years,\n",
    "                                                                                referenced_word = \"brexit\",\n",
    "                                                                                number_of_similar_words = 30,\n",
    "                                                                               top_k_to_show = 6,\n",
    "                                                                              random_state_for_Tsne = 555,\n",
    "                                                                             remove_legend = True,\n",
    "                                                                             year = \"All years\")\n",
    "\n",
    "import warnings\n",
    "warnings.filterwarnings('default')\n"
   ]
  },
  {
   "cell_type": "code",
   "execution_count": 25,
   "id": "884270bc",
   "metadata": {
    "ExecuteTime": {
     "end_time": "2022-06-17T14:45:38.806544Z",
     "start_time": "2022-06-17T14:45:31.960653Z"
    }
   },
   "outputs": [
    {
     "name": "stderr",
     "output_type": "stream",
     "text": [
      "C:\\Users\\Roy\\anaconda3\\lib\\site-packages\\sklearn\\manifold\\_t_sne.py:780: FutureWarning: The default initialization in TSNE will change from 'random' to 'pca' in 1.2.\n",
      "  warnings.warn(\n",
      "C:\\Users\\Roy\\anaconda3\\lib\\site-packages\\sklearn\\manifold\\_t_sne.py:790: FutureWarning: The default learning rate in TSNE will change from 200.0 to 'auto' in 1.2.\n",
      "  warnings.warn(\n"
     ]
    },
    {
     "name": "stdout",
     "output_type": "stream",
     "text": [
      "[t-SNE] Computing 30 nearest neighbors...\n",
      "[t-SNE] Indexed 31 samples in 0.003s...\n",
      "[t-SNE] Computed neighbors for 31 samples in 0.078s...\n",
      "[t-SNE] Computed conditional probabilities for sample 31 / 31\n",
      "[t-SNE] Mean sigma: 1125899906842624.000000\n",
      "[t-SNE] KL divergence after 250 iterations with early exaggeration: 46.470520\n",
      "[t-SNE] KL divergence after 300 iterations: 0.559486\n",
      "           x          y      word  distance_from_referenced_word   group\n",
      "0  46.558769  18.160244    brexit                       1.000000  brexit\n",
      "1 -22.287497 -43.678005  negative                       0.692830       0\n",
      "2  43.408440 -20.876442    beaver                       0.646884       0\n",
      "3  25.692894 -53.691151  vrkhaxde                       0.641888       0\n",
      "4  92.265846  22.911957    unless                       0.638551       0\n"
     ]
    },
    {
     "data": {
      "image/png": "[encoded data removed]",
      "text/plain": [
       "<Figure size 720x720 with 1 Axes>"
      ]
     },
     "metadata": {
      "needs_background": "light"
     },
     "output_type": "display_data"
    }
   ],
   "source": [
    "### using word2Vec model of a certain year\n",
    "model = model_2016\n",
    "referenced_word = \"brexit\"\n",
    "number_of_similar_words = 30\n",
    "\n",
    "simmilar_words = []\n",
    "similar_brexit_representation = []\n",
    "distance_from_referenced_word = []\n",
    "simmilar_words.append(referenced_word)\n",
    "similar_brexit_representation.append(model.wv[referenced_word])\n",
    "distance_from_referenced_word.append(1)\n",
    "\n",
    "#for j in model.wv.most_similar(positive=[referenced_word], negative=[], topn=number_of_similar_words):\n",
    "for j in model.wv.most_similar(referenced_word, topn=number_of_similar_words):\n",
    "    simmilar_words.append(j[0])\n",
    "    distance_from_referenced_word.append(j[1])\n",
    "    word_representation = model.wv[j[0]]\n",
    "    similar_brexit_representation.append(word_representation)\n",
    "\n",
    "similar_brexit_representation = np.asarray(similar_brexit_representation)\n",
    "simmilar_words = np.asarray(simmilar_words)\n",
    "distance_from_referenced_word = np.asarray(distance_from_referenced_word)\n",
    "\n",
    "### performing TSNE on the most k simiilar words to the referenced word\n",
    "from sklearn.manifold import TSNE\n",
    "tsne = TSNE(n_components=2, verbose=1, perplexity=40, n_iter=300)\n",
    "tsne_results = tsne.fit_transform(similar_brexit_representation)\n",
    "\n",
    "### creating the TSNE dataframe\n",
    "df_tsne_results = pd.DataFrame(tsne_results)\n",
    "df_tsne_results = df_tsne_results.rename({0 : \"x\", 1:\"y\"}, axis = 1)\n",
    "df_tsne_results[\"word\"] = simmilar_words\n",
    "df_tsne_results[\"distance_from_referenced_word\"] = distance_from_referenced_word\n",
    "\n",
    "group = [referenced_word]\n",
    "for i in range(df_tsne_results.shape[0]-1):\n",
    "    group.append(\"0\")\n",
    "\n",
    "df_tsne_results[\"group\"] = group\n",
    "\n",
    "display(df_tsne_results.head())\n",
    "\n",
    "### Visualization using TSNE and seaborn package\n",
    "fig, ax = plt.subplots(figsize=(10,10))\n",
    "markers = {referenced_word: \"X\"}\n",
    "title_tsne = \"TSNE visualization of word:\" + str(referenced_word) + \" with the \" + str(number_of_similar_words) + \" most similar words according to W2V\"\n",
    "sns.scatterplot(data=df_tsne_results, x=\"x\", y=\"y\", hue = \"group\", size=\"distance_from_referenced_word\",\n",
    "               sizes=(40, 600), markers = markers, ax = ax).set(title=title_tsne)\n",
    "\n",
    "for i, word in enumerate (df_tsne_results[\"word\"]):\n",
    "    plt.text(df_tsne_results.x[i]+0.3, df_tsne_results.y[i]+0.3, word)"
   ]
  },
  {
   "cell_type": "code",
   "execution_count": null,
   "id": "79e32ca2",
   "metadata": {},
   "outputs": [],
   "source": [
    "### Creating a table with the top 30 similar words to brexit and compare it over the years"
   ]
  },
  {
   "cell_type": "code",
   "execution_count": 17,
   "id": "50ba4aae",
   "metadata": {
    "ExecuteTime": {
     "end_time": "2022-06-17T07:25:28.271472Z",
     "start_time": "2022-06-17T07:25:28.263469Z"
    }
   },
   "outputs": [],
   "source": [
    "model = model_2018\n",
    "referenced_word = \"brexit\"\n",
    "number_of_similar_words = 30"
   ]
  },
  {
   "cell_type": "code",
   "execution_count": 28,
   "id": "e861d4b9",
   "metadata": {
    "ExecuteTime": {
     "end_time": "2022-06-17T07:37:32.935666Z",
     "start_time": "2022-06-17T07:37:32.914675Z"
    }
   },
   "outputs": [],
   "source": [
    "similar_words = []\n",
    "distance_from_referenced_word = []\n",
    "\n",
    "for i in model.wv.most_similar(referenced_word, topn=number_of_similar_words):\n",
    "    similar_words.append(i[0])\n",
    "    distance_from_referenced_word.append(round(i[1],4))\n",
    "\n"
   ]
  },
  {
   "cell_type": "code",
   "execution_count": 161,
   "id": "f88df24e",
   "metadata": {
    "ExecuteTime": {
     "end_time": "2022-06-17T08:18:39.042586Z",
     "start_time": "2022-06-17T08:18:39.031589Z"
    }
   },
   "outputs": [],
   "source": [
    "def create_similar_words_df(model, top_col_name = \"2014\", referenced_word = \"brexit\", number_of_similar_words = 30):\n",
    "    similar_words = []\n",
    "    distance_from_referenced_word = []\n",
    "\n",
    "    for i in model.wv.most_similar(referenced_word, topn=number_of_similar_words):\n",
    "        similar_words.append(i[0])\n",
    "        distance_from_referenced_word.append(round(i[1],3))\n",
    "        \n",
    "    data1 = np.array([[similar_words],[distance_from_referenced_word]]).T.reshape(-1,2)\n",
    "\n",
    "    col_names = pd.MultiIndex.from_product([[top_col_name], [\"Words\", \"Distance\"]])\n",
    "    df2 = pd.DataFrame(data = data1,\n",
    "                       columns = col_names)\n",
    "    return(df2)   \n"
   ]
  },
  {
   "cell_type": "code",
   "execution_count": 157,
   "id": "744bc6bd",
   "metadata": {
    "ExecuteTime": {
     "end_time": "2022-06-17T08:15:10.574134Z",
     "start_time": "2022-06-17T08:15:10.545158Z"
    }
   },
   "outputs": [],
   "source": [
    "referenced_word = \"brexit\"\n",
    "number_of_similar_words = 30\n",
    "\n",
    "df_similar_words_2014 = create_similar_words_df(model = model_2014, top_col_name = \"2014\",referenced_word=referenced_word,\n",
    "                                                number_of_similar_words = number_of_similar_words)\n",
    "df_similar_words_2015 = create_similar_words_df(model = model_2015, top_col_name = \"2015\",referenced_word=referenced_word,\n",
    "                                                number_of_similar_words = number_of_similar_words)\n",
    "df_similar_words_2016 = create_similar_words_df(model = model_2016, top_col_name = \"2016\",referenced_word=referenced_word,\n",
    "                                                number_of_similar_words = number_of_similar_words)\n",
    "df_similar_words_2017 = create_similar_words_df(model = model_2017, top_col_name = \"2017\",referenced_word=referenced_word,\n",
    "                                                number_of_similar_words = number_of_similar_words)\n",
    "df_similar_words_2018 = create_similar_words_df(model = model_2018, top_col_name = \"2018\",referenced_word=referenced_word,\n",
    "                                                number_of_similar_words = number_of_similar_words)\n",
    "df_similar_words_2019 = create_similar_words_df(model = model_2019, top_col_name = \"2019\",referenced_word=referenced_word,\n",
    "                                                number_of_similar_words = number_of_similar_words)\n",
    "df_similar_words_2020 = create_similar_words_df(model = model_2020, top_col_name = \"2020\",referenced_word=referenced_word,\n",
    "                                                number_of_similar_words = number_of_similar_words)\n",
    "df_similar_words_2021 = create_similar_words_df(model = model_2021, top_col_name = \"2021\",referenced_word=referenced_word,\n",
    "                                                number_of_similar_words = number_of_similar_words)\n",
    "\n",
    "\n"
   ]
  },
  {
   "cell_type": "code",
   "execution_count": 162,
   "id": "7afc56b6",
   "metadata": {
    "ExecuteTime": {
     "end_time": "2022-06-17T08:18:40.711409Z",
     "start_time": "2022-06-17T08:18:40.691443Z"
    }
   },
   "outputs": [],
   "source": [
    "df4 = create_similar_words_df(model = model_2018, top_col_name = \"2017\",referenced_word=referenced_word,\n",
    "                                                number_of_similar_words = number_of_similar_words)"
   ]
  },
  {
   "cell_type": "code",
   "execution_count": 163,
   "id": "776102c1",
   "metadata": {
    "ExecuteTime": {
     "end_time": "2022-06-17T08:18:41.591906Z",
     "start_time": "2022-06-17T08:18:41.559922Z"
    }
   },
   "outputs": [
    {
     "data": {
      "text/html": [
       "<div>\n",
       "<style scoped>\n",
       "    .dataframe tbody tr th:only-of-type {\n",
       "        vertical-align: middle;\n",
       "    }\n",
       "\n",
       "    .dataframe tbody tr th {\n",
       "        vertical-align: top;\n",
       "    }\n",
       "\n",
       "    .dataframe thead tr th {\n",
       "        text-align: left;\n",
       "    }\n",
       "</style>\n",
       "<table border=\"1\" class=\"dataframe\">\n",
       "  <thead>\n",
       "    <tr>\n",
       "      <th></th>\n",
       "      <th colspan=\"2\" halign=\"left\">2017</th>\n",
       "    </tr>\n",
       "    <tr>\n",
       "      <th></th>\n",
       "      <th>Words</th>\n",
       "      <th>Distance</th>\n",
       "    </tr>\n",
       "  </thead>\n",
       "  <tbody>\n",
       "    <tr>\n",
       "      <th>0</th>\n",
       "      <td>chequers</td>\n",
       "      <td>0.8969</td>\n",
       "    </tr>\n",
       "    <tr>\n",
       "      <th>1</th>\n",
       "      <td>possi</td>\n",
       "      <td>0.894</td>\n",
       "    </tr>\n",
       "    <tr>\n",
       "      <th>2</th>\n",
       "      <td>acknowledges</td>\n",
       "      <td>0.8932</td>\n",
       "    </tr>\n",
       "    <tr>\n",
       "      <th>3</th>\n",
       "      <td>fudge</td>\n",
       "      <td>0.8724</td>\n",
       "    </tr>\n",
       "    <tr>\n",
       "      <th>4</th>\n",
       "      <td>reassurances</td>\n",
       "      <td>0.8722</td>\n",
       "    </tr>\n",
       "    <tr>\n",
       "      <th>5</th>\n",
       "      <td>unwilling</td>\n",
       "      <td>0.8715</td>\n",
       "    </tr>\n",
       "    <tr>\n",
       "      <th>6</th>\n",
       "      <td>withdrawal</td>\n",
       "      <td>0.8687</td>\n",
       "    </tr>\n",
       "    <tr>\n",
       "      <th>7</th>\n",
       "      <td>says</td>\n",
       "      <td>0.8676</td>\n",
       "    </tr>\n",
       "    <tr>\n",
       "      <th>8</th>\n",
       "      <td>mmcouqayy</td>\n",
       "      <td>0.8655</td>\n",
       "    </tr>\n",
       "    <tr>\n",
       "      <th>9</th>\n",
       "      <td>may</td>\n",
       "      <td>0.8627</td>\n",
       "    </tr>\n",
       "    <tr>\n",
       "      <th>10</th>\n",
       "      <td>characterised</td>\n",
       "      <td>0.8616</td>\n",
       "    </tr>\n",
       "    <tr>\n",
       "      <th>11</th>\n",
       "      <td>mac_europa</td>\n",
       "      <td>0.861</td>\n",
       "    </tr>\n",
       "    <tr>\n",
       "      <th>12</th>\n",
       "      <td>option</td>\n",
       "      <td>0.8597</td>\n",
       "    </tr>\n",
       "    <tr>\n",
       "      <th>13</th>\n",
       "      <td>referendum</td>\n",
       "      <td>0.8597</td>\n",
       "    </tr>\n",
       "    <tr>\n",
       "      <th>14</th>\n",
       "      <td>outcome</td>\n",
       "      <td>0.8583</td>\n",
       "    </tr>\n",
       "    <tr>\n",
       "      <th>15</th>\n",
       "      <td>resigning</td>\n",
       "      <td>0.8578</td>\n",
       "    </tr>\n",
       "    <tr>\n",
       "      <th>16</th>\n",
       "      <td>eek</td>\n",
       "      <td>0.8578</td>\n",
       "    </tr>\n",
       "    <tr>\n",
       "      <th>17</th>\n",
       "      <td>desirable</td>\n",
       "      <td>0.8576</td>\n",
       "    </tr>\n",
       "    <tr>\n",
       "      <th>18</th>\n",
       "      <td>scrutinising</td>\n",
       "      <td>0.8565</td>\n",
       "    </tr>\n",
       "    <tr>\n",
       "      <th>19</th>\n",
       "      <td>delaying</td>\n",
       "      <td>0.8559</td>\n",
       "    </tr>\n",
       "    <tr>\n",
       "      <th>20</th>\n",
       "      <td>withdraw</td>\n",
       "      <td>0.8558</td>\n",
       "    </tr>\n",
       "    <tr>\n",
       "      <th>21</th>\n",
       "      <td>abdication</td>\n",
       "      <td>0.8542</td>\n",
       "    </tr>\n",
       "    <tr>\n",
       "      <th>22</th>\n",
       "      <td>article</td>\n",
       "      <td>0.8528</td>\n",
       "    </tr>\n",
       "    <tr>\n",
       "      <th>23</th>\n",
       "      <td>betraying</td>\n",
       "      <td>0.8516</td>\n",
       "    </tr>\n",
       "    <tr>\n",
       "      <th>24</th>\n",
       "      <td>deal</td>\n",
       "      <td>0.8507</td>\n",
       "    </tr>\n",
       "    <tr>\n",
       "      <th>25</th>\n",
       "      <td>revitalized</td>\n",
       "      <td>0.8503</td>\n",
       "    </tr>\n",
       "    <tr>\n",
       "      <th>26</th>\n",
       "      <td>overturn</td>\n",
       "      <td>0.8493</td>\n",
       "    </tr>\n",
       "    <tr>\n",
       "      <th>27</th>\n",
       "      <td>iran</td>\n",
       "      <td>0.8483</td>\n",
       "    </tr>\n",
       "    <tr>\n",
       "      <th>28</th>\n",
       "      <td>splits</td>\n",
       "      <td>0.8473</td>\n",
       "    </tr>\n",
       "    <tr>\n",
       "      <th>29</th>\n",
       "      <td>debrief</td>\n",
       "      <td>0.847</td>\n",
       "    </tr>\n",
       "  </tbody>\n",
       "</table>\n",
       "</div>"
      ],
      "text/plain": [
       "             2017         \n",
       "            Words Distance\n",
       "0        chequers   0.8969\n",
       "1           possi    0.894\n",
       "2    acknowledges   0.8932\n",
       "3           fudge   0.8724\n",
       "4    reassurances   0.8722\n",
       "5       unwilling   0.8715\n",
       "6      withdrawal   0.8687\n",
       "7            says   0.8676\n",
       "8       mmcouqayy   0.8655\n",
       "9             may   0.8627\n",
       "10  characterised   0.8616\n",
       "11     mac_europa    0.861\n",
       "12         option   0.8597\n",
       "13     referendum   0.8597\n",
       "14        outcome   0.8583\n",
       "15      resigning   0.8578\n",
       "16            eek   0.8578\n",
       "17      desirable   0.8576\n",
       "18   scrutinising   0.8565\n",
       "19       delaying   0.8559\n",
       "20       withdraw   0.8558\n",
       "21     abdication   0.8542\n",
       "22        article   0.8528\n",
       "23      betraying   0.8516\n",
       "24           deal   0.8507\n",
       "25    revitalized   0.8503\n",
       "26       overturn   0.8493\n",
       "27           iran   0.8483\n",
       "28         splits   0.8473\n",
       "29        debrief    0.847"
      ]
     },
     "execution_count": 163,
     "metadata": {},
     "output_type": "execute_result"
    }
   ],
   "source": [
    "df_similar_words_all_years = pd.concat([df_similar_words_2014, df_similar_words_2015, df_similar_words_2016,\n",
    "                                        df_similar_words_2017, df_similar_words_2018,df_similar_words_2019,\n",
    "                                        df_similar_words_2020,df_similar_words_2021], axis=1, join='inner')"
   ]
  },
  {
   "cell_type": "code",
   "execution_count": null,
   "id": "f2ba09dc",
   "metadata": {},
   "outputs": [],
   "source": []
  },
  {
   "cell_type": "code",
   "execution_count": null,
   "id": "a3fd4424",
   "metadata": {},
   "outputs": [],
   "source": []
  },
  {
   "cell_type": "code",
   "execution_count": null,
   "id": "2cd62c4c",
   "metadata": {},
   "outputs": [],
   "source": []
  },
  {
   "cell_type": "code",
   "execution_count": 362,
   "id": "b24a070b",
   "metadata": {
    "ExecuteTime": {
     "end_time": "2022-05-14T17:23:07.402583Z",
     "start_time": "2022-05-14T17:23:07.384592Z"
    },
    "scrolled": true
   },
   "outputs": [
    {
     "data": {
      "text/plain": [
       "Index(['Unnamed: 0.1', 'Unnamed: 0', 'author_id', 'author_id_new',\n",
       "       'conv_id_new', 'conversation_id', 'created_at', 'entities.mentions',\n",
       "       'id', 'id_new', 'public_metrics.like_count',\n",
       "       'public_metrics.quote_count', 'public_metrics.reply_count',\n",
       "       'public_metrics.retweet_count', 'referenced_tweets', 'text',\n",
       "       'users.created_at', 'users.description', 'users.id', 'users.name',\n",
       "       'users.public_metrics.followers_count',\n",
       "       'users.public_metrics.following_count',\n",
       "       'users.public_metrics.listed_count', 'users.public_metrics.tweet_count',\n",
       "       'users.username', 'users.verified', 'text_tokens', 'created_at_date',\n",
       "       'is_in_special_date', 'Event_Date', 'Event Description',\n",
       "       'Key opnion leaders of event', 'KOP_num', 'Index', 'Name', 'Born_in',\n",
       "       'twitter_user_name', 'Role', 'Place', 'clean_user_name',\n",
       "       'score_key_words', 'score_KOP', 'total_score'],\n",
       "      dtype='object')"
      ]
     },
     "execution_count": 362,
     "metadata": {},
     "output_type": "execute_result"
    }
   ],
   "source": [
    "#filtered_table.columns"
   ]
  },
  {
   "cell_type": "code",
   "execution_count": 277,
   "id": "27723408",
   "metadata": {
    "ExecuteTime": {
     "end_time": "2022-05-14T16:10:07.402937Z",
     "start_time": "2022-05-14T16:10:07.360956Z"
    },
    "scrolled": true
   },
   "outputs": [
    {
     "name": "stdout",
     "output_type": "stream",
     "text": [
      "Original Text: RT @EU4BE: Ce qui a été fait, ce qu'il reste à accomplir pour mettre en oeuvre le plan d'action #EU-#Turquie #migrationEU  https://t.co/pIj…\n",
      "-----------------------------------------------------------------------------\n",
      "tokens: ['rt', 'eu', 'ce_qui', 'été_fait', 'ce_qu', 'il_reste', 'accomplir', 'pour_mettre', 'en_oeuvre', 'le_plan', 'action', 'eu', 'turquie', 'migrationeu_co', 'pij']\n"
     ]
    }
   ],
   "source": [
    "index_i = 7\n",
    "print(\"Original Text:\", texts[index_i])\n",
    "print(\"-----------------------------------------------------------------------------\")\n",
    "print(\"tokens:\",text_tokens[index_i])"
   ]
  },
  {
   "cell_type": "code",
   "execution_count": 7,
   "id": "49600438",
   "metadata": {
    "ExecuteTime": {
     "end_time": "2022-06-16T07:01:50.061359Z",
     "start_time": "2022-06-16T07:01:39.703815Z"
    },
    "scrolled": false
   },
   "outputs": [
    {
     "name": "stderr",
     "output_type": "stream",
     "text": [
      "C:\\Users\\Roy\\AppData\\Local\\Temp/ipykernel_3664/1801407550.py:3: SettingWithCopyWarning: \n",
      "A value is trying to be set on a copy of a slice from a DataFrame.\n",
      "Try using .loc[row_indexer,col_indexer] = value instead\n",
      "\n",
      "See the caveats in the documentation: https://pandas.pydata.org/pandas-docs/stable/user_guide/indexing.html#returning-a-view-versus-a-copy\n",
      "  data_for_model[\"tokens_roy\"] = tokens_roy\n",
      "C:\\Users\\Roy\\AppData\\Local\\Temp/ipykernel_3664/1801407550.py:4: SettingWithCopyWarning: \n",
      "A value is trying to be set on a copy of a slice from a DataFrame.\n",
      "Try using .loc[row_indexer,col_indexer] = value instead\n",
      "\n",
      "See the caveats in the documentation: https://pandas.pydata.org/pandas-docs/stable/user_guide/indexing.html#returning-a-view-versus-a-copy\n",
      "  data_for_model[\"language\"] = language_classifications\n",
      "C:\\Users\\Roy\\AppData\\Local\\Temp/ipykernel_3664/1801407550.py:6: SettingWithCopyWarning: \n",
      "A value is trying to be set on a copy of a slice from a DataFrame.\n",
      "Try using .loc[row_indexer,col_indexer] = value instead\n",
      "\n",
      "See the caveats in the documentation: https://pandas.pydata.org/pandas-docs/stable/user_guide/indexing.html#returning-a-view-versus-a-copy\n",
      "  data_for_model['created_at_date'] = data_for_model['created_at'].apply(lambda x: x[0:10])\n",
      "C:\\Users\\Roy\\AppData\\Local\\Temp/ipykernel_3664/1801407550.py:7: SettingWithCopyWarning: \n",
      "A value is trying to be set on a copy of a slice from a DataFrame.\n",
      "Try using .loc[row_indexer,col_indexer] = value instead\n",
      "\n",
      "See the caveats in the documentation: https://pandas.pydata.org/pandas-docs/stable/user_guide/indexing.html#returning-a-view-versus-a-copy\n",
      "  data_for_model['created_at_date'] = data_for_model['created_at_date'].apply(lambda x: datetime.datetime.strptime(x, \"%Y-%m-%d\"))\n"
     ]
    },
    {
     "name": "stdout",
     "output_type": "stream",
     "text": [
      "Number of rows in the data for model:  348666\n"
     ]
    },
    {
     "name": "stderr",
     "output_type": "stream",
     "text": [
      "C:\\Users\\Roy\\AppData\\Local\\Temp/ipykernel_3664/1801407550.py:12: SettingWithCopyWarning: \n",
      "A value is trying to be set on a copy of a slice from a DataFrame.\n",
      "Try using .loc[row_indexer,col_indexer] = value instead\n",
      "\n",
      "See the caveats in the documentation: https://pandas.pydata.org/pandas-docs/stable/user_guide/indexing.html#returning-a-view-versus-a-copy\n",
      "  data_for_model[\"index\"] = data_for_model.index\n"
     ]
    },
    {
     "data": {
      "text/html": [
       "<div>\n",
       "<style scoped>\n",
       "    .dataframe tbody tr th:only-of-type {\n",
       "        vertical-align: middle;\n",
       "    }\n",
       "\n",
       "    .dataframe tbody tr th {\n",
       "        vertical-align: top;\n",
       "    }\n",
       "\n",
       "    .dataframe thead th {\n",
       "        text-align: right;\n",
       "    }\n",
       "</style>\n",
       "<table border=\"1\" class=\"dataframe\">\n",
       "  <thead>\n",
       "    <tr style=\"text-align: right;\">\n",
       "      <th></th>\n",
       "      <th>index</th>\n",
       "      <th>text</th>\n",
       "      <th>clean_text</th>\n",
       "      <th>text_tokens</th>\n",
       "      <th>conversation_id</th>\n",
       "      <th>author_id</th>\n",
       "      <th>created_at</th>\n",
       "      <th>public_metrics.like_count</th>\n",
       "      <th>public_metrics.reply_count</th>\n",
       "      <th>tokens_roy</th>\n",
       "      <th>language</th>\n",
       "      <th>created_at_date</th>\n",
       "    </tr>\n",
       "  </thead>\n",
       "  <tbody>\n",
       "    <tr>\n",
       "      <th>0</th>\n",
       "      <td>0</td>\n",
       "      <td>RT @10DowningStreet: - More than 34 countries\\...</td>\n",
       "      <td>rt downingstreet more than countries places in...</td>\n",
       "      <td>['rt_downingstreet', 'countries', 'places_uk',...</td>\n",
       "      <td>1079747729419657217</td>\n",
       "      <td>76650839</td>\n",
       "      <td>2018-12-31T14:34:54.000Z</td>\n",
       "      <td>0</td>\n",
       "      <td>0</td>\n",
       "      <td>[rt, downingstreet, countries, places, uk, mee...</td>\n",
       "      <td>en</td>\n",
       "      <td>2018-12-31</td>\n",
       "    </tr>\n",
       "    <tr>\n",
       "      <th>1</th>\n",
       "      <td>1</td>\n",
       "      <td>RT @GavinWilliamson: I want to thank all those...</td>\n",
       "      <td>rt gavinwilliamson want to thank all those ser...</td>\n",
       "      <td>['rt_gavinwilliamson', 'want_thank', 'serving'...</td>\n",
       "      <td>1079747690110570496</td>\n",
       "      <td>76650839</td>\n",
       "      <td>2018-12-31T14:34:44.000Z</td>\n",
       "      <td>0</td>\n",
       "      <td>0</td>\n",
       "      <td>[rt, gavinwilliamson, want, thank, serving, br...</td>\n",
       "      <td>en</td>\n",
       "      <td>2018-12-31</td>\n",
       "    </tr>\n",
       "    <tr>\n",
       "      <th>2</th>\n",
       "      <td>2</td>\n",
       "      <td>RT @UKGovWales: Welsh Secretary @AlunCairns ex...</td>\n",
       "      <td>rt ukgovwales welsh secretary aluncairns exten...</td>\n",
       "      <td>['rt_ukgovwales_welsh_secretary', 'aluncairns'...</td>\n",
       "      <td>1078943309744070657</td>\n",
       "      <td>76650839</td>\n",
       "      <td>2018-12-29T09:18:25.000Z</td>\n",
       "      <td>0</td>\n",
       "      <td>0</td>\n",
       "      <td>[rt, ukgovwales, welsh, secretary, aluncairns,...</td>\n",
       "      <td>en</td>\n",
       "      <td>2018-12-29</td>\n",
       "    </tr>\n",
       "    <tr>\n",
       "      <th>3</th>\n",
       "      <td>3</td>\n",
       "      <td>@TicketTattle @_BARRYISLAND_ @tfwrail Sure thing</td>\n",
       "      <td>tickettattle tfwrail sure thing</td>\n",
       "      <td>['tickettattle', 'tfwrail', 'sure_thing']</td>\n",
       "      <td>1078738567193640960</td>\n",
       "      <td>76650839</td>\n",
       "      <td>2018-12-28T19:58:04.000Z</td>\n",
       "      <td>1</td>\n",
       "      <td>3</td>\n",
       "      <td>[tickettattle, tfwrail, sure, thing]</td>\n",
       "      <td>en</td>\n",
       "      <td>2018-12-28</td>\n",
       "    </tr>\n",
       "    <tr>\n",
       "      <th>4</th>\n",
       "      <td>4</td>\n",
       "      <td>@WPL_Official @BarryTownUnited @the_nomads @Ba...</td>\n",
       "      <td>wpl_official barrytownunited the_nomads balato...</td>\n",
       "      <td>['wpl_official', 'barrytownunited', 'the_nomad...</td>\n",
       "      <td>1077967555879452672</td>\n",
       "      <td>76650839</td>\n",
       "      <td>2018-12-26T21:24:01.000Z</td>\n",
       "      <td>3</td>\n",
       "      <td>1</td>\n",
       "      <td>[wpl_official, barrytownunited, the_nomads, ba...</td>\n",
       "      <td>en</td>\n",
       "      <td>2018-12-26</td>\n",
       "    </tr>\n",
       "  </tbody>\n",
       "</table>\n",
       "</div>"
      ],
      "text/plain": [
       "   index                                               text  \\\n",
       "0      0  RT @10DowningStreet: - More than 34 countries\\...   \n",
       "1      1  RT @GavinWilliamson: I want to thank all those...   \n",
       "2      2  RT @UKGovWales: Welsh Secretary @AlunCairns ex...   \n",
       "3      3   @TicketTattle @_BARRYISLAND_ @tfwrail Sure thing   \n",
       "4      4  @WPL_Official @BarryTownUnited @the_nomads @Ba...   \n",
       "\n",
       "                                          clean_text  \\\n",
       "0  rt downingstreet more than countries places in...   \n",
       "1  rt gavinwilliamson want to thank all those ser...   \n",
       "2  rt ukgovwales welsh secretary aluncairns exten...   \n",
       "3                    tickettattle tfwrail sure thing   \n",
       "4  wpl_official barrytownunited the_nomads balato...   \n",
       "\n",
       "                                         text_tokens      conversation_id  \\\n",
       "0  ['rt_downingstreet', 'countries', 'places_uk',...  1079747729419657217   \n",
       "1  ['rt_gavinwilliamson', 'want_thank', 'serving'...  1079747690110570496   \n",
       "2  ['rt_ukgovwales_welsh_secretary', 'aluncairns'...  1078943309744070657   \n",
       "3          ['tickettattle', 'tfwrail', 'sure_thing']  1078738567193640960   \n",
       "4  ['wpl_official', 'barrytownunited', 'the_nomad...  1077967555879452672   \n",
       "\n",
       "  author_id                created_at  public_metrics.like_count  \\\n",
       "0  76650839  2018-12-31T14:34:54.000Z                          0   \n",
       "1  76650839  2018-12-31T14:34:44.000Z                          0   \n",
       "2  76650839  2018-12-29T09:18:25.000Z                          0   \n",
       "3  76650839  2018-12-28T19:58:04.000Z                          1   \n",
       "4  76650839  2018-12-26T21:24:01.000Z                          3   \n",
       "\n",
       "   public_metrics.reply_count  \\\n",
       "0                           0   \n",
       "1                           0   \n",
       "2                           0   \n",
       "3                           3   \n",
       "4                           1   \n",
       "\n",
       "                                          tokens_roy language created_at_date  \n",
       "0  [rt, downingstreet, countries, places, uk, mee...       en      2018-12-31  \n",
       "1  [rt, gavinwilliamson, want, thank, serving, br...       en      2018-12-31  \n",
       "2  [rt, ukgovwales, welsh, secretary, aluncairns,...       en      2018-12-29  \n",
       "3               [tickettattle, tfwrail, sure, thing]       en      2018-12-28  \n",
       "4  [wpl_official, barrytownunited, the_nomads, ba...       en      2018-12-26  "
      ]
     },
     "execution_count": 7,
     "metadata": {},
     "output_type": "execute_result"
    }
   ],
   "source": [
    "data_for_model = tweets_table_all_with_sentimet[[\"text\", \"clean_text\", \"text_tokens\", \"conversation_id\", \"author_id\", \"created_at\",\n",
    "                                'public_metrics.like_count',  'public_metrics.reply_count', \"Year_tweet\"]]\n",
    "data_for_model[\"tokens_roy\"] = tokens_roy\n",
    "#data_for_model[\"language\"] = language_classifications\n",
    "### adding the tweet date column\n",
    "data_for_model['created_at_date'] = data_for_model['created_at'].apply(lambda x: x[0:10])\n",
    "data_for_model['created_at_date'] = data_for_model['created_at_date'].apply(lambda x: datetime.datetime.strptime(x, \"%Y-%m-%d\"))\n",
    "\n",
    "#data_for_model = data_for_model[data_for_model[\"language\"] == \"en\"]\n",
    "\n",
    "data_for_model.reset_index(inplace=True)\n",
    "data_for_model[\"index\"] = data_for_model.index\n",
    "\n",
    "print(\"Number of rows in the data for model: \", data_for_model.shape[0])\n",
    "data_for_model.head()"
   ]
  },
  {
   "cell_type": "code",
   "execution_count": 118,
   "id": "d48ff786",
   "metadata": {
    "ExecuteTime": {
     "end_time": "2022-06-16T10:26:14.167109Z",
     "start_time": "2022-06-16T10:26:14.152117Z"
    }
   },
   "outputs": [
    {
     "data": {
      "text/plain": [
       "(348666, 12)"
      ]
     },
     "execution_count": 118,
     "metadata": {},
     "output_type": "execute_result"
    }
   ],
   "source": [
    "data_for_model.shape"
   ]
  },
  {
   "cell_type": "code",
   "execution_count": 122,
   "id": "9a1e3a44",
   "metadata": {
    "ExecuteTime": {
     "end_time": "2022-06-16T10:28:28.551629Z",
     "start_time": "2022-06-16T10:28:28.541636Z"
    }
   },
   "outputs": [
    {
     "data": {
      "text/plain": [
       "Index(['index', 'text', 'clean_text', 'text_tokens', 'conversation_id',\n",
       "       'author_id', 'created_at', 'public_metrics.like_count',\n",
       "       'public_metrics.reply_count', 'tokens_roy', 'language',\n",
       "       'created_at_date'],\n",
       "      dtype='object')"
      ]
     },
     "execution_count": 122,
     "metadata": {},
     "output_type": "execute_result"
    }
   ],
   "source": [
    "data_for_model.columns"
   ]
  },
  {
   "cell_type": "code",
   "execution_count": 123,
   "id": "dd1a873a",
   "metadata": {
    "ExecuteTime": {
     "end_time": "2022-06-16T10:32:24.781207Z",
     "start_time": "2022-06-16T10:32:24.652288Z"
    }
   },
   "outputs": [],
   "source": [
    "data_for_model['year'] = pd.DatetimeIndex(data_for_model['created_at_date']).year\n"
   ]
  },
  {
   "cell_type": "code",
   "execution_count": 124,
   "id": "d2c9e48b",
   "metadata": {
    "ExecuteTime": {
     "end_time": "2022-06-16T10:32:43.020701Z",
     "start_time": "2022-06-16T10:32:42.997717Z"
    }
   },
   "outputs": [
    {
     "data": {
      "text/plain": [
       "0         2018\n",
       "1         2018\n",
       "2         2018\n",
       "3         2018\n",
       "4         2018\n",
       "          ... \n",
       "348661    2019\n",
       "348662    2019\n",
       "348663    2019\n",
       "348664    2019\n",
       "348665    2019\n",
       "Name: year, Length: 348666, dtype: int64"
      ]
     },
     "execution_count": 124,
     "metadata": {},
     "output_type": "execute_result"
    }
   ],
   "source": [
    "data_for_model.year"
   ]
  },
  {
   "cell_type": "code",
   "execution_count": 130,
   "id": "5caf71e4",
   "metadata": {
    "ExecuteTime": {
     "end_time": "2022-06-16T10:34:33.432768Z",
     "start_time": "2022-06-16T10:34:32.597246Z"
    }
   },
   "outputs": [
    {
     "data": {
      "text/html": [
       "<div>\n",
       "<style scoped>\n",
       "    .dataframe tbody tr th:only-of-type {\n",
       "        vertical-align: middle;\n",
       "    }\n",
       "\n",
       "    .dataframe tbody tr th {\n",
       "        vertical-align: top;\n",
       "    }\n",
       "\n",
       "    .dataframe thead th {\n",
       "        text-align: right;\n",
       "    }\n",
       "</style>\n",
       "<table border=\"1\" class=\"dataframe\">\n",
       "  <thead>\n",
       "    <tr style=\"text-align: right;\">\n",
       "      <th></th>\n",
       "      <th>index</th>\n",
       "      <th>text</th>\n",
       "      <th>clean_text</th>\n",
       "      <th>text_tokens</th>\n",
       "      <th>conversation_id</th>\n",
       "      <th>author_id</th>\n",
       "      <th>created_at</th>\n",
       "      <th>public_metrics.like_count</th>\n",
       "      <th>public_metrics.reply_count</th>\n",
       "      <th>tokens_roy</th>\n",
       "      <th>language</th>\n",
       "      <th>created_at_date</th>\n",
       "      <th>year</th>\n",
       "    </tr>\n",
       "  </thead>\n",
       "  <tbody>\n",
       "    <tr>\n",
       "      <th>0</th>\n",
       "      <td>0</td>\n",
       "      <td>RT @10DowningStreet: - More than 34 countries\\...</td>\n",
       "      <td>rt downingstreet more than countries places in...</td>\n",
       "      <td>['rt_downingstreet', 'countries', 'places_uk',...</td>\n",
       "      <td>1079747729419657217</td>\n",
       "      <td>76650839</td>\n",
       "      <td>2018-12-31T14:34:54.000Z</td>\n",
       "      <td>0</td>\n",
       "      <td>0</td>\n",
       "      <td>[rt, downingstreet, countries, places, uk, mee...</td>\n",
       "      <td>en</td>\n",
       "      <td>2018-12-31</td>\n",
       "      <td>2018</td>\n",
       "    </tr>\n",
       "    <tr>\n",
       "      <th>1</th>\n",
       "      <td>1</td>\n",
       "      <td>RT @GavinWilliamson: I want to thank all those...</td>\n",
       "      <td>rt gavinwilliamson want to thank all those ser...</td>\n",
       "      <td>['rt_gavinwilliamson', 'want_thank', 'serving'...</td>\n",
       "      <td>1079747690110570496</td>\n",
       "      <td>76650839</td>\n",
       "      <td>2018-12-31T14:34:44.000Z</td>\n",
       "      <td>0</td>\n",
       "      <td>0</td>\n",
       "      <td>[rt, gavinwilliamson, want, thank, serving, br...</td>\n",
       "      <td>en</td>\n",
       "      <td>2018-12-31</td>\n",
       "      <td>2018</td>\n",
       "    </tr>\n",
       "    <tr>\n",
       "      <th>2</th>\n",
       "      <td>2</td>\n",
       "      <td>RT @UKGovWales: Welsh Secretary @AlunCairns ex...</td>\n",
       "      <td>rt ukgovwales welsh secretary aluncairns exten...</td>\n",
       "      <td>['rt_ukgovwales_welsh_secretary', 'aluncairns'...</td>\n",
       "      <td>1078943309744070657</td>\n",
       "      <td>76650839</td>\n",
       "      <td>2018-12-29T09:18:25.000Z</td>\n",
       "      <td>0</td>\n",
       "      <td>0</td>\n",
       "      <td>[rt, ukgovwales, welsh, secretary, aluncairns,...</td>\n",
       "      <td>en</td>\n",
       "      <td>2018-12-29</td>\n",
       "      <td>2018</td>\n",
       "    </tr>\n",
       "    <tr>\n",
       "      <th>3</th>\n",
       "      <td>3</td>\n",
       "      <td>@TicketTattle @_BARRYISLAND_ @tfwrail Sure thing</td>\n",
       "      <td>tickettattle tfwrail sure thing</td>\n",
       "      <td>['tickettattle', 'tfwrail', 'sure_thing']</td>\n",
       "      <td>1078738567193640960</td>\n",
       "      <td>76650839</td>\n",
       "      <td>2018-12-28T19:58:04.000Z</td>\n",
       "      <td>1</td>\n",
       "      <td>3</td>\n",
       "      <td>[tickettattle, tfwrail, sure, thing]</td>\n",
       "      <td>en</td>\n",
       "      <td>2018-12-28</td>\n",
       "      <td>2018</td>\n",
       "    </tr>\n",
       "    <tr>\n",
       "      <th>4</th>\n",
       "      <td>4</td>\n",
       "      <td>@WPL_Official @BarryTownUnited @the_nomads @Ba...</td>\n",
       "      <td>wpl_official barrytownunited the_nomads balato...</td>\n",
       "      <td>['wpl_official', 'barrytownunited', 'the_nomad...</td>\n",
       "      <td>1077967555879452672</td>\n",
       "      <td>76650839</td>\n",
       "      <td>2018-12-26T21:24:01.000Z</td>\n",
       "      <td>3</td>\n",
       "      <td>1</td>\n",
       "      <td>[wpl_official, barrytownunited, the_nomads, ba...</td>\n",
       "      <td>en</td>\n",
       "      <td>2018-12-26</td>\n",
       "      <td>2018</td>\n",
       "    </tr>\n",
       "    <tr>\n",
       "      <th>...</th>\n",
       "      <td>...</td>\n",
       "      <td>...</td>\n",
       "      <td>...</td>\n",
       "      <td>...</td>\n",
       "      <td>...</td>\n",
       "      <td>...</td>\n",
       "      <td>...</td>\n",
       "      <td>...</td>\n",
       "      <td>...</td>\n",
       "      <td>...</td>\n",
       "      <td>...</td>\n",
       "      <td>...</td>\n",
       "      <td>...</td>\n",
       "    </tr>\n",
       "    <tr>\n",
       "      <th>291749</th>\n",
       "      <td>291749</td>\n",
       "      <td>'The Oxfam scandal should not lead us into the...</td>\n",
       "      <td>the oxfam scandal should not lead us into the ...</td>\n",
       "      <td>['oxfam_scandal', 'lead_us', 'blunder', 'cutti...</td>\n",
       "      <td>963363572310052865</td>\n",
       "      <td>122994639</td>\n",
       "      <td>2018-02-13T10:45:48.000Z</td>\n",
       "      <td>45</td>\n",
       "      <td>12</td>\n",
       "      <td>[oxfam, scandal, lead, us, blunder, cutting, a...</td>\n",
       "      <td>en</td>\n",
       "      <td>2018-02-13</td>\n",
       "      <td>2018</td>\n",
       "    </tr>\n",
       "    <tr>\n",
       "      <th>291750</th>\n",
       "      <td>291750</td>\n",
       "      <td>'Brexit doesn't have to be a life or death str...</td>\n",
       "      <td>brexit does not have to be life or death strug...</td>\n",
       "      <td>['brexit_doesn', 'life_death', 'struggle', 'mi...</td>\n",
       "      <td>960887786378231808</td>\n",
       "      <td>122994639</td>\n",
       "      <td>2018-02-06T14:47:55.000Z</td>\n",
       "      <td>36</td>\n",
       "      <td>2</td>\n",
       "      <td>[brexit, life, death, struggle, ministers, mus...</td>\n",
       "      <td>en</td>\n",
       "      <td>2018-02-06</td>\n",
       "      <td>2018</td>\n",
       "    </tr>\n",
       "    <tr>\n",
       "      <th>291751</th>\n",
       "      <td>291751</td>\n",
       "      <td>'Britain is leaving the EU but we must not ret...</td>\n",
       "      <td>britain is leaving the eu but we must not retr...</td>\n",
       "      <td>['britain_leaving', 'eu_must', 'retreat', 'res...</td>\n",
       "      <td>955736155894566912</td>\n",
       "      <td>122994639</td>\n",
       "      <td>2018-01-23T09:37:10.000Z</td>\n",
       "      <td>31</td>\n",
       "      <td>6</td>\n",
       "      <td>[britain, leaving, eu, must, retreat, rest, wo...</td>\n",
       "      <td>en</td>\n",
       "      <td>2018-01-23</td>\n",
       "      <td>2018</td>\n",
       "    </tr>\n",
       "    <tr>\n",
       "      <th>291752</th>\n",
       "      <td>291752</td>\n",
       "      <td>'Ukip no longer has a reason to exist as a par...</td>\n",
       "      <td>ukip no longer has reason to exist as party an...</td>\n",
       "      <td>['ukip', 'longer', 'reason_exist', 'party', 'd...</td>\n",
       "      <td>953207746085642240</td>\n",
       "      <td>122994639</td>\n",
       "      <td>2018-01-16T10:10:11.000Z</td>\n",
       "      <td>104</td>\n",
       "      <td>53</td>\n",
       "      <td>[ukip, longer, reason, exist, party, dissolve,...</td>\n",
       "      <td>en</td>\n",
       "      <td>2018-01-16</td>\n",
       "      <td>2018</td>\n",
       "    </tr>\n",
       "    <tr>\n",
       "      <th>291753</th>\n",
       "      <td>291753</td>\n",
       "      <td>'British politics offers the greatest opportun...</td>\n",
       "      <td>british politics offers the greatest opportuni...</td>\n",
       "      <td>['british_politics', 'offers', 'greatest', 'op...</td>\n",
       "      <td>950626866997624834</td>\n",
       "      <td>122994639</td>\n",
       "      <td>2018-01-09T07:14:41.000Z</td>\n",
       "      <td>42</td>\n",
       "      <td>11</td>\n",
       "      <td>[british, politics, offers, greatest, opportun...</td>\n",
       "      <td>en</td>\n",
       "      <td>2018-01-09</td>\n",
       "      <td>2018</td>\n",
       "    </tr>\n",
       "  </tbody>\n",
       "</table>\n",
       "<p>49800 rows × 13 columns</p>\n",
       "</div>"
      ],
      "text/plain": [
       "         index                                               text  \\\n",
       "0            0  RT @10DowningStreet: - More than 34 countries\\...   \n",
       "1            1  RT @GavinWilliamson: I want to thank all those...   \n",
       "2            2  RT @UKGovWales: Welsh Secretary @AlunCairns ex...   \n",
       "3            3   @TicketTattle @_BARRYISLAND_ @tfwrail Sure thing   \n",
       "4            4  @WPL_Official @BarryTownUnited @the_nomads @Ba...   \n",
       "...        ...                                                ...   \n",
       "291749  291749  'The Oxfam scandal should not lead us into the...   \n",
       "291750  291750  'Brexit doesn't have to be a life or death str...   \n",
       "291751  291751  'Britain is leaving the EU but we must not ret...   \n",
       "291752  291752  'Ukip no longer has a reason to exist as a par...   \n",
       "291753  291753  'British politics offers the greatest opportun...   \n",
       "\n",
       "                                               clean_text  \\\n",
       "0       rt downingstreet more than countries places in...   \n",
       "1       rt gavinwilliamson want to thank all those ser...   \n",
       "2       rt ukgovwales welsh secretary aluncairns exten...   \n",
       "3                         tickettattle tfwrail sure thing   \n",
       "4       wpl_official barrytownunited the_nomads balato...   \n",
       "...                                                   ...   \n",
       "291749  the oxfam scandal should not lead us into the ...   \n",
       "291750  brexit does not have to be life or death strug...   \n",
       "291751  britain is leaving the eu but we must not retr...   \n",
       "291752  ukip no longer has reason to exist as party an...   \n",
       "291753  british politics offers the greatest opportuni...   \n",
       "\n",
       "                                              text_tokens  \\\n",
       "0       ['rt_downingstreet', 'countries', 'places_uk',...   \n",
       "1       ['rt_gavinwilliamson', 'want_thank', 'serving'...   \n",
       "2       ['rt_ukgovwales_welsh_secretary', 'aluncairns'...   \n",
       "3               ['tickettattle', 'tfwrail', 'sure_thing']   \n",
       "4       ['wpl_official', 'barrytownunited', 'the_nomad...   \n",
       "...                                                   ...   \n",
       "291749  ['oxfam_scandal', 'lead_us', 'blunder', 'cutti...   \n",
       "291750  ['brexit_doesn', 'life_death', 'struggle', 'mi...   \n",
       "291751  ['britain_leaving', 'eu_must', 'retreat', 'res...   \n",
       "291752  ['ukip', 'longer', 'reason_exist', 'party', 'd...   \n",
       "291753  ['british_politics', 'offers', 'greatest', 'op...   \n",
       "\n",
       "            conversation_id  author_id                created_at  \\\n",
       "0       1079747729419657217   76650839  2018-12-31T14:34:54.000Z   \n",
       "1       1079747690110570496   76650839  2018-12-31T14:34:44.000Z   \n",
       "2       1078943309744070657   76650839  2018-12-29T09:18:25.000Z   \n",
       "3       1078738567193640960   76650839  2018-12-28T19:58:04.000Z   \n",
       "4       1077967555879452672   76650839  2018-12-26T21:24:01.000Z   \n",
       "...                     ...        ...                       ...   \n",
       "291749   963363572310052865  122994639  2018-02-13T10:45:48.000Z   \n",
       "291750   960887786378231808  122994639  2018-02-06T14:47:55.000Z   \n",
       "291751   955736155894566912  122994639  2018-01-23T09:37:10.000Z   \n",
       "291752   953207746085642240  122994639  2018-01-16T10:10:11.000Z   \n",
       "291753   950626866997624834  122994639  2018-01-09T07:14:41.000Z   \n",
       "\n",
       "        public_metrics.like_count  public_metrics.reply_count  \\\n",
       "0                               0                           0   \n",
       "1                               0                           0   \n",
       "2                               0                           0   \n",
       "3                               1                           3   \n",
       "4                               3                           1   \n",
       "...                           ...                         ...   \n",
       "291749                         45                          12   \n",
       "291750                         36                           2   \n",
       "291751                         31                           6   \n",
       "291752                        104                          53   \n",
       "291753                         42                          11   \n",
       "\n",
       "                                               tokens_roy language  \\\n",
       "0       [rt, downingstreet, countries, places, uk, mee...       en   \n",
       "1       [rt, gavinwilliamson, want, thank, serving, br...       en   \n",
       "2       [rt, ukgovwales, welsh, secretary, aluncairns,...       en   \n",
       "3                    [tickettattle, tfwrail, sure, thing]       en   \n",
       "4       [wpl_official, barrytownunited, the_nomads, ba...       en   \n",
       "...                                                   ...      ...   \n",
       "291749  [oxfam, scandal, lead, us, blunder, cutting, a...       en   \n",
       "291750  [brexit, life, death, struggle, ministers, mus...       en   \n",
       "291751  [britain, leaving, eu, must, retreat, rest, wo...       en   \n",
       "291752  [ukip, longer, reason, exist, party, dissolve,...       en   \n",
       "291753  [british, politics, offers, greatest, opportun...       en   \n",
       "\n",
       "       created_at_date  year  \n",
       "0           2018-12-31  2018  \n",
       "1           2018-12-31  2018  \n",
       "2           2018-12-29  2018  \n",
       "3           2018-12-28  2018  \n",
       "4           2018-12-26  2018  \n",
       "...                ...   ...  \n",
       "291749      2018-02-13  2018  \n",
       "291750      2018-02-06  2018  \n",
       "291751      2018-01-23  2018  \n",
       "291752      2018-01-16  2018  \n",
       "291753      2018-01-09  2018  \n",
       "\n",
       "[49800 rows x 13 columns]"
      ]
     },
     "execution_count": 130,
     "metadata": {},
     "output_type": "execute_result"
    }
   ],
   "source": [
    "data_for_model_2018 = data_for_model[data_for_model.year == 2018]"
   ]
  },
  {
   "cell_type": "code",
   "execution_count": 152,
   "id": "7f008676",
   "metadata": {
    "ExecuteTime": {
     "end_time": "2022-05-14T14:59:16.843593Z",
     "start_time": "2022-05-14T14:59:16.840592Z"
    }
   },
   "outputs": [],
   "source": [
    "#bigram = gensim.models.Phrases(data_for_model['text'], min_count=2, threshold=2, connector_words=gensim.models.phrases.ENGLISH_CONNECTOR_WORDS)\n",
    "#bigram_model = gensim.models.phrases.Phraser(bigram)"
   ]
  },
  {
   "cell_type": "code",
   "execution_count": 159,
   "id": "7fadd5a3",
   "metadata": {
    "ExecuteTime": {
     "end_time": "2022-05-14T15:00:27.761011Z",
     "start_time": "2022-05-14T15:00:27.751015Z"
    }
   },
   "outputs": [
    {
     "data": {
      "text/plain": [
       "['roy love the brxit eu best government policy turn around']"
      ]
     },
     "execution_count": 159,
     "metadata": {},
     "output_type": "execute_result"
    }
   ],
   "source": [
    "#text1 = [\"roy love the brxit eu best government policy turn around\"]\n",
    "#bigram_model[text1]"
   ]
  },
  {
   "cell_type": "markdown",
   "id": "2cddd2e7",
   "metadata": {},
   "source": [
    "# Train word2vec"
   ]
  },
  {
   "cell_type": "code",
   "execution_count": 8,
   "id": "d34cfde0",
   "metadata": {
    "ExecuteTime": {
     "end_time": "2022-06-16T07:01:57.007603Z",
     "start_time": "2022-06-16T07:01:54.448341Z"
    }
   },
   "outputs": [],
   "source": [
    "### Build vocabulary + train\n",
    "model_file_name = os.path.join(data_folder, \"word2vec_v4_all_300k_tweets\")\n",
    "if not os.path.isfile(model_file_name):\n",
    "    model = gensim.models.Word2Vec(sentences = tokens_roy, #Train a word2vec model with the birams + the regular words\n",
    "                                  vector_size = 300,\n",
    "                                  window = 7, \n",
    "                                  min_count = 2,                              \n",
    "                                  epochs =5,\n",
    "                                  sg = 0, #0: CBOW, 1:skip-gram\n",
    "                                  workers = os.cpu_count())\n",
    "    model.save(model_file_name)\n",
    "else:\n",
    "    model = gensim.models.Word2Vec.load(model_file_name)\n"
   ]
  },
  {
   "cell_type": "code",
   "execution_count": 14,
   "id": "e6f67dc7",
   "metadata": {
    "ExecuteTime": {
     "end_time": "2022-06-16T07:07:45.182425Z",
     "start_time": "2022-06-16T07:07:45.166430Z"
    }
   },
   "outputs": [
    {
     "data": {
      "text/plain": [
       "array([-1.1186508 ,  0.17959395, -0.680517  , -0.38393763,  3.6149414 ,\n",
       "        0.6604061 ,  1.7550558 , -0.93638545,  0.8161035 , -0.01021992,\n",
       "        1.1432894 , -0.7711907 ,  0.65070546, -0.57890624, -2.2964327 ,\n",
       "       -1.8928397 ,  0.7795299 , -2.1153846 , -1.0311927 , -1.0100665 ,\n",
       "       -2.182602  , -0.17446534,  1.0544779 , -0.0642774 , -0.65518737,\n",
       "       -1.0060024 ,  0.49787682, -1.0716285 , -1.5270313 ,  0.3092009 ,\n",
       "        0.51225144, -0.4242955 , -2.3756166 , -4.4606857 ,  1.4070276 ,\n",
       "       -4.50669   , -1.6052907 ,  0.52796775,  0.8758657 ,  0.8046069 ,\n",
       "       -2.1420543 ,  0.28446707, -0.94971853, -1.647383  , -0.3348651 ,\n",
       "       -1.4165876 ,  0.49056172,  1.2992158 ,  0.9226877 ,  2.1919484 ,\n",
       "        0.59443873, -1.9579701 , -1.2072202 , -0.60869825, -0.15582009,\n",
       "        0.39779449,  1.5150242 , -0.63911426,  1.1574689 ,  2.1969984 ,\n",
       "       -2.9865253 , -0.84371966,  0.6973493 , -1.6552807 , -0.14901602,\n",
       "       -1.3342224 , -0.3298644 ,  0.6311795 , -0.68805736, -2.4235334 ,\n",
       "        0.41760704,  0.5903294 , -0.16604485, -0.45511067, -2.2261543 ,\n",
       "       -1.7698833 , -1.4015975 , -1.2471387 , -0.09992236, -2.3828049 ,\n",
       "       -0.69733036,  0.8396094 ,  1.0602928 , -0.19056396,  1.6315899 ,\n",
       "       -0.6321329 , -0.5538131 ,  0.6594399 ,  0.5721624 ,  0.06105126,\n",
       "       -1.4088355 , -0.62767404,  0.92218643, -2.3961043 ,  1.5002189 ,\n",
       "        2.528595  ,  0.9199485 , -0.6820186 , -0.6849347 ,  0.0555629 ,\n",
       "        0.6133252 ,  0.23804046, -0.5971204 ,  0.72248113,  1.9044002 ,\n",
       "        0.2161995 ,  1.4283658 ,  1.0468379 , -0.3626919 ,  1.3972802 ,\n",
       "       -0.3028044 , -1.907423  ,  2.0173893 ,  0.629634  , -0.90731055,\n",
       "        1.0912292 ,  1.5415252 ,  1.3941231 , -0.11383732, -0.7022451 ,\n",
       "        0.32132372, -0.64731133,  1.2794852 ,  1.718381  ,  1.0244683 ,\n",
       "        0.89232063,  0.42014748,  0.12243257,  0.5129696 ,  0.02548674,\n",
       "        1.5734001 ,  0.80001277,  3.1680229 , -0.47259322, -0.45775843,\n",
       "        0.8201805 ,  1.2500738 , -0.02099551, -0.5045491 , -1.0276473 ,\n",
       "        0.6599248 , -0.2319532 ,  0.38493025, -1.1278594 ,  0.8716964 ,\n",
       "       -0.76477665,  0.13971712,  0.87444556,  0.29262337,  0.79267544,\n",
       "        1.5844004 ,  0.38852364, -0.9711999 , -0.41335258,  0.26815328,\n",
       "       -1.671609  , -0.13044487, -1.5757982 , -0.23329793,  0.18047732,\n",
       "        1.5057843 , -0.8320309 , -1.1728506 ,  1.1059228 , -0.28395227,\n",
       "        0.11042257,  0.77510214, -0.9485282 ,  1.735794  ,  1.6963289 ,\n",
       "       -1.2466356 , -1.1002754 ,  0.79560673,  2.3961244 , -0.17639518,\n",
       "       -0.21571498, -1.6036468 ,  0.9405379 , -1.7385038 , -0.18614751,\n",
       "        0.0513001 , -0.9158035 ,  1.4478996 ,  0.6785914 ,  0.21613379,\n",
       "        1.7077878 ,  2.5119796 , -0.53937376,  0.44255838, -2.0302339 ,\n",
       "        0.9752892 ,  0.96177304, -0.41656092, -1.7048969 ,  1.6890997 ,\n",
       "       -1.7806957 ,  1.7092919 , -1.5585401 ,  0.9549822 ,  1.306347  ,\n",
       "       -0.7015806 , -2.9624393 ,  0.00615083, -0.11984501, -0.436893  ,\n",
       "        0.9997625 , -0.73500997, -1.025268  , -3.3643484 , -1.1349498 ,\n",
       "       -0.6892249 , -1.5261534 , -0.6248069 ,  2.8744636 ,  0.01097206,\n",
       "       -0.51806206,  0.12754133, -2.1867032 , -1.0898578 , -1.140267  ,\n",
       "       -0.86109   , -0.66898227,  1.9363433 ,  0.98754907,  1.4102222 ,\n",
       "        1.4460037 , -0.41461453,  0.49664164,  0.22654974, -0.5806264 ,\n",
       "       -1.8483377 , -0.34997278, -0.6472878 , -0.91394925,  0.5139261 ,\n",
       "       -0.81075853,  0.5802659 , -0.12094662,  0.1487694 ,  2.0369036 ,\n",
       "       -0.7332582 ,  1.1964759 ,  1.0371449 ,  1.2584918 ,  0.48800766,\n",
       "       -0.28650627, -0.81795985,  0.82710296, -0.8958586 ,  0.8341932 ,\n",
       "        0.98296726,  0.53172827, -1.2492292 , -0.55961764, -0.7274419 ,\n",
       "       -0.62520736,  1.5408875 ,  0.7652736 ,  0.93631715, -1.3750383 ,\n",
       "       -0.64806104, -0.45732987,  0.32143477,  0.97988844, -0.98705494,\n",
       "        0.1762815 , -4.0923676 ,  0.39416286, -0.60013026, -0.18233345,\n",
       "       -0.921646  ,  2.9760392 ,  1.4891579 , -1.0304137 , -1.1769315 ,\n",
       "       -0.517548  , -0.16416723, -1.0237787 , -0.573668  ,  1.5016167 ,\n",
       "       -0.7141153 , -1.623912  , -0.5330964 ,  2.3313048 ,  0.35662457,\n",
       "        1.8092855 , -1.4809103 ,  2.0515285 ,  0.52590156,  0.57111245,\n",
       "       -1.3906318 ,  1.5972906 , -0.8076917 ,  2.5120046 ,  0.7272567 ,\n",
       "        1.4679881 ,  0.00584874, -0.8350928 , -0.43625724,  0.24100317],\n",
       "      dtype=float32)"
      ]
     },
     "execution_count": 14,
     "metadata": {},
     "output_type": "execute_result"
    }
   ],
   "source": [
    "### get brexit word2vec representation\n",
    "brexit_representation = model.wv[\"brexit\"]\n",
    "brexit_representation"
   ]
  },
  {
   "cell_type": "code",
   "execution_count": 111,
   "id": "4a4d8271",
   "metadata": {
    "ExecuteTime": {
     "end_time": "2022-06-16T10:23:16.584049Z",
     "start_time": "2022-06-16T10:23:15.807465Z"
    }
   },
   "outputs": [
    {
     "data": {
      "text/plain": [
       "[('ugidi', 0.6318014860153198),\n",
       " ('specialized', 0.6144781708717346),\n",
       " ('chequers', 0.6038205027580261),\n",
       " ('exit', 0.5981384515762329),\n",
       " ('ttip', 0.5944774746894836),\n",
       " ('brexiteers', 0.5782798528671265),\n",
       " ('barnier', 0.578162431716919),\n",
       " ('backstop', 0.5695449709892273),\n",
       " ('revitalized', 0.5678130984306335),\n",
       " ('cer_grant', 0.5675654411315918)]"
      ]
     },
     "execution_count": 111,
     "metadata": {},
     "output_type": "execute_result"
    }
   ],
   "source": [
    "model.wv.most_similar(\"brexit\")"
   ]
  },
  {
   "cell_type": "code",
   "execution_count": 112,
   "id": "74a32bf7",
   "metadata": {
    "ExecuteTime": {
     "end_time": "2022-06-16T10:23:41.350574Z",
     "start_time": "2022-06-16T10:23:41.280602Z"
    }
   },
   "outputs": [],
   "source": [
    "referenced_word = \"brexit\"\n",
    "number_of_similar_words = 30\n",
    "\n",
    "simmilar_words = []\n",
    "similar_brexit_representation = []\n",
    "distance_from_referenced_word = []\n",
    "simmilar_words.append(referenced_word)\n",
    "similar_brexit_representation.append(model.wv[referenced_word])\n",
    "distance_from_referenced_word.append(1)\n",
    "\n",
    "#for j in model.wv.most_similar(positive=[referenced_word], negative=[], topn=number_of_similar_words):\n",
    "for j in model.wv.most_similar(referenced_word, topn=number_of_similar_words):\n",
    "    simmilar_words.append(j[0])\n",
    "    distance_from_referenced_word.append(j[1])\n",
    "    word_representation = model.wv[j[0]]\n",
    "    similar_brexit_representation.append(word_representation)\n",
    "\n",
    "similar_brexit_representation = np.asarray(similar_brexit_representation)\n",
    "simmilar_words = np.asarray(simmilar_words)\n",
    "distance_from_referenced_word = np.asarray(distance_from_referenced_word)"
   ]
  },
  {
   "cell_type": "code",
   "execution_count": 113,
   "id": "0c62b9e2",
   "metadata": {
    "ExecuteTime": {
     "end_time": "2022-06-16T10:23:55.185840Z",
     "start_time": "2022-06-16T10:23:53.085889Z"
    },
    "scrolled": true
   },
   "outputs": [
    {
     "name": "stdout",
     "output_type": "stream",
     "text": [
      "[t-SNE] Computing 30 nearest neighbors...\n",
      "[t-SNE] Indexed 31 samples in 0.004s...\n",
      "[t-SNE] Computed neighbors for 31 samples in 0.045s...\n",
      "[t-SNE] Computed conditional probabilities for sample 31 / 31\n",
      "[t-SNE] Mean sigma: 1125899906842624.000000\n"
     ]
    },
    {
     "name": "stderr",
     "output_type": "stream",
     "text": [
      "C:\\Users\\Roy\\anaconda3\\lib\\site-packages\\sklearn\\manifold\\_t_sne.py:780: FutureWarning: The default initialization in TSNE will change from 'random' to 'pca' in 1.2.\n",
      "  warnings.warn(\n",
      "C:\\Users\\Roy\\anaconda3\\lib\\site-packages\\sklearn\\manifold\\_t_sne.py:790: FutureWarning: The default learning rate in TSNE will change from 200.0 to 'auto' in 1.2.\n",
      "  warnings.warn(\n"
     ]
    },
    {
     "name": "stdout",
     "output_type": "stream",
     "text": [
      "[t-SNE] KL divergence after 250 iterations with early exaggeration: 40.246841\n",
      "[t-SNE] KL divergence after 300 iterations: 0.657669\n"
     ]
    }
   ],
   "source": [
    "### performing TSNE on the most k simiilar words to the referenced word\n",
    "from sklearn.manifold import TSNE\n",
    "tsne = TSNE(n_components=2, verbose=1, perplexity=40, n_iter=300)\n",
    "tsne_results = tsne.fit_transform(similar_brexit_representation)"
   ]
  },
  {
   "cell_type": "code",
   "execution_count": 98,
   "id": "c99808aa",
   "metadata": {
    "ExecuteTime": {
     "end_time": "2022-06-16T09:58:05.784197Z",
     "start_time": "2022-06-16T09:58:05.762203Z"
    }
   },
   "outputs": [
    {
     "data": {
      "text/html": [
       "<div>\n",
       "<style scoped>\n",
       "    .dataframe tbody tr th:only-of-type {\n",
       "        vertical-align: middle;\n",
       "    }\n",
       "\n",
       "    .dataframe tbody tr th {\n",
       "        vertical-align: top;\n",
       "    }\n",
       "\n",
       "    .dataframe thead th {\n",
       "        text-align: right;\n",
       "    }\n",
       "</style>\n",
       "<table border=\"1\" class=\"dataframe\">\n",
       "  <thead>\n",
       "    <tr style=\"text-align: right;\">\n",
       "      <th></th>\n",
       "      <th>x</th>\n",
       "      <th>y</th>\n",
       "      <th>word</th>\n",
       "      <th>distance_from_referenced_word</th>\n",
       "      <th>group</th>\n",
       "    </tr>\n",
       "  </thead>\n",
       "  <tbody>\n",
       "    <tr>\n",
       "      <th>0</th>\n",
       "      <td>-101.656906</td>\n",
       "      <td>56.967247</td>\n",
       "      <td>brexit</td>\n",
       "      <td>1.000000</td>\n",
       "      <td>brexit</td>\n",
       "    </tr>\n",
       "    <tr>\n",
       "      <th>1</th>\n",
       "      <td>-9.266330</td>\n",
       "      <td>-42.386021</td>\n",
       "      <td>ugidi</td>\n",
       "      <td>0.631801</td>\n",
       "      <td>0</td>\n",
       "    </tr>\n",
       "    <tr>\n",
       "      <th>2</th>\n",
       "      <td>-43.517380</td>\n",
       "      <td>40.815868</td>\n",
       "      <td>specialized</td>\n",
       "      <td>0.614478</td>\n",
       "      <td>0</td>\n",
       "    </tr>\n",
       "    <tr>\n",
       "      <th>3</th>\n",
       "      <td>531.193787</td>\n",
       "      <td>86.816177</td>\n",
       "      <td>chequers</td>\n",
       "      <td>0.603821</td>\n",
       "      <td>0</td>\n",
       "    </tr>\n",
       "    <tr>\n",
       "      <th>4</th>\n",
       "      <td>-25.166107</td>\n",
       "      <td>70.158615</td>\n",
       "      <td>exit</td>\n",
       "      <td>0.598138</td>\n",
       "      <td>0</td>\n",
       "    </tr>\n",
       "  </tbody>\n",
       "</table>\n",
       "</div>"
      ],
      "text/plain": [
       "            x          y         word  distance_from_referenced_word   group\n",
       "0 -101.656906  56.967247       brexit                       1.000000  brexit\n",
       "1   -9.266330 -42.386021        ugidi                       0.631801       0\n",
       "2  -43.517380  40.815868  specialized                       0.614478       0\n",
       "3  531.193787  86.816177     chequers                       0.603821       0\n",
       "4  -25.166107  70.158615         exit                       0.598138       0"
      ]
     },
     "execution_count": 98,
     "metadata": {},
     "output_type": "execute_result"
    }
   ],
   "source": [
    "### creating the TSNE dataframe\n",
    "df_tsne_results = pd.DataFrame(tsne_results)\n",
    "df_tsne_results = df_tsne_results.rename({0 : \"x\", 1:\"y\"}, axis = 1)\n",
    "df_tsne_results[\"word\"] = simmilar_words\n",
    "df_tsne_results[\"distance_from_referenced_word\"] = distance_from_referenced_word\n",
    "\n",
    "group = [referenced_word]\n",
    "for i in range(df_tsne_results.shape[0]-1):\n",
    "    group.append(\"0\")\n",
    "\n",
    "df_tsne_results[\"group\"] = group\n",
    "\n",
    "df_tsne_results.head()"
   ]
  },
  {
   "cell_type": "code",
   "execution_count": 115,
   "id": "8d7463a0",
   "metadata": {
    "ExecuteTime": {
     "end_time": "2022-06-16T10:24:33.444036Z",
     "start_time": "2022-06-16T10:24:30.376886Z"
    }
   },
   "outputs": [
    {
     "data": {
      "image/png": "[encoded data removed]",
      "text/plain": [
       "<Figure size 720x720 with 1 Axes>"
      ]
     },
     "metadata": {
      "needs_background": "light"
     },
     "output_type": "display_data"
    }
   ],
   "source": [
    "### Visualization using TSNE and seaborn package\n",
    "fig, ax = plt.subplots(figsize=(10,10))\n",
    "markers = {referenced_word: \"X\"}\n",
    "title_tsne = \"TSNE visualization of word:\" + str(referenced_word) + \" with the \" + str(number_of_similar_words) + \" most similar words according to W2V\"\n",
    "sns.scatterplot(data=df_tsne_results, x=\"x\", y=\"y\", hue = \"group\", size=\"distance_from_referenced_word\",\n",
    "               sizes=(40, 600), markers = markers, ax = ax).set(title=title_tsne)\n",
    "\n",
    "for i, word in enumerate (df_tsne_results[\"word\"]):\n",
    "    plt.text(df_tsne_results.x[i]+0.3, df_tsne_results.y[i]+0.3, word)"
   ]
  },
  {
   "cell_type": "markdown",
   "id": "e255c976",
   "metadata": {},
   "source": [
    "### Setting up environment + loading dependecies\n",
    "\n",
    "1. Download https://ffmpeg.org/download.html\n",
    "2. unpack the ffmpeg package in some folder\n",
    "3. in the code, set plt.rcParams[\"animation.ffmpeg_path\"] to point to the ffmpeg.exe file"
   ]
  },
  {
   "cell_type": "code",
   "execution_count": 107,
   "id": "1e40b1fe",
   "metadata": {
    "ExecuteTime": {
     "end_time": "2022-06-16T10:16:18.638676Z",
     "start_time": "2022-06-16T10:16:18.629680Z"
    }
   },
   "outputs": [],
   "source": [
    "from matplotlib.animation import FuncAnimation\n",
    "from IPython.display import HTML\n",
    "\n",
    "plt.rcParams[\"animation.ffmpeg_path\"] = \"animation_files\"\n",
    "\n",
    "\n",
    "\n"
   ]
  },
  {
   "cell_type": "code",
   "execution_count": 106,
   "id": "f938e115",
   "metadata": {
    "ExecuteTime": {
     "end_time": "2022-06-16T10:13:31.751168Z",
     "start_time": "2022-06-16T10:13:31.743172Z"
    }
   },
   "outputs": [
    {
     "data": {
      "text/plain": [
       "'C:\\\\Users\\\\Roy\\\\Documents\\\\A IDC Roy BDA\\\\Third Year - BDA\\\\Semester 2\\\\NLP וכריית טקסט\\\\Final Project NLP'"
      ]
     },
     "execution_count": 106,
     "metadata": {},
     "output_type": "execute_result"
    }
   ],
   "source": [
    "os.getcwd() "
   ]
  },
  {
   "cell_type": "code",
   "execution_count": null,
   "id": "281aca42",
   "metadata": {},
   "outputs": [],
   "source": []
  },
  {
   "cell_type": "code",
   "execution_count": 47,
   "id": "6ca3d348",
   "metadata": {
    "ExecuteTime": {
     "end_time": "2022-06-16T09:29:15.921432Z",
     "start_time": "2022-06-16T09:29:15.720426Z"
    }
   },
   "outputs": [
    {
     "data": {
      "image/png": "[encoded data removed]",
      "text/plain": [
       "<Figure size 864x648 with 1 Axes>"
      ]
     },
     "metadata": {
      "needs_background": "light"
     },
     "output_type": "display_data"
    }
   ],
   "source": [
    "import matplotlib.pyplot as plt\n",
    "plt.figure(figsize=(12,9))\n",
    "plt.scatter(tsne_results[:,0],tsne_results[:,1], s=1)\n",
    "plt.show()"
   ]
  },
  {
   "cell_type": "code",
   "execution_count": 53,
   "id": "d215dca7",
   "metadata": {
    "ExecuteTime": {
     "end_time": "2022-06-16T09:32:51.060713Z",
     "start_time": "2022-06-16T09:32:50.794353Z"
    }
   },
   "outputs": [
    {
     "ename": "ValueError",
     "evalue": "'c' argument must be a color, a sequence of colors, or a sequence of numbers, not ['brexit' 'ugidi' 'specialized' 'chequers' 'exit' 'ttip' 'brexiteers'\n 'barnier' 'backstop' 'revitalized' 'cer_grant' 'deal' 'withdrawal' 'dup'\n 'leave' 'leaving' 'comprehensible' 'negotiating' 'mmcouqayy'\n 'nicolesykes_' 'brexits']",
     "output_type": "error",
     "traceback": [
      "\u001b[1;31m---------------------------------------------------------------------------\u001b[0m",
      "\u001b[1;31mValueError\u001b[0m                                Traceback (most recent call last)",
      "\u001b[1;32m~\\anaconda3\\lib\\site-packages\\matplotlib\\axes\\_axes.py\u001b[0m in \u001b[0;36m_parse_scatter_color_args\u001b[1;34m(c, edgecolors, kwargs, xsize, get_next_color_func)\u001b[0m\n\u001b[0;32m   4220\u001b[0m             \u001b[1;32mtry\u001b[0m\u001b[1;33m:\u001b[0m  \u001b[1;31m# Is 'c' acceptable as PathCollection facecolors?\u001b[0m\u001b[1;33m\u001b[0m\u001b[1;33m\u001b[0m\u001b[0m\n\u001b[1;32m-> 4221\u001b[1;33m                 \u001b[0mcolors\u001b[0m \u001b[1;33m=\u001b[0m \u001b[0mmcolors\u001b[0m\u001b[1;33m.\u001b[0m\u001b[0mto_rgba_array\u001b[0m\u001b[1;33m(\u001b[0m\u001b[0mc\u001b[0m\u001b[1;33m)\u001b[0m\u001b[1;33m\u001b[0m\u001b[1;33m\u001b[0m\u001b[0m\n\u001b[0m\u001b[0;32m   4222\u001b[0m             \u001b[1;32mexcept\u001b[0m \u001b[1;33m(\u001b[0m\u001b[0mTypeError\u001b[0m\u001b[1;33m,\u001b[0m \u001b[0mValueError\u001b[0m\u001b[1;33m)\u001b[0m \u001b[1;32mas\u001b[0m \u001b[0merr\u001b[0m\u001b[1;33m:\u001b[0m\u001b[1;33m\u001b[0m\u001b[1;33m\u001b[0m\u001b[0m\n",
      "\u001b[1;32m~\\anaconda3\\lib\\site-packages\\matplotlib\\colors.py\u001b[0m in \u001b[0;36mto_rgba_array\u001b[1;34m(c, alpha)\u001b[0m\n\u001b[0;32m    376\u001b[0m     \u001b[1;32melse\u001b[0m\u001b[1;33m:\u001b[0m\u001b[1;33m\u001b[0m\u001b[1;33m\u001b[0m\u001b[0m\n\u001b[1;32m--> 377\u001b[1;33m         \u001b[0mrgba\u001b[0m \u001b[1;33m=\u001b[0m \u001b[0mnp\u001b[0m\u001b[1;33m.\u001b[0m\u001b[0marray\u001b[0m\u001b[1;33m(\u001b[0m\u001b[1;33m[\u001b[0m\u001b[0mto_rgba\u001b[0m\u001b[1;33m(\u001b[0m\u001b[0mcc\u001b[0m\u001b[1;33m)\u001b[0m \u001b[1;32mfor\u001b[0m \u001b[0mcc\u001b[0m \u001b[1;32min\u001b[0m \u001b[0mc\u001b[0m\u001b[1;33m]\u001b[0m\u001b[1;33m)\u001b[0m\u001b[1;33m\u001b[0m\u001b[1;33m\u001b[0m\u001b[0m\n\u001b[0m\u001b[0;32m    378\u001b[0m \u001b[1;33m\u001b[0m\u001b[0m\n",
      "\u001b[1;32m~\\anaconda3\\lib\\site-packages\\matplotlib\\colors.py\u001b[0m in \u001b[0;36m<listcomp>\u001b[1;34m(.0)\u001b[0m\n\u001b[0;32m    376\u001b[0m     \u001b[1;32melse\u001b[0m\u001b[1;33m:\u001b[0m\u001b[1;33m\u001b[0m\u001b[1;33m\u001b[0m\u001b[0m\n\u001b[1;32m--> 377\u001b[1;33m         \u001b[0mrgba\u001b[0m \u001b[1;33m=\u001b[0m \u001b[0mnp\u001b[0m\u001b[1;33m.\u001b[0m\u001b[0marray\u001b[0m\u001b[1;33m(\u001b[0m\u001b[1;33m[\u001b[0m\u001b[0mto_rgba\u001b[0m\u001b[1;33m(\u001b[0m\u001b[0mcc\u001b[0m\u001b[1;33m)\u001b[0m \u001b[1;32mfor\u001b[0m \u001b[0mcc\u001b[0m \u001b[1;32min\u001b[0m \u001b[0mc\u001b[0m\u001b[1;33m]\u001b[0m\u001b[1;33m)\u001b[0m\u001b[1;33m\u001b[0m\u001b[1;33m\u001b[0m\u001b[0m\n\u001b[0m\u001b[0;32m    378\u001b[0m \u001b[1;33m\u001b[0m\u001b[0m\n",
      "\u001b[1;32m~\\anaconda3\\lib\\site-packages\\matplotlib\\colors.py\u001b[0m in \u001b[0;36mto_rgba\u001b[1;34m(c, alpha)\u001b[0m\n\u001b[0;32m    186\u001b[0m     \u001b[1;32mif\u001b[0m \u001b[0mrgba\u001b[0m \u001b[1;32mis\u001b[0m \u001b[1;32mNone\u001b[0m\u001b[1;33m:\u001b[0m  \u001b[1;31m# Suppress exception chaining of cache lookup failure.\u001b[0m\u001b[1;33m\u001b[0m\u001b[1;33m\u001b[0m\u001b[0m\n\u001b[1;32m--> 187\u001b[1;33m         \u001b[0mrgba\u001b[0m \u001b[1;33m=\u001b[0m \u001b[0m_to_rgba_no_colorcycle\u001b[0m\u001b[1;33m(\u001b[0m\u001b[0mc\u001b[0m\u001b[1;33m,\u001b[0m \u001b[0malpha\u001b[0m\u001b[1;33m)\u001b[0m\u001b[1;33m\u001b[0m\u001b[1;33m\u001b[0m\u001b[0m\n\u001b[0m\u001b[0;32m    188\u001b[0m         \u001b[1;32mtry\u001b[0m\u001b[1;33m:\u001b[0m\u001b[1;33m\u001b[0m\u001b[1;33m\u001b[0m\u001b[0m\n",
      "\u001b[1;32m~\\anaconda3\\lib\\site-packages\\matplotlib\\colors.py\u001b[0m in \u001b[0;36m_to_rgba_no_colorcycle\u001b[1;34m(c, alpha)\u001b[0m\n\u001b[0;32m    261\u001b[0m             \u001b[1;32mreturn\u001b[0m \u001b[0mc\u001b[0m\u001b[1;33m,\u001b[0m \u001b[0mc\u001b[0m\u001b[1;33m,\u001b[0m \u001b[0mc\u001b[0m\u001b[1;33m,\u001b[0m \u001b[0malpha\u001b[0m \u001b[1;32mif\u001b[0m \u001b[0malpha\u001b[0m \u001b[1;32mis\u001b[0m \u001b[1;32mnot\u001b[0m \u001b[1;32mNone\u001b[0m \u001b[1;32melse\u001b[0m \u001b[1;36m1.\u001b[0m\u001b[1;33m\u001b[0m\u001b[1;33m\u001b[0m\u001b[0m\n\u001b[1;32m--> 262\u001b[1;33m         \u001b[1;32mraise\u001b[0m \u001b[0mValueError\u001b[0m\u001b[1;33m(\u001b[0m\u001b[1;34mf\"Invalid RGBA argument: {orig_c!r}\"\u001b[0m\u001b[1;33m)\u001b[0m\u001b[1;33m\u001b[0m\u001b[1;33m\u001b[0m\u001b[0m\n\u001b[0m\u001b[0;32m    263\u001b[0m     \u001b[1;31m# turn 2-D array into 1-D array\u001b[0m\u001b[1;33m\u001b[0m\u001b[1;33m\u001b[0m\u001b[1;33m\u001b[0m\u001b[0m\n",
      "\u001b[1;31mValueError\u001b[0m: Invalid RGBA argument: 'brexit'",
      "\nThe above exception was the direct cause of the following exception:\n",
      "\u001b[1;31mValueError\u001b[0m                                Traceback (most recent call last)",
      "\u001b[1;32m~\\AppData\\Local\\Temp/ipykernel_3664/1417023151.py\u001b[0m in \u001b[0;36m<module>\u001b[1;34m\u001b[0m\n\u001b[0;32m      1\u001b[0m \u001b[0mplt\u001b[0m\u001b[1;33m.\u001b[0m\u001b[0mfigure\u001b[0m\u001b[1;33m(\u001b[0m\u001b[0mfigsize\u001b[0m\u001b[1;33m=\u001b[0m\u001b[1;33m(\u001b[0m\u001b[1;36m16\u001b[0m\u001b[1;33m,\u001b[0m\u001b[1;36m12\u001b[0m\u001b[1;33m)\u001b[0m\u001b[1;33m)\u001b[0m\u001b[1;33m\u001b[0m\u001b[1;33m\u001b[0m\u001b[0m\n\u001b[1;32m----> 2\u001b[1;33m \u001b[0mplt\u001b[0m\u001b[1;33m.\u001b[0m\u001b[0mscatter\u001b[0m\u001b[1;33m(\u001b[0m\u001b[0mtsne_results\u001b[0m\u001b[1;33m[\u001b[0m\u001b[1;33m:\u001b[0m\u001b[1;33m,\u001b[0m\u001b[1;36m0\u001b[0m\u001b[1;33m]\u001b[0m\u001b[1;33m,\u001b[0m\u001b[0mtsne_results\u001b[0m\u001b[1;33m[\u001b[0m\u001b[1;33m:\u001b[0m\u001b[1;33m,\u001b[0m\u001b[1;36m1\u001b[0m\u001b[1;33m]\u001b[0m\u001b[1;33m,\u001b[0m\u001b[0ms\u001b[0m\u001b[1;33m=\u001b[0m\u001b[1;36m1\u001b[0m\u001b[1;33m,\u001b[0m\u001b[0mc\u001b[0m\u001b[1;33m=\u001b[0m\u001b[0msimmilar_words\u001b[0m\u001b[1;33m,\u001b[0m \u001b[0mcmap\u001b[0m\u001b[1;33m=\u001b[0m\u001b[1;34m'tab20'\u001b[0m\u001b[1;33m)\u001b[0m\u001b[1;33m;\u001b[0m\u001b[1;33m\u001b[0m\u001b[1;33m\u001b[0m\u001b[0m\n\u001b[0m\u001b[0;32m      3\u001b[0m \u001b[0mplt\u001b[0m\u001b[1;33m.\u001b[0m\u001b[0mtitle\u001b[0m\u001b[1;33m(\u001b[0m\u001b[1;34m'Customers colored by favorite movie genre'\u001b[0m\u001b[1;33m)\u001b[0m\u001b[1;33m\u001b[0m\u001b[1;33m\u001b[0m\u001b[0m\n\u001b[0;32m      4\u001b[0m \u001b[0mplt\u001b[0m\u001b[1;33m.\u001b[0m\u001b[0mcolorbar\u001b[0m\u001b[1;33m(\u001b[0m\u001b[1;33m)\u001b[0m\u001b[1;33m\u001b[0m\u001b[1;33m\u001b[0m\u001b[0m\n",
      "\u001b[1;32m~\\anaconda3\\lib\\site-packages\\matplotlib\\pyplot.py\u001b[0m in \u001b[0;36mscatter\u001b[1;34m(x, y, s, c, marker, cmap, norm, vmin, vmax, alpha, linewidths, edgecolors, plotnonfinite, data, **kwargs)\u001b[0m\n\u001b[0;32m   2805\u001b[0m         \u001b[0mvmin\u001b[0m\u001b[1;33m=\u001b[0m\u001b[1;32mNone\u001b[0m\u001b[1;33m,\u001b[0m \u001b[0mvmax\u001b[0m\u001b[1;33m=\u001b[0m\u001b[1;32mNone\u001b[0m\u001b[1;33m,\u001b[0m \u001b[0malpha\u001b[0m\u001b[1;33m=\u001b[0m\u001b[1;32mNone\u001b[0m\u001b[1;33m,\u001b[0m \u001b[0mlinewidths\u001b[0m\u001b[1;33m=\u001b[0m\u001b[1;32mNone\u001b[0m\u001b[1;33m,\u001b[0m \u001b[1;33m*\u001b[0m\u001b[1;33m,\u001b[0m\u001b[1;33m\u001b[0m\u001b[1;33m\u001b[0m\u001b[0m\n\u001b[0;32m   2806\u001b[0m         edgecolors=None, plotnonfinite=False, data=None, **kwargs):\n\u001b[1;32m-> 2807\u001b[1;33m     __ret = gca().scatter(\n\u001b[0m\u001b[0;32m   2808\u001b[0m         \u001b[0mx\u001b[0m\u001b[1;33m,\u001b[0m \u001b[0my\u001b[0m\u001b[1;33m,\u001b[0m \u001b[0ms\u001b[0m\u001b[1;33m=\u001b[0m\u001b[0ms\u001b[0m\u001b[1;33m,\u001b[0m \u001b[0mc\u001b[0m\u001b[1;33m=\u001b[0m\u001b[0mc\u001b[0m\u001b[1;33m,\u001b[0m \u001b[0mmarker\u001b[0m\u001b[1;33m=\u001b[0m\u001b[0mmarker\u001b[0m\u001b[1;33m,\u001b[0m \u001b[0mcmap\u001b[0m\u001b[1;33m=\u001b[0m\u001b[0mcmap\u001b[0m\u001b[1;33m,\u001b[0m \u001b[0mnorm\u001b[0m\u001b[1;33m=\u001b[0m\u001b[0mnorm\u001b[0m\u001b[1;33m,\u001b[0m\u001b[1;33m\u001b[0m\u001b[1;33m\u001b[0m\u001b[0m\n\u001b[0;32m   2809\u001b[0m         \u001b[0mvmin\u001b[0m\u001b[1;33m=\u001b[0m\u001b[0mvmin\u001b[0m\u001b[1;33m,\u001b[0m \u001b[0mvmax\u001b[0m\u001b[1;33m=\u001b[0m\u001b[0mvmax\u001b[0m\u001b[1;33m,\u001b[0m \u001b[0malpha\u001b[0m\u001b[1;33m=\u001b[0m\u001b[0malpha\u001b[0m\u001b[1;33m,\u001b[0m \u001b[0mlinewidths\u001b[0m\u001b[1;33m=\u001b[0m\u001b[0mlinewidths\u001b[0m\u001b[1;33m,\u001b[0m\u001b[1;33m\u001b[0m\u001b[1;33m\u001b[0m\u001b[0m\n",
      "\u001b[1;32m~\\anaconda3\\lib\\site-packages\\matplotlib\\__init__.py\u001b[0m in \u001b[0;36minner\u001b[1;34m(ax, data, *args, **kwargs)\u001b[0m\n\u001b[0;32m   1410\u001b[0m     \u001b[1;32mdef\u001b[0m \u001b[0minner\u001b[0m\u001b[1;33m(\u001b[0m\u001b[0max\u001b[0m\u001b[1;33m,\u001b[0m \u001b[1;33m*\u001b[0m\u001b[0margs\u001b[0m\u001b[1;33m,\u001b[0m \u001b[0mdata\u001b[0m\u001b[1;33m=\u001b[0m\u001b[1;32mNone\u001b[0m\u001b[1;33m,\u001b[0m \u001b[1;33m**\u001b[0m\u001b[0mkwargs\u001b[0m\u001b[1;33m)\u001b[0m\u001b[1;33m:\u001b[0m\u001b[1;33m\u001b[0m\u001b[1;33m\u001b[0m\u001b[0m\n\u001b[0;32m   1411\u001b[0m         \u001b[1;32mif\u001b[0m \u001b[0mdata\u001b[0m \u001b[1;32mis\u001b[0m \u001b[1;32mNone\u001b[0m\u001b[1;33m:\u001b[0m\u001b[1;33m\u001b[0m\u001b[1;33m\u001b[0m\u001b[0m\n\u001b[1;32m-> 1412\u001b[1;33m             \u001b[1;32mreturn\u001b[0m \u001b[0mfunc\u001b[0m\u001b[1;33m(\u001b[0m\u001b[0max\u001b[0m\u001b[1;33m,\u001b[0m \u001b[1;33m*\u001b[0m\u001b[0mmap\u001b[0m\u001b[1;33m(\u001b[0m\u001b[0msanitize_sequence\u001b[0m\u001b[1;33m,\u001b[0m \u001b[0margs\u001b[0m\u001b[1;33m)\u001b[0m\u001b[1;33m,\u001b[0m \u001b[1;33m**\u001b[0m\u001b[0mkwargs\u001b[0m\u001b[1;33m)\u001b[0m\u001b[1;33m\u001b[0m\u001b[1;33m\u001b[0m\u001b[0m\n\u001b[0m\u001b[0;32m   1413\u001b[0m \u001b[1;33m\u001b[0m\u001b[0m\n\u001b[0;32m   1414\u001b[0m         \u001b[0mbound\u001b[0m \u001b[1;33m=\u001b[0m \u001b[0mnew_sig\u001b[0m\u001b[1;33m.\u001b[0m\u001b[0mbind\u001b[0m\u001b[1;33m(\u001b[0m\u001b[0max\u001b[0m\u001b[1;33m,\u001b[0m \u001b[1;33m*\u001b[0m\u001b[0margs\u001b[0m\u001b[1;33m,\u001b[0m \u001b[1;33m**\u001b[0m\u001b[0mkwargs\u001b[0m\u001b[1;33m)\u001b[0m\u001b[1;33m\u001b[0m\u001b[1;33m\u001b[0m\u001b[0m\n",
      "\u001b[1;32m~\\anaconda3\\lib\\site-packages\\matplotlib\\axes\\_axes.py\u001b[0m in \u001b[0;36mscatter\u001b[1;34m(self, x, y, s, c, marker, cmap, norm, vmin, vmax, alpha, linewidths, edgecolors, plotnonfinite, **kwargs)\u001b[0m\n\u001b[0;32m   4385\u001b[0m             \u001b[0morig_edgecolor\u001b[0m \u001b[1;33m=\u001b[0m \u001b[0mkwargs\u001b[0m\u001b[1;33m.\u001b[0m\u001b[0mget\u001b[0m\u001b[1;33m(\u001b[0m\u001b[1;34m'edgecolor'\u001b[0m\u001b[1;33m,\u001b[0m \u001b[1;32mNone\u001b[0m\u001b[1;33m)\u001b[0m\u001b[1;33m\u001b[0m\u001b[1;33m\u001b[0m\u001b[0m\n\u001b[0;32m   4386\u001b[0m         \u001b[0mc\u001b[0m\u001b[1;33m,\u001b[0m \u001b[0mcolors\u001b[0m\u001b[1;33m,\u001b[0m \u001b[0medgecolors\u001b[0m \u001b[1;33m=\u001b[0m\u001b[0;31m \u001b[0m\u001b[0;31m\\\u001b[0m\u001b[1;33m\u001b[0m\u001b[1;33m\u001b[0m\u001b[0m\n\u001b[1;32m-> 4387\u001b[1;33m             self._parse_scatter_color_args(\n\u001b[0m\u001b[0;32m   4388\u001b[0m                 \u001b[0mc\u001b[0m\u001b[1;33m,\u001b[0m \u001b[0medgecolors\u001b[0m\u001b[1;33m,\u001b[0m \u001b[0mkwargs\u001b[0m\u001b[1;33m,\u001b[0m \u001b[0mx\u001b[0m\u001b[1;33m.\u001b[0m\u001b[0msize\u001b[0m\u001b[1;33m,\u001b[0m\u001b[1;33m\u001b[0m\u001b[1;33m\u001b[0m\u001b[0m\n\u001b[0;32m   4389\u001b[0m                 get_next_color_func=self._get_patches_for_fill.get_next_color)\n",
      "\u001b[1;32m~\\anaconda3\\lib\\site-packages\\matplotlib\\axes\\_axes.py\u001b[0m in \u001b[0;36m_parse_scatter_color_args\u001b[1;34m(c, edgecolors, kwargs, xsize, get_next_color_func)\u001b[0m\n\u001b[0;32m   4228\u001b[0m                     \u001b[1;31m# Both the mapping *and* the RGBA conversion failed: pretty\u001b[0m\u001b[1;33m\u001b[0m\u001b[1;33m\u001b[0m\u001b[1;33m\u001b[0m\u001b[0m\n\u001b[0;32m   4229\u001b[0m                     \u001b[1;31m# severe failure => one may appreciate a verbose feedback.\u001b[0m\u001b[1;33m\u001b[0m\u001b[1;33m\u001b[0m\u001b[1;33m\u001b[0m\u001b[0m\n\u001b[1;32m-> 4230\u001b[1;33m                     raise ValueError(\n\u001b[0m\u001b[0;32m   4231\u001b[0m                         \u001b[1;34mf\"'c' argument must be a color, a sequence of colors, \"\u001b[0m\u001b[1;33m\u001b[0m\u001b[1;33m\u001b[0m\u001b[0m\n\u001b[0;32m   4232\u001b[0m                         f\"or a sequence of numbers, not {c}\") from err\n",
      "\u001b[1;31mValueError\u001b[0m: 'c' argument must be a color, a sequence of colors, or a sequence of numbers, not ['brexit' 'ugidi' 'specialized' 'chequers' 'exit' 'ttip' 'brexiteers'\n 'barnier' 'backstop' 'revitalized' 'cer_grant' 'deal' 'withdrawal' 'dup'\n 'leave' 'leaving' 'comprehensible' 'negotiating' 'mmcouqayy'\n 'nicolesykes_' 'brexits']"
     ]
    },
    {
     "data": {
      "image/png": "[encoded data removed]",
      "text/plain": [
       "<Figure size 1152x864 with 1 Axes>"
      ]
     },
     "metadata": {
      "needs_background": "light"
     },
     "output_type": "display_data"
    }
   ],
   "source": [
    "plt.figure(figsize=(16,12))\n",
    "plt.scatter(tsne_results[:,0],tsne_results[:,1],s=1,c=simmilar_words, cmap='tab20');\n",
    "plt.title('Customers colored by favorite movie genre')\n",
    "plt.colorbar()"
   ]
  },
  {
   "cell_type": "code",
   "execution_count": 45,
   "id": "d96f0405",
   "metadata": {
    "ExecuteTime": {
     "end_time": "2022-06-16T09:28:44.563134Z",
     "start_time": "2022-06-16T09:28:44.557137Z"
    }
   },
   "outputs": [],
   "source": []
  },
  {
   "cell_type": "markdown",
   "id": "aeadc5c2",
   "metadata": {},
   "source": [
    "## Find most similar words:"
   ]
  },
  {
   "cell_type": "code",
   "execution_count": 30,
   "id": "d133b2e7",
   "metadata": {
    "ExecuteTime": {
     "end_time": "2022-06-16T09:13:34.027704Z",
     "start_time": "2022-06-16T09:13:33.854222Z"
    }
   },
   "outputs": [
    {
     "data": {
      "text/plain": [
       "[('ugidi', 0.6318014860153198),\n",
       " ('specialized', 0.6144781708717346),\n",
       " ('chequers', 0.6038205027580261),\n",
       " ('exit', 0.5981384515762329),\n",
       " ('ttip', 0.5944774746894836),\n",
       " ('brexiteers', 0.5782798528671265),\n",
       " ('barnier', 0.578162431716919),\n",
       " ('backstop', 0.5695449709892273),\n",
       " ('revitalized', 0.5678130984306335),\n",
       " ('cer_grant', 0.5675654411315918),\n",
       " ('deal', 0.5662826299667358),\n",
       " ('withdrawal', 0.563769519329071),\n",
       " ('dup', 0.5596696138381958),\n",
       " ('leave', 0.5594882369041443),\n",
       " ('leaving', 0.5564102530479431),\n",
       " ('comprehensible', 0.5552305579185486),\n",
       " ('negotiating', 0.555216372013092),\n",
       " ('mmcouqayy', 0.5499888062477112),\n",
       " ('nicolesykes_', 0.5497188568115234),\n",
       " ('brexits', 0.542492151260376)]"
      ]
     },
     "execution_count": 30,
     "metadata": {},
     "output_type": "execute_result"
    }
   ],
   "source": [
    "model.wv.most_similar(positive=['brexit'], negative=[], topn=20)"
   ]
  },
  {
   "cell_type": "code",
   "execution_count": 26,
   "id": "59f884a1",
   "metadata": {
    "ExecuteTime": {
     "end_time": "2022-05-27T15:29:27.458728Z",
     "start_time": "2022-05-27T15:29:27.414752Z"
    }
   },
   "outputs": [
    {
     "data": {
      "text/plain": [
       "[('hospi', 0.4403943717479706),\n",
       " ('ysgolyddraig', 0.40261590480804443),\n",
       " ('hxj', 0.40104159712791443),\n",
       " ('masterclasses', 0.3997803330421448),\n",
       " ('lara', 0.3990055024623871),\n",
       " ('clinica', 0.3956921398639679),\n",
       " ('frasergrant', 0.3933667838573456),\n",
       " ('nhsforthvalley', 0.3901693522930145),\n",
       " ('vuestras', 0.38268324732780457),\n",
       " ('dicky', 0.37745457887649536),\n",
       " ('bradfieldbold', 0.3762829899787903),\n",
       " ('qnm', 0.37477484345436096),\n",
       " ('calvinharris', 0.3714888393878937),\n",
       " ('décimo', 0.37072309851646423),\n",
       " ('cobarde', 0.37068289518356323),\n",
       " ('tutors', 0.36983636021614075),\n",
       " ('technopoplondon', 0.3690972328186035),\n",
       " ('visitará', 0.3671073615550995),\n",
       " ('mayoritaria', 0.36407145857810974),\n",
       " ('deusto', 0.36405208706855774)]"
      ]
     },
     "execution_count": 26,
     "metadata": {},
     "output_type": "execute_result"
    }
   ],
   "source": [
    "model.wv.most_similar(positive=[], negative=[\"brexit\"], topn=20)"
   ]
  },
  {
   "cell_type": "code",
   "execution_count": 27,
   "id": "b678b652",
   "metadata": {
    "ExecuteTime": {
     "end_time": "2022-05-27T15:29:38.180838Z",
     "start_time": "2022-05-27T15:29:38.126866Z"
    }
   },
   "outputs": [
    {
     "data": {
      "text/plain": [
       "[('wto', 0.715687096118927),\n",
       " ('bloc', 0.6758861541748047),\n",
       " ('eea', 0.6693449020385742),\n",
       " ('eurozone', 0.6617296934127808),\n",
       " ('eppgroup', 0.6533685922622681),\n",
       " ('ttip', 0.6393800377845764),\n",
       " ('ceta', 0.6318347454071045),\n",
       " ('negotiable', 0.6306210160255432),\n",
       " ('norway', 0.62795090675354),\n",
       " ('veto', 0.6267613172531128),\n",
       " ('schengen', 0.6179460883140564),\n",
       " ('ecj', 0.6178906559944153),\n",
       " ('agreement', 0.6136695742607117),\n",
       " ('visa', 0.6130812168121338),\n",
       " ('comm', 0.6116682291030884),\n",
       " ('emu', 0.6089895963668823),\n",
       " ('unon', 0.6080482006072998),\n",
       " ('technocratic', 0.6068585515022278),\n",
       " ('european', 0.6059227585792542),\n",
       " ('migrationeu', 0.6042227745056152)]"
      ]
     },
     "execution_count": 27,
     "metadata": {},
     "output_type": "execute_result"
    }
   ],
   "source": [
    "model.wv.most_similar(positive=[\"eu\"], negative=[], topn=20)"
   ]
  },
  {
   "cell_type": "code",
   "execution_count": 28,
   "id": "76de7abe",
   "metadata": {
    "ExecuteTime": {
     "end_time": "2022-05-27T15:29:49.227369Z",
     "start_time": "2022-05-27T15:29:49.153409Z"
    }
   },
   "outputs": [
    {
     "data": {
      "text/plain": [
       "[('enjoy', 0.8276118040084839),\n",
       " ('joy', 0.8192086815834045),\n",
       " ('awesome', 0.8029893040657043),\n",
       " ('loving', 0.7917943000793457),\n",
       " ('funny', 0.7870116233825684),\n",
       " ('fun', 0.7787410616874695),\n",
       " ('wee', 0.7716323733329773),\n",
       " ('lucky', 0.7711743116378784),\n",
       " ('karen_hauer', 0.7687750458717346),\n",
       " ('wish', 0.767592191696167),\n",
       " ('fans', 0.7671974301338196),\n",
       " ('definitely', 0.7665808796882629),\n",
       " ('dance', 0.7637343406677246),\n",
       " ('beautiful', 0.7532991766929626),\n",
       " ('perfect', 0.7509179711341858),\n",
       " ('cake', 0.7506862282752991),\n",
       " ('liked', 0.7490485906600952),\n",
       " ('song', 0.7461494207382202),\n",
       " ('cool', 0.7442508339881897),\n",
       " ('hoping', 0.7427743673324585)]"
      ]
     },
     "execution_count": 28,
     "metadata": {},
     "output_type": "execute_result"
    }
   ],
   "source": [
    "model.wv.most_similar(\"love\", topn=20)"
   ]
  },
  {
   "cell_type": "markdown",
   "id": "ad751b6e",
   "metadata": {},
   "source": [
    "# train doc3vec"
   ]
  },
  {
   "cell_type": "markdown",
   "id": "725f74f3",
   "metadata": {},
   "source": [
    "### generating the tags - right now the tags are the conversation ids and the author id - we belive that knowing who is the person who made the tweet + knowing the conversation id can help with defining the vectors"
   ]
  },
  {
   "cell_type": "code",
   "execution_count": 29,
   "id": "b2b9dc09",
   "metadata": {
    "ExecuteTime": {
     "end_time": "2022-05-27T15:30:53.145709Z",
     "start_time": "2022-05-27T15:30:00.463910Z"
    }
   },
   "outputs": [],
   "source": [
    "tagged_documents  = [  ]\n",
    "for index, row in data_for_model.iterrows():\n",
    "    \n",
    "    tags = [ str(row['conversation_id']),str(row['author_id']), str(row['created_at_date'])]\n",
    "    tokens = row['tokens_roy']\n",
    "    \n",
    "    doc = gensim.models.doc2vec.TaggedDocument(words=tokens, tags=tags)\n",
    "    tagged_documents.append( doc )"
   ]
  },
  {
   "cell_type": "code",
   "execution_count": 291,
   "id": "0cf3c745",
   "metadata": {
    "ExecuteTime": {
     "end_time": "2022-05-14T16:13:00.907290Z",
     "start_time": "2022-05-14T16:13:00.858319Z"
    },
    "scrolled": false
   },
   "outputs": [
    {
     "data": {
      "text/plain": [
       "[TaggedDocument(words=['markreckless', 'eu', 'yes.', 'support', 'deal', 'nz', 'would', 'allow', 'unlimited', 'lamb', 'imports', 'one', 'undermines', 'steel'], tags=['824734202251902976', '2476761393', '2017-01-26 00:00:00']),\n",
       " TaggedDocument(words=['rt', 'mina_andreeva', '.junckereu', 'eu27', 'stand', 'firmly', 'behind', 'ireland.', 'eu', 'made', 'priority', 'protect', 'goodfriday', 'agreement', 'peace…'], tags=['939062313772036096', '2421073909', '2017-12-08 00:00:00'])]"
      ]
     },
     "execution_count": 291,
     "metadata": {},
     "output_type": "execute_result"
    }
   ],
   "source": [
    "tagged_documents[0:2]"
   ]
  },
  {
   "cell_type": "markdown",
   "id": "f9fa682b",
   "metadata": {},
   "source": [
    "## Train the doc2vec model"
   ]
  },
  {
   "cell_type": "code",
   "execution_count": 30,
   "id": "b8913438",
   "metadata": {
    "ExecuteTime": {
     "end_time": "2022-05-27T15:31:28.810259Z",
     "start_time": "2022-05-27T15:31:13.966770Z"
    }
   },
   "outputs": [],
   "source": [
    "for dm in [0, 1]: # 0 - DBOW ( distributed bag of words ), 1 (default) - DM=distributed memory\n",
    "    doc2vec_model_file_name = os.path.join(data_folder, f'Brexit_doc2vec_{dm}.model1_300k_tweets')\n",
    "    if not os.path.isfile(doc2vec_model_file_name):\n",
    "        doc2vec_model = gensim.models.Doc2Vec(documents=tagged_documents, \n",
    "            vector_size=300, \n",
    "            window=7, \n",
    "            min_count=2, \n",
    "            epochs=20,\n",
    "            dm=dm,\n",
    "            negative=10,\n",
    "            workers = os.cpu_count()                                \n",
    "        )    \n",
    "        doc2vec_model.save(doc2vec_model_file_name)\n",
    "    else:\n",
    "        doc2vec_model =  gensim.models.Doc2Vec.load(doc2vec_model_file_name)\n",
    "    if dm==1: \n",
    "        doc2vec_model_dm  = doc2vec_model\n",
    "    else:\n",
    "        doc2vec_model_dbow  = doc2vec_model"
   ]
  },
  {
   "cell_type": "code",
   "execution_count": 31,
   "id": "54c335e9",
   "metadata": {
    "ExecuteTime": {
     "end_time": "2022-05-27T15:31:49.778239Z",
     "start_time": "2022-05-27T15:31:49.747258Z"
    }
   },
   "outputs": [
    {
     "data": {
      "text/plain": [
       "2872984"
      ]
     },
     "execution_count": 31,
     "metadata": {},
     "output_type": "execute_result"
    }
   ],
   "source": [
    "doc2vec_model_dm.corpus_total_words\n"
   ]
  },
  {
   "cell_type": "markdown",
   "id": "0994fcba",
   "metadata": {},
   "source": [
    "## Explore the models:\n",
    "\n",
    "### FInd most similar words:"
   ]
  },
  {
   "cell_type": "code",
   "execution_count": 33,
   "id": "121e4147",
   "metadata": {
    "ExecuteTime": {
     "end_time": "2022-05-27T15:36:50.266974Z",
     "start_time": "2022-05-27T15:36:50.193005Z"
    }
   },
   "outputs": [
    {
     "data": {
      "text/plain": [
       "[('brexit.', 0.660798966884613),\n",
       " ('brexit,', 0.6342867016792297),\n",
       " ('leaving', 0.44192931056022644),\n",
       " ('post-brexit', 0.394654244184494),\n",
       " ('brexit.citizens', 0.3930520713329315),\n",
       " ('brexit;', 0.39009472727775574),\n",
       " ('“brexit', 0.38969653844833374),\n",
       " ('exit', 0.38923361897468567),\n",
       " ('ttip', 0.3889637589454651),\n",
       " ('brexiteers', 0.3866990804672241),\n",
       " ('(whatever', 0.37580546736717224),\n",
       " ('‘no', 0.36663639545440674),\n",
       " ('article50', 0.360281378030777),\n",
       " ('chequers', 0.35831958055496216),\n",
       " ('ttip.', 0.3582265079021454),\n",
       " ('lozsando', 0.3541693389415741),\n",
       " ('https//t.co/irnkfc7qif', 0.34418031573295593),\n",
       " ('brexit-', 0.343783438205719),\n",
       " ('eu-mercosur', 0.3401487171649933),\n",
       " ('brex…', 0.33911171555519104)]"
      ]
     },
     "execution_count": 33,
     "metadata": {},
     "output_type": "execute_result"
    }
   ],
   "source": [
    "doc2vec_model_dm.wv.most_similar(positive=['brexit'], negative=[], topn=20)"
   ]
  },
  {
   "cell_type": "code",
   "execution_count": 34,
   "id": "5fbd6b54",
   "metadata": {
    "ExecuteTime": {
     "end_time": "2022-05-27T15:37:13.746022Z",
     "start_time": "2022-05-27T15:37:13.666070Z"
    }
   },
   "outputs": [
    {
     "data": {
      "text/plain": [
       "[('events...', 0.24325165152549744),\n",
       " ('johnlehal', 0.24148845672607422),\n",
       " ('burntwood', 0.2413376271724701),\n",
       " ('promoting…', 0.23737186193466187),\n",
       " ('1rd', 0.2342507541179657),\n",
       " ('ringleader', 0.2338966727256775),\n",
       " ('nelsonmandela', 0.23316514492034912),\n",
       " ('brimo.', 0.23167191445827484),\n",
       " ('albans.', 0.22959932684898376),\n",
       " ('yosemite', 0.22778354585170746)]"
      ]
     },
     "execution_count": 34,
     "metadata": {},
     "output_type": "execute_result"
    }
   ],
   "source": [
    "doc2vec_model_dm.wv.most_similar(positive=[], negative=[\"brexit\"], topn=10)"
   ]
  },
  {
   "cell_type": "code",
   "execution_count": 35,
   "id": "0067ee62",
   "metadata": {
    "ExecuteTime": {
     "end_time": "2022-05-27T15:37:32.444301Z",
     "start_time": "2022-05-27T15:37:32.378339Z"
    }
   },
   "outputs": [
    {
     "data": {
      "text/plain": [
       "[('economy.', 0.6478554606437683),\n",
       " ('economy,', 0.6334506869316101),\n",
       " ('growth', 0.5164996981620789),\n",
       " ('economies', 0.4556303918361664),\n",
       " ('productivity', 0.43400976061820984),\n",
       " ('productivity,', 0.4272322356700897),\n",
       " ('gdp', 0.4234206974506378),\n",
       " ('economies.', 0.4045814573764801),\n",
       " ('wages', 0.4013144075870514),\n",
       " ('growth,', 0.40019360184669495)]"
      ]
     },
     "execution_count": 35,
     "metadata": {},
     "output_type": "execute_result"
    }
   ],
   "source": [
    "doc2vec_model_dm.wv.most_similar(positive=[\"economy\"], negative=[], topn=10)"
   ]
  },
  {
   "cell_type": "code",
   "execution_count": 375,
   "id": "3ccf939d",
   "metadata": {
    "ExecuteTime": {
     "end_time": "2022-05-14T17:49:25.753838Z",
     "start_time": "2022-05-14T17:49:25.681879Z"
    }
   },
   "outputs": [
    {
     "data": {
      "text/plain": [
       "[('thefabians,', 0.24698682129383087),\n",
       " ('rcasecret', 0.23523086309432983),\n",
       " ('lambethcyclists', 0.22794093191623688),\n",
       " ('democrac…', 0.227413147687912),\n",
       " ('donald.', 0.22320152819156647),\n",
       " ('keyhole', 0.22166332602500916),\n",
       " ('cnc', 0.22012458741664886),\n",
       " ('chrishams', 0.2181398868560791),\n",
       " ('childhoods', 0.21149881184101105),\n",
       " ('derry-l’derry,', 0.2080446183681488)]"
      ]
     },
     "execution_count": 375,
     "metadata": {},
     "output_type": "execute_result"
    }
   ],
   "source": [
    "doc2vec_model_dm.wv.most_similar(positive=[], negative=[\"eu\"], topn=10)"
   ]
  },
  {
   "cell_type": "code",
   "execution_count": 36,
   "id": "63d769e4",
   "metadata": {
    "ExecuteTime": {
     "end_time": "2022-05-27T15:37:51.633300Z",
     "start_time": "2022-05-27T15:37:51.561344Z"
    }
   },
   "outputs": [
    {
     "data": {
      "text/plain": [
       "[('trump.', 0.6308656930923462),\n",
       " ('trumps', 0.6148446798324585),\n",
       " ('realdonaldtrump', 0.5864496827125549),\n",
       " ('donald', 0.5798147916793823),\n",
       " ('putin', 0.5725878477096558),\n",
       " ('trump’s', 0.572031557559967),\n",
       " ('trump,', 0.5638441443443298),\n",
       " ('obama', 0.5558142066001892),\n",
       " ('tusk', 0.5015538334846497),\n",
       " ('hillary', 0.49367278814315796)]"
      ]
     },
     "execution_count": 36,
     "metadata": {},
     "output_type": "execute_result"
    }
   ],
   "source": [
    "doc2vec_model_dm.wv.most_similar(positive=[\"trump\"], negative=[], topn=10)"
   ]
  },
  {
   "cell_type": "code",
   "execution_count": null,
   "id": "f856ef02",
   "metadata": {},
   "outputs": [],
   "source": [
    "### Get similar documents using doc2vec"
   ]
  },
  {
   "cell_type": "code",
   "execution_count": 40,
   "id": "86021ffe",
   "metadata": {
    "ExecuteTime": {
     "end_time": "2022-05-27T15:41:11.750819Z",
     "start_time": "2022-05-27T15:41:11.736826Z"
    }
   },
   "outputs": [],
   "source": [
    "def d2v_get_most_similar_to(data, doc2vec_model, query_doc_id, top_k):\n",
    "    from sklearn.metrics.pairwise import cosine_similarity\n",
    "    if isinstance(query_doc_id, int):\n",
    "        v1 = doc2vec_model.dv[query_doc_id]\n",
    "    elif isinstance(query_doc_id, list):\n",
    "        v1 = doc2vec_model.infer_vector(query_doc_id) # infer vector of unseen document\n",
    "    elif isinstance(query_doc_id, str):\n",
    "        import gensim\n",
    "        tokens = gensim.utils.simple_preprocess(query_doc_id)\n",
    "        return d2v_get_most_similar_to(data, doc2vec_model, tokens, top_k)\n",
    "    distances = 1-cosine_similarity(v1.reshape(1,-1),doc2vec_model.dv.vectors)[0]\n",
    "    sort_order = np.argsort(distances)[:top_k]\n",
    "    result = data[['text','text_tokens']].iloc[sort_order].copy()\n",
    "    result['distance'] = distances[sort_order]\n",
    "    return result"
   ]
  },
  {
   "cell_type": "code",
   "execution_count": 41,
   "id": "1852c88a",
   "metadata": {
    "ExecuteTime": {
     "end_time": "2022-05-27T15:41:32.672188Z",
     "start_time": "2022-05-27T15:41:31.828667Z"
    }
   },
   "outputs": [
    {
     "data": {
      "text/html": [
       "<div>\n",
       "<style scoped>\n",
       "    .dataframe tbody tr th:only-of-type {\n",
       "        vertical-align: middle;\n",
       "    }\n",
       "\n",
       "    .dataframe tbody tr th {\n",
       "        vertical-align: top;\n",
       "    }\n",
       "\n",
       "    .dataframe thead th {\n",
       "        text-align: right;\n",
       "    }\n",
       "</style>\n",
       "<table border=\"1\" class=\"dataframe\">\n",
       "  <thead>\n",
       "    <tr style=\"text-align: right;\">\n",
       "      <th></th>\n",
       "      <th>text</th>\n",
       "      <th>text_tokens</th>\n",
       "      <th>distance</th>\n",
       "    </tr>\n",
       "  </thead>\n",
       "  <tbody>\n",
       "    <tr>\n",
       "      <th>4</th>\n",
       "      <td>@WPL_Official @BarryTownUnited @the_nomads @Ba...</td>\n",
       "      <td>['wpl_official', 'barrytownunited', 'the_nomad...</td>\n",
       "      <td>0.000000</td>\n",
       "    </tr>\n",
       "    <tr>\n",
       "      <th>10216</th>\n",
       "      <td>The PM's constructive tone is welcome - we enc...</td>\n",
       "      <td>['pm', 'constructive', 'tone', 'welcome', 'enc...</td>\n",
       "      <td>0.289356</td>\n",
       "    </tr>\n",
       "    <tr>\n",
       "      <th>81551</th>\n",
       "      <td>Speaking at the biggest Young Labour conferenc...</td>\n",
       "      <td>['speaking', 'biggest', 'young', 'labour_confe...</td>\n",
       "      <td>0.290199</td>\n",
       "    </tr>\n",
       "    <tr>\n",
       "      <th>41124</th>\n",
       "      <td>Good meeting with EU Trade Commissioner Karel ...</td>\n",
       "      <td>['good_meeting_eu_trade', 'commissioner', 'kar...</td>\n",
       "      <td>0.293979</td>\n",
       "    </tr>\n",
       "    <tr>\n",
       "      <th>174205</th>\n",
       "      <td>Good piece by my colleague @StephenTwigg – onl...</td>\n",
       "      <td>['good_piece', 'colleague', 'stephentwigg', 'o...</td>\n",
       "      <td>0.297324</td>\n",
       "    </tr>\n",
       "    <tr>\n",
       "      <th>107806</th>\n",
       "      <td>RT @EU_Commission: #ParisAgreement enters into...</td>\n",
       "      <td>['rt_eu_commission', 'parisagreement_enters', ...</td>\n",
       "      <td>0.298624</td>\n",
       "    </tr>\n",
       "    <tr>\n",
       "      <th>115138</th>\n",
       "      <td>RT @UKSupremeCourt: Full text of Tuesday's jud...</td>\n",
       "      <td>['rt_uksupremecourt', 'full_text', 'tuesday', ...</td>\n",
       "      <td>0.301961</td>\n",
       "    </tr>\n",
       "    <tr>\n",
       "      <th>207789</th>\n",
       "      <td>Signs Michael Hesletine might be considering a...</td>\n",
       "      <td>['signs', 'michael', 'hesletine', 'might', 'co...</td>\n",
       "      <td>0.302426</td>\n",
       "    </tr>\n",
       "    <tr>\n",
       "      <th>207475</th>\n",
       "      <td>Listener Sam Whiteley, who has Type 2 Diabetes...</td>\n",
       "      <td>['listener', 'sam', 'whiteley', 'type_diabetes...</td>\n",
       "      <td>0.304927</td>\n",
       "    </tr>\n",
       "    <tr>\n",
       "      <th>72626</th>\n",
       "      <td>Enjoying the @CaringTogether1 Christmas Party ...</td>\n",
       "      <td>['enjoying', 'caringtogether', 'christmas_part...</td>\n",
       "      <td>0.306264</td>\n",
       "    </tr>\n",
       "  </tbody>\n",
       "</table>\n",
       "</div>"
      ],
      "text/plain": [
       "                                                     text  \\\n",
       "4       @WPL_Official @BarryTownUnited @the_nomads @Ba...   \n",
       "10216   The PM's constructive tone is welcome - we enc...   \n",
       "81551   Speaking at the biggest Young Labour conferenc...   \n",
       "41124   Good meeting with EU Trade Commissioner Karel ...   \n",
       "174205  Good piece by my colleague @StephenTwigg – onl...   \n",
       "107806  RT @EU_Commission: #ParisAgreement enters into...   \n",
       "115138  RT @UKSupremeCourt: Full text of Tuesday's jud...   \n",
       "207789  Signs Michael Hesletine might be considering a...   \n",
       "207475  Listener Sam Whiteley, who has Type 2 Diabetes...   \n",
       "72626   Enjoying the @CaringTogether1 Christmas Party ...   \n",
       "\n",
       "                                              text_tokens  distance  \n",
       "4       ['wpl_official', 'barrytownunited', 'the_nomad...  0.000000  \n",
       "10216   ['pm', 'constructive', 'tone', 'welcome', 'enc...  0.289356  \n",
       "81551   ['speaking', 'biggest', 'young', 'labour_confe...  0.290199  \n",
       "41124   ['good_meeting_eu_trade', 'commissioner', 'kar...  0.293979  \n",
       "174205  ['good_piece', 'colleague', 'stephentwigg', 'o...  0.297324  \n",
       "107806  ['rt_eu_commission', 'parisagreement_enters', ...  0.298624  \n",
       "115138  ['rt_uksupremecourt', 'full_text', 'tuesday', ...  0.301961  \n",
       "207789  ['signs', 'michael', 'hesletine', 'might', 'co...  0.302426  \n",
       "207475  ['listener', 'sam', 'whiteley', 'type_diabetes...  0.304927  \n",
       "72626   ['enjoying', 'caringtogether', 'christmas_part...  0.306264  "
      ]
     },
     "execution_count": 41,
     "metadata": {},
     "output_type": "execute_result"
    }
   ],
   "source": [
    "d2v_get_most_similar_to(data=data_for_model, \n",
    "    doc2vec_model=doc2vec_model_dm, query_doc_id=4, top_k=10)"
   ]
  },
  {
   "cell_type": "code",
   "execution_count": 42,
   "id": "dccf62a2",
   "metadata": {
    "ExecuteTime": {
     "end_time": "2022-05-27T15:41:52.750671Z",
     "start_time": "2022-05-27T15:41:51.937143Z"
    }
   },
   "outputs": [
    {
     "data": {
      "text/html": [
       "<div>\n",
       "<style scoped>\n",
       "    .dataframe tbody tr th:only-of-type {\n",
       "        vertical-align: middle;\n",
       "    }\n",
       "\n",
       "    .dataframe tbody tr th {\n",
       "        vertical-align: top;\n",
       "    }\n",
       "\n",
       "    .dataframe thead th {\n",
       "        text-align: right;\n",
       "    }\n",
       "</style>\n",
       "<table border=\"1\" class=\"dataframe\">\n",
       "  <thead>\n",
       "    <tr style=\"text-align: right;\">\n",
       "      <th></th>\n",
       "      <th>text</th>\n",
       "      <th>text_tokens</th>\n",
       "      <th>distance</th>\n",
       "    </tr>\n",
       "  </thead>\n",
       "  <tbody>\n",
       "    <tr>\n",
       "      <th>19969</th>\n",
       "      <td>RT @CER_London: Post #Brexit Norway option wou...</td>\n",
       "      <td>['rt', 'cer_london_post', 'brexit', 'norway_op...</td>\n",
       "      <td>0.217432</td>\n",
       "    </tr>\n",
       "    <tr>\n",
       "      <th>42840</th>\n",
       "      <td>There's a pipeline of women and ethnic minorit...</td>\n",
       "      <td>['pipeline', 'women_ethnic', 'minority', 'cand...</td>\n",
       "      <td>0.232403</td>\n",
       "    </tr>\n",
       "    <tr>\n",
       "      <th>47689</th>\n",
       "      <td>RT @GregHands: Arriving at the @WTO to meet Am...</td>\n",
       "      <td>['rt_greghands', 'arriving', 'wto', 'meet', 'a...</td>\n",
       "      <td>0.240682</td>\n",
       "    </tr>\n",
       "    <tr>\n",
       "      <th>135361</th>\n",
       "      <td>RT @HeartScotNews: FM @NicolaSturgeon extends ...</td>\n",
       "      <td>['rt_heartscotnews', 'fm_nicolasturgeon', 'ext...</td>\n",
       "      <td>0.240882</td>\n",
       "    </tr>\n",
       "    <tr>\n",
       "      <th>161484</th>\n",
       "      <td>RT @GettyVIP: It's official! #London will host...</td>\n",
       "      <td>['rt', 'gettyvip', 'official', 'london_host', ...</td>\n",
       "      <td>0.246173</td>\n",
       "    </tr>\n",
       "    <tr>\n",
       "      <th>161683</th>\n",
       "      <td>RT @GreenpeaceUK: School children have just de...</td>\n",
       "      <td>['rt_greenpeaceuk', 'school_children', 'delive...</td>\n",
       "      <td>0.247996</td>\n",
       "    </tr>\n",
       "    <tr>\n",
       "      <th>42839</th>\n",
       "      <td>If we don't see enough progress on increasing ...</td>\n",
       "      <td>['see', 'enough_progress', 'increasing_diversi...</td>\n",
       "      <td>0.248475</td>\n",
       "    </tr>\n",
       "    <tr>\n",
       "      <th>4418</th>\n",
       "      <td>RT @StandUpForBarry: Anyone in the Cardiff are...</td>\n",
       "      <td>['rt_standupforbarry', 'anyone', 'cardiff', 'a...</td>\n",
       "      <td>0.251893</td>\n",
       "    </tr>\n",
       "    <tr>\n",
       "      <th>47696</th>\n",
       "      <td>RT @SkyNews: .@KayBurley is celebrating 30 yea...</td>\n",
       "      <td>['rt_skynews', 'kayburley', 'celebrating_years...</td>\n",
       "      <td>0.253591</td>\n",
       "    </tr>\n",
       "    <tr>\n",
       "      <th>47683</th>\n",
       "      <td>Thank you for your thoughtful and constructive...</td>\n",
       "      <td>['thank', 'thoughtful_constructive', 'reply']</td>\n",
       "      <td>0.255708</td>\n",
       "    </tr>\n",
       "  </tbody>\n",
       "</table>\n",
       "</div>"
      ],
      "text/plain": [
       "                                                     text  \\\n",
       "19969   RT @CER_London: Post #Brexit Norway option wou...   \n",
       "42840   There's a pipeline of women and ethnic minorit...   \n",
       "47689   RT @GregHands: Arriving at the @WTO to meet Am...   \n",
       "135361  RT @HeartScotNews: FM @NicolaSturgeon extends ...   \n",
       "161484  RT @GettyVIP: It's official! #London will host...   \n",
       "161683  RT @GreenpeaceUK: School children have just de...   \n",
       "42839   If we don't see enough progress on increasing ...   \n",
       "4418    RT @StandUpForBarry: Anyone in the Cardiff are...   \n",
       "47696   RT @SkyNews: .@KayBurley is celebrating 30 yea...   \n",
       "47683   Thank you for your thoughtful and constructive...   \n",
       "\n",
       "                                              text_tokens  distance  \n",
       "19969   ['rt', 'cer_london_post', 'brexit', 'norway_op...  0.217432  \n",
       "42840   ['pipeline', 'women_ethnic', 'minority', 'cand...  0.232403  \n",
       "47689   ['rt_greghands', 'arriving', 'wto', 'meet', 'a...  0.240682  \n",
       "135361  ['rt_heartscotnews', 'fm_nicolasturgeon', 'ext...  0.240882  \n",
       "161484  ['rt', 'gettyvip', 'official', 'london_host', ...  0.246173  \n",
       "161683  ['rt_greenpeaceuk', 'school_children', 'delive...  0.247996  \n",
       "42839   ['see', 'enough_progress', 'increasing_diversi...  0.248475  \n",
       "4418    ['rt_standupforbarry', 'anyone', 'cardiff', 'a...  0.251893  \n",
       "47696   ['rt_skynews', 'kayburley', 'celebrating_years...  0.253591  \n",
       "47683       ['thank', 'thoughtful_constructive', 'reply']  0.255708  "
      ]
     },
     "execution_count": 42,
     "metadata": {},
     "output_type": "execute_result"
    }
   ],
   "source": [
    "text = \"\"\"Brexit is good\"\"\"\n",
    "result_table = d2v_get_most_similar_to(data=data_for_model, \n",
    "    doc2vec_model=doc2vec_model_dm, query_doc_id=text, top_k=10)\n",
    "\n",
    "result_table"
   ]
  },
  {
   "cell_type": "code",
   "execution_count": null,
   "id": "8ca982d1",
   "metadata": {},
   "outputs": [],
   "source": []
  },
  {
   "cell_type": "code",
   "execution_count": null,
   "id": "36e6fa05",
   "metadata": {},
   "outputs": [],
   "source": []
  },
  {
   "cell_type": "code",
   "execution_count": 43,
   "id": "337fb0d5",
   "metadata": {
    "ExecuteTime": {
     "end_time": "2022-05-27T15:42:16.222216Z",
     "start_time": "2022-05-27T15:42:16.099287Z"
    }
   },
   "outputs": [
    {
     "data": {
      "text/html": [
       "<div>\n",
       "<style scoped>\n",
       "    .dataframe tbody tr th:only-of-type {\n",
       "        vertical-align: middle;\n",
       "    }\n",
       "\n",
       "    .dataframe tbody tr th {\n",
       "        vertical-align: top;\n",
       "    }\n",
       "\n",
       "    .dataframe thead th {\n",
       "        text-align: right;\n",
       "    }\n",
       "</style>\n",
       "<table border=\"1\" class=\"dataframe\">\n",
       "  <thead>\n",
       "    <tr style=\"text-align: right;\">\n",
       "      <th></th>\n",
       "      <th>index</th>\n",
       "      <th>text</th>\n",
       "      <th>clean_text</th>\n",
       "      <th>text_tokens</th>\n",
       "      <th>conversation_id</th>\n",
       "      <th>author_id</th>\n",
       "      <th>created_at</th>\n",
       "      <th>public_metrics.like_count</th>\n",
       "      <th>public_metrics.reply_count</th>\n",
       "      <th>tokens_roy</th>\n",
       "      <th>language</th>\n",
       "      <th>created_at_date</th>\n",
       "    </tr>\n",
       "  </thead>\n",
       "  <tbody>\n",
       "    <tr>\n",
       "      <th>0</th>\n",
       "      <td>0</td>\n",
       "      <td>RT @10DowningStreet: - More than 34 countries\\...</td>\n",
       "      <td>rt downingstreet more than countries places in...</td>\n",
       "      <td>['rt_downingstreet', 'countries', 'places_uk',...</td>\n",
       "      <td>1079747729419657217</td>\n",
       "      <td>76650839</td>\n",
       "      <td>2018-12-31T14:34:54.000Z</td>\n",
       "      <td>0</td>\n",
       "      <td>0</td>\n",
       "      <td>[rt, downingstreet, countries, places, uk, mee...</td>\n",
       "      <td>en</td>\n",
       "      <td>2018-12-31</td>\n",
       "    </tr>\n",
       "    <tr>\n",
       "      <th>1</th>\n",
       "      <td>1</td>\n",
       "      <td>RT @GavinWilliamson: I want to thank all those...</td>\n",
       "      <td>rt gavinwilliamson want to thank all those ser...</td>\n",
       "      <td>['rt_gavinwilliamson', 'want_thank', 'serving'...</td>\n",
       "      <td>1079747690110570496</td>\n",
       "      <td>76650839</td>\n",
       "      <td>2018-12-31T14:34:44.000Z</td>\n",
       "      <td>0</td>\n",
       "      <td>0</td>\n",
       "      <td>[rt, gavinwilliamson, want, thank, serving, br...</td>\n",
       "      <td>en</td>\n",
       "      <td>2018-12-31</td>\n",
       "    </tr>\n",
       "    <tr>\n",
       "      <th>2</th>\n",
       "      <td>2</td>\n",
       "      <td>RT @UKGovWales: Welsh Secretary @AlunCairns ex...</td>\n",
       "      <td>rt ukgovwales welsh secretary aluncairns exten...</td>\n",
       "      <td>['rt_ukgovwales_welsh_secretary', 'aluncairns'...</td>\n",
       "      <td>1078943309744070657</td>\n",
       "      <td>76650839</td>\n",
       "      <td>2018-12-29T09:18:25.000Z</td>\n",
       "      <td>0</td>\n",
       "      <td>0</td>\n",
       "      <td>[rt, ukgovwales, welsh, secretary, aluncairns,...</td>\n",
       "      <td>en</td>\n",
       "      <td>2018-12-29</td>\n",
       "    </tr>\n",
       "    <tr>\n",
       "      <th>3</th>\n",
       "      <td>3</td>\n",
       "      <td>@TicketTattle @_BARRYISLAND_ @tfwrail Sure thing</td>\n",
       "      <td>tickettattle tfwrail sure thing</td>\n",
       "      <td>['tickettattle', 'tfwrail', 'sure_thing']</td>\n",
       "      <td>1078738567193640960</td>\n",
       "      <td>76650839</td>\n",
       "      <td>2018-12-28T19:58:04.000Z</td>\n",
       "      <td>1</td>\n",
       "      <td>3</td>\n",
       "      <td>[tickettattle, tfwrail, sure, thing]</td>\n",
       "      <td>en</td>\n",
       "      <td>2018-12-28</td>\n",
       "    </tr>\n",
       "    <tr>\n",
       "      <th>4</th>\n",
       "      <td>4</td>\n",
       "      <td>@WPL_Official @BarryTownUnited @the_nomads @Ba...</td>\n",
       "      <td>wpl_official barrytownunited the_nomads balato...</td>\n",
       "      <td>['wpl_official', 'barrytownunited', 'the_nomad...</td>\n",
       "      <td>1077967555879452672</td>\n",
       "      <td>76650839</td>\n",
       "      <td>2018-12-26T21:24:01.000Z</td>\n",
       "      <td>3</td>\n",
       "      <td>1</td>\n",
       "      <td>[wpl_official, barrytownunited, the_nomads, ba...</td>\n",
       "      <td>en</td>\n",
       "      <td>2018-12-26</td>\n",
       "    </tr>\n",
       "    <tr>\n",
       "      <th>...</th>\n",
       "      <td>...</td>\n",
       "      <td>...</td>\n",
       "      <td>...</td>\n",
       "      <td>...</td>\n",
       "      <td>...</td>\n",
       "      <td>...</td>\n",
       "      <td>...</td>\n",
       "      <td>...</td>\n",
       "      <td>...</td>\n",
       "      <td>...</td>\n",
       "      <td>...</td>\n",
       "      <td>...</td>\n",
       "    </tr>\n",
       "    <tr>\n",
       "      <th>234599</th>\n",
       "      <td>234599</td>\n",
       "      <td>.@NasserJudeh Agree, and am pleased our countr...</td>\n",
       "      <td>nasserjudeh agree and am pleased our countries...</td>\n",
       "      <td>['nasserjudeh', 'agree', 'pleased', 'countries...</td>\n",
       "      <td>421297224564621312</td>\n",
       "      <td>122994639</td>\n",
       "      <td>2014-01-09T17:16:07.000Z</td>\n",
       "      <td>10</td>\n",
       "      <td>10</td>\n",
       "      <td>[nasserjudeh, agree, pleased, countries, work,...</td>\n",
       "      <td>en</td>\n",
       "      <td>2014-01-09</td>\n",
       "    </tr>\n",
       "    <tr>\n",
       "      <th>234600</th>\n",
       "      <td>234600</td>\n",
       "      <td>RT @NasserJudeh: Had an excellent meeting with...</td>\n",
       "      <td>rt nasserjudeh had an excellent meeting with m...</td>\n",
       "      <td>['rt', 'nasserjudeh', 'excellent_meeting', 'go...</td>\n",
       "      <td>421329089820377088</td>\n",
       "      <td>122994639</td>\n",
       "      <td>2014-01-09T17:14:17.000Z</td>\n",
       "      <td>0</td>\n",
       "      <td>0</td>\n",
       "      <td>[rt, nasserjudeh, excellent, meeting, good, fr...</td>\n",
       "      <td>en</td>\n",
       "      <td>2014-01-09</td>\n",
       "    </tr>\n",
       "    <tr>\n",
       "      <th>234601</th>\n",
       "      <td>234601</td>\n",
       "      <td>Good talks with Israeli Foreign Minister Liebe...</td>\n",
       "      <td>good talks with israeli foreign minister liebe...</td>\n",
       "      <td>['good_talks', 'israeli', 'foreign_minister', ...</td>\n",
       "      <td>420593957857689600</td>\n",
       "      <td>122994639</td>\n",
       "      <td>2014-01-07T16:33:08.000Z</td>\n",
       "      <td>20</td>\n",
       "      <td>28</td>\n",
       "      <td>[good, talks, israeli, foreign, minister, lieb...</td>\n",
       "      <td>en</td>\n",
       "      <td>2014-01-07</td>\n",
       "    </tr>\n",
       "    <tr>\n",
       "      <th>234602</th>\n",
       "      <td>234602</td>\n",
       "      <td>Also discussed with President Museveni working...</td>\n",
       "      <td>also discussed with president museveni working...</td>\n",
       "      <td>['also_discussed', 'president_museveni', 'work...</td>\n",
       "      <td>419158590822555648</td>\n",
       "      <td>122994639</td>\n",
       "      <td>2014-01-03T17:29:30.000Z</td>\n",
       "      <td>10</td>\n",
       "      <td>18</td>\n",
       "      <td>[also, discussed, president, museveni, working...</td>\n",
       "      <td>en</td>\n",
       "      <td>2014-01-03</td>\n",
       "    </tr>\n",
       "    <tr>\n",
       "      <th>234603</th>\n",
       "      <td>234603</td>\n",
       "      <td>Called President Museveni of Uganda today to d...</td>\n",
       "      <td>called president museveni of uganda today to d...</td>\n",
       "      <td>['called_president', 'museveni', 'uganda', 'to...</td>\n",
       "      <td>419158247032258560</td>\n",
       "      <td>122994639</td>\n",
       "      <td>2014-01-03T17:28:08.000Z</td>\n",
       "      <td>14</td>\n",
       "      <td>22</td>\n",
       "      <td>[called, president, museveni, uganda, today, d...</td>\n",
       "      <td>en</td>\n",
       "      <td>2014-01-03</td>\n",
       "    </tr>\n",
       "  </tbody>\n",
       "</table>\n",
       "<p>234604 rows × 12 columns</p>\n",
       "</div>"
      ],
      "text/plain": [
       "         index                                               text  \\\n",
       "0            0  RT @10DowningStreet: - More than 34 countries\\...   \n",
       "1            1  RT @GavinWilliamson: I want to thank all those...   \n",
       "2            2  RT @UKGovWales: Welsh Secretary @AlunCairns ex...   \n",
       "3            3   @TicketTattle @_BARRYISLAND_ @tfwrail Sure thing   \n",
       "4            4  @WPL_Official @BarryTownUnited @the_nomads @Ba...   \n",
       "...        ...                                                ...   \n",
       "234599  234599  .@NasserJudeh Agree, and am pleased our countr...   \n",
       "234600  234600  RT @NasserJudeh: Had an excellent meeting with...   \n",
       "234601  234601  Good talks with Israeli Foreign Minister Liebe...   \n",
       "234602  234602  Also discussed with President Museveni working...   \n",
       "234603  234603  Called President Museveni of Uganda today to d...   \n",
       "\n",
       "                                               clean_text  \\\n",
       "0       rt downingstreet more than countries places in...   \n",
       "1       rt gavinwilliamson want to thank all those ser...   \n",
       "2       rt ukgovwales welsh secretary aluncairns exten...   \n",
       "3                         tickettattle tfwrail sure thing   \n",
       "4       wpl_official barrytownunited the_nomads balato...   \n",
       "...                                                   ...   \n",
       "234599  nasserjudeh agree and am pleased our countries...   \n",
       "234600  rt nasserjudeh had an excellent meeting with m...   \n",
       "234601  good talks with israeli foreign minister liebe...   \n",
       "234602  also discussed with president museveni working...   \n",
       "234603  called president museveni of uganda today to d...   \n",
       "\n",
       "                                              text_tokens  \\\n",
       "0       ['rt_downingstreet', 'countries', 'places_uk',...   \n",
       "1       ['rt_gavinwilliamson', 'want_thank', 'serving'...   \n",
       "2       ['rt_ukgovwales_welsh_secretary', 'aluncairns'...   \n",
       "3               ['tickettattle', 'tfwrail', 'sure_thing']   \n",
       "4       ['wpl_official', 'barrytownunited', 'the_nomad...   \n",
       "...                                                   ...   \n",
       "234599  ['nasserjudeh', 'agree', 'pleased', 'countries...   \n",
       "234600  ['rt', 'nasserjudeh', 'excellent_meeting', 'go...   \n",
       "234601  ['good_talks', 'israeli', 'foreign_minister', ...   \n",
       "234602  ['also_discussed', 'president_museveni', 'work...   \n",
       "234603  ['called_president', 'museveni', 'uganda', 'to...   \n",
       "\n",
       "            conversation_id  author_id                created_at  \\\n",
       "0       1079747729419657217   76650839  2018-12-31T14:34:54.000Z   \n",
       "1       1079747690110570496   76650839  2018-12-31T14:34:44.000Z   \n",
       "2       1078943309744070657   76650839  2018-12-29T09:18:25.000Z   \n",
       "3       1078738567193640960   76650839  2018-12-28T19:58:04.000Z   \n",
       "4       1077967555879452672   76650839  2018-12-26T21:24:01.000Z   \n",
       "...                     ...        ...                       ...   \n",
       "234599   421297224564621312  122994639  2014-01-09T17:16:07.000Z   \n",
       "234600   421329089820377088  122994639  2014-01-09T17:14:17.000Z   \n",
       "234601   420593957857689600  122994639  2014-01-07T16:33:08.000Z   \n",
       "234602   419158590822555648  122994639  2014-01-03T17:29:30.000Z   \n",
       "234603   419158247032258560  122994639  2014-01-03T17:28:08.000Z   \n",
       "\n",
       "        public_metrics.like_count  public_metrics.reply_count  \\\n",
       "0                               0                           0   \n",
       "1                               0                           0   \n",
       "2                               0                           0   \n",
       "3                               1                           3   \n",
       "4                               3                           1   \n",
       "...                           ...                         ...   \n",
       "234599                         10                          10   \n",
       "234600                          0                           0   \n",
       "234601                         20                          28   \n",
       "234602                         10                          18   \n",
       "234603                         14                          22   \n",
       "\n",
       "                                               tokens_roy language  \\\n",
       "0       [rt, downingstreet, countries, places, uk, mee...       en   \n",
       "1       [rt, gavinwilliamson, want, thank, serving, br...       en   \n",
       "2       [rt, ukgovwales, welsh, secretary, aluncairns,...       en   \n",
       "3                    [tickettattle, tfwrail, sure, thing]       en   \n",
       "4       [wpl_official, barrytownunited, the_nomads, ba...       en   \n",
       "...                                                   ...      ...   \n",
       "234599  [nasserjudeh, agree, pleased, countries, work,...       en   \n",
       "234600  [rt, nasserjudeh, excellent, meeting, good, fr...       en   \n",
       "234601  [good, talks, israeli, foreign, minister, lieb...       en   \n",
       "234602  [also, discussed, president, museveni, working...       en   \n",
       "234603  [called, president, museveni, uganda, today, d...       en   \n",
       "\n",
       "       created_at_date  \n",
       "0           2018-12-31  \n",
       "1           2018-12-31  \n",
       "2           2018-12-29  \n",
       "3           2018-12-28  \n",
       "4           2018-12-26  \n",
       "...                ...  \n",
       "234599      2014-01-09  \n",
       "234600      2014-01-09  \n",
       "234601      2014-01-07  \n",
       "234602      2014-01-03  \n",
       "234603      2014-01-03  \n",
       "\n",
       "[234604 rows x 12 columns]"
      ]
     },
     "execution_count": 43,
     "metadata": {},
     "output_type": "execute_result"
    }
   ],
   "source": [
    "data_for_model"
   ]
  },
  {
   "cell_type": "code",
   "execution_count": 234,
   "id": "84fe063d",
   "metadata": {
    "ExecuteTime": {
     "end_time": "2022-05-14T15:38:35.991057Z",
     "start_time": "2022-05-14T15:38:35.618199Z"
    }
   },
   "outputs": [
    {
     "data": {
      "text/plain": [
       "[TaggedDocument(words=['markreckless', 'eu', 'yes.', 'support', 'deal', 'nz', 'would', 'allow', 'unlimited', 'lamb', 'imports', 'one', 'undermines', 'steel'], tags=['824734202251902976', '2476761393', '2017-01-26 00:00:00']),\n",
       " TaggedDocument(words=['rt', 'mina_andreeva', '.junckereu', 'eu27', 'stand', 'firmly', 'behind', 'ireland.', 'eu', 'made', 'priority', 'protect', 'goodfriday', 'agreement', 'peace…'], tags=['939062313772036096', '2421073909', '2017-12-08 00:00:00']),\n",
       " TaggedDocument(words=['ludicrous', 'suggest', 'trade', 'deficit', 'eu', 'pm', 'seems', 'suggest', 'brexit'], tags=['821330278526386183', '33300246', '2017-01-17 00:00:00']),\n",
       " TaggedDocument(words=['take', 'happens', 'parliament', 'rejects', 'mays', 'brexit', 'deal', 'options', 'deal,', 'different', 'deal,', 'election,', 'referendum', 'original', 'deal', 'passes', '2nd', 'attempt.', 'https//t.co/hprherw95v', 'cer_eu'], tags=['1063375046553550848', '634496564', '2018-11-16 00:00:00']),\n",
       " TaggedDocument(words=['ive', 'learned', 'fair', 'amount', 'eu', 'politics', '&amp;', 'brexit', 'past', 'months,', 'well', 'rugby', '&amp;', 'cricket.', 'https//t.co/wy6pe3dlpx'], tags=['824600309112659968', '22680819', '2017-01-26 00:00:00']),\n",
       " TaggedDocument(words=['rt', 'euroguido', 'corbyn', 'travelling', 'brussels', 'tell', 'eu', 'britain', 'accepting', 'deal', 'give', 'us.', 'cheers', 'jez.'], tags=['920968477275512835', '19017675', '2017-10-19 00:00:00']),\n",
       " TaggedDocument(words=['think', 'eu', 'stronger', 'imply.', 'swiss', 'deal', 'though', 'know', 'eu', 'dislikes', 'sm', 'goods', 'services', 'destroyed', 'eu.', 'suggesting', 'current', 'version', 'white', 'paper', 'viable,', 'variation', 'softened', 'red', 'lines.', 'https//t.co/xifhutucy3'], tags=['1025082885932544002', '634496564', '2018-08-02 00:00:00']),\n",
       " TaggedDocument(words=['rt', 'eu4be', 'ce', 'qui', 'été', 'fait,', 'ce', 'quil', 'reste', 'accomplir', 'pour', 'mettre', 'en', 'oeuvre', 'le', 'plan', 'daction', 'eu-turquie', 'migrationeu', 'https//t.co/pij…'], tags=['697387462222618624', '1391776140', '2016-02-10 00:00:00']),\n",
       " TaggedDocument(words=['rt', 'ec_stockholmrep', 'goda', 'nyheter', 'från', 'eu', 'till', 'mellandagsrean!', 'eu-regler', 'mot', 'omotiverad', 'geoblocking.', 'nu', 'gäller', 'samma', 'villkor', 'eu', 'när', 'du', 'h…'], tags=['1077856866074529792', '460966881', '2018-12-26 00:00:00']),\n",
       " TaggedDocument(words=['launch', 'cer_london', 'report', 'brexit,', 'martinwolf_', 'says', 'uk', 'much', 'influence', 'eu', 'scotland', 'wd', 'leave', 'uk', 'outside', 'eu.'], tags=['476662716766367744', '634496564', '2014-06-11 00:00:00']),\n",
       " TaggedDocument(words=['demand', 'people’s', 'vote', 'final', 'brexit', 'deal', 'grow.', 'new', 'facts', 'consequences', 'leaving', 'eu', 'coming', 'light', 'every', 'day,', 'clearer', 'ever', 'brexit', 'big', 'deal,', 'done', 'deal.', '(4)'], tags=['1006471849088311296', '33300246', '2018-06-12 00:00:00']),\n",
       " TaggedDocument(words=['rt', 'stephenwall34', 'flights', 'eu', 'risk', 'brexit', 'deal,', 'airlines', 'warn', 'https//t.co/ikne2gk5bf'], tags=['885426771927158784', '634496564', '2017-07-13 00:00:00']),\n",
       " TaggedDocument(words=['financial', 'services,', 'favour', 'equivalence', 'regime', 'allows', 'eu', 'regulate', 'control', 'uk', 'financial', 'products', 'eu.', 'watch', 'full', 'statement', 'https//t.co/4lppsd3och', 'brexit'], tags=['989094610038337539', '856010760', '2018-04-25 00:00:00']),\n",
       " TaggedDocument(words=['rt', 'eucyprus', 'eu', 'turns', '60', 'today,', '60', 'good', 'reasons', 'eu!', '🇪🇺', 'take', 'look', 'album', 'https//t.co/lsdhtututt.', 'eu…'], tags=['845694607874772993', '2421073909', '2017-03-25 00:00:00']),\n",
       " TaggedDocument(words=['het', 'geen', 'geheim', 'dat', 'ik', 'het', 'britse', 'vertrek', 'uit', 'eu', 'zeer', 'betreur.', 'nl', 'wordt', 'daardoor', 'elk', 'scenario', 'getroffen,', 'maar', 'die', 'gevolgen', 'zijn', 'een', 'no-deal', 'scenario', 'veel', 'ernstiger', 'dan', 'bij', 'een', 'terugtrekkingsakkoord.', 'de', 'deal', 'die', 'er', 'nu', 'ligt', 'het', 'maximaal', 'haalbare.', 'brexit'], tags=['1066662602443538432', '155507136', '2018-11-25 00:00:00']),\n",
       " TaggedDocument(words=['labours', 'future', 'lies', 'fighting', 'hard', 'brexit;', 'also', 'radical', '&amp;', 'bold', 'answers', 'root', 'causes', 'brexit.', 'https//t.co/oe3x306xdu'], tags=['816372212592676864', '2425571623', '2017-01-03 00:00:00']),\n",
       " TaggedDocument(words=['rt', 'mina_andreeva', '.junckereu', 'eu27', 'stand', 'firmly', 'behind', 'ireland.', 'eu', 'made', 'priority', 'protect', 'goodfriday', 'agreement', 'peace…'], tags=['939049130768392192', '460966881', '2017-12-08 00:00:00']),\n",
       " TaggedDocument(words=['rt', 'eevriviades', 'ever,', 'cer_grant', 'provides', 'interesting', 'spot', 'reading,', 'eu', 'also', 'pay', 'price', '&amp;', 'weakened', 'brexit', '//', '“how', 'bre…'], tags=['930024126298906624', '634496564', '2017-11-13 00:00:00']),\n",
       " TaggedDocument(words=['rt', 'robertvanderoer', 'cer_grant', 'explains', 'eu', 'bbc', 'anchor.', 'one', 'exiting', 'country', 'cannot', 'dictate', '27', 'eu', 'countries.', 'uk', 'unilateralism', 'vs', 'eu', 'multi…'], tags=['859817622120083456', '634496564', '2017-05-03 00:00:00']),\n",
       " TaggedDocument(words=['nhaerting', 'vivianeredingeu', 'und', 'heute', 'steht', 'die', 'ds-gvo', 'im', 'eu-amtsblatt', '&amp;', 'wird', '25.5.2018', 'einheitl', 'recht', 'der', 'gesamten', 'eu.', 'dank', 'vivianeredingeu', 'und', 'etwas', 'beton', ';-)'], tags=['859743329952706560', '2421073909', '2017-05-03 00:00:00']),\n",
       " TaggedDocument(words=['rt', 'marga_kopeinig', 'ex-kanzler', 'faymann', 'un-job', 'wird', 'von', 'eu-spitzen', 'juncker,', 'schulz', 'und', 'tusk', 'unterstützt.', 'passt', 'eu-beschäftigungss…'], tags=['764416171651239936', '2421073909', '2016-08-13 00:00:00']),\n",
       " TaggedDocument(words=['citizens', 'cannot', 'victims', 'no–deal', 'brexit,', 'used', 'bargaining', 'chips.', 'case', 'deal,', 'europarl_en', 'wants', 'citizens', 'rights', 'deal', 'ring–fenced', '&amp;', 'eu', 'must', 'honour', 'this.', 'citizens', 'rights', 'deal', 'shouldnt', 'watered', 'uk', 'today', 'proposes.'], tags=['1070652265130852354', '856010760', '2018-12-06 00:00:00']),\n",
       " TaggedDocument(words=['vandaag', 'met', 'eurocommissaris', 'goettingereu', 'gesproken', 'eu-begroting.', 'nl', 'zet', 'bij', 'onderhandelingen', 'mfk', 'op', 'modernisering', 'en', 'bezuiniging.', 'uitgaven', 'moeten', 'gericht', 'zijn', 'op', 'onderwerpen', 'waar', 'eu', 'aantoonbaar', 'toegevoegde', 'waarde', 'heeft.', 'en', 'vertrek', 'vk', 'betekent', 'dat', 'begroting', 'omlaag', 'moet.', 'https//t.co/xg4wvu66tn'], tags=['953958453554401283', '155507136', '2018-01-18 00:00:00']),\n",
       " TaggedDocument(words=['eu', 'realises', 'overplayed', 'hand', '&amp;', 'parliament', 'won’t', 'wear', 'shameful', 'surrender,', 'faced', 'choice', 'proper', '&amp;', 'equitable', 'deal', 'split', 'without', 'deal', 'prospect', 'don’t', 'relish,', 'least', 'lose', 'leverage', 'us', '4/4'], tags=['1069285577869205506', '3131144855', '2018-12-02 00:00:00']),\n",
       " TaggedDocument(words=['rt', 'doflynn', 'proposed', 'us-eu', 'trade', 'deal', 'uphold', 'standards,', 'says', 'eu', 'via', 'irish', 'times', 'http//t.co/c0sgvez6vp', 'http//t.co/cac35hbpgx'], tags=['641212116591095808', '460966881', '2015-09-08 00:00:00']),\n",
       " TaggedDocument(words=['eu', 'leave', 'campaigners', 'conspiracy', 'theorists', 'apparently', 'unions', 'ganged', 'brexit', 'socialists', 'cbi', '&amp;', 'imf'], tags=['722314641976729600', '33300246', '2016-04-19 00:00:00']),\n",
       " TaggedDocument(words=['todays', 'draft', 'deal', 'hardly', 'worth', 'wait,', 'pathetic.'], tags=['694496319042383872', '19017675', '2016-02-02 00:00:00']),\n",
       " TaggedDocument(words=['rt', 'cer_eu', 'uk', 'faces', 'choice', 'economics', 'sovereignty', 'eu', 'energy', 'cooperation', 'brexit', 'writes', 'sir', 'philip', 'lowe', 'https//t.co/ltp…'], tags=['912355749409513472', '634496564', '2017-09-25 00:00:00']),\n",
       " TaggedDocument(words=['rt', 'theprogressives', 'isis', 'main', 'threat', 'face', 'today.', 'must', 'broad', 'alliance,', 'including', 'eu', '&amp;', 'arab', 'nations', 'deal', 'isis', 'sa…'], tags=['651313028328243200', '14460250', '2015-10-06 00:00:00']),\n",
       " TaggedDocument(words=['rt', 'stefanleifert', 'brexit', 'wirkt', 'schon', 'im', 'märz', 'nimmt', 'eu-hauptqurtiert', 'für', 'militärmissionen', 'brüssel', 'seine', 'arbeit', 'auf.', 'verteidigungsunion…'], tags=['837699012908171264', '2421073909', '2017-03-03 00:00:00']),\n",
       " TaggedDocument(words=['rt', 'irelandrepbru', 'irelands', 'ambassador', 'eu', 'deckelleher', 'welcoming', 'martin', 'selmayr', 'iieabrussels', 'talk', 'irelandrepbru', 'tonight.', 'https…'], tags=['911267616429355008', '2421073909', '2017-09-22 00:00:00']),\n",
       " TaggedDocument(words=['rt', 'brexit', 'euro-area', 'economy', 'line', 'best', 'growth', 'years', 'https//t.co/ptbofhmm0k', 'https//t.co/pqgmmqnlha'], tags=['932255775937978368', '2421073909', '2017-11-19 00:00:00']),\n",
       " TaggedDocument(words=['rt', 'mettemhansen', 'det,', 'der', 'er', 'forbudt', 'eu', 'dag', '(hormonbøf,', 'klorkylling)', 'er', 'også', 'forbudt', 'eu', 'efter', 'ttip-aftale,', 'siger', 'malmstromeu', 'http…'], tags=['642354195505512448', '460966881', '2015-09-11 00:00:00']),\n",
       " TaggedDocument(words=['rt', 'martainkorea', '8th', 'eu-republic', 'korea', 'summit', 'take', 'place', 'next', 'week', 'seoul,', 'eucopresident', '&amp;', 'malmstromeu', 'present', 'eu…'], tags=['642617703325433856', '460966881', '2015-09-12 00:00:00']),\n",
       " TaggedDocument(words=['rt', 'andreas_schwab', 'beziehungen', 'schweiz-eu', 'eu-aussenparlamentarier', '«nicht', 'ohne', 'rahmenabkommen»', 'srf', 'https//t.co/xdzajdvoo8', 'davidmcalli…'], tags=['883949724553883648', '17621447', '2017-07-09 00:00:00']),\n",
       " TaggedDocument(words=['eu', 'membership', 'means', 'free', 'movement', 'people.', 'way', 'control', 'borders', 'leave', 'eu.'], tags=['694487532021616640', '19017675', '2016-02-02 00:00:00']),\n",
       " TaggedDocument(words=['rt', 'cer_eu', 'hilarybennmp', 'tells', 'cer_eu', 'event', 'labour', 'party', 'conference', 'brexit'"
      ]
     },
     "execution_count": 234,
     "metadata": {},
     "output_type": "execute_result"
    },
    {
     "data": {
      "text/html": [
       "<b>limit_output extension: Maximum message size of 10000 exceeded with 262494 characters</b>"
      ]
     },
     "metadata": {},
     "output_type": "display_data"
    }
   ],
   "source": [
    "tagged_documents"
   ]
  },
  {
   "cell_type": "code",
   "execution_count": null,
   "id": "e6a9a1d8",
   "metadata": {},
   "outputs": [],
   "source": []
  },
  {
   "cell_type": "code",
   "execution_count": null,
   "id": "6c1e776e",
   "metadata": {},
   "outputs": [],
   "source": []
  },
  {
   "cell_type": "code",
   "execution_count": null,
   "id": "9c431484",
   "metadata": {},
   "outputs": [],
   "source": []
  },
  {
   "cell_type": "code",
   "execution_count": null,
   "id": "89b3725f",
   "metadata": {},
   "outputs": [],
   "source": []
  },
  {
   "cell_type": "code",
   "execution_count": null,
   "id": "757371ec",
   "metadata": {},
   "outputs": [],
   "source": []
  },
  {
   "cell_type": "markdown",
   "id": "c3f069eb",
   "metadata": {},
   "source": [
    "## EDA"
   ]
  },
  {
   "cell_type": "code",
   "execution_count": null,
   "id": "32096eb0",
   "metadata": {},
   "outputs": [],
   "source": [
    "# word cloud\n"
   ]
  },
  {
   "cell_type": "markdown",
   "id": "2c61a79e",
   "metadata": {},
   "source": [
    "## Model"
   ]
  },
  {
   "cell_type": "code",
   "execution_count": null,
   "id": "bdba7591",
   "metadata": {},
   "outputs": [],
   "source": []
  },
  {
   "cell_type": "code",
   "execution_count": null,
   "id": "1e9f4516",
   "metadata": {},
   "outputs": [],
   "source": []
  },
  {
   "cell_type": "markdown",
   "id": "f3515314",
   "metadata": {
    "ExecuteTime": {
     "end_time": "2022-05-27T16:19:12.082121Z",
     "start_time": "2022-05-27T16:19:12.075122Z"
    }
   },
   "source": [
    "## Sentiment analysis"
   ]
  },
  {
   "cell_type": "code",
   "execution_count": 51,
   "id": "7624cfad",
   "metadata": {
    "ExecuteTime": {
     "end_time": "2022-05-27T16:21:40.255712Z",
     "start_time": "2022-05-27T16:21:40.235722Z"
    }
   },
   "outputs": [],
   "source": [
    "def nltk_sentiment(row, sentiment_intensity_analyzer):\n",
    "    import numpy as np, pandas as pd\n",
    "    sentiment_names = ['negative', 'neutral', 'positive']\n",
    "    nltk_sentiment = sentiment_intensity_analyzer.polarity_scores(row['clean_text'])\n",
    "    \n",
    "    #nltk_sentiment['nltk_verdict'] = sentiment_names[np.argmax([nltk_sentiment[s] for s in ['neg','neu','pos']])]\n",
    "    if nltk_sentiment['neu']>0.95:\n",
    "        nltk_sentiment['nltk_verdict'] = 'neutral'\n",
    "    elif nltk_sentiment['neg'] < nltk_sentiment['pos']:\n",
    "        nltk_sentiment['nltk_verdict'] = 'positive'\n",
    "    else:\n",
    "        nltk_sentiment['nltk_verdict'] = 'negative'\n",
    "    #nltk_sentiment['ground_truth'] = row['airline_sentiment']\n",
    "    #nltk_sentiment['ground_truth_value'] = {'negative': -1, 'neutral':0, 'positive':1 }[nltk_sentiment['ground_truth']]\n",
    "    return pd.Series(nltk_sentiment)"
   ]
  },
  {
   "cell_type": "code",
   "execution_count": 46,
   "id": "f5e12ce4",
   "metadata": {
    "ExecuteTime": {
     "end_time": "2022-05-27T16:18:37.268034Z",
     "start_time": "2022-05-27T16:18:37.188079Z"
    }
   },
   "outputs": [
    {
     "data": {
      "text/html": [
       "<div>\n",
       "<style scoped>\n",
       "    .dataframe tbody tr th:only-of-type {\n",
       "        vertical-align: middle;\n",
       "    }\n",
       "\n",
       "    .dataframe tbody tr th {\n",
       "        vertical-align: top;\n",
       "    }\n",
       "\n",
       "    .dataframe thead th {\n",
       "        text-align: right;\n",
       "    }\n",
       "</style>\n",
       "<table border=\"1\" class=\"dataframe\">\n",
       "  <thead>\n",
       "    <tr style=\"text-align: right;\">\n",
       "      <th></th>\n",
       "      <th>clean_text</th>\n",
       "    </tr>\n",
       "  </thead>\n",
       "  <tbody>\n",
       "    <tr>\n",
       "      <th>0</th>\n",
       "      <td>rt downingstreet more than countries places in...</td>\n",
       "    </tr>\n",
       "    <tr>\n",
       "      <th>1</th>\n",
       "      <td>rt gavinwilliamson want to thank all those ser...</td>\n",
       "    </tr>\n",
       "    <tr>\n",
       "      <th>2</th>\n",
       "      <td>rt ukgovwales welsh secretary aluncairns exten...</td>\n",
       "    </tr>\n",
       "    <tr>\n",
       "      <th>3</th>\n",
       "      <td>tickettattle tfwrail sure thing</td>\n",
       "    </tr>\n",
       "    <tr>\n",
       "      <th>4</th>\n",
       "      <td>wpl_official barrytownunited the_nomads balato...</td>\n",
       "    </tr>\n",
       "    <tr>\n",
       "      <th>...</th>\n",
       "      <td>...</td>\n",
       "    </tr>\n",
       "    <tr>\n",
       "      <th>234599</th>\n",
       "      <td>nasserjudeh agree and am pleased our countries...</td>\n",
       "    </tr>\n",
       "    <tr>\n",
       "      <th>234600</th>\n",
       "      <td>rt nasserjudeh had an excellent meeting with m...</td>\n",
       "    </tr>\n",
       "    <tr>\n",
       "      <th>234601</th>\n",
       "      <td>good talks with israeli foreign minister liebe...</td>\n",
       "    </tr>\n",
       "    <tr>\n",
       "      <th>234602</th>\n",
       "      <td>also discussed with president museveni working...</td>\n",
       "    </tr>\n",
       "    <tr>\n",
       "      <th>234603</th>\n",
       "      <td>called president museveni of uganda today to d...</td>\n",
       "    </tr>\n",
       "  </tbody>\n",
       "</table>\n",
       "<p>234604 rows × 1 columns</p>\n",
       "</div>"
      ],
      "text/plain": [
       "                                               clean_text\n",
       "0       rt downingstreet more than countries places in...\n",
       "1       rt gavinwilliamson want to thank all those ser...\n",
       "2       rt ukgovwales welsh secretary aluncairns exten...\n",
       "3                         tickettattle tfwrail sure thing\n",
       "4       wpl_official barrytownunited the_nomads balato...\n",
       "...                                                   ...\n",
       "234599  nasserjudeh agree and am pleased our countries...\n",
       "234600  rt nasserjudeh had an excellent meeting with m...\n",
       "234601  good talks with israeli foreign minister liebe...\n",
       "234602  also discussed with president museveni working...\n",
       "234603  called president museveni of uganda today to d...\n",
       "\n",
       "[234604 rows x 1 columns]"
      ]
     },
     "execution_count": 46,
     "metadata": {},
     "output_type": "execute_result"
    }
   ],
   "source": [
    "data_for_model[[\"clean_text\"]]"
   ]
  },
  {
   "cell_type": "code",
   "execution_count": 52,
   "id": "011f2a39",
   "metadata": {
    "ExecuteTime": {
     "end_time": "2022-05-27T16:31:29.880793Z",
     "start_time": "2022-05-27T16:22:03.361463Z"
    }
   },
   "outputs": [],
   "source": [
    "from nltk.sentiment import SentimentIntensityAnalyzer\n",
    "sentiment_intensity_analyzer = SentimentIntensityAnalyzer()\n",
    "\n",
    "nltk_sentiment = data_for_model.apply(nltk_sentiment, sentiment_intensity_analyzer=sentiment_intensity_analyzer, axis=1)"
   ]
  },
  {
   "cell_type": "code",
   "execution_count": 53,
   "id": "a99a6d1c",
   "metadata": {
    "ExecuteTime": {
     "end_time": "2022-05-27T16:38:56.885636Z",
     "start_time": "2022-05-27T16:38:56.839663Z"
    }
   },
   "outputs": [
    {
     "data": {
      "text/html": [
       "<div>\n",
       "<style scoped>\n",
       "    .dataframe tbody tr th:only-of-type {\n",
       "        vertical-align: middle;\n",
       "    }\n",
       "\n",
       "    .dataframe tbody tr th {\n",
       "        vertical-align: top;\n",
       "    }\n",
       "\n",
       "    .dataframe thead th {\n",
       "        text-align: right;\n",
       "    }\n",
       "</style>\n",
       "<table border=\"1\" class=\"dataframe\">\n",
       "  <thead>\n",
       "    <tr style=\"text-align: right;\">\n",
       "      <th></th>\n",
       "      <th>neg</th>\n",
       "      <th>neu</th>\n",
       "      <th>pos</th>\n",
       "      <th>compound</th>\n",
       "      <th>nltk_verdict</th>\n",
       "    </tr>\n",
       "  </thead>\n",
       "  <tbody>\n",
       "    <tr>\n",
       "      <th>0</th>\n",
       "      <td>0.000</td>\n",
       "      <td>1.000</td>\n",
       "      <td>0.000</td>\n",
       "      <td>0.0000</td>\n",
       "      <td>neutral</td>\n",
       "    </tr>\n",
       "    <tr>\n",
       "      <th>1</th>\n",
       "      <td>0.000</td>\n",
       "      <td>0.840</td>\n",
       "      <td>0.160</td>\n",
       "      <td>0.4215</td>\n",
       "      <td>positive</td>\n",
       "    </tr>\n",
       "    <tr>\n",
       "      <th>2</th>\n",
       "      <td>0.000</td>\n",
       "      <td>0.636</td>\n",
       "      <td>0.364</td>\n",
       "      <td>0.8225</td>\n",
       "      <td>positive</td>\n",
       "    </tr>\n",
       "    <tr>\n",
       "      <th>3</th>\n",
       "      <td>0.000</td>\n",
       "      <td>0.566</td>\n",
       "      <td>0.434</td>\n",
       "      <td>0.3182</td>\n",
       "      <td>positive</td>\n",
       "    </tr>\n",
       "    <tr>\n",
       "      <th>4</th>\n",
       "      <td>0.000</td>\n",
       "      <td>0.651</td>\n",
       "      <td>0.349</td>\n",
       "      <td>0.7096</td>\n",
       "      <td>positive</td>\n",
       "    </tr>\n",
       "    <tr>\n",
       "      <th>...</th>\n",
       "      <td>...</td>\n",
       "      <td>...</td>\n",
       "      <td>...</td>\n",
       "      <td>...</td>\n",
       "      <td>...</td>\n",
       "    </tr>\n",
       "    <tr>\n",
       "      <th>234599</th>\n",
       "      <td>0.000</td>\n",
       "      <td>0.685</td>\n",
       "      <td>0.315</td>\n",
       "      <td>0.7783</td>\n",
       "      <td>positive</td>\n",
       "    </tr>\n",
       "    <tr>\n",
       "      <th>234600</th>\n",
       "      <td>0.000</td>\n",
       "      <td>0.526</td>\n",
       "      <td>0.474</td>\n",
       "      <td>0.9260</td>\n",
       "      <td>positive</td>\n",
       "    </tr>\n",
       "    <tr>\n",
       "      <th>234601</th>\n",
       "      <td>0.000</td>\n",
       "      <td>0.714</td>\n",
       "      <td>0.286</td>\n",
       "      <td>0.7506</td>\n",
       "      <td>positive</td>\n",
       "    </tr>\n",
       "    <tr>\n",
       "      <th>234602</th>\n",
       "      <td>0.173</td>\n",
       "      <td>0.717</td>\n",
       "      <td>0.110</td>\n",
       "      <td>-0.1280</td>\n",
       "      <td>negative</td>\n",
       "    </tr>\n",
       "    <tr>\n",
       "      <th>234603</th>\n",
       "      <td>0.000</td>\n",
       "      <td>0.855</td>\n",
       "      <td>0.145</td>\n",
       "      <td>0.2960</td>\n",
       "      <td>positive</td>\n",
       "    </tr>\n",
       "  </tbody>\n",
       "</table>\n",
       "<p>234604 rows × 5 columns</p>\n",
       "</div>"
      ],
      "text/plain": [
       "          neg    neu    pos  compound nltk_verdict\n",
       "0       0.000  1.000  0.000    0.0000      neutral\n",
       "1       0.000  0.840  0.160    0.4215     positive\n",
       "2       0.000  0.636  0.364    0.8225     positive\n",
       "3       0.000  0.566  0.434    0.3182     positive\n",
       "4       0.000  0.651  0.349    0.7096     positive\n",
       "...       ...    ...    ...       ...          ...\n",
       "234599  0.000  0.685  0.315    0.7783     positive\n",
       "234600  0.000  0.526  0.474    0.9260     positive\n",
       "234601  0.000  0.714  0.286    0.7506     positive\n",
       "234602  0.173  0.717  0.110   -0.1280     negative\n",
       "234603  0.000  0.855  0.145    0.2960     positive\n",
       "\n",
       "[234604 rows x 5 columns]"
      ]
     },
     "execution_count": 53,
     "metadata": {},
     "output_type": "execute_result"
    }
   ],
   "source": [
    "nltk_sentiment"
   ]
  },
  {
   "cell_type": "code",
   "execution_count": 56,
   "id": "2dbd80c6",
   "metadata": {
    "ExecuteTime": {
     "end_time": "2022-05-27T16:41:22.937900Z",
     "start_time": "2022-05-27T16:41:22.838960Z"
    }
   },
   "outputs": [
    {
     "data": {
      "text/html": [
       "<div>\n",
       "<style scoped>\n",
       "    .dataframe tbody tr th:only-of-type {\n",
       "        vertical-align: middle;\n",
       "    }\n",
       "\n",
       "    .dataframe tbody tr th {\n",
       "        vertical-align: top;\n",
       "    }\n",
       "\n",
       "    .dataframe thead th {\n",
       "        text-align: right;\n",
       "    }\n",
       "</style>\n",
       "<table border=\"1\" class=\"dataframe\">\n",
       "  <thead>\n",
       "    <tr style=\"text-align: right;\">\n",
       "      <th></th>\n",
       "      <th>index</th>\n",
       "      <th>text</th>\n",
       "      <th>clean_text</th>\n",
       "      <th>text_tokens</th>\n",
       "      <th>conversation_id</th>\n",
       "      <th>author_id</th>\n",
       "      <th>created_at</th>\n",
       "      <th>public_metrics.like_count</th>\n",
       "      <th>public_metrics.reply_count</th>\n",
       "      <th>tokens_roy</th>\n",
       "      <th>language</th>\n",
       "      <th>created_at_date</th>\n",
       "      <th>negative</th>\n",
       "      <th>neutural</th>\n",
       "      <th>positive</th>\n",
       "      <th>compound</th>\n",
       "      <th>nltk_verdict</th>\n",
       "    </tr>\n",
       "  </thead>\n",
       "  <tbody>\n",
       "    <tr>\n",
       "      <th>0</th>\n",
       "      <td>0</td>\n",
       "      <td>RT @10DowningStreet: - More than 34 countries\\...</td>\n",
       "      <td>rt downingstreet more than countries places in...</td>\n",
       "      <td>['rt_downingstreet', 'countries', 'places_uk',...</td>\n",
       "      <td>1079747729419657217</td>\n",
       "      <td>76650839</td>\n",
       "      <td>2018-12-31T14:34:54.000Z</td>\n",
       "      <td>0</td>\n",
       "      <td>0</td>\n",
       "      <td>[rt, downingstreet, countries, places, uk, mee...</td>\n",
       "      <td>en</td>\n",
       "      <td>2018-12-31</td>\n",
       "      <td>0.0</td>\n",
       "      <td>1.000</td>\n",
       "      <td>0.000</td>\n",
       "      <td>0.0000</td>\n",
       "      <td>neutral</td>\n",
       "    </tr>\n",
       "    <tr>\n",
       "      <th>1</th>\n",
       "      <td>1</td>\n",
       "      <td>RT @GavinWilliamson: I want to thank all those...</td>\n",
       "      <td>rt gavinwilliamson want to thank all those ser...</td>\n",
       "      <td>['rt_gavinwilliamson', 'want_thank', 'serving'...</td>\n",
       "      <td>1079747690110570496</td>\n",
       "      <td>76650839</td>\n",
       "      <td>2018-12-31T14:34:44.000Z</td>\n",
       "      <td>0</td>\n",
       "      <td>0</td>\n",
       "      <td>[rt, gavinwilliamson, want, thank, serving, br...</td>\n",
       "      <td>en</td>\n",
       "      <td>2018-12-31</td>\n",
       "      <td>0.0</td>\n",
       "      <td>0.840</td>\n",
       "      <td>0.160</td>\n",
       "      <td>0.4215</td>\n",
       "      <td>positive</td>\n",
       "    </tr>\n",
       "    <tr>\n",
       "      <th>2</th>\n",
       "      <td>2</td>\n",
       "      <td>RT @UKGovWales: Welsh Secretary @AlunCairns ex...</td>\n",
       "      <td>rt ukgovwales welsh secretary aluncairns exten...</td>\n",
       "      <td>['rt_ukgovwales_welsh_secretary', 'aluncairns'...</td>\n",
       "      <td>1078943309744070657</td>\n",
       "      <td>76650839</td>\n",
       "      <td>2018-12-29T09:18:25.000Z</td>\n",
       "      <td>0</td>\n",
       "      <td>0</td>\n",
       "      <td>[rt, ukgovwales, welsh, secretary, aluncairns,...</td>\n",
       "      <td>en</td>\n",
       "      <td>2018-12-29</td>\n",
       "      <td>0.0</td>\n",
       "      <td>0.636</td>\n",
       "      <td>0.364</td>\n",
       "      <td>0.8225</td>\n",
       "      <td>positive</td>\n",
       "    </tr>\n",
       "    <tr>\n",
       "      <th>3</th>\n",
       "      <td>3</td>\n",
       "      <td>@TicketTattle @_BARRYISLAND_ @tfwrail Sure thing</td>\n",
       "      <td>tickettattle tfwrail sure thing</td>\n",
       "      <td>['tickettattle', 'tfwrail', 'sure_thing']</td>\n",
       "      <td>1078738567193640960</td>\n",
       "      <td>76650839</td>\n",
       "      <td>2018-12-28T19:58:04.000Z</td>\n",
       "      <td>1</td>\n",
       "      <td>3</td>\n",
       "      <td>[tickettattle, tfwrail, sure, thing]</td>\n",
       "      <td>en</td>\n",
       "      <td>2018-12-28</td>\n",
       "      <td>0.0</td>\n",
       "      <td>0.566</td>\n",
       "      <td>0.434</td>\n",
       "      <td>0.3182</td>\n",
       "      <td>positive</td>\n",
       "    </tr>\n",
       "    <tr>\n",
       "      <th>4</th>\n",
       "      <td>4</td>\n",
       "      <td>@WPL_Official @BarryTownUnited @the_nomads @Ba...</td>\n",
       "      <td>wpl_official barrytownunited the_nomads balato...</td>\n",
       "      <td>['wpl_official', 'barrytownunited', 'the_nomad...</td>\n",
       "      <td>1077967555879452672</td>\n",
       "      <td>76650839</td>\n",
       "      <td>2018-12-26T21:24:01.000Z</td>\n",
       "      <td>3</td>\n",
       "      <td>1</td>\n",
       "      <td>[wpl_official, barrytownunited, the_nomads, ba...</td>\n",
       "      <td>en</td>\n",
       "      <td>2018-12-26</td>\n",
       "      <td>0.0</td>\n",
       "      <td>0.651</td>\n",
       "      <td>0.349</td>\n",
       "      <td>0.7096</td>\n",
       "      <td>positive</td>\n",
       "    </tr>\n",
       "  </tbody>\n",
       "</table>\n",
       "</div>"
      ],
      "text/plain": [
       "   index                                               text  \\\n",
       "0      0  RT @10DowningStreet: - More than 34 countries\\...   \n",
       "1      1  RT @GavinWilliamson: I want to thank all those...   \n",
       "2      2  RT @UKGovWales: Welsh Secretary @AlunCairns ex...   \n",
       "3      3   @TicketTattle @_BARRYISLAND_ @tfwrail Sure thing   \n",
       "4      4  @WPL_Official @BarryTownUnited @the_nomads @Ba...   \n",
       "\n",
       "                                          clean_text  \\\n",
       "0  rt downingstreet more than countries places in...   \n",
       "1  rt gavinwilliamson want to thank all those ser...   \n",
       "2  rt ukgovwales welsh secretary aluncairns exten...   \n",
       "3                    tickettattle tfwrail sure thing   \n",
       "4  wpl_official barrytownunited the_nomads balato...   \n",
       "\n",
       "                                         text_tokens      conversation_id  \\\n",
       "0  ['rt_downingstreet', 'countries', 'places_uk',...  1079747729419657217   \n",
       "1  ['rt_gavinwilliamson', 'want_thank', 'serving'...  1079747690110570496   \n",
       "2  ['rt_ukgovwales_welsh_secretary', 'aluncairns'...  1078943309744070657   \n",
       "3          ['tickettattle', 'tfwrail', 'sure_thing']  1078738567193640960   \n",
       "4  ['wpl_official', 'barrytownunited', 'the_nomad...  1077967555879452672   \n",
       "\n",
       "  author_id                created_at  public_metrics.like_count  \\\n",
       "0  76650839  2018-12-31T14:34:54.000Z                          0   \n",
       "1  76650839  2018-12-31T14:34:44.000Z                          0   \n",
       "2  76650839  2018-12-29T09:18:25.000Z                          0   \n",
       "3  76650839  2018-12-28T19:58:04.000Z                          1   \n",
       "4  76650839  2018-12-26T21:24:01.000Z                          3   \n",
       "\n",
       "   public_metrics.reply_count  \\\n",
       "0                           0   \n",
       "1                           0   \n",
       "2                           0   \n",
       "3                           3   \n",
       "4                           1   \n",
       "\n",
       "                                          tokens_roy language created_at_date  \\\n",
       "0  [rt, downingstreet, countries, places, uk, mee...       en      2018-12-31   \n",
       "1  [rt, gavinwilliamson, want, thank, serving, br...       en      2018-12-31   \n",
       "2  [rt, ukgovwales, welsh, secretary, aluncairns,...       en      2018-12-29   \n",
       "3               [tickettattle, tfwrail, sure, thing]       en      2018-12-28   \n",
       "4  [wpl_official, barrytownunited, the_nomads, ba...       en      2018-12-26   \n",
       "\n",
       "   negative  neutural  positive  compound nltk_verdict  \n",
       "0       0.0     1.000     0.000    0.0000      neutral  \n",
       "1       0.0     0.840     0.160    0.4215     positive  \n",
       "2       0.0     0.636     0.364    0.8225     positive  \n",
       "3       0.0     0.566     0.434    0.3182     positive  \n",
       "4       0.0     0.651     0.349    0.7096     positive  "
      ]
     },
     "execution_count": 56,
     "metadata": {},
     "output_type": "execute_result"
    }
   ],
   "source": [
    "data_for_model[\"negative\"] = nltk_sentiment.neg\n",
    "data_for_model[\"neutural\"] = nltk_sentiment.neu\n",
    "data_for_model[\"positive\"] = nltk_sentiment.pos\n",
    "data_for_model[\"compound\"] = nltk_sentiment.compound\n",
    "data_for_model[\"nltk_verdict\"] = nltk_sentiment.nltk_verdict\n",
    "\n",
    "data_for_model.head()"
   ]
  },
  {
   "cell_type": "code",
   "execution_count": 60,
   "id": "4aea0093",
   "metadata": {
    "ExecuteTime": {
     "end_time": "2022-05-27T16:42:33.854243Z",
     "start_time": "2022-05-27T16:42:33.838252Z"
    }
   },
   "outputs": [
    {
     "data": {
      "text/plain": [
       "'tickettattle tfwrail sure thing'"
      ]
     },
     "execution_count": 60,
     "metadata": {},
     "output_type": "execute_result"
    }
   ],
   "source": [
    "data_for_model.clean_text[3]"
   ]
  },
  {
   "cell_type": "code",
   "execution_count": 61,
   "id": "f9690117",
   "metadata": {
    "ExecuteTime": {
     "end_time": "2022-05-27T16:58:20.898611Z",
     "start_time": "2022-05-27T16:58:20.870628Z"
    }
   },
   "outputs": [
    {
     "data": {
      "text/plain": [
       "'3.7'"
      ]
     },
     "execution_count": 61,
     "metadata": {},
     "output_type": "execute_result"
    }
   ],
   "source": [
    "nltk.__version__"
   ]
  }
 ],
 "metadata": {
  "kernelspec": {
   "display_name": "Python 3 (ipykernel)",
   "language": "python",
   "name": "python3"
  },
  "language_info": {
   "codemirror_mode": {
    "name": "ipython",
    "version": 3
   },
   "file_extension": ".py",
   "mimetype": "text/x-python",
   "name": "python",
   "nbconvert_exporter": "python",
   "pygments_lexer": "ipython3",
   "version": "3.8.12"
  },
  "latex_envs": {
   "LaTeX_envs_menu_present": true,
   "autoclose": false,
   "autocomplete": true,
   "bibliofile": "biblio.bib",
   "cite_by": "apalike",
   "current_citInitial": 1,
   "eqLabelWithNumbers": true,
   "eqNumInitial": 1,
   "hotkeys": {
    "equation": "Ctrl-E",
    "itemize": "Ctrl-I"
   },
   "labels_anchors": false,
   "latex_user_defs": false,
   "report_style_numbering": false,
   "user_envs_cfg": false
  },
  "toc": {
   "base_numbering": 1,
   "nav_menu": {},
   "number_sections": true,
   "sideBar": true,
   "skip_h1_title": false,
   "title_cell": "Table of Contents",
   "title_sidebar": "Contents",
   "toc_cell": false,
   "toc_position": {},
   "toc_section_display": true,
   "toc_window_display": false
  },
  "varInspector": {
   "cols": {
    "lenName": 16,
    "lenType": 16,
    "lenVar": 40
   },
   "kernels_config": {
    "python": {
     "delete_cmd_postfix": "",
     "delete_cmd_prefix": "del ",
     "library": "var_list.py",
     "varRefreshCmd": "print(var_dic_list())"
    },
    "r": {
     "delete_cmd_postfix": ") ",
     "delete_cmd_prefix": "rm(",
     "library": "var_list.r",
     "varRefreshCmd": "cat(var_dic_list()) "
    }
   },
   "types_to_exclude": [
    "module",
    "function",
    "builtin_function_or_method",
    "instance",
    "_Feature"
   ],
   "window_display": false
  }
 },
 "nbformat": 4,
 "nbformat_minor": 5
}

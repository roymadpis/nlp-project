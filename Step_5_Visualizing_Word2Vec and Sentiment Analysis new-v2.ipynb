{
 "cells": [
  {
   "cell_type": "markdown",
   "id": "51bd41b4",
   "metadata": {},
   "source": [
    "# Step_5_Visualizing_Word2Vec and Sentiment Analysis\n",
    "### Roy Madpis (319091526) And Michael Kobaivanov (206814485)\n",
    "\n",
    "In this notebook we use all the data we collected so far to collect insights regarding the Brexit issue.\n",
    "\n",
    "### 1. Word2Vec model:\n",
    "a. We split the ~1M tweets data (data_folder/tweets_table_all.csv) by the year the tweet was published, train a Word2Vec model for each year alone (thus have word2vec model that was trained on tweets from 2014 / model that was trained on tweets from 2015, etc) we also have one Word2Vec model that was trained on all the data.\n",
    "\n",
    "b. Then we find the K most simiilar words to the referenced word: brexit (using the Word2Vec model) [This is performed for each year alone]\n",
    "\n",
    "c. We apply TSNE on the vecotrs of the k most simmilar words\n",
    "\n",
    "d. we visualize - lets see :\n",
    "    + How the different most closed words to \"Brexit\" changed throught the years\n",
    "    \n",
    "### 2. Sentiment Analysis"
   ]
  },
  {
   "cell_type": "code",
   "execution_count": 1,
   "id": "3c688cd6",
   "metadata": {
    "ExecuteTime": {
     "end_time": "2022-06-18T06:12:13.332063Z",
     "start_time": "2022-06-18T06:12:00.407029Z"
    }
   },
   "outputs": [],
   "source": [
    "#! pip3 freeze > roy_libs1.txt"
   ]
  },
  {
   "cell_type": "markdown",
   "id": "dc402411",
   "metadata": {},
   "source": [
    "Articles:\n",
    "\n",
    "**Article 1 :** https://www.tandfonline.com/doi/full/10.1080/13825577.2021.1918842\n",
    "   \n",
    "**Article 2 :** https://link.springer.com/article/10.1007/s42001-021-00112-0\n",
    "\n",
    "\n",
    "**Article 3 :** https://www.ncbi.nlm.nih.gov/pmc/articles/PMC5732609/\n",
    "Has a dataset of over 4.5M tweets related to brexit i nthe following location: https://www.clarin.si/repository/xmlui/handle/11356/1135#\n",
    "\n",
    "The corpus contains over 4.5 million tweets (tweet IDs) automatically labeled by a machine learning program with stance regarding Brexit: Positive (supporting Brexit), Negative (opposing Brexit), or Neutral (uncommitted).\n",
    "\n",
    "The Brexit referendum was held on June 23, 2016, to decide whether the UK should leave or remain in the EU. In the weeks before the referendum, starting on May 12, the UK geo-located Brexit-related tweets were continuously collected resulting in a dataset of around 4.5 million (4,508,440) tweets from almost one million (998,054) users. A large sample of the collected tweets (35,000) was manually labeled for the stance of their authors regarding Brexit: Positive (supporting Brexit), Negative (opposing Brexit), or Neutral (uncommitted). The labeled tweets were used to train a classifier which then automatically labeled all the remaining tweets.\n",
    "\n",
    "The corpus contains tweet ids and stance labels. The tweets are grouped into files one hour per file. In each file, one row represents one entry (twitter_id, sentiment_label). Lines are ordered by the tweet time."
   ]
  },
  {
   "cell_type": "markdown",
   "id": "76346ebe",
   "metadata": {},
   "source": [
    " David Cameron as Prime Minister and Jeremy Corbyn as leader of the Labour Party for Remain, Boris Johnson as Major of London and Nigel Farage as the leader of the UKIP for Leave\n",
    " \n",
    " \n",
    " As the mayor of London, **Boris Johnson was one of the most prominent faces of the Vote Leave campaign**. Surprisingly, he did not make much use of Twitter during the Brexit campaign. Not only did he tweet less than the other leaders analysed for this study: he also had considerably less followers. In between 20 February 2016 and 23 June 2016, he just tweeted 84 times in total, or 0.7 times per day. Of those 84 tweets, only 47 were Brexit-related, and most of them (36) were posted in June. At the same time, the number of his followers went from 78,000 in mid-February to 134,000 in mid-June, still leaving him far behind Nigel Farage, who started out with 257,000 followers in February.\n",
    " \n",
    " \n",
    " David Cameron\n",
    "David Cameron did not just set the date for the EU referendum, but he was also the one fighting the strongest for Remain – at least on Twitter. As Prime Minister, he had more followers than all the other three leaders together: 1.36 million in mid-February and 1.49 million in mid-June. Cameron frequently used Twitter, on average 2.3 times per day, or 291 times in total between 20 February 2016 and 23 June 2016. Of those 291 tweets, 207 were Brexit-related, most of them posted in June (118).\n",
    "\n",
    "Overall, Cameron used Twitter extensively to advocate for Remain\n",
    " \n",
    " \n",
    " \n",
    " \n",
    " Nigel Farage\n",
    "The leader of the UK Independence Party spent most of his political career campaigning for the UK’s withdrawal from the EU. Not surprisingly, he turned out to be one of the strongest voices for Brexit on Twitter. Not only did he tweet more than any other of the four leaders, but he also had the highest ratio of Brexit-related tweets, roughly 86%. Between 20 February 2016 and 23 June 2016, he posted 579 times in total (4.7 tweets per day on average), making 500 of those tweets about Brexit, most of them in May (116). During that time, he almost gained 100,000 new followers: he had started with 257,000 at the end of January and reached 350,000 at the time of the vote cast in June.\n",
    "\n",
    "Overall, Farage used Twitter extensively to promote Brexit. He maintained a high posting frequency and focused almost exclusively on the referendum, dedicating more than 95% of his tweets in February, March, and June 2016 to Brexit (slightly less in April and May).\n",
    " \n",
    " \n",
    " "
   ]
  },
  {
   "cell_type": "markdown",
   "id": "e05e9c49",
   "metadata": {},
   "source": [
    "### Opening:\n",
    "\n",
    "In this project we use the Brexit as a case study and use data related to it to perform several NLP tasks.\n",
    "\n",
    "### Introduction:\n",
    "Brexit was the withdrawal of the United Kingdom from the European Union on 31 January 2020. The UK is the only sovereign country to have left the EU. \n",
    "\n",
    "The Brexit is a very interesting issue both because of its precedential characteristic and because of its huge impact.\n",
    "Many studies have been done to investigate the Brexit, its origin, reasoning, impact, etc.\n",
    "We will focus on several issues regarding Brexit and use NLP techniques for this research.\n",
    "\n",
    "\n",
    "The Brexit issue occupied the british people from 1975, where the first referendum on leaving the European Union was conducted, this issue came back in 2016 where another referendum on leaving the European Union was conducted again. There is huge difference between those 2 referendum as the second one was conducted in the social media era where there are numerous of influencers, as known as \"Key Opinion Leaders\" (KOL), who are usually at the forefront of public opinion and followed by a massive number of users and influenced the public and convince it to vote for leaving/staying in the Eu.\n",
    "It is quite known that some influencers, who want to be popular, \"change their mind\" and as they understand the mainstreem, and are in favour of the most popular agenda, this is known as populism. We wish to investigate if such a phenomena happened among the main Key Opinion Leaders in the Brexit issue.\n",
    "\n",
    "In order to do that we will do the following:\n",
    "\n",
    "### **TASK 1**\n",
    "1. Research and find X Key Opinion Leaders in the Brexit\n",
    "2. Retrive their tweets between Jan 2014 - Feb 2020\n",
    "3. Filter the tweets so we will have only tweets on Brexit\n",
    "4. Subset each KOL tweets to 7 groups: 2014 tweets | 2015 tweets | 2016 tweets | 2017 tweets | 2018 tweets | 2019 tweets | 2020 tweets |\n",
    "5. a.  Doc2Vec --> create a representation of all the tweets in each group --> TSNE --> see how the location of the different KOL changed througout time\n",
    "5. b. Word2Vec --> create a representation of the word BREXIT for each KOL\n",
    "\n",
    "### Task 2:\n",
    "*** Create a representation of the word Brexit using all the tweets of all KOL in 2014 / 2015 / 2016 and see:\n",
    "1. How the representation changes (put it in the same TSNE as in 5b)\n",
    "2. See which words are the most similar to BREXIT in different years\n",
    "\n",
    "### Task 3: Sentiment analysis \n",
    "We can use the data in article 3 - 4.5M tweets with labels (The sentiment label), take a pre-trained sentiment analysis model and continue training it using that corpus, then use that model to classify the KOL tweets and then perform task 4:\n",
    "*** another option is to use the NLTK for sentiment analysis on Tweets of KOL we have and provide that to the model to learn.\n",
    "\n",
    "### Task 4: Sentiment analysis bar chart\n",
    "Use a model of sentiment analysis to add the sentiment for each tweet of Brexit and do EDA:\n",
    "bar chart displaying .... (In the presentation I wrote something about it)\n",
    "\n",
    "\n",
    "*** We can plot the difference in the sentiment for each KOL throught time....\n",
    "\n",
    "*** change the word conducted!!\n",
    "\n",
    "\n",
    "\n",
    "\n",
    "## Attach files:\n",
    "\n",
    "1. Python file: Brexit_Package\n",
    "This python file contains the Package we have built in order to deal with reading data from twitter, this package enables:\n",
    "\n",
    "+ Given a tweet id - retrieve the tweet + information on it and its author\n",
    "+ Given a list of Twitter users + timeframe - retrieve all the tweets they wrote in the given time-frame\n",
    "+ Given a list of conversation ids retrieve data on all the people who like it\n",
    "+ Given a list of conversation ids retrieve data on all its retweets\n",
    "+ Given a list of conversation ids retrieve data on all its Quotes\n",
    "+ Given a list of conversation ids retrieve data on all its comments\n",
    "+ Given a tweet-id - get the URL of the tweet - so you can view it on Twitter\n",
    "+ Filter function - given a directory with CSV files (containing tweets) filter on multiple criteria we define (and can be altered using the function’s parameters) \n",
    "\n",
    "2. In the notebook : \"Step_1_Read_KOL_tweets\" we present the process of reading the Key Opinion Leaders tweets\n",
    "\n",
    "2. In the notebook : \"Step_2_filter_KOL_tweets\" we present the process of filtering the Key Opinion Leaders tweets to get only tweets relevant to the Brexit\n",
    "\n"
   ]
  },
  {
   "cell_type": "markdown",
   "id": "6e2ec02a",
   "metadata": {},
   "source": [
    "### Michael:\n",
    "1. Open GitHub repository for this project\n",
    "2. GPU + re-trein the pretrained model of sentiment analysis - We must check that this is possible! I couldn't do this...\n",
    "3. Read the 4.5M tweets and put them in table so we will have the data on the tweet + column of sentiment analysis (?)\n",
    "4. EDA Graphs on KOL, Words distributions - make word clouds + find the most common words, etc."
   ]
  },
  {
   "cell_type": "markdown",
   "id": "dc539704",
   "metadata": {},
   "source": [
    "### Opening:\n",
    "\n",
    "In this project we use the Brexit as a case study.\n",
    "\n",
    "We wish to take tweets that were critical to brexit - tweets that got high amount of likes, comments etc and were with high influence on the british people\n",
    "\n",
    "Then we would like to use NLP methods in order to find simmilar tweets to those \n",
    "and given a new tweet to find how close it is to the \"influenced tweets\" so we can predict, given a new tweet on brexit - whether it will have (or had) high impact.\n",
    "In that way we will have a \"checking\" sysytem that we could inset to it:\n",
    "a text + author name/id + time and get a result indicating how much this tweet will have impact on the british people, we then can alter the text / ahutor / time and see how different combinations lead to different influence/non influence tweets.\n",
    "\n",
    "\n",
    "+ we need to add a labels column - impact / not impact?\n",
    "\n"
   ]
  },
  {
   "cell_type": "code",
   "execution_count": 2,
   "id": "c92e6eec",
   "metadata": {
    "ExecuteTime": {
     "end_time": "2022-06-18T16:38:44.208960Z",
     "start_time": "2022-06-18T16:38:40.687920Z"
    }
   },
   "outputs": [
    {
     "name": "stderr",
     "output_type": "stream",
     "text": [
      "ERROR: Invalid requirement: '#'\n"
     ]
    }
   ],
   "source": [
    "#! pip install --trusted-host=pypi.org --trusted-host=files.pythonhosted.org --user gensim\n",
    "#! pip install dask\n",
    "#! pip install tabulate\n",
    "#! pip install nltk\n",
    "#! pip install langid # for language detection\n",
    "# ! pip install contractions #for cleaning the text - converting abbriviations to long text for example\n",
    "\n",
    "### downloading the 4.5M tweets with sentiment\n",
    "#! curl --remote-name-all https://www.clarin.si/repository/xmlui/bitstream/handle/11356/1135{/Brexit_tweets_stance.zip}\n"
   ]
  },
  {
   "cell_type": "code",
   "execution_count": 1,
   "id": "5e0f9082",
   "metadata": {
    "ExecuteTime": {
     "end_time": "2022-06-23T16:44:08.802676Z",
     "start_time": "2022-06-23T16:44:03.740423Z"
    },
    "scrolled": true
   },
   "outputs": [
    {
     "name": "stderr",
     "output_type": "stream",
     "text": [
      "[nltk_data] Downloading package stopwords to\n",
      "[nltk_data]     C:\\Users\\roymad\\AppData\\Roaming\\nltk_data...\n",
      "[nltk_data]   Package stopwords is already up-to-date!\n"
     ]
    }
   ],
   "source": [
    "import pandas as pd, numpy as np, os\n",
    "import seaborn as sns\n",
    "\n",
    "import os.path\n",
    "import matplotlib.pyplot as plt\n",
    "import string\n",
    "import psutil\n",
    "import sys, requests\n",
    "import time, datetime\n",
    "from sklearn.feature_extraction.text import CountVectorizer\n",
    "from sklearn.metrics.pairwise import cosine_similarity\n",
    "from dask import dataframe as dd\n",
    "import collections\n",
    "from collections import Counter\n",
    "from tqdm.notebook import tqdm_notebook\n",
    "\n",
    "#for readin zip files\n",
    "import zipfile\n",
    "import bz2\n",
    "import itertools\n",
    "import codecs\n",
    "import io\n",
    "\n",
    "import pickle\n",
    "from scipy import spatial\n",
    "from sklearn.decomposition import LatentDirichletAllocation\n",
    "import gensim\n",
    "import inspect\n",
    "import contractions\n",
    "import langid #for language detection\n",
    "#import logging\n",
    "#logging.basicConfig(format ='%(asctime)s: %(levelname)s: %(message)s', level = logging.ERROR)\n",
    "\n",
    "#stopwords\n",
    "import nltk\n",
    "from nltk.corpus import stopwords\n",
    "nltk.download('stopwords')\n",
    "\n",
    "os.environ[\"KMP_DUPLICATE_LIB_OK\"]=\"TRUE\"\n",
    "\n",
    "\n",
    "#####################################\n",
    "data_folder = \"data_folder\""
   ]
  },
  {
   "cell_type": "code",
   "execution_count": 2,
   "id": "5bd1c2b4",
   "metadata": {
    "ExecuteTime": {
     "end_time": "2022-06-23T16:44:08.834427Z",
     "start_time": "2022-06-23T16:44:08.820677Z"
    }
   },
   "outputs": [],
   "source": [
    "### reading the stopwords file / downloading it and add some more stopwords\n",
    "\n",
    "stopwords_file_name =  os.path.join(data_folder, \"StopWords\")\n",
    "stopwords_url = \"https://gist.githubusercontent.com/sebleier/554280/raw/7e0e4a1ce04c2bb7bd41089c9821dbcf6d0c786c/NLTK's%2520list%2520of%2520english%2520stopwords\"\n",
    "\n",
    "\n",
    "stop_words_to_add = [\"http\", \"https\", \"rt\", \"co\", \"vrkhaxde\", \"oeblog\", \"rln\", \"simonjhix\", \"cctvqfr\",\n",
    "\"dcpj\", \"xvy\", \"mycekvwlxr\", \"imydbvvwji\", \"kkd\", \"rwp\",\"yfc\",\"fus\",\"tmawgoafhb\",\"edzmidvpel\", \"brexit.\", \"brexit,\",\n",
    "\"xmljwysih\", \"lnfgc\", \"https//t.co/gx1lpjz5ux\", \"gvabanwvhi\", \"fmgynqxrs\", \"https//t.co/zpwcyltwgk\", \"https//t.co/eacccme91i\",\n",
    "\"https//t.co/memxwp57du\", \"https//t.co/kgjzyab6vu\", \"vxpgogryp\", \"https//t.co/l7cfc70l1w\"] ### add more stopwords you want\n",
    "#################################################################\n",
    "if not os.path.isfile(stopwords_file_name):\n",
    "    StopWords = requests.get(stopwords_url).text.split()\n",
    "    with open(stopwords_file_name,'w+t', encoding='utf-8') as out_file:\n",
    "        out_file.write(' '.join(StopWords))\n",
    "else:\n",
    "    with open(stopwords_file_name,'rt', encoding='utf-8') as in_file:\n",
    "        StopWords = in_file.readline().split()\n",
    "StopWords = set(StopWords)\n",
    "\n",
    "for word_i in stop_words_to_add:\n",
    "    StopWords.add(word_i)"
   ]
  },
  {
   "cell_type": "markdown",
   "id": "8acdd298",
   "metadata": {},
   "source": [
    "## 5.1.a Reading Key Opinion leaders tweets:\n"
   ]
  },
  {
   "cell_type": "markdown",
   "id": "19d6daf2",
   "metadata": {
    "ExecuteTime": {
     "end_time": "2022-05-13T11:45:07.556334Z",
     "start_time": "2022-05-13T11:45:07.543193Z"
    }
   },
   "source": [
    "a. We split the ~1M tweets data (data_folder/tweets_table_all_with_sentimet.csv) by the year the tweet was published, train a Word2Vec model for each year alone (thus have word2vec model that was trained on tweets from 2014 / model that was trained on tweets from 2015, etc) we also have one Word2Vec model that was trained on all the data."
   ]
  },
  {
   "cell_type": "code",
   "execution_count": null,
   "id": "29611e66",
   "metadata": {},
   "outputs": [],
   "source": [
    "# tweets_table_all_with_sentimet = pd.read_csv(os.path.join(data_folder,\"tweets_table_all_with_sentimet.csv\"))\n",
    "# print(\"Number of tweets:\", tweets_table_all_with_sentimet.shape[0])\n",
    "# tweets_table_all_with_sentimet.head()"
   ]
  },
  {
   "cell_type": "code",
   "execution_count": 3,
   "id": "a92d09cb",
   "metadata": {
    "ExecuteTime": {
     "end_time": "2022-06-23T16:44:24.151446Z",
     "start_time": "2022-06-23T16:44:08.851623Z"
    }
   },
   "outputs": [
    {
     "name": "stdout",
     "output_type": "stream",
     "text": [
      "Step 1: Reading all the csv files\n",
      "There are: 979801 Tweets\n"
     ]
    },
    {
     "data": {
      "text/html": [
       "<div>\n",
       "<style scoped>\n",
       "    .dataframe tbody tr th:only-of-type {\n",
       "        vertical-align: middle;\n",
       "    }\n",
       "\n",
       "    .dataframe tbody tr th {\n",
       "        vertical-align: top;\n",
       "    }\n",
       "\n",
       "    .dataframe thead th {\n",
       "        text-align: right;\n",
       "    }\n",
       "</style>\n",
       "<table border=\"1\" class=\"dataframe\">\n",
       "  <thead>\n",
       "    <tr style=\"text-align: right;\">\n",
       "      <th></th>\n",
       "      <th>author_id</th>\n",
       "      <th>author_id_new</th>\n",
       "      <th>conv_id_new</th>\n",
       "      <th>conversation_id</th>\n",
       "      <th>created_at</th>\n",
       "      <th>entities.mentions</th>\n",
       "      <th>id</th>\n",
       "      <th>id_new</th>\n",
       "      <th>public_metrics.like_count</th>\n",
       "      <th>public_metrics.quote_count</th>\n",
       "      <th>...</th>\n",
       "      <th>users.public_metrics.followers_count</th>\n",
       "      <th>users.public_metrics.following_count</th>\n",
       "      <th>users.public_metrics.listed_count</th>\n",
       "      <th>users.public_metrics.tweet_count</th>\n",
       "      <th>users.username</th>\n",
       "      <th>users.verified</th>\n",
       "      <th>text_tokens</th>\n",
       "      <th>created_at_date</th>\n",
       "      <th>Year_tweet</th>\n",
       "      <th>Predicted_sentiment</th>\n",
       "    </tr>\n",
       "  </thead>\n",
       "  <tbody>\n",
       "    <tr>\n",
       "      <th>0</th>\n",
       "      <td>76650839</td>\n",
       "      <td>author_id: 76650839</td>\n",
       "      <td>conv_id: 1079747729419657217</td>\n",
       "      <td>1079747729419657217</td>\n",
       "      <td>2018-12-31T14:34:54.000Z</td>\n",
       "      <td>[{'start': 3, 'end': 19, 'username': '10Downin...</td>\n",
       "      <td>1079747729419657217</td>\n",
       "      <td>id: 1079747729419657217</td>\n",
       "      <td>0</td>\n",
       "      <td>0</td>\n",
       "      <td>...</td>\n",
       "      <td>14060</td>\n",
       "      <td>2210</td>\n",
       "      <td>654</td>\n",
       "      <td>10740</td>\n",
       "      <td>AlunCairns</td>\n",
       "      <td>True</td>\n",
       "      <td>['downingstreet', 'countries', 'places', 'uk',...</td>\n",
       "      <td>2018-12-31</td>\n",
       "      <td>2018</td>\n",
       "      <td>Neutral</td>\n",
       "    </tr>\n",
       "    <tr>\n",
       "      <th>1</th>\n",
       "      <td>76650839</td>\n",
       "      <td>author_id: 76650839</td>\n",
       "      <td>conv_id: 1079747690110570496</td>\n",
       "      <td>1079747690110570496</td>\n",
       "      <td>2018-12-31T14:34:44.000Z</td>\n",
       "      <td>[{'start': 3, 'end': 19, 'username': 'GavinWil...</td>\n",
       "      <td>1079747690110570496</td>\n",
       "      <td>id: 1079747690110570496</td>\n",
       "      <td>0</td>\n",
       "      <td>0</td>\n",
       "      <td>...</td>\n",
       "      <td>14060</td>\n",
       "      <td>2210</td>\n",
       "      <td>654</td>\n",
       "      <td>10740</td>\n",
       "      <td>AlunCairns</td>\n",
       "      <td>True</td>\n",
       "      <td>['gavinwilliamson', 'want_thank', 'serving', '...</td>\n",
       "      <td>2018-12-31</td>\n",
       "      <td>2018</td>\n",
       "      <td>Positive</td>\n",
       "    </tr>\n",
       "    <tr>\n",
       "      <th>2</th>\n",
       "      <td>76650839</td>\n",
       "      <td>author_id: 76650839</td>\n",
       "      <td>conv_id: 1078943309744070657</td>\n",
       "      <td>1078943309744070657</td>\n",
       "      <td>2018-12-29T09:18:25.000Z</td>\n",
       "      <td>[{'start': 3, 'end': 14, 'username': 'UKGovWal...</td>\n",
       "      <td>1078943309744070657</td>\n",
       "      <td>id: 1078943309744070657</td>\n",
       "      <td>0</td>\n",
       "      <td>0</td>\n",
       "      <td>...</td>\n",
       "      <td>14060</td>\n",
       "      <td>2210</td>\n",
       "      <td>654</td>\n",
       "      <td>10740</td>\n",
       "      <td>AlunCairns</td>\n",
       "      <td>True</td>\n",
       "      <td>['ukgovwales_welsh_secretary_aluncairns', 'ext...</td>\n",
       "      <td>2018-12-29</td>\n",
       "      <td>2018</td>\n",
       "      <td>Positive</td>\n",
       "    </tr>\n",
       "    <tr>\n",
       "      <th>3</th>\n",
       "      <td>76650839</td>\n",
       "      <td>author_id: 76650839</td>\n",
       "      <td>conv_id: 1078738567193640960</td>\n",
       "      <td>1078738567193640960</td>\n",
       "      <td>2018-12-28T19:58:04.000Z</td>\n",
       "      <td>[{'start': 0, 'end': 13, 'username': 'TicketTa...</td>\n",
       "      <td>1078741894761463809</td>\n",
       "      <td>id: 1078741894761463809</td>\n",
       "      <td>1</td>\n",
       "      <td>0</td>\n",
       "      <td>...</td>\n",
       "      <td>14060</td>\n",
       "      <td>2210</td>\n",
       "      <td>654</td>\n",
       "      <td>10740</td>\n",
       "      <td>AlunCairns</td>\n",
       "      <td>True</td>\n",
       "      <td>['tickettattle', 'tfwrail', 'sure', 'thing']</td>\n",
       "      <td>2018-12-28</td>\n",
       "      <td>2018</td>\n",
       "      <td>Neutral</td>\n",
       "    </tr>\n",
       "    <tr>\n",
       "      <th>4</th>\n",
       "      <td>76650839</td>\n",
       "      <td>author_id: 76650839</td>\n",
       "      <td>conv_id: 1077967555879452672</td>\n",
       "      <td>1077967555879452672</td>\n",
       "      <td>2018-12-26T21:24:01.000Z</td>\n",
       "      <td>[{'start': 0, 'end': 13, 'username': 'WPL_Offi...</td>\n",
       "      <td>1078038748837888001</td>\n",
       "      <td>id: 1078038748837888001</td>\n",
       "      <td>3</td>\n",
       "      <td>0</td>\n",
       "      <td>...</td>\n",
       "      <td>14060</td>\n",
       "      <td>2210</td>\n",
       "      <td>654</td>\n",
       "      <td>10740</td>\n",
       "      <td>AlunCairns</td>\n",
       "      <td>True</td>\n",
       "      <td>['wpl_official', 'barrytownunited', 'the_nomad...</td>\n",
       "      <td>2018-12-26</td>\n",
       "      <td>2018</td>\n",
       "      <td>Positive</td>\n",
       "    </tr>\n",
       "  </tbody>\n",
       "</table>\n",
       "<p>5 rows × 28 columns</p>\n",
       "</div>"
      ],
      "text/plain": [
       "   author_id        author_id_new                   conv_id_new  \\\n",
       "0   76650839  author_id: 76650839  conv_id: 1079747729419657217   \n",
       "1   76650839  author_id: 76650839  conv_id: 1079747690110570496   \n",
       "2   76650839  author_id: 76650839  conv_id: 1078943309744070657   \n",
       "3   76650839  author_id: 76650839  conv_id: 1078738567193640960   \n",
       "4   76650839  author_id: 76650839  conv_id: 1077967555879452672   \n",
       "\n",
       "       conversation_id                created_at  \\\n",
       "0  1079747729419657217  2018-12-31T14:34:54.000Z   \n",
       "1  1079747690110570496  2018-12-31T14:34:44.000Z   \n",
       "2  1078943309744070657  2018-12-29T09:18:25.000Z   \n",
       "3  1078738567193640960  2018-12-28T19:58:04.000Z   \n",
       "4  1077967555879452672  2018-12-26T21:24:01.000Z   \n",
       "\n",
       "                                   entities.mentions                   id  \\\n",
       "0  [{'start': 3, 'end': 19, 'username': '10Downin...  1079747729419657217   \n",
       "1  [{'start': 3, 'end': 19, 'username': 'GavinWil...  1079747690110570496   \n",
       "2  [{'start': 3, 'end': 14, 'username': 'UKGovWal...  1078943309744070657   \n",
       "3  [{'start': 0, 'end': 13, 'username': 'TicketTa...  1078741894761463809   \n",
       "4  [{'start': 0, 'end': 13, 'username': 'WPL_Offi...  1078038748837888001   \n",
       "\n",
       "                    id_new  public_metrics.like_count  \\\n",
       "0  id: 1079747729419657217                          0   \n",
       "1  id: 1079747690110570496                          0   \n",
       "2  id: 1078943309744070657                          0   \n",
       "3  id: 1078741894761463809                          1   \n",
       "4  id: 1078038748837888001                          3   \n",
       "\n",
       "   public_metrics.quote_count  ...  users.public_metrics.followers_count  \\\n",
       "0                           0  ...                                 14060   \n",
       "1                           0  ...                                 14060   \n",
       "2                           0  ...                                 14060   \n",
       "3                           0  ...                                 14060   \n",
       "4                           0  ...                                 14060   \n",
       "\n",
       "   users.public_metrics.following_count users.public_metrics.listed_count  \\\n",
       "0                                  2210                               654   \n",
       "1                                  2210                               654   \n",
       "2                                  2210                               654   \n",
       "3                                  2210                               654   \n",
       "4                                  2210                               654   \n",
       "\n",
       "  users.public_metrics.tweet_count users.username users.verified  \\\n",
       "0                            10740     AlunCairns           True   \n",
       "1                            10740     AlunCairns           True   \n",
       "2                            10740     AlunCairns           True   \n",
       "3                            10740     AlunCairns           True   \n",
       "4                            10740     AlunCairns           True   \n",
       "\n",
       "                                         text_tokens created_at_date  \\\n",
       "0  ['downingstreet', 'countries', 'places', 'uk',...      2018-12-31   \n",
       "1  ['gavinwilliamson', 'want_thank', 'serving', '...      2018-12-31   \n",
       "2  ['ukgovwales_welsh_secretary_aluncairns', 'ext...      2018-12-29   \n",
       "3       ['tickettattle', 'tfwrail', 'sure', 'thing']      2018-12-28   \n",
       "4  ['wpl_official', 'barrytownunited', 'the_nomad...      2018-12-26   \n",
       "\n",
       "   Year_tweet  Predicted_sentiment  \n",
       "0        2018              Neutral  \n",
       "1        2018             Positive  \n",
       "2        2018             Positive  \n",
       "3        2018              Neutral  \n",
       "4        2018             Positive  \n",
       "\n",
       "[5 rows x 28 columns]"
      ]
     },
     "execution_count": 3,
     "metadata": {},
     "output_type": "execute_result"
    }
   ],
   "source": [
    "dir_with_all_tweets = os.path.join(data_folder,\"Predicted_sentiment_tables\")\n",
    "\n",
    "print(\"Step 1: Reading all the csv files\")\n",
    "tweets_tables = []\n",
    "csv_files_evaluated = []\n",
    "for root,dirs,files in os.walk(dir_with_all_tweets):\n",
    "    for file in files:\n",
    "        if file.endswith(\".csv\"): #if the file is csv\n",
    "            csv_files_evaluated.append(file)\n",
    "            file_location = os.path.join(dir_with_all_tweets, file)\n",
    "            tweets_tables.append(pd.read_csv(file_location))\n",
    "\n",
    "tweets_table_all_with_sentimet_0 = pd.concat(tweets_tables)\n",
    "print(\"There are:\", tweets_table_all_with_sentimet_0.shape[0], \"Tweets\")\n",
    "\n",
    "tweets_table_all_with_sentimet_0 = tweets_table_all_with_sentimet_0.drop(labels = [\"Unnamed: 0\", \"index_num\"], axis = 1)\n",
    "tweets_table_all_with_sentimet_0.head()"
   ]
  },
  {
   "cell_type": "markdown",
   "id": "0eecd615",
   "metadata": {},
   "source": [
    "### Reading the table with 300k tweets with sentiments\n",
    "This is the data that we read from twitter using th tweet-ids) [this data is out of the corpus of 4.5M tweet-ids with sentiment]\n",
    "\n",
    "We need to preprocess that table so it would be in the same format and shape as the table we have above"
   ]
  },
  {
   "cell_type": "code",
   "execution_count": 4,
   "id": "7b7e2837",
   "metadata": {
    "ExecuteTime": {
     "end_time": "2022-06-23T16:44:30.289931Z",
     "start_time": "2022-06-23T16:44:25.548565Z"
    }
   },
   "outputs": [
    {
     "name": "stdout",
     "output_type": "stream",
     "text": [
      "Step 1: Reading all the csv files\n",
      "There are: 312735 Tweets\n"
     ]
    },
    {
     "data": {
      "text/html": [
       "<div>\n",
       "<style scoped>\n",
       "    .dataframe tbody tr th:only-of-type {\n",
       "        vertical-align: middle;\n",
       "    }\n",
       "\n",
       "    .dataframe tbody tr th {\n",
       "        vertical-align: top;\n",
       "    }\n",
       "\n",
       "    .dataframe thead th {\n",
       "        text-align: right;\n",
       "    }\n",
       "</style>\n",
       "<table border=\"1\" class=\"dataframe\">\n",
       "  <thead>\n",
       "    <tr style=\"text-align: right;\">\n",
       "      <th></th>\n",
       "      <th>author_id</th>\n",
       "      <th>author_id_new</th>\n",
       "      <th>conv_id_new</th>\n",
       "      <th>conversation_id</th>\n",
       "      <th>created_at</th>\n",
       "      <th>entities.mentions</th>\n",
       "      <th>id</th>\n",
       "      <th>id_new</th>\n",
       "      <th>public_metrics.like_count</th>\n",
       "      <th>public_metrics.quote_count</th>\n",
       "      <th>...</th>\n",
       "      <th>users.public_metrics.followers_count</th>\n",
       "      <th>users.public_metrics.following_count</th>\n",
       "      <th>users.public_metrics.listed_count</th>\n",
       "      <th>users.public_metrics.tweet_count</th>\n",
       "      <th>users.username</th>\n",
       "      <th>users.verified</th>\n",
       "      <th>Predicted_sentiment</th>\n",
       "      <th>text_tokens</th>\n",
       "      <th>created_at_date</th>\n",
       "      <th>Year_tweet</th>\n",
       "    </tr>\n",
       "  </thead>\n",
       "  <tbody>\n",
       "    <tr>\n",
       "      <th>0</th>\n",
       "      <td>137099503</td>\n",
       "      <td>author_id: 137099503</td>\n",
       "      <td>conv_id: 730759365142167552</td>\n",
       "      <td>730759365142167552</td>\n",
       "      <td>2016-05-12T13:59:44.000Z</td>\n",
       "      <td>NaN</td>\n",
       "      <td>730759365142167552</td>\n",
       "      <td>id: 730759365142167552</td>\n",
       "      <td>2</td>\n",
       "      <td>0</td>\n",
       "      <td>...</td>\n",
       "      <td>463</td>\n",
       "      <td>71</td>\n",
       "      <td>18</td>\n",
       "      <td>22398</td>\n",
       "      <td>FonyBlair</td>\n",
       "      <td>False</td>\n",
       "      <td>Neutral</td>\n",
       "      <td>0</td>\n",
       "      <td>2016-05-12</td>\n",
       "      <td>2016</td>\n",
       "    </tr>\n",
       "    <tr>\n",
       "      <th>1</th>\n",
       "      <td>367718336</td>\n",
       "      <td>author_id: 367718336</td>\n",
       "      <td>conv_id: 730759317884915712</td>\n",
       "      <td>730759317884915712</td>\n",
       "      <td>2016-05-12T13:59:32.000Z</td>\n",
       "      <td>NaN</td>\n",
       "      <td>730759317884915712</td>\n",
       "      <td>id: 730759317884915712</td>\n",
       "      <td>0</td>\n",
       "      <td>0</td>\n",
       "      <td>...</td>\n",
       "      <td>3623</td>\n",
       "      <td>5000</td>\n",
       "      <td>433</td>\n",
       "      <td>301390</td>\n",
       "      <td>janicemorphet</td>\n",
       "      <td>False</td>\n",
       "      <td>Neutral</td>\n",
       "      <td>0</td>\n",
       "      <td>2016-05-12</td>\n",
       "      <td>2016</td>\n",
       "    </tr>\n",
       "    <tr>\n",
       "      <th>2</th>\n",
       "      <td>1299769218</td>\n",
       "      <td>author_id: 1299769218</td>\n",
       "      <td>conv_id: 730759295478960129</td>\n",
       "      <td>730759295478960129</td>\n",
       "      <td>2016-05-12T13:59:27.000Z</td>\n",
       "      <td>NaN</td>\n",
       "      <td>730759295478960129</td>\n",
       "      <td>id: 730759295478960129</td>\n",
       "      <td>4</td>\n",
       "      <td>0</td>\n",
       "      <td>...</td>\n",
       "      <td>558874</td>\n",
       "      <td>359</td>\n",
       "      <td>1630</td>\n",
       "      <td>81943</td>\n",
       "      <td>KayBurley</td>\n",
       "      <td>True</td>\n",
       "      <td>Neutral</td>\n",
       "      <td>0</td>\n",
       "      <td>2016-05-12</td>\n",
       "      <td>2016</td>\n",
       "    </tr>\n",
       "    <tr>\n",
       "      <th>3</th>\n",
       "      <td>2772884435</td>\n",
       "      <td>author_id: 2772884435</td>\n",
       "      <td>conv_id: 730759278630424577</td>\n",
       "      <td>730759278630424577</td>\n",
       "      <td>2016-05-12T13:59:23.000Z</td>\n",
       "      <td>NaN</td>\n",
       "      <td>730759278630424577</td>\n",
       "      <td>id: 730759278630424577</td>\n",
       "      <td>0</td>\n",
       "      <td>0</td>\n",
       "      <td>...</td>\n",
       "      <td>1206</td>\n",
       "      <td>1415</td>\n",
       "      <td>25</td>\n",
       "      <td>31524</td>\n",
       "      <td>ernieharding59</td>\n",
       "      <td>False</td>\n",
       "      <td>Positive</td>\n",
       "      <td>0</td>\n",
       "      <td>2016-05-12</td>\n",
       "      <td>2016</td>\n",
       "    </tr>\n",
       "    <tr>\n",
       "      <th>4</th>\n",
       "      <td>2867356894</td>\n",
       "      <td>author_id: 2867356894</td>\n",
       "      <td>conv_id: 730759264386617344</td>\n",
       "      <td>730759264386617344</td>\n",
       "      <td>2016-05-12T13:59:20.000Z</td>\n",
       "      <td>NaN</td>\n",
       "      <td>730759264386617344</td>\n",
       "      <td>id: 730759264386617344</td>\n",
       "      <td>0</td>\n",
       "      <td>0</td>\n",
       "      <td>...</td>\n",
       "      <td>2922</td>\n",
       "      <td>2474</td>\n",
       "      <td>122</td>\n",
       "      <td>64418</td>\n",
       "      <td>CandiSpillard</td>\n",
       "      <td>False</td>\n",
       "      <td>Negative</td>\n",
       "      <td>0</td>\n",
       "      <td>2016-05-12</td>\n",
       "      <td>2016</td>\n",
       "    </tr>\n",
       "  </tbody>\n",
       "</table>\n",
       "<p>5 rows × 28 columns</p>\n",
       "</div>"
      ],
      "text/plain": [
       "    author_id          author_id_new                  conv_id_new  \\\n",
       "0   137099503   author_id: 137099503  conv_id: 730759365142167552   \n",
       "1   367718336   author_id: 367718336  conv_id: 730759317884915712   \n",
       "2  1299769218  author_id: 1299769218  conv_id: 730759295478960129   \n",
       "3  2772884435  author_id: 2772884435  conv_id: 730759278630424577   \n",
       "4  2867356894  author_id: 2867356894  conv_id: 730759264386617344   \n",
       "\n",
       "      conversation_id                created_at  entities.mentions  \\\n",
       "0  730759365142167552  2016-05-12T13:59:44.000Z                NaN   \n",
       "1  730759317884915712  2016-05-12T13:59:32.000Z                NaN   \n",
       "2  730759295478960129  2016-05-12T13:59:27.000Z                NaN   \n",
       "3  730759278630424577  2016-05-12T13:59:23.000Z                NaN   \n",
       "4  730759264386617344  2016-05-12T13:59:20.000Z                NaN   \n",
       "\n",
       "                   id                  id_new  public_metrics.like_count  \\\n",
       "0  730759365142167552  id: 730759365142167552                          2   \n",
       "1  730759317884915712  id: 730759317884915712                          0   \n",
       "2  730759295478960129  id: 730759295478960129                          4   \n",
       "3  730759278630424577  id: 730759278630424577                          0   \n",
       "4  730759264386617344  id: 730759264386617344                          0   \n",
       "\n",
       "   public_metrics.quote_count  ...  users.public_metrics.followers_count  \\\n",
       "0                           0  ...                                   463   \n",
       "1                           0  ...                                  3623   \n",
       "2                           0  ...                                558874   \n",
       "3                           0  ...                                  1206   \n",
       "4                           0  ...                                  2922   \n",
       "\n",
       "   users.public_metrics.following_count users.public_metrics.listed_count  \\\n",
       "0                                    71                                18   \n",
       "1                                  5000                               433   \n",
       "2                                   359                              1630   \n",
       "3                                  1415                                25   \n",
       "4                                  2474                               122   \n",
       "\n",
       "  users.public_metrics.tweet_count  users.username users.verified  \\\n",
       "0                            22398       FonyBlair          False   \n",
       "1                           301390   janicemorphet          False   \n",
       "2                            81943       KayBurley           True   \n",
       "3                            31524  ernieharding59          False   \n",
       "4                            64418   CandiSpillard          False   \n",
       "\n",
       "   Predicted_sentiment text_tokens  created_at_date  Year_tweet  \n",
       "0              Neutral           0       2016-05-12        2016  \n",
       "1              Neutral           0       2016-05-12        2016  \n",
       "2              Neutral           0       2016-05-12        2016  \n",
       "3             Positive           0       2016-05-12        2016  \n",
       "4             Negative           0       2016-05-12        2016  \n",
       "\n",
       "[5 rows x 28 columns]"
      ]
     },
     "execution_count": 4,
     "metadata": {},
     "output_type": "execute_result"
    }
   ],
   "source": [
    "data_folder_name_for_sentiment = \"data_folder/tweets_4_5M/tweet_ids_with_sentiment\"\n",
    "\n",
    "print(\"Step 1: Reading all the csv files\")\n",
    "tweets_tables = []\n",
    "csv_files_evaluated = []\n",
    "for root,dirs,files in os.walk(data_folder_name_for_sentiment):\n",
    "    for file in files:\n",
    "        if file.endswith(\".csv\"): #if the file is csv\n",
    "            csv_files_evaluated.append(file)\n",
    "            file_location = os.path.join(data_folder_name_for_sentiment, file)\n",
    "            tweets_tables.append(pd.read_csv(file_location))\n",
    "\n",
    "tweets_with_sentiment_300k = pd.concat(tweets_tables)\n",
    "print(\"There are:\", tweets_with_sentiment_300k.shape[0], \"Tweets\")\n",
    "\n",
    "### preprocess\n",
    "\n",
    "## change the sentiment column name\n",
    "tweets_with_sentiment_300k = tweets_with_sentiment_300k.rename({\"sentimnt\":\"Predicted_sentiment\"}, axis = 1)\n",
    "\n",
    "tweets_with_sentiment_300k[\"text_tokens\"] = 0\n",
    "\n",
    "def take_only_10_first_char(x):\n",
    "    return(x[0:10])\n",
    "tweets_with_sentiment_300k[\"created_at_date\"] = tweets_with_sentiment_300k[\"created_at\"].apply(take_only_10_first_char)\n",
    "tweets_with_sentiment_300k[\"created_at_date\"] = pd.to_datetime(tweets_with_sentiment_300k[\"created_at_date\"])\n",
    "\n",
    "tweets_with_sentiment_300k[\"Year_tweet\"] = pd.DatetimeIndex(tweets_with_sentiment_300k['created_at']).year\n",
    "tweets_with_sentiment_300k = tweets_with_sentiment_300k.drop(labels = [\"Unnamed: 0\",\"tweet_id\"], axis = 1)\n",
    "\n",
    "tweets_with_sentiment_300k.head()"
   ]
  },
  {
   "cell_type": "code",
   "execution_count": 5,
   "id": "0ec4dfb1",
   "metadata": {
    "ExecuteTime": {
     "end_time": "2022-06-23T16:44:30.940204Z",
     "start_time": "2022-06-23T16:44:30.926803Z"
    }
   },
   "outputs": [
    {
     "name": "stdout",
     "output_type": "stream",
     "text": [
      "(979801, 28)\n",
      "(312735, 28)\n"
     ]
    }
   ],
   "source": [
    "print(tweets_table_all_with_sentimet_0.shape)\n",
    "print(tweets_with_sentiment_300k.shape)"
   ]
  },
  {
   "cell_type": "code",
   "execution_count": 6,
   "id": "293176b0",
   "metadata": {
    "ExecuteTime": {
     "end_time": "2022-06-23T16:44:35.753892Z",
     "start_time": "2022-06-23T16:44:31.602414Z"
    },
    "scrolled": true
   },
   "outputs": [
    {
     "name": "stdout",
     "output_type": "stream",
     "text": [
      "Total number of tweets with sentiment = 1292536\n",
      "Total number of tweets with sentiment not duplicate = 1285805\n"
     ]
    },
    {
     "data": {
      "text/html": [
       "<div>\n",
       "<style scoped>\n",
       "    .dataframe tbody tr th:only-of-type {\n",
       "        vertical-align: middle;\n",
       "    }\n",
       "\n",
       "    .dataframe tbody tr th {\n",
       "        vertical-align: top;\n",
       "    }\n",
       "\n",
       "    .dataframe thead th {\n",
       "        text-align: right;\n",
       "    }\n",
       "</style>\n",
       "<table border=\"1\" class=\"dataframe\">\n",
       "  <thead>\n",
       "    <tr style=\"text-align: right;\">\n",
       "      <th></th>\n",
       "      <th>author_id</th>\n",
       "      <th>author_id_new</th>\n",
       "      <th>conv_id_new</th>\n",
       "      <th>conversation_id</th>\n",
       "      <th>created_at</th>\n",
       "      <th>entities.mentions</th>\n",
       "      <th>id</th>\n",
       "      <th>id_new</th>\n",
       "      <th>public_metrics.like_count</th>\n",
       "      <th>public_metrics.quote_count</th>\n",
       "      <th>...</th>\n",
       "      <th>users.public_metrics.followers_count</th>\n",
       "      <th>users.public_metrics.following_count</th>\n",
       "      <th>users.public_metrics.listed_count</th>\n",
       "      <th>users.public_metrics.tweet_count</th>\n",
       "      <th>users.username</th>\n",
       "      <th>users.verified</th>\n",
       "      <th>text_tokens</th>\n",
       "      <th>created_at_date</th>\n",
       "      <th>Year_tweet</th>\n",
       "      <th>Predicted_sentiment</th>\n",
       "    </tr>\n",
       "  </thead>\n",
       "  <tbody>\n",
       "    <tr>\n",
       "      <th>0</th>\n",
       "      <td>76650839</td>\n",
       "      <td>author_id: 76650839</td>\n",
       "      <td>conv_id: 1079747729419657217</td>\n",
       "      <td>1079747729419657217</td>\n",
       "      <td>2018-12-31T14:34:54.000Z</td>\n",
       "      <td>[{'start': 3, 'end': 19, 'username': '10Downin...</td>\n",
       "      <td>1079747729419657217</td>\n",
       "      <td>id: 1079747729419657217</td>\n",
       "      <td>0</td>\n",
       "      <td>0</td>\n",
       "      <td>...</td>\n",
       "      <td>14060</td>\n",
       "      <td>2210</td>\n",
       "      <td>654</td>\n",
       "      <td>10740</td>\n",
       "      <td>AlunCairns</td>\n",
       "      <td>True</td>\n",
       "      <td>['downingstreet', 'countries', 'places', 'uk',...</td>\n",
       "      <td>2018-12-31</td>\n",
       "      <td>2018</td>\n",
       "      <td>Neutral</td>\n",
       "    </tr>\n",
       "    <tr>\n",
       "      <th>1</th>\n",
       "      <td>76650839</td>\n",
       "      <td>author_id: 76650839</td>\n",
       "      <td>conv_id: 1079747690110570496</td>\n",
       "      <td>1079747690110570496</td>\n",
       "      <td>2018-12-31T14:34:44.000Z</td>\n",
       "      <td>[{'start': 3, 'end': 19, 'username': 'GavinWil...</td>\n",
       "      <td>1079747690110570496</td>\n",
       "      <td>id: 1079747690110570496</td>\n",
       "      <td>0</td>\n",
       "      <td>0</td>\n",
       "      <td>...</td>\n",
       "      <td>14060</td>\n",
       "      <td>2210</td>\n",
       "      <td>654</td>\n",
       "      <td>10740</td>\n",
       "      <td>AlunCairns</td>\n",
       "      <td>True</td>\n",
       "      <td>['gavinwilliamson', 'want_thank', 'serving', '...</td>\n",
       "      <td>2018-12-31</td>\n",
       "      <td>2018</td>\n",
       "      <td>Positive</td>\n",
       "    </tr>\n",
       "    <tr>\n",
       "      <th>2</th>\n",
       "      <td>76650839</td>\n",
       "      <td>author_id: 76650839</td>\n",
       "      <td>conv_id: 1078943309744070657</td>\n",
       "      <td>1078943309744070657</td>\n",
       "      <td>2018-12-29T09:18:25.000Z</td>\n",
       "      <td>[{'start': 3, 'end': 14, 'username': 'UKGovWal...</td>\n",
       "      <td>1078943309744070657</td>\n",
       "      <td>id: 1078943309744070657</td>\n",
       "      <td>0</td>\n",
       "      <td>0</td>\n",
       "      <td>...</td>\n",
       "      <td>14060</td>\n",
       "      <td>2210</td>\n",
       "      <td>654</td>\n",
       "      <td>10740</td>\n",
       "      <td>AlunCairns</td>\n",
       "      <td>True</td>\n",
       "      <td>['ukgovwales_welsh_secretary_aluncairns', 'ext...</td>\n",
       "      <td>2018-12-29</td>\n",
       "      <td>2018</td>\n",
       "      <td>Positive</td>\n",
       "    </tr>\n",
       "    <tr>\n",
       "      <th>3</th>\n",
       "      <td>76650839</td>\n",
       "      <td>author_id: 76650839</td>\n",
       "      <td>conv_id: 1078738567193640960</td>\n",
       "      <td>1078738567193640960</td>\n",
       "      <td>2018-12-28T19:58:04.000Z</td>\n",
       "      <td>[{'start': 0, 'end': 13, 'username': 'TicketTa...</td>\n",
       "      <td>1078741894761463809</td>\n",
       "      <td>id: 1078741894761463809</td>\n",
       "      <td>1</td>\n",
       "      <td>0</td>\n",
       "      <td>...</td>\n",
       "      <td>14060</td>\n",
       "      <td>2210</td>\n",
       "      <td>654</td>\n",
       "      <td>10740</td>\n",
       "      <td>AlunCairns</td>\n",
       "      <td>True</td>\n",
       "      <td>['tickettattle', 'tfwrail', 'sure', 'thing']</td>\n",
       "      <td>2018-12-28</td>\n",
       "      <td>2018</td>\n",
       "      <td>Neutral</td>\n",
       "    </tr>\n",
       "    <tr>\n",
       "      <th>4</th>\n",
       "      <td>76650839</td>\n",
       "      <td>author_id: 76650839</td>\n",
       "      <td>conv_id: 1077967555879452672</td>\n",
       "      <td>1077967555879452672</td>\n",
       "      <td>2018-12-26T21:24:01.000Z</td>\n",
       "      <td>[{'start': 0, 'end': 13, 'username': 'WPL_Offi...</td>\n",
       "      <td>1078038748837888001</td>\n",
       "      <td>id: 1078038748837888001</td>\n",
       "      <td>3</td>\n",
       "      <td>0</td>\n",
       "      <td>...</td>\n",
       "      <td>14060</td>\n",
       "      <td>2210</td>\n",
       "      <td>654</td>\n",
       "      <td>10740</td>\n",
       "      <td>AlunCairns</td>\n",
       "      <td>True</td>\n",
       "      <td>['wpl_official', 'barrytownunited', 'the_nomad...</td>\n",
       "      <td>2018-12-26</td>\n",
       "      <td>2018</td>\n",
       "      <td>Positive</td>\n",
       "    </tr>\n",
       "  </tbody>\n",
       "</table>\n",
       "<p>5 rows × 28 columns</p>\n",
       "</div>"
      ],
      "text/plain": [
       "   author_id        author_id_new                   conv_id_new  \\\n",
       "0   76650839  author_id: 76650839  conv_id: 1079747729419657217   \n",
       "1   76650839  author_id: 76650839  conv_id: 1079747690110570496   \n",
       "2   76650839  author_id: 76650839  conv_id: 1078943309744070657   \n",
       "3   76650839  author_id: 76650839  conv_id: 1078738567193640960   \n",
       "4   76650839  author_id: 76650839  conv_id: 1077967555879452672   \n",
       "\n",
       "       conversation_id                created_at  \\\n",
       "0  1079747729419657217  2018-12-31T14:34:54.000Z   \n",
       "1  1079747690110570496  2018-12-31T14:34:44.000Z   \n",
       "2  1078943309744070657  2018-12-29T09:18:25.000Z   \n",
       "3  1078738567193640960  2018-12-28T19:58:04.000Z   \n",
       "4  1077967555879452672  2018-12-26T21:24:01.000Z   \n",
       "\n",
       "                                   entities.mentions                   id  \\\n",
       "0  [{'start': 3, 'end': 19, 'username': '10Downin...  1079747729419657217   \n",
       "1  [{'start': 3, 'end': 19, 'username': 'GavinWil...  1079747690110570496   \n",
       "2  [{'start': 3, 'end': 14, 'username': 'UKGovWal...  1078943309744070657   \n",
       "3  [{'start': 0, 'end': 13, 'username': 'TicketTa...  1078741894761463809   \n",
       "4  [{'start': 0, 'end': 13, 'username': 'WPL_Offi...  1078038748837888001   \n",
       "\n",
       "                    id_new  public_metrics.like_count  \\\n",
       "0  id: 1079747729419657217                          0   \n",
       "1  id: 1079747690110570496                          0   \n",
       "2  id: 1078943309744070657                          0   \n",
       "3  id: 1078741894761463809                          1   \n",
       "4  id: 1078038748837888001                          3   \n",
       "\n",
       "   public_metrics.quote_count  ...  users.public_metrics.followers_count  \\\n",
       "0                           0  ...                                 14060   \n",
       "1                           0  ...                                 14060   \n",
       "2                           0  ...                                 14060   \n",
       "3                           0  ...                                 14060   \n",
       "4                           0  ...                                 14060   \n",
       "\n",
       "   users.public_metrics.following_count users.public_metrics.listed_count  \\\n",
       "0                                  2210                               654   \n",
       "1                                  2210                               654   \n",
       "2                                  2210                               654   \n",
       "3                                  2210                               654   \n",
       "4                                  2210                               654   \n",
       "\n",
       "  users.public_metrics.tweet_count users.username users.verified  \\\n",
       "0                            10740     AlunCairns           True   \n",
       "1                            10740     AlunCairns           True   \n",
       "2                            10740     AlunCairns           True   \n",
       "3                            10740     AlunCairns           True   \n",
       "4                            10740     AlunCairns           True   \n",
       "\n",
       "                                         text_tokens created_at_date  \\\n",
       "0  ['downingstreet', 'countries', 'places', 'uk',...      2018-12-31   \n",
       "1  ['gavinwilliamson', 'want_thank', 'serving', '...      2018-12-31   \n",
       "2  ['ukgovwales_welsh_secretary_aluncairns', 'ext...      2018-12-29   \n",
       "3       ['tickettattle', 'tfwrail', 'sure', 'thing']      2018-12-28   \n",
       "4  ['wpl_official', 'barrytownunited', 'the_nomad...      2018-12-26   \n",
       "\n",
       "   Year_tweet  Predicted_sentiment  \n",
       "0        2018              Neutral  \n",
       "1        2018             Positive  \n",
       "2        2018             Positive  \n",
       "3        2018              Neutral  \n",
       "4        2018             Positive  \n",
       "\n",
       "[5 rows x 28 columns]"
      ]
     },
     "execution_count": 6,
     "metadata": {},
     "output_type": "execute_result"
    }
   ],
   "source": [
    "### combining the two tables into one big table\n",
    "tweets_table_all_with_sentimet = pd.concat([tweets_table_all_with_sentimet_0, tweets_with_sentiment_300k])\n",
    "print(\"Total number of tweets with sentiment =\", tweets_table_all_with_sentimet.shape[0])\n",
    "\n",
    "### remove duplicates\n",
    "tweets_table_all_with_sentimet = tweets_table_all_with_sentimet.drop_duplicates(subset=['author_id_new', 'conv_id_new', \"id_new\", \"created_at\", \"public_metrics.like_count\", \"text\"])\n",
    "print(\"Total number of tweets with sentiment not duplicate =\", tweets_table_all_with_sentimet.shape[0])\n",
    "\n",
    "tweets_table_all_with_sentimet.head()"
   ]
  },
  {
   "cell_type": "code",
   "execution_count": 158,
   "id": "964d0922",
   "metadata": {
    "ExecuteTime": {
     "end_time": "2022-06-19T09:37:20.372677Z",
     "start_time": "2022-06-19T09:37:20.346645Z"
    }
   },
   "outputs": [
    {
     "name": "stdout",
     "output_type": "stream",
     "text": [
      "Number or rows in each group: 9.8\n"
     ]
    }
   ],
   "source": [
    "# num_of_rows = tweets_table_all_with_sentimet.shape[0]\n",
    "# num_groups = 100\n",
    "# print(\"Number or rows in each group:\", round(num_of_rows/num_groups,1))\n",
    "# split_groups = np.array_split(range(num_of_rows), num_groups)"
   ]
  },
  {
   "cell_type": "markdown",
   "id": "4651de2f",
   "metadata": {
    "ExecuteTime": {
     "end_time": "2022-05-27T13:16:57.560037Z",
     "start_time": "2022-05-27T13:16:57.518064Z"
    }
   },
   "source": [
    "### Preprocess the filtered tweets\n",
    "After we read the tweets filtered table, we need to perform several cleaning / preprocessing on those filtered tweets"
   ]
  },
  {
   "cell_type": "code",
   "execution_count": 7,
   "id": "d6dc8fa6",
   "metadata": {
    "ExecuteTime": {
     "end_time": "2022-06-23T16:44:50.845010Z",
     "start_time": "2022-06-23T16:44:36.781747Z"
    }
   },
   "outputs": [
    {
     "data": {
      "application/vnd.jupyter.widget-view+json": {
       "model_id": "e0489814bb654a578ecae8574775054f",
       "version_major": 2,
       "version_minor": 0
      },
      "text/plain": [
       "  0%|          | 0/1285805 [00:00<?, ?it/s]"
      ]
     },
     "metadata": {},
     "output_type": "display_data"
    }
   ],
   "source": [
    "# def clean_text(x):\n",
    "#     from gensim.utils import simple_preprocess\n",
    "#     import contractions\n",
    "#     x = contractions.fix(x)\n",
    "#     x = ' '.join(simple_preprocess(x))\n",
    "#     return x\n",
    "\n",
    "### Pre-processing columns conv_id_new and author_id_new\n",
    "tweets_table_all_with_sentimet['conversation_id'] = tweets_table_all_with_sentimet['conv_id_new'].apply(lambda x: x.replace(\"conv_id: \", \"\"))\n",
    "tweets_table_all_with_sentimet['author_id'] = tweets_table_all_with_sentimet['author_id_new'].apply(lambda x: x.replace(\"author_id: \", \"\"))\n",
    "#tweets_table_all_with_sentimet['clean_text'] = tweets_table_all_with_sentimet['text'].apply(clean_text)\n",
    "tweets_table_all_with_sentimet = tweets_table_all_with_sentimet[tweets_table_all_with_sentimet['text'].notna()] #remove rows with nan values in the text column\n",
    "\n",
    "tweets_table_all_with_sentimet['clean_text'] = tweets_table_all_with_sentimet['text']\n",
    "\n",
    "if \"Year_tweet\" in tweets_table_all_with_sentimet.columns:\n",
    "    years_tweets = tweets_table_all_with_sentimet.Year_tweet\n",
    "else:\n",
    "    years_tweets = pd.DatetimeIndex(tweets_table_all_with_sentimet['created_at_date']).year\n",
    "    tweets_table_all_with_sentimet[\"Year_tweet\"] = years_tweets\n",
    "### detecting the language of the text + preprocess it\n",
    "language_classifications = []\n",
    "tokens_roy = []\n",
    "years_tweets = []\n",
    "for row in tqdm_notebook(tweets_table_all_with_sentimet.clean_text): #tqdm_notebook - to pring progress bar\n",
    "    #language_classification, score = langid.classify(row)\n",
    "    #language_classifications.append(language_classification)\n",
    "\n",
    "    data_clean = row.lower().replace(\"#\", \"\").replace(\"@\", \"\").replace(\"?\", \"\").replace(\"\\\"\", \"\").replace(\"\\'\", \"\").replace(\":\", \"\")\n",
    "    data_clean = data_clean.split()\n",
    "    data_clean = [token for token in data_clean if token not in StopWords]\n",
    "    data_clean = [token for token in data_clean if len(token) >=2]\n",
    "    tokens_roy.append(data_clean) #\n",
    "\n",
    "texts = tweets_table_all_with_sentimet.text\n",
    "text_tokens = tweets_table_all_with_sentimet.text_tokens"
   ]
  },
  {
   "cell_type": "code",
   "execution_count": 7,
   "id": "ef432bf1",
   "metadata": {
    "ExecuteTime": {
     "end_time": "2022-06-17T07:14:45.115115Z",
     "start_time": "2022-06-17T07:14:45.111113Z"
    }
   },
   "outputs": [],
   "source": [
    "# if \"language\" in filtered_table.columns:\n",
    "#     language_classifications.append(language_classification)"
   ]
  },
  {
   "cell_type": "code",
   "execution_count": 8,
   "id": "d6a12936",
   "metadata": {
    "ExecuteTime": {
     "end_time": "2022-06-23T16:44:55.816123Z",
     "start_time": "2022-06-23T16:44:55.801576Z"
    }
   },
   "outputs": [
    {
     "name": "stdout",
     "output_type": "stream",
     "text": [
      "0\n",
      "1285805\n"
     ]
    }
   ],
   "source": [
    "print(len(language_classifications))\n",
    "print(len(tokens_roy))"
   ]
  },
  {
   "cell_type": "markdown",
   "id": "7538c4ec",
   "metadata": {},
   "source": [
    "### splitting the tweets to the relevant years"
   ]
  },
  {
   "cell_type": "code",
   "execution_count": 9,
   "id": "fa82ef3d",
   "metadata": {
    "ExecuteTime": {
     "end_time": "2022-06-23T16:44:59.909481Z",
     "start_time": "2022-06-23T16:44:59.894364Z"
    }
   },
   "outputs": [],
   "source": [
    "#years_tweets = pd.DatetimeIndex(tweets_table_all_with_sentimet['created_at_date']).year\n",
    "years_tweets = tweets_table_all_with_sentimet['Year_tweet']"
   ]
  },
  {
   "cell_type": "code",
   "execution_count": 9,
   "id": "4fd7a2c5",
   "metadata": {
    "ExecuteTime": {
     "end_time": "2022-06-23T13:14:11.435618Z",
     "start_time": "2022-06-23T13:14:11.391067Z"
    }
   },
   "outputs": [],
   "source": [
    "years_tweets_2014 = [years_tweets==2014]\n",
    "years_tweets_2014 = np.asarray(years_tweets_2014).reshape(-1,1)\n",
    "\n",
    "years_tweets_2015 = [years_tweets==2015]\n",
    "years_tweets_2015 = np.asarray(years_tweets_2015).reshape(-1,1)\n",
    "\n",
    "years_tweets_2016 = [years_tweets==2016]\n",
    "years_tweets_2016 = np.asarray(years_tweets_2016).reshape(-1,1)\n",
    "\n",
    "years_tweets_2017 = [years_tweets==2017]\n",
    "years_tweets_2017 = np.asarray(years_tweets_2017).reshape(-1,1)\n",
    "\n",
    "years_tweets_2018 = [years_tweets==2018]\n",
    "years_tweets_2018 = np.asarray(years_tweets_2018).reshape(-1,1)\n",
    "\n",
    "years_tweets_2019 = [years_tweets==2019]\n",
    "years_tweets_2019 = np.asarray(years_tweets_2019).reshape(-1,1)\n",
    "\n",
    "years_tweets_2020 = [years_tweets==2020]\n",
    "years_tweets_2020 = np.asarray(years_tweets_2020).reshape(-1,1)\n",
    "\n",
    "years_tweets_2021 = [years_tweets==2021]\n",
    "years_tweets_2021 = np.asarray(years_tweets_2021).reshape(-1,1)"
   ]
  },
  {
   "cell_type": "code",
   "execution_count": 10,
   "id": "a1796052",
   "metadata": {
    "ExecuteTime": {
     "end_time": "2022-06-23T13:14:20.764027Z",
     "start_time": "2022-06-23T13:14:15.734860Z"
    }
   },
   "outputs": [],
   "source": [
    "tokens_df = pd.DataFrame(tokens_roy)#[years_tweets_2018]\n",
    "tokens_df_2014 = tokens_df[years_tweets_2014]\n",
    "tokens_df_2015 = tokens_df[years_tweets_2015]\n",
    "tokens_df_2016 = tokens_df[years_tweets_2016]\n",
    "tokens_df_2017 = tokens_df[years_tweets_2017]\n",
    "tokens_df_2018 = tokens_df[years_tweets_2018]\n",
    "tokens_df_2019 = tokens_df[years_tweets_2019]\n",
    "tokens_df_2020 = tokens_df[years_tweets_2020]\n",
    "tokens_df_2021 = tokens_df[years_tweets_2021]\n",
    "\n",
    "tokens_df_all = tokens_df"
   ]
  },
  {
   "cell_type": "code",
   "execution_count": 11,
   "id": "50d4253a",
   "metadata": {
    "ExecuteTime": {
     "end_time": "2022-06-23T13:14:28.043264Z",
     "start_time": "2022-06-23T13:14:28.017106Z"
    }
   },
   "outputs": [
    {
     "name": "stdout",
     "output_type": "stream",
     "text": [
      "2014: (67752, 57)\n",
      "2015: (144122, 57)\n",
      "2016: (465833, 57)\n",
      "2017: (158570, 57)\n",
      "2018: (149650, 57)\n",
      "2019: (145367, 57)\n",
      "2020: (79496, 57)\n",
      "2021: (79496, 57)\n",
      "All: (1285805, 57)\n"
     ]
    }
   ],
   "source": [
    "print(\"2014:\", tokens_df_2014.shape)\n",
    "print(\"2015:\", tokens_df_2015.shape)\n",
    "print(\"2016:\", tokens_df_2016.shape)\n",
    "print(\"2017:\", tokens_df_2017.shape)\n",
    "print(\"2018:\", tokens_df_2018.shape)\n",
    "print(\"2019:\", tokens_df_2019.shape)\n",
    "print(\"2020:\", tokens_df_2020.shape)\n",
    "print(\"2021:\", tokens_df_2020.shape)\n",
    "print(\"All:\", tokens_df_all.shape)"
   ]
  },
  {
   "cell_type": "code",
   "execution_count": 12,
   "id": "ce5ff744",
   "metadata": {
    "ExecuteTime": {
     "end_time": "2022-06-23T13:14:35.585697Z",
     "start_time": "2022-06-23T13:14:35.558342Z"
    }
   },
   "outputs": [],
   "source": [
    "### this function takes the data frame and takes all the None values out + transform it to list of list (each row becomes a list)\n",
    "def tokens_df_new(tokens_df):\n",
    "    tokens_df_new = []\n",
    "    for list_i in tokens_df.values.tolist():\n",
    "        list_i_new = []\n",
    "        for i in list_i:\n",
    "            if i != None:\n",
    "                list_i_new.append(i)\n",
    "\n",
    "        tokens_df_new.append(list_i_new)\n",
    "    return(tokens_df_new)"
   ]
  },
  {
   "cell_type": "code",
   "execution_count": 14,
   "id": "2a672052",
   "metadata": {
    "ExecuteTime": {
     "end_time": "2022-06-22T07:48:51.923402Z",
     "start_time": "2022-06-22T07:48:30.513511Z"
    }
   },
   "outputs": [],
   "source": [
    "tokens_df_new_2014 = tokens_df_new(tokens_df_2014)\n",
    "tokens_df_new_2015 = tokens_df_new(tokens_df_2015)\n",
    "tokens_df_new_2016 = tokens_df_new(tokens_df_2016)\n",
    "tokens_df_new_2017 = tokens_df_new(tokens_df_2017)\n",
    "tokens_df_new_2018 = tokens_df_new(tokens_df_2018)\n",
    "tokens_df_new_2019 = tokens_df_new(tokens_df_2019)\n",
    "tokens_df_new_2020 = tokens_df_new(tokens_df_2020)\n",
    "tokens_df_new_2021 = tokens_df_new(tokens_df_2021)\n",
    "tokens_df_all = tokens_df_new(tokens_df_all)"
   ]
  },
  {
   "cell_type": "code",
   "execution_count": 15,
   "id": "c477c342",
   "metadata": {
    "ExecuteTime": {
     "end_time": "2022-06-22T07:49:03.459969Z",
     "start_time": "2022-06-22T07:49:03.440830Z"
    }
   },
   "outputs": [
    {
     "data": {
      "text/plain": [
       "67752"
      ]
     },
     "execution_count": 15,
     "metadata": {},
     "output_type": "execute_result"
    }
   ],
   "source": [
    "len(tokens_df_new_2014)"
   ]
  },
  {
   "cell_type": "markdown",
   "id": "00057aa9",
   "metadata": {},
   "source": [
    "### Train Word2Vec model for each year"
   ]
  },
  {
   "cell_type": "code",
   "execution_count": 16,
   "id": "3424dd33",
   "metadata": {
    "ExecuteTime": {
     "end_time": "2022-06-22T07:49:15.754147Z",
     "start_time": "2022-06-22T07:49:15.740327Z"
    }
   },
   "outputs": [],
   "source": [
    "vector_size = 300\n",
    "window = 7\n",
    "min_count = 2                           \n",
    "epochs = 5"
   ]
  },
  {
   "cell_type": "markdown",
   "id": "07cfaf63",
   "metadata": {},
   "source": [
    "### 2014"
   ]
  },
  {
   "cell_type": "code",
   "execution_count": 17,
   "id": "354e35fb",
   "metadata": {
    "ExecuteTime": {
     "end_time": "2022-06-22T07:49:32.256825Z",
     "start_time": "2022-06-22T07:49:26.868913Z"
    }
   },
   "outputs": [],
   "source": [
    "### Build vocabulary + train\n",
    "model_file_name = os.path.join(data_folder, \"word2vec_2014_tweets_v3\")\n",
    "if not os.path.isfile(model_file_name):\n",
    "    model = gensim.models.Word2Vec(sentences =tokens_df_new_2014, #Train a word2vec model with the birams + the regular words\n",
    "                                  vector_size = vector_size,\n",
    "                                  window = window, \n",
    "                                  min_count = min_count,                              \n",
    "                                  epochs = epochs,\n",
    "                                  sg = 0, #0: CBOW, 1:skip-gram\n",
    "                                  workers = os.cpu_count())\n",
    "    model.save(model_file_name)\n",
    "else:\n",
    "    model = gensim.models.Word2Vec.load(model_file_name)\n",
    "\n",
    "model_2014 = model"
   ]
  },
  {
   "cell_type": "markdown",
   "id": "a099117c",
   "metadata": {},
   "source": [
    "### 2015"
   ]
  },
  {
   "cell_type": "code",
   "execution_count": 18,
   "id": "0d26ba77",
   "metadata": {
    "ExecuteTime": {
     "end_time": "2022-06-22T07:49:53.505728Z",
     "start_time": "2022-06-22T07:49:42.420208Z"
    }
   },
   "outputs": [],
   "source": [
    "### Build vocabulary + train\n",
    "model_file_name = os.path.join(data_folder, \"word2vec_2015_tweets_v2\")\n",
    "if not os.path.isfile(model_file_name):\n",
    "    model = gensim.models.Word2Vec(sentences = tokens_df_new_2015, #Train a word2vec model with the birams + the regular words\n",
    "                                  vector_size = vector_size,\n",
    "                                  window = window, \n",
    "                                  min_count = min_count,                              \n",
    "                                  epochs = epochs,\n",
    "                                  sg = 0, #0: CBOW, 1:skip-gram\n",
    "                                  workers = os.cpu_count())\n",
    "    model.save(model_file_name)\n",
    "else:\n",
    "    model = gensim.models.Word2Vec.load(model_file_name)\n",
    "\n",
    "model_2015 = model"
   ]
  },
  {
   "cell_type": "markdown",
   "id": "59f4741d",
   "metadata": {},
   "source": [
    "### 2016"
   ]
  },
  {
   "cell_type": "code",
   "execution_count": 19,
   "id": "65c91624",
   "metadata": {
    "ExecuteTime": {
     "end_time": "2022-06-22T07:50:39.884847Z",
     "start_time": "2022-06-22T07:50:04.356305Z"
    }
   },
   "outputs": [],
   "source": [
    "### Build vocabulary + train\n",
    "model_file_name = os.path.join(data_folder, \"word2vec_2016_tweets_v2\")\n",
    "if not os.path.isfile(model_file_name):\n",
    "    model = gensim.models.Word2Vec(sentences = tokens_df_new_2016, #Train a word2vec model with the birams + the regular words\n",
    "                                  vector_size = vector_size,\n",
    "                                  window = window, \n",
    "                                  min_count = min_count,                              \n",
    "                                  epochs = epochs,\n",
    "                                  sg = 0, #0: CBOW, 1:skip-gram\n",
    "                                  workers = os.cpu_count())\n",
    "    model.save(model_file_name)\n",
    "else:\n",
    "    model = gensim.models.Word2Vec.load(model_file_name)\n",
    "\n",
    "model_2016 = model"
   ]
  },
  {
   "cell_type": "markdown",
   "id": "d77a89f6",
   "metadata": {},
   "source": [
    "### 2017"
   ]
  },
  {
   "cell_type": "code",
   "execution_count": 20,
   "id": "020fdd12",
   "metadata": {
    "ExecuteTime": {
     "end_time": "2022-06-22T07:51:11.127447Z",
     "start_time": "2022-06-22T07:50:53.057209Z"
    }
   },
   "outputs": [],
   "source": [
    "### Build vocabulary + train\n",
    "model_file_name = os.path.join(data_folder, \"word2vec_2017_tweets_v2\")\n",
    "if not os.path.isfile(model_file_name):\n",
    "    model = gensim.models.Word2Vec(sentences = tokens_df_new_2017, #Train a word2vec model with the birams + the regular words\n",
    "                                  vector_size = vector_size,\n",
    "                                  window = window, \n",
    "                                  min_count = min_count,                              \n",
    "                                  epochs = epochs,\n",
    "                                  sg = 0, #0: CBOW, 1:skip-gram\n",
    "                                  workers = os.cpu_count())\n",
    "    model.save(model_file_name)\n",
    "else:\n",
    "    model = gensim.models.Word2Vec.load(model_file_name)\n",
    "\n",
    "model_2017 = model"
   ]
  },
  {
   "cell_type": "markdown",
   "id": "25aa4cf7",
   "metadata": {},
   "source": [
    "### 2018"
   ]
  },
  {
   "cell_type": "code",
   "execution_count": 21,
   "id": "79fb68b7",
   "metadata": {
    "ExecuteTime": {
     "end_time": "2022-06-22T07:51:50.517984Z",
     "start_time": "2022-06-22T07:51:27.967793Z"
    }
   },
   "outputs": [],
   "source": [
    "### Build vocabulary + train\n",
    "model_file_name = os.path.join(data_folder, \"word2vec_2018_tweets_v2\")\n",
    "if not os.path.isfile(model_file_name):\n",
    "    model = gensim.models.Word2Vec(sentences = tokens_df_new_2018, #Train a word2vec model with the birams + the regular words\n",
    "                                  vector_size = vector_size,\n",
    "                                  window = window, \n",
    "                                  min_count = min_count,                              \n",
    "                                  epochs = epochs,\n",
    "                                  sg = 0, #0: CBOW, 1:skip-gram\n",
    "                                  workers = os.cpu_count())\n",
    "    model.save(model_file_name)\n",
    "else:\n",
    "    model = gensim.models.Word2Vec.load(model_file_name)\n",
    "\n",
    "model_2018 = model"
   ]
  },
  {
   "cell_type": "markdown",
   "id": "e96270e7",
   "metadata": {},
   "source": [
    "### 2019"
   ]
  },
  {
   "cell_type": "code",
   "execution_count": 22,
   "id": "75b0ff06",
   "metadata": {
    "ExecuteTime": {
     "end_time": "2022-06-22T07:52:16.157857Z",
     "start_time": "2022-06-22T07:52:04.256308Z"
    }
   },
   "outputs": [],
   "source": [
    "### Build vocabulary + train\n",
    "model_file_name = os.path.join(data_folder, \"word2vec_2019_tweets_v2\")\n",
    "if not os.path.isfile(model_file_name):\n",
    "    model = gensim.models.Word2Vec(sentences = tokens_df_new_2019, #Train a word2vec model with the birams + the regular words\n",
    "                                  vector_size = vector_size,\n",
    "                                  window = window, \n",
    "                                  min_count = min_count,                              \n",
    "                                  epochs = epochs,\n",
    "                                  sg = 0, #0: CBOW, 1:skip-gram\n",
    "                                  workers = os.cpu_count())\n",
    "    model.save(model_file_name)\n",
    "else:\n",
    "    model = gensim.models.Word2Vec.load(model_file_name)\n",
    "\n",
    "model_2019 = model"
   ]
  },
  {
   "cell_type": "markdown",
   "id": "cc70db4e",
   "metadata": {},
   "source": [
    "### 2020"
   ]
  },
  {
   "cell_type": "code",
   "execution_count": 23,
   "id": "d816eb18",
   "metadata": {
    "ExecuteTime": {
     "end_time": "2022-06-22T07:52:33.051411Z",
     "start_time": "2022-06-22T07:52:27.132676Z"
    }
   },
   "outputs": [],
   "source": [
    "### Build vocabulary + train\n",
    "model_file_name = os.path.join(data_folder, \"word2vec_2020_tweets_v2\")\n",
    "if not os.path.isfile(model_file_name):\n",
    "    model = gensim.models.Word2Vec(sentences = tokens_df_new_2020, #Train a word2vec model with the birams + the regular words\n",
    "                                  vector_size = vector_size,\n",
    "                                  window = window, \n",
    "                                  min_count = min_count,                              \n",
    "                                  epochs = epochs,\n",
    "                                  sg = 0, #0: CBOW, 1:skip-gram\n",
    "                                  workers = os.cpu_count())\n",
    "    model.save(model_file_name)\n",
    "else:\n",
    "    model = gensim.models.Word2Vec.load(model_file_name)\n",
    "\n",
    "model_2020 = model"
   ]
  },
  {
   "cell_type": "markdown",
   "id": "384e2ebc",
   "metadata": {},
   "source": [
    "### 2021"
   ]
  },
  {
   "cell_type": "code",
   "execution_count": 24,
   "id": "fd2dafd6",
   "metadata": {
    "ExecuteTime": {
     "end_time": "2022-06-22T07:53:00.483633Z",
     "start_time": "2022-06-22T07:52:52.721063Z"
    }
   },
   "outputs": [],
   "source": [
    "### Build vocabulary + train\n",
    "model_file_name = os.path.join(data_folder, \"word2vec_2021_tweets_v3\")\n",
    "if not os.path.isfile(model_file_name):\n",
    "    model = gensim.models.Word2Vec(sentences = tokens_df_new_2021, #Train a word2vec model with the birams + the regular words\n",
    "                                  vector_size = vector_size,\n",
    "                                  window = window, \n",
    "                                  min_count = min_count,                              \n",
    "                                  epochs = epochs,\n",
    "                                  sg = 0, #0: CBOW, 1:skip-gram\n",
    "                                  workers = os.cpu_count())\n",
    "    model.save(model_file_name)\n",
    "else:\n",
    "    model = gensim.models.Word2Vec.load(model_file_name)\n",
    "\n",
    "model_2021 = model"
   ]
  },
  {
   "cell_type": "markdown",
   "id": "221cb076",
   "metadata": {},
   "source": [
    "### All years (2014 - 2021)"
   ]
  },
  {
   "cell_type": "code",
   "execution_count": 25,
   "id": "6c01189f",
   "metadata": {
    "ExecuteTime": {
     "end_time": "2022-06-22T07:55:09.062140Z",
     "start_time": "2022-06-22T07:53:11.842134Z"
    }
   },
   "outputs": [],
   "source": [
    "### Build vocabulary + train\n",
    "model_file_name = os.path.join(data_folder, \"word2vec_all_years_tweets_v2\")\n",
    "if not os.path.isfile(model_file_name):\n",
    "    model = gensim.models.Word2Vec(sentences = tokens_df_all, #Train a word2vec model with the birams + the regular words\n",
    "                                  vector_size = vector_size,\n",
    "                                  window = window, \n",
    "                                  min_count = min_count,                              \n",
    "                                  epochs = epochs,\n",
    "                                  sg = 0, #0: CBOW, 1:skip-gram\n",
    "                                  workers = os.cpu_count())\n",
    "    model.save(model_file_name)\n",
    "else:\n",
    "    model = gensim.models.Word2Vec.load(model_file_name)\n",
    "\n",
    "model_all_years = model"
   ]
  },
  {
   "cell_type": "markdown",
   "id": "db43ddaf",
   "metadata": {},
   "source": [
    "### Function visualize_word2vec_K_most_similar_to_ref_word\n",
    "\n",
    "The following function gets as input:\n",
    "1. **model** = word2vec model\n",
    "2. **referenced_word** - the word to find its k nearest neighbors (By default = brexit\n",
    "3. **number_of_similar_words** - By default find the nearset **30** words.\n",
    "4. **top_k_to_show** - The number of most similar words to display in the output (visualy only)\n",
    "\n",
    "#### visualization arguments:\n",
    "The following arguments control the plot\n",
    "5. **random_state_for_Tsne** - by default = 1998\n",
    "6. **remove_legend** - do you wish to remove the legend from the plot?, by default = False\n",
    "7. **year** - the year to display in the title (by default = None, meaning to not show a year in the title)\n",
    "\n",
    "Colors:\n",
    "\n",
    "8. **referenced_word_color** - The color of the referenced word, by defualt = blue\n",
    "9. **top_5_words_color** - the color of the 5 closest points to the referenced word, by default = green\n",
    "10. **others_color** - the color of the least k-5 points, by default = black"
   ]
  },
  {
   "cell_type": "code",
   "execution_count": 10,
   "id": "13259e9a",
   "metadata": {
    "ExecuteTime": {
     "end_time": "2022-06-23T16:45:03.875143Z",
     "start_time": "2022-06-23T16:45:03.846326Z"
    }
   },
   "outputs": [],
   "source": [
    "def visualize_word2vec_K_most_similar_to_ref_word(model, referenced_word = \"brexit\", number_of_similar_words = 30,\n",
    "                                                 top_k_to_show = 6, random_state_for_Tsne = 1998, remove_legend = False,\n",
    "                                                 year = None, referenced_word_color = \"blue\", top_5_words_color = \"green\",\n",
    "                                                  others_color = \"black\"):\n",
    "    ### using word2Vec model of a certain year\n",
    "\n",
    "    simmilar_words = []\n",
    "    similar_brexit_representation = []\n",
    "    distance_from_referenced_word = []\n",
    "    simmilar_words.append(referenced_word)\n",
    "    similar_brexit_representation.append(model.wv[referenced_word])\n",
    "    distance_from_referenced_word.append(1)\n",
    "\n",
    "    #for j in model.wv.most_similar(positive=[referenced_word], negative=[], topn=number_of_similar_words):\n",
    "    for j in model.wv.most_similar(referenced_word, topn=number_of_similar_words):\n",
    "        simmilar_words.append(j[0])\n",
    "        distance_from_referenced_word.append(j[1])\n",
    "        word_representation = model.wv[j[0]]\n",
    "        similar_brexit_representation.append(word_representation)\n",
    "\n",
    "    similar_brexit_representation = np.asarray(similar_brexit_representation)\n",
    "    simmilar_words = np.asarray(simmilar_words)\n",
    "    distance_from_referenced_word = np.asarray(distance_from_referenced_word)\n",
    "\n",
    "    ### performing TSNE on the most k simiilar words to the referenced word\n",
    "    from sklearn.manifold import TSNE\n",
    "    tsne = TSNE(n_components=2, verbose=0, perplexity=40, n_iter=300, random_state= random_state_for_Tsne)\n",
    "    tsne_results = tsne.fit_transform(similar_brexit_representation)\n",
    "\n",
    "    ### creating the TSNE dataframe\n",
    "    df_tsne_results = pd.DataFrame(tsne_results)\n",
    "    df_tsne_results = df_tsne_results.rename({0 : \"x\", 1:\"y\"}, axis = 1)\n",
    "    df_tsne_results[\"word\"] = simmilar_words\n",
    "    df_tsne_results[\"distance_from_referenced_word\"] = distance_from_referenced_word\n",
    "\n",
    "    group = [referenced_word]\n",
    "    for i in range(df_tsne_results.shape[0]-1):\n",
    "        if i <=4: ### for the top 5 words give the group \"top 5\"\n",
    "            group.append(\"Top 5\")\n",
    "        else:\n",
    "            group.append(\"0\")\n",
    "\n",
    "    df_tsne_results[\"group\"] = group\n",
    "\n",
    "    display(df_tsne_results.head(top_k_to_show))\n",
    "\n",
    "    ### Visualization using TSNE and seaborn package\n",
    "    fig, ax = plt.subplots(figsize=(10,10))\n",
    "    \n",
    "    markers = {referenced_word: \"*\",\n",
    "              \"Top 5\" : \"X\",\n",
    "              \"0\": \"X\"}\n",
    "    \n",
    "    #palette ={referenced_word: \"C0\", \"Top 5\": \"C1\", \"0\": \"C2\"}\n",
    "\n",
    "    palette ={referenced_word: referenced_word_color,\n",
    "              \"Top 5\": top_5_words_color,\n",
    "              \"0\": others_color}\n",
    "\n",
    "    if year is None:\n",
    "        title_tsne = \"TSNE visualization of word:\" + str(referenced_word) + \" with the \" + str(number_of_similar_words) + \" most similar words according to W2V\"\n",
    "    else:\n",
    "        title_tsne = str(year) + \" - TSNE visualization of word:\" + str(referenced_word) + \" with the \" + str(number_of_similar_words) + \" most similar words according to W2V\"\n",
    "    plot1 = sns.scatterplot(data=df_tsne_results, x=\"x\", y=\"y\", hue = \"group\", size=\"distance_from_referenced_word\",\n",
    "                   sizes=(50, 1100), markers = markers, ax = ax, palette = palette).set_title(title_tsne, fontsize=15)\n",
    "    if remove_legend:\n",
    "        #plot1._legend.remove()\n",
    "        plt.legend([],[], frameon=False)\n",
    "\n",
    "    for i, word in enumerate (df_tsne_results[\"word\"]):\n",
    "        plt.text(df_tsne_results.x[i]+2.8, df_tsne_results.y[i]+2.8, word, size = 14)\n",
    "        \n",
    "    return (df_tsne_results, plot1)"
   ]
  },
  {
   "cell_type": "code",
   "execution_count": 27,
   "id": "9aaaae7e",
   "metadata": {
    "ExecuteTime": {
     "end_time": "2022-06-22T07:55:36.618453Z",
     "start_time": "2022-06-22T07:55:36.604253Z"
    }
   },
   "outputs": [],
   "source": [
    "import warnings\n",
    "warnings.filterwarnings('ignore')"
   ]
  },
  {
   "cell_type": "code",
   "execution_count": 28,
   "id": "17a6ec60",
   "metadata": {
    "ExecuteTime": {
     "end_time": "2022-06-22T07:55:47.913032Z",
     "start_time": "2022-06-22T07:55:46.920425Z"
    }
   },
   "outputs": [
    {
     "data": {
      "text/html": [
       "<div>\n",
       "<style scoped>\n",
       "    .dataframe tbody tr th:only-of-type {\n",
       "        vertical-align: middle;\n",
       "    }\n",
       "\n",
       "    .dataframe tbody tr th {\n",
       "        vertical-align: top;\n",
       "    }\n",
       "\n",
       "    .dataframe thead th {\n",
       "        text-align: right;\n",
       "    }\n",
       "</style>\n",
       "<table border=\"1\" class=\"dataframe\">\n",
       "  <thead>\n",
       "    <tr style=\"text-align: right;\">\n",
       "      <th></th>\n",
       "      <th>x</th>\n",
       "      <th>y</th>\n",
       "      <th>word</th>\n",
       "      <th>distance_from_referenced_word</th>\n",
       "      <th>group</th>\n",
       "    </tr>\n",
       "  </thead>\n",
       "  <tbody>\n",
       "    <tr>\n",
       "      <th>0</th>\n",
       "      <td>-26.041590</td>\n",
       "      <td>14.164261</td>\n",
       "      <td>brexit</td>\n",
       "      <td>1.000000</td>\n",
       "      <td>brexit</td>\n",
       "    </tr>\n",
       "    <tr>\n",
       "      <th>1</th>\n",
       "      <td>-133.694275</td>\n",
       "      <td>8.920392</td>\n",
       "      <td>exit</td>\n",
       "      <td>0.842784</td>\n",
       "      <td>Top 5</td>\n",
       "    </tr>\n",
       "    <tr>\n",
       "      <th>2</th>\n",
       "      <td>-35.561195</td>\n",
       "      <td>-14.141035</td>\n",
       "      <td>immigration</td>\n",
       "      <td>0.837806</td>\n",
       "      <td>Top 5</td>\n",
       "    </tr>\n",
       "    <tr>\n",
       "      <th>3</th>\n",
       "      <td>53.106621</td>\n",
       "      <td>60.828293</td>\n",
       "      <td>fisheries</td>\n",
       "      <td>0.824666</td>\n",
       "      <td>Top 5</td>\n",
       "    </tr>\n",
       "    <tr>\n",
       "      <th>4</th>\n",
       "      <td>24.417057</td>\n",
       "      <td>-11.738787</td>\n",
       "      <td>rejoin</td>\n",
       "      <td>0.823981</td>\n",
       "      <td>Top 5</td>\n",
       "    </tr>\n",
       "    <tr>\n",
       "      <th>5</th>\n",
       "      <td>75.963646</td>\n",
       "      <td>32.615593</td>\n",
       "      <td>ukippers</td>\n",
       "      <td>0.821501</td>\n",
       "      <td>Top 5</td>\n",
       "    </tr>\n",
       "  </tbody>\n",
       "</table>\n",
       "</div>"
      ],
      "text/plain": [
       "            x          y         word  distance_from_referenced_word   group\n",
       "0  -26.041590  14.164261       brexit                       1.000000  brexit\n",
       "1 -133.694275   8.920392         exit                       0.842784   Top 5\n",
       "2  -35.561195 -14.141035  immigration                       0.837806   Top 5\n",
       "3   53.106621  60.828293    fisheries                       0.824666   Top 5\n",
       "4   24.417057 -11.738787       rejoin                       0.823981   Top 5\n",
       "5   75.963646  32.615593     ukippers                       0.821501   Top 5"
      ]
     },
     "metadata": {},
     "output_type": "display_data"
    },
    {
     "data": {
      "image/png": "[encoded data removed]",
      "text/plain": [
       "<Figure size 720x720 with 1 Axes>"
      ]
     },
     "metadata": {
      "needs_background": "light"
     },
     "output_type": "display_data"
    }
   ],
   "source": [
    "df_tsne_results_2014, plot_2014 = visualize_word2vec_K_most_similar_to_ref_word(model = model_2014,\n",
    "                                                                                referenced_word = \"brexit\",\n",
    "                                                                                number_of_similar_words = 30,\n",
    "                                                                               top_k_to_show = 6,\n",
    "                                                                                random_state_for_Tsne = 555,\n",
    "                                                                               remove_legend = True,\n",
    "                                                                               year = \"2014\")"
   ]
  },
  {
   "cell_type": "code",
   "execution_count": 31,
   "id": "b46c430c",
   "metadata": {
    "ExecuteTime": {
     "end_time": "2022-06-22T07:56:21.468409Z",
     "start_time": "2022-06-22T07:56:20.993448Z"
    }
   },
   "outputs": [
    {
     "data": {
      "text/html": [
       "<div>\n",
       "<style scoped>\n",
       "    .dataframe tbody tr th:only-of-type {\n",
       "        vertical-align: middle;\n",
       "    }\n",
       "\n",
       "    .dataframe tbody tr th {\n",
       "        vertical-align: top;\n",
       "    }\n",
       "\n",
       "    .dataframe thead th {\n",
       "        text-align: right;\n",
       "    }\n",
       "</style>\n",
       "<table border=\"1\" class=\"dataframe\">\n",
       "  <thead>\n",
       "    <tr style=\"text-align: right;\">\n",
       "      <th></th>\n",
       "      <th>x</th>\n",
       "      <th>y</th>\n",
       "      <th>word</th>\n",
       "      <th>distance_from_referenced_word</th>\n",
       "      <th>group</th>\n",
       "    </tr>\n",
       "  </thead>\n",
       "  <tbody>\n",
       "    <tr>\n",
       "      <th>0</th>\n",
       "      <td>-26.041590</td>\n",
       "      <td>14.164261</td>\n",
       "      <td>brexit</td>\n",
       "      <td>1.000000</td>\n",
       "      <td>brexit</td>\n",
       "    </tr>\n",
       "    <tr>\n",
       "      <th>1</th>\n",
       "      <td>-133.694275</td>\n",
       "      <td>8.920392</td>\n",
       "      <td>exr</td>\n",
       "      <td>0.737798</td>\n",
       "      <td>Top 5</td>\n",
       "    </tr>\n",
       "    <tr>\n",
       "      <th>2</th>\n",
       "      <td>-35.561195</td>\n",
       "      <td>-14.141035</td>\n",
       "      <td>staying</td>\n",
       "      <td>0.725033</td>\n",
       "      <td>Top 5</td>\n",
       "    </tr>\n",
       "    <tr>\n",
       "      <th>3</th>\n",
       "      <td>53.106621</td>\n",
       "      <td>60.828293</td>\n",
       "      <td>writes</td>\n",
       "      <td>0.720611</td>\n",
       "      <td>Top 5</td>\n",
       "    </tr>\n",
       "    <tr>\n",
       "      <th>4</th>\n",
       "      <td>24.417057</td>\n",
       "      <td>-11.738787</td>\n",
       "      <td>membership</td>\n",
       "      <td>0.718861</td>\n",
       "      <td>Top 5</td>\n",
       "    </tr>\n",
       "    <tr>\n",
       "      <th>5</th>\n",
       "      <td>75.963646</td>\n",
       "      <td>32.615593</td>\n",
       "      <td>exit</td>\n",
       "      <td>0.717277</td>\n",
       "      <td>Top 5</td>\n",
       "    </tr>\n",
       "  </tbody>\n",
       "</table>\n",
       "</div>"
      ],
      "text/plain": [
       "            x          y        word  distance_from_referenced_word   group\n",
       "0  -26.041590  14.164261      brexit                       1.000000  brexit\n",
       "1 -133.694275   8.920392         exr                       0.737798   Top 5\n",
       "2  -35.561195 -14.141035     staying                       0.725033   Top 5\n",
       "3   53.106621  60.828293      writes                       0.720611   Top 5\n",
       "4   24.417057 -11.738787  membership                       0.718861   Top 5\n",
       "5   75.963646  32.615593        exit                       0.717277   Top 5"
      ]
     },
     "metadata": {},
     "output_type": "display_data"
    },
    {
     "data": {
      "image/png": "[encoded data removed]",
      "text/plain": [
       "<Figure size 720x720 with 1 Axes>"
      ]
     },
     "metadata": {
      "needs_background": "light"
     },
     "output_type": "display_data"
    }
   ],
   "source": [
    "\n",
    "df_tsne_results_2015, plot_2015 = visualize_word2vec_K_most_similar_to_ref_word(model = model_2015,\n",
    "                                                                                referenced_word = \"brexit\",\n",
    "                                                                                number_of_similar_words = 30,\n",
    "                                                                               top_k_to_show = 6,\n",
    "                                                                                random_state_for_Tsne = 555,\n",
    "                                                                               remove_legend = True,\n",
    "                                                                               year = \"2015\")\n"
   ]
  },
  {
   "cell_type": "code",
   "execution_count": 29,
   "id": "cf5cebf2",
   "metadata": {
    "ExecuteTime": {
     "end_time": "2022-06-22T07:55:59.478906Z",
     "start_time": "2022-06-22T07:55:58.954811Z"
    }
   },
   "outputs": [
    {
     "data": {
      "text/html": [
       "<div>\n",
       "<style scoped>\n",
       "    .dataframe tbody tr th:only-of-type {\n",
       "        vertical-align: middle;\n",
       "    }\n",
       "\n",
       "    .dataframe tbody tr th {\n",
       "        vertical-align: top;\n",
       "    }\n",
       "\n",
       "    .dataframe thead th {\n",
       "        text-align: right;\n",
       "    }\n",
       "</style>\n",
       "<table border=\"1\" class=\"dataframe\">\n",
       "  <thead>\n",
       "    <tr style=\"text-align: right;\">\n",
       "      <th></th>\n",
       "      <th>x</th>\n",
       "      <th>y</th>\n",
       "      <th>word</th>\n",
       "      <th>distance_from_referenced_word</th>\n",
       "      <th>group</th>\n",
       "    </tr>\n",
       "  </thead>\n",
       "  <tbody>\n",
       "    <tr>\n",
       "      <th>0</th>\n",
       "      <td>-26.041590</td>\n",
       "      <td>14.164261</td>\n",
       "      <td>brexit</td>\n",
       "      <td>1.000000</td>\n",
       "      <td>brexit</td>\n",
       "    </tr>\n",
       "    <tr>\n",
       "      <th>1</th>\n",
       "      <td>-133.694275</td>\n",
       "      <td>8.920392</td>\n",
       "      <td>relevante</td>\n",
       "      <td>0.483596</td>\n",
       "      <td>Top 5</td>\n",
       "    </tr>\n",
       "    <tr>\n",
       "      <th>2</th>\n",
       "      <td>-35.561195</td>\n",
       "      <td>-14.141035</td>\n",
       "      <td>cran</td>\n",
       "      <td>0.461063</td>\n",
       "      <td>Top 5</td>\n",
       "    </tr>\n",
       "    <tr>\n",
       "      <th>3</th>\n",
       "      <td>53.106621</td>\n",
       "      <td>60.828293</td>\n",
       "      <td>exit</td>\n",
       "      <td>0.442600</td>\n",
       "      <td>Top 5</td>\n",
       "    </tr>\n",
       "    <tr>\n",
       "      <th>4</th>\n",
       "      <td>24.417057</td>\n",
       "      <td>-11.738787</td>\n",
       "      <td>actually</td>\n",
       "      <td>0.438924</td>\n",
       "      <td>Top 5</td>\n",
       "    </tr>\n",
       "    <tr>\n",
       "      <th>5</th>\n",
       "      <td>75.963646</td>\n",
       "      <td>32.615593</td>\n",
       "      <td>however</td>\n",
       "      <td>0.434259</td>\n",
       "      <td>Top 5</td>\n",
       "    </tr>\n",
       "  </tbody>\n",
       "</table>\n",
       "</div>"
      ],
      "text/plain": [
       "            x          y       word  distance_from_referenced_word   group\n",
       "0  -26.041590  14.164261     brexit                       1.000000  brexit\n",
       "1 -133.694275   8.920392  relevante                       0.483596   Top 5\n",
       "2  -35.561195 -14.141035       cran                       0.461063   Top 5\n",
       "3   53.106621  60.828293       exit                       0.442600   Top 5\n",
       "4   24.417057 -11.738787   actually                       0.438924   Top 5\n",
       "5   75.963646  32.615593    however                       0.434259   Top 5"
      ]
     },
     "metadata": {},
     "output_type": "display_data"
    },
    {
     "data": {
      "image/png": "[encoded data removed]",
      "text/plain": [
       "<Figure size 720x720 with 1 Axes>"
      ]
     },
     "metadata": {
      "needs_background": "light"
     },
     "output_type": "display_data"
    }
   ],
   "source": [
    "\n",
    "df_tsne_results_2016, plot_2016 = visualize_word2vec_K_most_similar_to_ref_word(model = model_2016,\n",
    "                                                                                referenced_word = \"brexit\",\n",
    "                                                                                number_of_similar_words = 30,\n",
    "                                                                               top_k_to_show = 6,\n",
    "                                                                                random_state_for_Tsne = 555,\n",
    "                                                                               remove_legend = True,\n",
    "                                                                               year = \"2016\")"
   ]
  },
  {
   "cell_type": "code",
   "execution_count": 32,
   "id": "534e9480",
   "metadata": {
    "ExecuteTime": {
     "end_time": "2022-06-22T07:57:10.003843Z",
     "start_time": "2022-06-22T07:57:09.644977Z"
    }
   },
   "outputs": [
    {
     "data": {
      "text/html": [
       "<div>\n",
       "<style scoped>\n",
       "    .dataframe tbody tr th:only-of-type {\n",
       "        vertical-align: middle;\n",
       "    }\n",
       "\n",
       "    .dataframe tbody tr th {\n",
       "        vertical-align: top;\n",
       "    }\n",
       "\n",
       "    .dataframe thead th {\n",
       "        text-align: right;\n",
       "    }\n",
       "</style>\n",
       "<table border=\"1\" class=\"dataframe\">\n",
       "  <thead>\n",
       "    <tr style=\"text-align: right;\">\n",
       "      <th></th>\n",
       "      <th>x</th>\n",
       "      <th>y</th>\n",
       "      <th>word</th>\n",
       "      <th>distance_from_referenced_word</th>\n",
       "      <th>group</th>\n",
       "    </tr>\n",
       "  </thead>\n",
       "  <tbody>\n",
       "    <tr>\n",
       "      <th>0</th>\n",
       "      <td>-26.041590</td>\n",
       "      <td>14.164261</td>\n",
       "      <td>brexit</td>\n",
       "      <td>1.000000</td>\n",
       "      <td>brexit</td>\n",
       "    </tr>\n",
       "    <tr>\n",
       "      <th>1</th>\n",
       "      <td>-133.694275</td>\n",
       "      <td>8.920392</td>\n",
       "      <td>worst</td>\n",
       "      <td>0.704170</td>\n",
       "      <td>Top 5</td>\n",
       "    </tr>\n",
       "    <tr>\n",
       "      <th>2</th>\n",
       "      <td>-35.561195</td>\n",
       "      <td>-14.141035</td>\n",
       "      <td>sides</td>\n",
       "      <td>0.671181</td>\n",
       "      <td>Top 5</td>\n",
       "    </tr>\n",
       "    <tr>\n",
       "      <th>3</th>\n",
       "      <td>53.106621</td>\n",
       "      <td>60.828293</td>\n",
       "      <td>current</td>\n",
       "      <td>0.666141</td>\n",
       "      <td>Top 5</td>\n",
       "    </tr>\n",
       "    <tr>\n",
       "      <th>4</th>\n",
       "      <td>24.417057</td>\n",
       "      <td>-11.738787</td>\n",
       "      <td>changes</td>\n",
       "      <td>0.662233</td>\n",
       "      <td>Top 5</td>\n",
       "    </tr>\n",
       "    <tr>\n",
       "      <th>5</th>\n",
       "      <td>75.963646</td>\n",
       "      <td>32.615593</td>\n",
       "      <td>outcome</td>\n",
       "      <td>0.661840</td>\n",
       "      <td>Top 5</td>\n",
       "    </tr>\n",
       "  </tbody>\n",
       "</table>\n",
       "</div>"
      ],
      "text/plain": [
       "            x          y     word  distance_from_referenced_word   group\n",
       "0  -26.041590  14.164261   brexit                       1.000000  brexit\n",
       "1 -133.694275   8.920392    worst                       0.704170   Top 5\n",
       "2  -35.561195 -14.141035    sides                       0.671181   Top 5\n",
       "3   53.106621  60.828293  current                       0.666141   Top 5\n",
       "4   24.417057 -11.738787  changes                       0.662233   Top 5\n",
       "5   75.963646  32.615593  outcome                       0.661840   Top 5"
      ]
     },
     "metadata": {},
     "output_type": "display_data"
    },
    {
     "data": {
      "image/png": "[encoded data removed]",
      "text/plain": [
       "<Figure size 720x720 with 1 Axes>"
      ]
     },
     "metadata": {
      "needs_background": "light"
     },
     "output_type": "display_data"
    }
   ],
   "source": [
    "\n",
    "df_tsne_results_2017, plot_2017 = visualize_word2vec_K_most_similar_to_ref_word(model = model_2017,\n",
    "                                                                                referenced_word = \"brexit\",\n",
    "                                                                                number_of_similar_words = 30,\n",
    "                                                                               top_k_to_show = 6,\n",
    "                                                                                random_state_for_Tsne = 555,\n",
    "                                                                               remove_legend = True,\n",
    "                                                                               year = \"2017\")\n"
   ]
  },
  {
   "cell_type": "code",
   "execution_count": 33,
   "id": "0aa178a3",
   "metadata": {
    "ExecuteTime": {
     "end_time": "2022-06-22T07:58:11.184257Z",
     "start_time": "2022-06-22T07:58:10.649749Z"
    }
   },
   "outputs": [
    {
     "data": {
      "text/html": [
       "<div>\n",
       "<style scoped>\n",
       "    .dataframe tbody tr th:only-of-type {\n",
       "        vertical-align: middle;\n",
       "    }\n",
       "\n",
       "    .dataframe tbody tr th {\n",
       "        vertical-align: top;\n",
       "    }\n",
       "\n",
       "    .dataframe thead th {\n",
       "        text-align: right;\n",
       "    }\n",
       "</style>\n",
       "<table border=\"1\" class=\"dataframe\">\n",
       "  <thead>\n",
       "    <tr style=\"text-align: right;\">\n",
       "      <th></th>\n",
       "      <th>x</th>\n",
       "      <th>y</th>\n",
       "      <th>word</th>\n",
       "      <th>distance_from_referenced_word</th>\n",
       "      <th>group</th>\n",
       "    </tr>\n",
       "  </thead>\n",
       "  <tbody>\n",
       "    <tr>\n",
       "      <th>0</th>\n",
       "      <td>-26.041590</td>\n",
       "      <td>14.164261</td>\n",
       "      <td>brexit</td>\n",
       "      <td>1.000000</td>\n",
       "      <td>brexit</td>\n",
       "    </tr>\n",
       "    <tr>\n",
       "      <th>1</th>\n",
       "      <td>-133.694275</td>\n",
       "      <td>8.920392</td>\n",
       "      <td>naviguent</td>\n",
       "      <td>0.703043</td>\n",
       "      <td>Top 5</td>\n",
       "    </tr>\n",
       "    <tr>\n",
       "      <th>2</th>\n",
       "      <td>-35.561195</td>\n",
       "      <td>-14.141035</td>\n",
       "      <td>avoid</td>\n",
       "      <td>0.694317</td>\n",
       "      <td>Top 5</td>\n",
       "    </tr>\n",
       "    <tr>\n",
       "      <th>3</th>\n",
       "      <td>53.106621</td>\n",
       "      <td>60.828293</td>\n",
       "      <td>shift</td>\n",
       "      <td>0.671269</td>\n",
       "      <td>Top 5</td>\n",
       "    </tr>\n",
       "    <tr>\n",
       "      <th>4</th>\n",
       "      <td>24.417057</td>\n",
       "      <td>-11.738787</td>\n",
       "      <td>crash</td>\n",
       "      <td>0.661098</td>\n",
       "      <td>Top 5</td>\n",
       "    </tr>\n",
       "    <tr>\n",
       "      <th>5</th>\n",
       "      <td>75.963646</td>\n",
       "      <td>32.615593</td>\n",
       "      <td>offer</td>\n",
       "      <td>0.658928</td>\n",
       "      <td>Top 5</td>\n",
       "    </tr>\n",
       "  </tbody>\n",
       "</table>\n",
       "</div>"
      ],
      "text/plain": [
       "            x          y       word  distance_from_referenced_word   group\n",
       "0  -26.041590  14.164261     brexit                       1.000000  brexit\n",
       "1 -133.694275   8.920392  naviguent                       0.703043   Top 5\n",
       "2  -35.561195 -14.141035      avoid                       0.694317   Top 5\n",
       "3   53.106621  60.828293      shift                       0.671269   Top 5\n",
       "4   24.417057 -11.738787      crash                       0.661098   Top 5\n",
       "5   75.963646  32.615593      offer                       0.658928   Top 5"
      ]
     },
     "metadata": {},
     "output_type": "display_data"
    },
    {
     "data": {
      "image/png": "[encoded data removed]",
      "text/plain": [
       "<Figure size 720x720 with 1 Axes>"
      ]
     },
     "metadata": {
      "needs_background": "light"
     },
     "output_type": "display_data"
    }
   ],
   "source": [
    "\n",
    "df_tsne_results_2018, plot_2018 = visualize_word2vec_K_most_similar_to_ref_word(model = model_2018,\n",
    "                                                                                referenced_word = \"brexit\",\n",
    "                                                                                number_of_similar_words = 30,\n",
    "                                                                               top_k_to_show = 6,\n",
    "                                                                                random_state_for_Tsne = 555,\n",
    "                                                                               remove_legend = True,\n",
    "                                                                               year = \"2018\")\n"
   ]
  },
  {
   "cell_type": "code",
   "execution_count": null,
   "id": "d4719efa",
   "metadata": {},
   "outputs": [],
   "source": []
  },
  {
   "cell_type": "code",
   "execution_count": 34,
   "id": "5f1035ab",
   "metadata": {
    "ExecuteTime": {
     "end_time": "2022-06-22T07:59:13.997198Z",
     "start_time": "2022-06-22T07:59:13.492938Z"
    }
   },
   "outputs": [
    {
     "data": {
      "text/html": [
       "<div>\n",
       "<style scoped>\n",
       "    .dataframe tbody tr th:only-of-type {\n",
       "        vertical-align: middle;\n",
       "    }\n",
       "\n",
       "    .dataframe tbody tr th {\n",
       "        vertical-align: top;\n",
       "    }\n",
       "\n",
       "    .dataframe thead th {\n",
       "        text-align: right;\n",
       "    }\n",
       "</style>\n",
       "<table border=\"1\" class=\"dataframe\">\n",
       "  <thead>\n",
       "    <tr style=\"text-align: right;\">\n",
       "      <th></th>\n",
       "      <th>x</th>\n",
       "      <th>y</th>\n",
       "      <th>word</th>\n",
       "      <th>distance_from_referenced_word</th>\n",
       "      <th>group</th>\n",
       "    </tr>\n",
       "  </thead>\n",
       "  <tbody>\n",
       "    <tr>\n",
       "      <th>0</th>\n",
       "      <td>-26.041590</td>\n",
       "      <td>14.164261</td>\n",
       "      <td>brexit</td>\n",
       "      <td>1.000000</td>\n",
       "      <td>brexit</td>\n",
       "    </tr>\n",
       "    <tr>\n",
       "      <th>1</th>\n",
       "      <td>-133.694275</td>\n",
       "      <td>8.920392</td>\n",
       "      <td>push</td>\n",
       "      <td>0.655644</td>\n",
       "      <td>Top 5</td>\n",
       "    </tr>\n",
       "    <tr>\n",
       "      <th>2</th>\n",
       "      <td>-35.561195</td>\n",
       "      <td>-14.141035</td>\n",
       "      <td>end</td>\n",
       "      <td>0.655194</td>\n",
       "      <td>Top 5</td>\n",
       "    </tr>\n",
       "    <tr>\n",
       "      <th>3</th>\n",
       "      <td>53.106621</td>\n",
       "      <td>60.828293</td>\n",
       "      <td>choisissant</td>\n",
       "      <td>0.653683</td>\n",
       "      <td>Top 5</td>\n",
       "    </tr>\n",
       "    <tr>\n",
       "      <th>4</th>\n",
       "      <td>24.417057</td>\n",
       "      <td>-11.738787</td>\n",
       "      <td>course</td>\n",
       "      <td>0.647014</td>\n",
       "      <td>Top 5</td>\n",
       "    </tr>\n",
       "    <tr>\n",
       "      <th>5</th>\n",
       "      <td>75.963646</td>\n",
       "      <td>32.615593</td>\n",
       "      <td>crash</td>\n",
       "      <td>0.646489</td>\n",
       "      <td>Top 5</td>\n",
       "    </tr>\n",
       "  </tbody>\n",
       "</table>\n",
       "</div>"
      ],
      "text/plain": [
       "            x          y         word  distance_from_referenced_word   group\n",
       "0  -26.041590  14.164261       brexit                       1.000000  brexit\n",
       "1 -133.694275   8.920392         push                       0.655644   Top 5\n",
       "2  -35.561195 -14.141035          end                       0.655194   Top 5\n",
       "3   53.106621  60.828293  choisissant                       0.653683   Top 5\n",
       "4   24.417057 -11.738787       course                       0.647014   Top 5\n",
       "5   75.963646  32.615593        crash                       0.646489   Top 5"
      ]
     },
     "metadata": {},
     "output_type": "display_data"
    },
    {
     "data": {
      "image/png": "[encoded data removed]",
      "text/plain": [
       "<Figure size 720x720 with 1 Axes>"
      ]
     },
     "metadata": {
      "needs_background": "light"
     },
     "output_type": "display_data"
    }
   ],
   "source": [
    "\n",
    "df_tsne_results_2019, plot_2019 = visualize_word2vec_K_most_similar_to_ref_word(model = model_2019,\n",
    "                                                                                referenced_word = \"brexit\",\n",
    "                                                                                number_of_similar_words = 30,\n",
    "                                                                               top_k_to_show = 6,\n",
    "                                                                                random_state_for_Tsne = 555,\n",
    "                                                                               remove_legend = True,\n",
    "                                                                               year = \"2019\")\n"
   ]
  },
  {
   "cell_type": "code",
   "execution_count": 35,
   "id": "355fc7d7",
   "metadata": {
    "ExecuteTime": {
     "end_time": "2022-06-22T07:59:27.872681Z",
     "start_time": "2022-06-22T07:59:27.514064Z"
    }
   },
   "outputs": [
    {
     "data": {
      "text/html": [
       "<div>\n",
       "<style scoped>\n",
       "    .dataframe tbody tr th:only-of-type {\n",
       "        vertical-align: middle;\n",
       "    }\n",
       "\n",
       "    .dataframe tbody tr th {\n",
       "        vertical-align: top;\n",
       "    }\n",
       "\n",
       "    .dataframe thead th {\n",
       "        text-align: right;\n",
       "    }\n",
       "</style>\n",
       "<table border=\"1\" class=\"dataframe\">\n",
       "  <thead>\n",
       "    <tr style=\"text-align: right;\">\n",
       "      <th></th>\n",
       "      <th>x</th>\n",
       "      <th>y</th>\n",
       "      <th>word</th>\n",
       "      <th>distance_from_referenced_word</th>\n",
       "      <th>group</th>\n",
       "    </tr>\n",
       "  </thead>\n",
       "  <tbody>\n",
       "    <tr>\n",
       "      <th>0</th>\n",
       "      <td>-26.041590</td>\n",
       "      <td>14.164261</td>\n",
       "      <td>brexit</td>\n",
       "      <td>1.000000</td>\n",
       "      <td>brexit</td>\n",
       "    </tr>\n",
       "    <tr>\n",
       "      <th>1</th>\n",
       "      <td>-133.694275</td>\n",
       "      <td>8.920392</td>\n",
       "      <td>disastrously</td>\n",
       "      <td>0.586978</td>\n",
       "      <td>Top 5</td>\n",
       "    </tr>\n",
       "    <tr>\n",
       "      <th>2</th>\n",
       "      <td>-35.561195</td>\n",
       "      <td>-14.141035</td>\n",
       "      <td>whether</td>\n",
       "      <td>0.562607</td>\n",
       "      <td>Top 5</td>\n",
       "    </tr>\n",
       "    <tr>\n",
       "      <th>3</th>\n",
       "      <td>53.106621</td>\n",
       "      <td>60.828293</td>\n",
       "      <td>fought</td>\n",
       "      <td>0.546619</td>\n",
       "      <td>Top 5</td>\n",
       "    </tr>\n",
       "    <tr>\n",
       "      <th>4</th>\n",
       "      <td>24.417057</td>\n",
       "      <td>-11.738787</td>\n",
       "      <td>nightmares</td>\n",
       "      <td>0.539078</td>\n",
       "      <td>Top 5</td>\n",
       "    </tr>\n",
       "    <tr>\n",
       "      <th>5</th>\n",
       "      <td>75.963646</td>\n",
       "      <td>32.615593</td>\n",
       "      <td>maximise</td>\n",
       "      <td>0.536981</td>\n",
       "      <td>Top 5</td>\n",
       "    </tr>\n",
       "  </tbody>\n",
       "</table>\n",
       "</div>"
      ],
      "text/plain": [
       "            x          y          word  distance_from_referenced_word   group\n",
       "0  -26.041590  14.164261        brexit                       1.000000  brexit\n",
       "1 -133.694275   8.920392  disastrously                       0.586978   Top 5\n",
       "2  -35.561195 -14.141035       whether                       0.562607   Top 5\n",
       "3   53.106621  60.828293        fought                       0.546619   Top 5\n",
       "4   24.417057 -11.738787    nightmares                       0.539078   Top 5\n",
       "5   75.963646  32.615593      maximise                       0.536981   Top 5"
      ]
     },
     "metadata": {},
     "output_type": "display_data"
    },
    {
     "data": {
      "image/png": "[encoded data removed]",
      "text/plain": [
       "<Figure size 720x720 with 1 Axes>"
      ]
     },
     "metadata": {
      "needs_background": "light"
     },
     "output_type": "display_data"
    }
   ],
   "source": [
    "\n",
    "df_tsne_results_2020, plot_2020 = visualize_word2vec_K_most_similar_to_ref_word(model = model_2020,\n",
    "                                                                                referenced_word = \"brexit\",\n",
    "                                                                                number_of_similar_words = 30,\n",
    "                                                                               top_k_to_show = 6,\n",
    "                                                                                random_state_for_Tsne = 555,\n",
    "                                                                               remove_legend = True,\n",
    "                                                                               year = \"2020\")\n"
   ]
  },
  {
   "cell_type": "code",
   "execution_count": 49,
   "id": "6deda4dc",
   "metadata": {
    "ExecuteTime": {
     "end_time": "2022-06-22T09:22:48.629473Z",
     "start_time": "2022-06-22T09:22:47.766790Z"
    }
   },
   "outputs": [
    {
     "name": "stderr",
     "output_type": "stream",
     "text": [
      "C:\\Users\\roymad\\Anaconda3\\lib\\site-packages\\sklearn\\manifold\\_t_sne.py:780: FutureWarning: The default initialization in TSNE will change from 'random' to 'pca' in 1.2.\n",
      "  warnings.warn(\n",
      "C:\\Users\\roymad\\Anaconda3\\lib\\site-packages\\sklearn\\manifold\\_t_sne.py:790: FutureWarning: The default learning rate in TSNE will change from 200.0 to 'auto' in 1.2.\n",
      "  warnings.warn(\n"
     ]
    },
    {
     "data": {
      "text/html": [
       "<div>\n",
       "<style scoped>\n",
       "    .dataframe tbody tr th:only-of-type {\n",
       "        vertical-align: middle;\n",
       "    }\n",
       "\n",
       "    .dataframe tbody tr th {\n",
       "        vertical-align: top;\n",
       "    }\n",
       "\n",
       "    .dataframe thead th {\n",
       "        text-align: right;\n",
       "    }\n",
       "</style>\n",
       "<table border=\"1\" class=\"dataframe\">\n",
       "  <thead>\n",
       "    <tr style=\"text-align: right;\">\n",
       "      <th></th>\n",
       "      <th>x</th>\n",
       "      <th>y</th>\n",
       "      <th>word</th>\n",
       "      <th>distance_from_referenced_word</th>\n",
       "      <th>group</th>\n",
       "    </tr>\n",
       "  </thead>\n",
       "  <tbody>\n",
       "    <tr>\n",
       "      <th>0</th>\n",
       "      <td>-26.041590</td>\n",
       "      <td>14.164261</td>\n",
       "      <td>brexit</td>\n",
       "      <td>1.000000</td>\n",
       "      <td>brexit</td>\n",
       "    </tr>\n",
       "    <tr>\n",
       "      <th>1</th>\n",
       "      <td>-133.694275</td>\n",
       "      <td>8.920392</td>\n",
       "      <td>realistically</td>\n",
       "      <td>0.631960</td>\n",
       "      <td>Top 5</td>\n",
       "    </tr>\n",
       "    <tr>\n",
       "      <th>2</th>\n",
       "      <td>-35.561195</td>\n",
       "      <td>-14.141035</td>\n",
       "      <td>dag</td>\n",
       "      <td>0.572711</td>\n",
       "      <td>Top 5</td>\n",
       "    </tr>\n",
       "    <tr>\n",
       "      <th>3</th>\n",
       "      <td>53.106621</td>\n",
       "      <td>60.828293</td>\n",
       "      <td>hco</td>\n",
       "      <td>0.562418</td>\n",
       "      <td>Top 5</td>\n",
       "    </tr>\n",
       "    <tr>\n",
       "      <th>4</th>\n",
       "      <td>24.417057</td>\n",
       "      <td>-11.738787</td>\n",
       "      <td>cphilpofficial</td>\n",
       "      <td>0.561537</td>\n",
       "      <td>Top 5</td>\n",
       "    </tr>\n",
       "    <tr>\n",
       "      <th>5</th>\n",
       "      <td>75.963646</td>\n",
       "      <td>32.615593</td>\n",
       "      <td>amaze</td>\n",
       "      <td>0.558425</td>\n",
       "      <td>Top 5</td>\n",
       "    </tr>\n",
       "  </tbody>\n",
       "</table>\n",
       "</div>"
      ],
      "text/plain": [
       "            x          y            word  distance_from_referenced_word  \\\n",
       "0  -26.041590  14.164261          brexit                       1.000000   \n",
       "1 -133.694275   8.920392   realistically                       0.631960   \n",
       "2  -35.561195 -14.141035             dag                       0.572711   \n",
       "3   53.106621  60.828293             hco                       0.562418   \n",
       "4   24.417057 -11.738787  cphilpofficial                       0.561537   \n",
       "5   75.963646  32.615593           amaze                       0.558425   \n",
       "\n",
       "    group  \n",
       "0  brexit  \n",
       "1   Top 5  \n",
       "2   Top 5  \n",
       "3   Top 5  \n",
       "4   Top 5  \n",
       "5   Top 5  "
      ]
     },
     "metadata": {},
     "output_type": "display_data"
    },
    {
     "data": {
      "image/png": "[encoded data removed]",
      "text/plain": [
       "<Figure size 720x720 with 1 Axes>"
      ]
     },
     "metadata": {
      "needs_background": "light"
     },
     "output_type": "display_data"
    }
   ],
   "source": [
    "\n",
    "df_tsne_results_2021, plot_2021 = visualize_word2vec_K_most_similar_to_ref_word(model = model_2021,\n",
    "                                                                                referenced_word = \"brexit\",\n",
    "                                                                                number_of_similar_words = 30,\n",
    "                                                                               top_k_to_show = 6,\n",
    "                                                                                random_state_for_Tsne = 555,\n",
    "                                                                               remove_legend = True,\n",
    "                                                                                year = \"2021\")\n"
   ]
  },
  {
   "cell_type": "code",
   "execution_count": 52,
   "id": "bdf597f3",
   "metadata": {
    "ExecuteTime": {
     "end_time": "2022-06-22T09:48:56.343536Z",
     "start_time": "2022-06-22T09:48:55.499305Z"
    }
   },
   "outputs": [
    {
     "name": "stderr",
     "output_type": "stream",
     "text": [
      "C:\\Users\\roymad\\Anaconda3\\lib\\site-packages\\sklearn\\manifold\\_t_sne.py:780: FutureWarning: The default initialization in TSNE will change from 'random' to 'pca' in 1.2.\n",
      "  warnings.warn(\n",
      "C:\\Users\\roymad\\Anaconda3\\lib\\site-packages\\sklearn\\manifold\\_t_sne.py:790: FutureWarning: The default learning rate in TSNE will change from 200.0 to 'auto' in 1.2.\n",
      "  warnings.warn(\n"
     ]
    },
    {
     "data": {
      "text/html": [
       "<div>\n",
       "<style scoped>\n",
       "    .dataframe tbody tr th:only-of-type {\n",
       "        vertical-align: middle;\n",
       "    }\n",
       "\n",
       "    .dataframe tbody tr th {\n",
       "        vertical-align: top;\n",
       "    }\n",
       "\n",
       "    .dataframe thead th {\n",
       "        text-align: right;\n",
       "    }\n",
       "</style>\n",
       "<table border=\"1\" class=\"dataframe\">\n",
       "  <thead>\n",
       "    <tr style=\"text-align: right;\">\n",
       "      <th></th>\n",
       "      <th>x</th>\n",
       "      <th>y</th>\n",
       "      <th>word</th>\n",
       "      <th>distance_from_referenced_word</th>\n",
       "      <th>group</th>\n",
       "    </tr>\n",
       "  </thead>\n",
       "  <tbody>\n",
       "    <tr>\n",
       "      <th>0</th>\n",
       "      <td>-26.041590</td>\n",
       "      <td>14.164261</td>\n",
       "      <td>brexit</td>\n",
       "      <td>1.000000</td>\n",
       "      <td>brexit</td>\n",
       "    </tr>\n",
       "    <tr>\n",
       "      <th>1</th>\n",
       "      <td>-133.694275</td>\n",
       "      <td>8.920392</td>\n",
       "      <td>uk</td>\n",
       "      <td>0.570230</td>\n",
       "      <td>Top 5</td>\n",
       "    </tr>\n",
       "    <tr>\n",
       "      <th>2</th>\n",
       "      <td>-35.561195</td>\n",
       "      <td>-14.141035</td>\n",
       "      <td>eu</td>\n",
       "      <td>0.541829</td>\n",
       "      <td>Top 5</td>\n",
       "    </tr>\n",
       "    <tr>\n",
       "      <th>3</th>\n",
       "      <td>53.106621</td>\n",
       "      <td>60.828293</td>\n",
       "      <td>clearly</td>\n",
       "      <td>0.518465</td>\n",
       "      <td>Top 5</td>\n",
       "    </tr>\n",
       "    <tr>\n",
       "      <th>4</th>\n",
       "      <td>24.417057</td>\n",
       "      <td>-11.738787</td>\n",
       "      <td>appears</td>\n",
       "      <td>0.509562</td>\n",
       "      <td>Top 5</td>\n",
       "    </tr>\n",
       "    <tr>\n",
       "      <th>5</th>\n",
       "      <td>75.963646</td>\n",
       "      <td>32.615593</td>\n",
       "      <td>also</td>\n",
       "      <td>0.505225</td>\n",
       "      <td>Top 5</td>\n",
       "    </tr>\n",
       "  </tbody>\n",
       "</table>\n",
       "</div>"
      ],
      "text/plain": [
       "            x          y     word  distance_from_referenced_word   group\n",
       "0  -26.041590  14.164261   brexit                       1.000000  brexit\n",
       "1 -133.694275   8.920392       uk                       0.570230   Top 5\n",
       "2  -35.561195 -14.141035       eu                       0.541829   Top 5\n",
       "3   53.106621  60.828293  clearly                       0.518465   Top 5\n",
       "4   24.417057 -11.738787  appears                       0.509562   Top 5\n",
       "5   75.963646  32.615593     also                       0.505225   Top 5"
      ]
     },
     "metadata": {},
     "output_type": "display_data"
    },
    {
     "data": {
      "image/png": "[encoded data removed]",
      "text/plain": [
       "<Figure size 720x720 with 1 Axes>"
      ]
     },
     "metadata": {
      "needs_background": "light"
     },
     "output_type": "display_data"
    }
   ],
   "source": [
    "\n",
    "df_tsne_results_all, plot_all = visualize_word2vec_K_most_similar_to_ref_word(model = model_all_years,\n",
    "                                                                                referenced_word = \"brexit\",\n",
    "                                                                                number_of_similar_words = 30,\n",
    "                                                                               top_k_to_show = 6,\n",
    "                                                                              random_state_for_Tsne = 555,\n",
    "                                                                             remove_legend = True,\n",
    "                                                                             year = \"All years\")\n",
    "\n",
    "import warnings\n",
    "warnings.filterwarnings('default')\n"
   ]
  },
  {
   "cell_type": "code",
   "execution_count": 11,
   "id": "49600438",
   "metadata": {
    "ExecuteTime": {
     "end_time": "2022-06-23T16:45:23.241352Z",
     "start_time": "2022-06-23T16:45:08.141707Z"
    },
    "scrolled": false
   },
   "outputs": [
    {
     "name": "stderr",
     "output_type": "stream",
     "text": [
      "C:\\Users\\roymad\\AppData\\Local\\Temp\\ipykernel_19464\\86765121.py:3: SettingWithCopyWarning: \n",
      "A value is trying to be set on a copy of a slice from a DataFrame.\n",
      "Try using .loc[row_indexer,col_indexer] = value instead\n",
      "\n",
      "See the caveats in the documentation: https://pandas.pydata.org/pandas-docs/stable/user_guide/indexing.html#returning-a-view-versus-a-copy\n",
      "  data_for_model[\"tokens_roy\"] = tokens_roy\n",
      "C:\\Users\\roymad\\AppData\\Local\\Temp\\ipykernel_19464\\86765121.py:6: SettingWithCopyWarning: \n",
      "A value is trying to be set on a copy of a slice from a DataFrame.\n",
      "Try using .loc[row_indexer,col_indexer] = value instead\n",
      "\n",
      "See the caveats in the documentation: https://pandas.pydata.org/pandas-docs/stable/user_guide/indexing.html#returning-a-view-versus-a-copy\n",
      "  data_for_model['created_at_date'] = data_for_model['created_at'].apply(lambda x: x[0:10])\n"
     ]
    },
    {
     "name": "stdout",
     "output_type": "stream",
     "text": [
      "Number of rows in the data for model:  1285805\n"
     ]
    },
    {
     "name": "stderr",
     "output_type": "stream",
     "text": [
      "C:\\Users\\roymad\\AppData\\Local\\Temp\\ipykernel_19464\\86765121.py:7: SettingWithCopyWarning: \n",
      "A value is trying to be set on a copy of a slice from a DataFrame.\n",
      "Try using .loc[row_indexer,col_indexer] = value instead\n",
      "\n",
      "See the caveats in the documentation: https://pandas.pydata.org/pandas-docs/stable/user_guide/indexing.html#returning-a-view-versus-a-copy\n",
      "  data_for_model['created_at_date'] = data_for_model['created_at_date'].apply(lambda x: datetime.datetime.strptime(x, \"%Y-%m-%d\"))\n",
      "C:\\Users\\roymad\\AppData\\Local\\Temp\\ipykernel_19464\\86765121.py:12: SettingWithCopyWarning: \n",
      "A value is trying to be set on a copy of a slice from a DataFrame.\n",
      "Try using .loc[row_indexer,col_indexer] = value instead\n",
      "\n",
      "See the caveats in the documentation: https://pandas.pydata.org/pandas-docs/stable/user_guide/indexing.html#returning-a-view-versus-a-copy\n",
      "  data_for_model[\"index\"] = data_for_model.index\n",
      "C:\\Users\\roymad\\AppData\\Local\\Temp\\ipykernel_19464\\86765121.py:13: SettingWithCopyWarning: \n",
      "A value is trying to be set on a copy of a slice from a DataFrame.\n",
      "Try using .loc[row_indexer,col_indexer] = value instead\n",
      "\n",
      "See the caveats in the documentation: https://pandas.pydata.org/pandas-docs/stable/user_guide/indexing.html#returning-a-view-versus-a-copy\n",
      "  data_for_model['year'] = pd.DatetimeIndex(data_for_model['created_at_date']).year\n"
     ]
    },
    {
     "data": {
      "text/html": [
       "<div>\n",
       "<style scoped>\n",
       "    .dataframe tbody tr th:only-of-type {\n",
       "        vertical-align: middle;\n",
       "    }\n",
       "\n",
       "    .dataframe tbody tr th {\n",
       "        vertical-align: top;\n",
       "    }\n",
       "\n",
       "    .dataframe thead th {\n",
       "        text-align: right;\n",
       "    }\n",
       "</style>\n",
       "<table border=\"1\" class=\"dataframe\">\n",
       "  <thead>\n",
       "    <tr style=\"text-align: right;\">\n",
       "      <th></th>\n",
       "      <th>index</th>\n",
       "      <th>text</th>\n",
       "      <th>clean_text</th>\n",
       "      <th>text_tokens</th>\n",
       "      <th>conversation_id</th>\n",
       "      <th>author_id</th>\n",
       "      <th>created_at</th>\n",
       "      <th>public_metrics.like_count</th>\n",
       "      <th>public_metrics.reply_count</th>\n",
       "      <th>Year_tweet</th>\n",
       "      <th>tokens_roy</th>\n",
       "      <th>created_at_date</th>\n",
       "      <th>year</th>\n",
       "    </tr>\n",
       "  </thead>\n",
       "  <tbody>\n",
       "    <tr>\n",
       "      <th>0</th>\n",
       "      <td>0</td>\n",
       "      <td>rt downingstreet more than countries places in...</td>\n",
       "      <td>rt downingstreet more than countries places in...</td>\n",
       "      <td>['downingstreet', 'countries', 'places', 'uk',...</td>\n",
       "      <td>1079747729419657217</td>\n",
       "      <td>76650839</td>\n",
       "      <td>2018-12-31T14:34:54.000Z</td>\n",
       "      <td>0</td>\n",
       "      <td>0</td>\n",
       "      <td>2018</td>\n",
       "      <td>[downingstreet, countries, places, uk, meeting...</td>\n",
       "      <td>2018-12-31</td>\n",
       "      <td>2018</td>\n",
       "    </tr>\n",
       "    <tr>\n",
       "      <th>1</th>\n",
       "      <td>1</td>\n",
       "      <td>rt gavinwilliamson want to thank all those ser...</td>\n",
       "      <td>rt gavinwilliamson want to thank all those ser...</td>\n",
       "      <td>['gavinwilliamson', 'want_thank', 'serving', '...</td>\n",
       "      <td>1079747690110570496</td>\n",
       "      <td>76650839</td>\n",
       "      <td>2018-12-31T14:34:44.000Z</td>\n",
       "      <td>0</td>\n",
       "      <td>0</td>\n",
       "      <td>2018</td>\n",
       "      <td>[gavinwilliamson, want, thank, serving, britis...</td>\n",
       "      <td>2018-12-31</td>\n",
       "      <td>2018</td>\n",
       "    </tr>\n",
       "    <tr>\n",
       "      <th>2</th>\n",
       "      <td>2</td>\n",
       "      <td>rt ukgovwales welsh secretary aluncairns exten...</td>\n",
       "      <td>rt ukgovwales welsh secretary aluncairns exten...</td>\n",
       "      <td>['ukgovwales_welsh_secretary_aluncairns', 'ext...</td>\n",
       "      <td>1078943309744070657</td>\n",
       "      <td>76650839</td>\n",
       "      <td>2018-12-29T09:18:25.000Z</td>\n",
       "      <td>0</td>\n",
       "      <td>0</td>\n",
       "      <td>2018</td>\n",
       "      <td>[ukgovwales, welsh, secretary, aluncairns, ext...</td>\n",
       "      <td>2018-12-29</td>\n",
       "      <td>2018</td>\n",
       "    </tr>\n",
       "    <tr>\n",
       "      <th>3</th>\n",
       "      <td>3</td>\n",
       "      <td>tickettattle tfwrail sure thing</td>\n",
       "      <td>tickettattle tfwrail sure thing</td>\n",
       "      <td>['tickettattle', 'tfwrail', 'sure', 'thing']</td>\n",
       "      <td>1078738567193640960</td>\n",
       "      <td>76650839</td>\n",
       "      <td>2018-12-28T19:58:04.000Z</td>\n",
       "      <td>1</td>\n",
       "      <td>3</td>\n",
       "      <td>2018</td>\n",
       "      <td>[tickettattle, tfwrail, sure, thing]</td>\n",
       "      <td>2018-12-28</td>\n",
       "      <td>2018</td>\n",
       "    </tr>\n",
       "    <tr>\n",
       "      <th>4</th>\n",
       "      <td>4</td>\n",
       "      <td>wpl_official barrytownunited the_nomads balato...</td>\n",
       "      <td>wpl_official barrytownunited the_nomads balato...</td>\n",
       "      <td>['wpl_official', 'barrytownunited', 'the_nomad...</td>\n",
       "      <td>1077967555879452672</td>\n",
       "      <td>76650839</td>\n",
       "      <td>2018-12-26T21:24:01.000Z</td>\n",
       "      <td>3</td>\n",
       "      <td>1</td>\n",
       "      <td>2018</td>\n",
       "      <td>[wpl_official, barrytownunited, the_nomads, ba...</td>\n",
       "      <td>2018-12-26</td>\n",
       "      <td>2018</td>\n",
       "    </tr>\n",
       "  </tbody>\n",
       "</table>\n",
       "</div>"
      ],
      "text/plain": [
       "   index                                               text  \\\n",
       "0      0  rt downingstreet more than countries places in...   \n",
       "1      1  rt gavinwilliamson want to thank all those ser...   \n",
       "2      2  rt ukgovwales welsh secretary aluncairns exten...   \n",
       "3      3                    tickettattle tfwrail sure thing   \n",
       "4      4  wpl_official barrytownunited the_nomads balato...   \n",
       "\n",
       "                                          clean_text  \\\n",
       "0  rt downingstreet more than countries places in...   \n",
       "1  rt gavinwilliamson want to thank all those ser...   \n",
       "2  rt ukgovwales welsh secretary aluncairns exten...   \n",
       "3                    tickettattle tfwrail sure thing   \n",
       "4  wpl_official barrytownunited the_nomads balato...   \n",
       "\n",
       "                                         text_tokens      conversation_id  \\\n",
       "0  ['downingstreet', 'countries', 'places', 'uk',...  1079747729419657217   \n",
       "1  ['gavinwilliamson', 'want_thank', 'serving', '...  1079747690110570496   \n",
       "2  ['ukgovwales_welsh_secretary_aluncairns', 'ext...  1078943309744070657   \n",
       "3       ['tickettattle', 'tfwrail', 'sure', 'thing']  1078738567193640960   \n",
       "4  ['wpl_official', 'barrytownunited', 'the_nomad...  1077967555879452672   \n",
       "\n",
       "  author_id                created_at  public_metrics.like_count  \\\n",
       "0  76650839  2018-12-31T14:34:54.000Z                          0   \n",
       "1  76650839  2018-12-31T14:34:44.000Z                          0   \n",
       "2  76650839  2018-12-29T09:18:25.000Z                          0   \n",
       "3  76650839  2018-12-28T19:58:04.000Z                          1   \n",
       "4  76650839  2018-12-26T21:24:01.000Z                          3   \n",
       "\n",
       "   public_metrics.reply_count  Year_tweet  \\\n",
       "0                           0        2018   \n",
       "1                           0        2018   \n",
       "2                           0        2018   \n",
       "3                           3        2018   \n",
       "4                           1        2018   \n",
       "\n",
       "                                          tokens_roy created_at_date  year  \n",
       "0  [downingstreet, countries, places, uk, meeting...      2018-12-31  2018  \n",
       "1  [gavinwilliamson, want, thank, serving, britis...      2018-12-31  2018  \n",
       "2  [ukgovwales, welsh, secretary, aluncairns, ext...      2018-12-29  2018  \n",
       "3               [tickettattle, tfwrail, sure, thing]      2018-12-28  2018  \n",
       "4  [wpl_official, barrytownunited, the_nomads, ba...      2018-12-26  2018  "
      ]
     },
     "execution_count": 11,
     "metadata": {},
     "output_type": "execute_result"
    }
   ],
   "source": [
    "data_for_model = tweets_table_all_with_sentimet[[\"text\", \"clean_text\", \"text_tokens\", \"conversation_id\", \"author_id\", \"created_at\",\n",
    "                                'public_metrics.like_count',  'public_metrics.reply_count', \"Year_tweet\"]]\n",
    "data_for_model[\"tokens_roy\"] = tokens_roy\n",
    "#data_for_model[\"language\"] = language_classifications\n",
    "### adding the tweet date column\n",
    "data_for_model['created_at_date'] = data_for_model['created_at'].apply(lambda x: x[0:10])\n",
    "data_for_model['created_at_date'] = data_for_model['created_at_date'].apply(lambda x: datetime.datetime.strptime(x, \"%Y-%m-%d\"))\n",
    "\n",
    "#data_for_model = data_for_model[data_for_model[\"language\"] == \"en\"]\n",
    "\n",
    "data_for_model.reset_index(inplace=True)\n",
    "data_for_model[\"index\"] = data_for_model.index\n",
    "data_for_model['year'] = pd.DatetimeIndex(data_for_model['created_at_date']).year\n",
    "\n",
    "print(\"Number of rows in the data for model: \", data_for_model.shape[0])\n",
    "data_for_model.head()"
   ]
  },
  {
   "cell_type": "markdown",
   "id": "ad751b6e",
   "metadata": {},
   "source": [
    "# train doc3vec"
   ]
  },
  {
   "cell_type": "markdown",
   "id": "725f74f3",
   "metadata": {},
   "source": [
    "### generating the tags - right now the tags are the conversation ids and the author id - we belive that knowing who is the person who made the tweet + knowing the conversation id can help with defining the vectors"
   ]
  },
  {
   "cell_type": "code",
   "execution_count": 12,
   "id": "a6071f93",
   "metadata": {
    "ExecuteTime": {
     "end_time": "2022-06-23T16:45:28.585785Z",
     "start_time": "2022-06-23T16:45:27.954562Z"
    }
   },
   "outputs": [],
   "source": [
    "data_for_model = tweets_table_all_with_sentimet\n",
    "data_for_model[\"tokens_roy\"] = tokens_roy\n"
   ]
  },
  {
   "cell_type": "code",
   "execution_count": 26,
   "id": "db5c250c",
   "metadata": {
    "ExecuteTime": {
     "end_time": "2022-06-24T05:05:26.661161Z",
     "start_time": "2022-06-24T05:05:26.626636Z"
    }
   },
   "outputs": [
    {
     "data": {
      "text/html": [
       "<div>\n",
       "<style scoped>\n",
       "    .dataframe tbody tr th:only-of-type {\n",
       "        vertical-align: middle;\n",
       "    }\n",
       "\n",
       "    .dataframe tbody tr th {\n",
       "        vertical-align: top;\n",
       "    }\n",
       "\n",
       "    .dataframe thead th {\n",
       "        text-align: right;\n",
       "    }\n",
       "</style>\n",
       "<table border=\"1\" class=\"dataframe\">\n",
       "  <thead>\n",
       "    <tr style=\"text-align: right;\">\n",
       "      <th></th>\n",
       "      <th>author_id</th>\n",
       "      <th>author_id_new</th>\n",
       "      <th>conv_id_new</th>\n",
       "      <th>conversation_id</th>\n",
       "      <th>created_at</th>\n",
       "      <th>entities.mentions</th>\n",
       "      <th>id</th>\n",
       "      <th>id_new</th>\n",
       "      <th>public_metrics.like_count</th>\n",
       "      <th>public_metrics.quote_count</th>\n",
       "      <th>...</th>\n",
       "      <th>users.public_metrics.listed_count</th>\n",
       "      <th>users.public_metrics.tweet_count</th>\n",
       "      <th>users.username</th>\n",
       "      <th>users.verified</th>\n",
       "      <th>text_tokens</th>\n",
       "      <th>created_at_date</th>\n",
       "      <th>Year_tweet</th>\n",
       "      <th>Predicted_sentiment</th>\n",
       "      <th>clean_text</th>\n",
       "      <th>tokens_roy</th>\n",
       "    </tr>\n",
       "  </thead>\n",
       "  <tbody>\n",
       "    <tr>\n",
       "      <th>0</th>\n",
       "      <td>76650839</td>\n",
       "      <td>author_id: 76650839</td>\n",
       "      <td>conv_id: 1079747729419657217</td>\n",
       "      <td>1079747729419657217</td>\n",
       "      <td>2018-12-31T14:34:54.000Z</td>\n",
       "      <td>[{'start': 3, 'end': 19, 'username': '10Downin...</td>\n",
       "      <td>1079747729419657217</td>\n",
       "      <td>id: 1079747729419657217</td>\n",
       "      <td>0</td>\n",
       "      <td>0</td>\n",
       "      <td>...</td>\n",
       "      <td>654</td>\n",
       "      <td>10740</td>\n",
       "      <td>AlunCairns</td>\n",
       "      <td>True</td>\n",
       "      <td>['downingstreet', 'countries', 'places', 'uk',...</td>\n",
       "      <td>2018-12-31</td>\n",
       "      <td>2018</td>\n",
       "      <td>Neutral</td>\n",
       "      <td>rt downingstreet more than countries places in...</td>\n",
       "      <td>[downingstreet, countries, places, uk, meeting...</td>\n",
       "    </tr>\n",
       "    <tr>\n",
       "      <th>1</th>\n",
       "      <td>76650839</td>\n",
       "      <td>author_id: 76650839</td>\n",
       "      <td>conv_id: 1079747690110570496</td>\n",
       "      <td>1079747690110570496</td>\n",
       "      <td>2018-12-31T14:34:44.000Z</td>\n",
       "      <td>[{'start': 3, 'end': 19, 'username': 'GavinWil...</td>\n",
       "      <td>1079747690110570496</td>\n",
       "      <td>id: 1079747690110570496</td>\n",
       "      <td>0</td>\n",
       "      <td>0</td>\n",
       "      <td>...</td>\n",
       "      <td>654</td>\n",
       "      <td>10740</td>\n",
       "      <td>AlunCairns</td>\n",
       "      <td>True</td>\n",
       "      <td>['gavinwilliamson', 'want_thank', 'serving', '...</td>\n",
       "      <td>2018-12-31</td>\n",
       "      <td>2018</td>\n",
       "      <td>Positive</td>\n",
       "      <td>rt gavinwilliamson want to thank all those ser...</td>\n",
       "      <td>[gavinwilliamson, want, thank, serving, britis...</td>\n",
       "    </tr>\n",
       "    <tr>\n",
       "      <th>2</th>\n",
       "      <td>76650839</td>\n",
       "      <td>author_id: 76650839</td>\n",
       "      <td>conv_id: 1078943309744070657</td>\n",
       "      <td>1078943309744070657</td>\n",
       "      <td>2018-12-29T09:18:25.000Z</td>\n",
       "      <td>[{'start': 3, 'end': 14, 'username': 'UKGovWal...</td>\n",
       "      <td>1078943309744070657</td>\n",
       "      <td>id: 1078943309744070657</td>\n",
       "      <td>0</td>\n",
       "      <td>0</td>\n",
       "      <td>...</td>\n",
       "      <td>654</td>\n",
       "      <td>10740</td>\n",
       "      <td>AlunCairns</td>\n",
       "      <td>True</td>\n",
       "      <td>['ukgovwales_welsh_secretary_aluncairns', 'ext...</td>\n",
       "      <td>2018-12-29</td>\n",
       "      <td>2018</td>\n",
       "      <td>Positive</td>\n",
       "      <td>rt ukgovwales welsh secretary aluncairns exten...</td>\n",
       "      <td>[ukgovwales, welsh, secretary, aluncairns, ext...</td>\n",
       "    </tr>\n",
       "    <tr>\n",
       "      <th>3</th>\n",
       "      <td>76650839</td>\n",
       "      <td>author_id: 76650839</td>\n",
       "      <td>conv_id: 1078738567193640960</td>\n",
       "      <td>1078738567193640960</td>\n",
       "      <td>2018-12-28T19:58:04.000Z</td>\n",
       "      <td>[{'start': 0, 'end': 13, 'username': 'TicketTa...</td>\n",
       "      <td>1078741894761463809</td>\n",
       "      <td>id: 1078741894761463809</td>\n",
       "      <td>1</td>\n",
       "      <td>0</td>\n",
       "      <td>...</td>\n",
       "      <td>654</td>\n",
       "      <td>10740</td>\n",
       "      <td>AlunCairns</td>\n",
       "      <td>True</td>\n",
       "      <td>['tickettattle', 'tfwrail', 'sure', 'thing']</td>\n",
       "      <td>2018-12-28</td>\n",
       "      <td>2018</td>\n",
       "      <td>Neutral</td>\n",
       "      <td>tickettattle tfwrail sure thing</td>\n",
       "      <td>[tickettattle, tfwrail, sure, thing]</td>\n",
       "    </tr>\n",
       "    <tr>\n",
       "      <th>4</th>\n",
       "      <td>76650839</td>\n",
       "      <td>author_id: 76650839</td>\n",
       "      <td>conv_id: 1077967555879452672</td>\n",
       "      <td>1077967555879452672</td>\n",
       "      <td>2018-12-26T21:24:01.000Z</td>\n",
       "      <td>[{'start': 0, 'end': 13, 'username': 'WPL_Offi...</td>\n",
       "      <td>1078038748837888001</td>\n",
       "      <td>id: 1078038748837888001</td>\n",
       "      <td>3</td>\n",
       "      <td>0</td>\n",
       "      <td>...</td>\n",
       "      <td>654</td>\n",
       "      <td>10740</td>\n",
       "      <td>AlunCairns</td>\n",
       "      <td>True</td>\n",
       "      <td>['wpl_official', 'barrytownunited', 'the_nomad...</td>\n",
       "      <td>2018-12-26</td>\n",
       "      <td>2018</td>\n",
       "      <td>Positive</td>\n",
       "      <td>wpl_official barrytownunited the_nomads balato...</td>\n",
       "      <td>[wpl_official, barrytownunited, the_nomads, ba...</td>\n",
       "    </tr>\n",
       "  </tbody>\n",
       "</table>\n",
       "<p>5 rows × 30 columns</p>\n",
       "</div>"
      ],
      "text/plain": [
       "  author_id        author_id_new                   conv_id_new  \\\n",
       "0  76650839  author_id: 76650839  conv_id: 1079747729419657217   \n",
       "1  76650839  author_id: 76650839  conv_id: 1079747690110570496   \n",
       "2  76650839  author_id: 76650839  conv_id: 1078943309744070657   \n",
       "3  76650839  author_id: 76650839  conv_id: 1078738567193640960   \n",
       "4  76650839  author_id: 76650839  conv_id: 1077967555879452672   \n",
       "\n",
       "       conversation_id                created_at  \\\n",
       "0  1079747729419657217  2018-12-31T14:34:54.000Z   \n",
       "1  1079747690110570496  2018-12-31T14:34:44.000Z   \n",
       "2  1078943309744070657  2018-12-29T09:18:25.000Z   \n",
       "3  1078738567193640960  2018-12-28T19:58:04.000Z   \n",
       "4  1077967555879452672  2018-12-26T21:24:01.000Z   \n",
       "\n",
       "                                   entities.mentions                   id  \\\n",
       "0  [{'start': 3, 'end': 19, 'username': '10Downin...  1079747729419657217   \n",
       "1  [{'start': 3, 'end': 19, 'username': 'GavinWil...  1079747690110570496   \n",
       "2  [{'start': 3, 'end': 14, 'username': 'UKGovWal...  1078943309744070657   \n",
       "3  [{'start': 0, 'end': 13, 'username': 'TicketTa...  1078741894761463809   \n",
       "4  [{'start': 0, 'end': 13, 'username': 'WPL_Offi...  1078038748837888001   \n",
       "\n",
       "                    id_new  public_metrics.like_count  \\\n",
       "0  id: 1079747729419657217                          0   \n",
       "1  id: 1079747690110570496                          0   \n",
       "2  id: 1078943309744070657                          0   \n",
       "3  id: 1078741894761463809                          1   \n",
       "4  id: 1078038748837888001                          3   \n",
       "\n",
       "   public_metrics.quote_count  ...  users.public_metrics.listed_count  \\\n",
       "0                           0  ...                                654   \n",
       "1                           0  ...                                654   \n",
       "2                           0  ...                                654   \n",
       "3                           0  ...                                654   \n",
       "4                           0  ...                                654   \n",
       "\n",
       "   users.public_metrics.tweet_count users.username users.verified  \\\n",
       "0                             10740     AlunCairns           True   \n",
       "1                             10740     AlunCairns           True   \n",
       "2                             10740     AlunCairns           True   \n",
       "3                             10740     AlunCairns           True   \n",
       "4                             10740     AlunCairns           True   \n",
       "\n",
       "                                         text_tokens created_at_date  \\\n",
       "0  ['downingstreet', 'countries', 'places', 'uk',...      2018-12-31   \n",
       "1  ['gavinwilliamson', 'want_thank', 'serving', '...      2018-12-31   \n",
       "2  ['ukgovwales_welsh_secretary_aluncairns', 'ext...      2018-12-29   \n",
       "3       ['tickettattle', 'tfwrail', 'sure', 'thing']      2018-12-28   \n",
       "4  ['wpl_official', 'barrytownunited', 'the_nomad...      2018-12-26   \n",
       "\n",
       "   Year_tweet Predicted_sentiment  \\\n",
       "0        2018             Neutral   \n",
       "1        2018            Positive   \n",
       "2        2018            Positive   \n",
       "3        2018             Neutral   \n",
       "4        2018            Positive   \n",
       "\n",
       "                                          clean_text  \\\n",
       "0  rt downingstreet more than countries places in...   \n",
       "1  rt gavinwilliamson want to thank all those ser...   \n",
       "2  rt ukgovwales welsh secretary aluncairns exten...   \n",
       "3                    tickettattle tfwrail sure thing   \n",
       "4  wpl_official barrytownunited the_nomads balato...   \n",
       "\n",
       "                                          tokens_roy  \n",
       "0  [downingstreet, countries, places, uk, meeting...  \n",
       "1  [gavinwilliamson, want, thank, serving, britis...  \n",
       "2  [ukgovwales, welsh, secretary, aluncairns, ext...  \n",
       "3               [tickettattle, tfwrail, sure, thing]  \n",
       "4  [wpl_official, barrytownunited, the_nomads, ba...  \n",
       "\n",
       "[5 rows x 30 columns]"
      ]
     },
     "execution_count": 26,
     "metadata": {},
     "output_type": "execute_result"
    }
   ],
   "source": [
    "data_for_model.head()"
   ]
  },
  {
   "cell_type": "code",
   "execution_count": 30,
   "id": "b2b9dc09",
   "metadata": {
    "ExecuteTime": {
     "end_time": "2022-06-24T07:30:26.908667Z",
     "start_time": "2022-06-24T07:29:37.311928Z"
    }
   },
   "outputs": [],
   "source": [
    "tagged_documents  = [  ]\n",
    "for index, row in data_for_model.iterrows():\n",
    "    tags = [ str(row['Year_tweet'])]\n",
    "    #tags = [ str(row['Year_tweet']),str(row['author_id']), str(row['created_at_date'])]\n",
    "    #tags = [ str(row['conversation_id']),str(row['author_id']), str(row['created_at_date'])]\n",
    "    tokens = row['tokens_roy']\n",
    "    \n",
    "    doc = gensim.models.doc2vec.TaggedDocument(words=tokens, tags=tags)\n",
    "    tagged_documents.append( doc )"
   ]
  },
  {
   "cell_type": "code",
   "execution_count": 32,
   "id": "0cf3c745",
   "metadata": {
    "ExecuteTime": {
     "end_time": "2022-06-24T07:33:10.705601Z",
     "start_time": "2022-06-24T07:33:10.693360Z"
    },
    "scrolled": false
   },
   "outputs": [
    {
     "data": {
      "text/plain": [
       "[TaggedDocument(words=['downingstreet', 'countries', 'places', 'uk', 'meetings', 'world', 'leaders', 'pm', 'ther'], tags=['2018']),\n",
       " TaggedDocument(words=['gavinwilliamson', 'want', 'thank', 'serving', 'britisharmy', 'royalnavy', 'royalairforce', 'work', 'done', 'ov'], tags=['2018']),\n",
       " TaggedDocument(words=['ukgovwales', 'welsh', 'secretary', 'aluncairns', 'extends', 'congratulations', 'welsh', 'recipients', 'new', 'years', 'honours'], tags=['2018']),\n",
       " TaggedDocument(words=['tickettattle', 'tfwrail', 'sure', 'thing'], tags=['2018']),\n",
       " TaggedDocument(words=['wpl_official', 'barrytownunited', 'the_nomads', 'balatownfc', 'newtownafc', 'aberystwythtown', 'well', 'done', 'barrytownsc', 'amazing', 'sight'], tags=['2018']),\n",
       " TaggedDocument(words=['women', 'win', 'final', 'day', 'women', 'win', 'advent', 'calendar', 'thank', 'everyone', 'support', 'great'], tags=['2018']),\n",
       " TaggedDocument(words=['mumphtoons', 'different', 'cymru', 'embrace', 'immigration', 'progressive', 'still', 'despite', 'english', 'mon'], tags=['2018']),\n",
       " TaggedDocument(words=['ukgovwales', 'talking', 'people', 'magor', 'services', 'hear', 'think', 'severntolls', 'removed', 'tollfreesever'], tags=['2018']),\n",
       " TaggedDocument(words=['ukgovwales', 'forcing', 'someone', 'marry', 'always', 'physical', 'always', 'law', 'help', 'support', 'contact', 'forced'], tags=['2018']),\n",
       " TaggedDocument(words=['iccwales', 'wonderfully', 'festive', 'evening', 'taste', 'christmas', 'event', 'spectacular', 'lancaster', 'house', 'london', 'thank'], tags=['2018']),\n",
       " TaggedDocument(words=['rhiannonwilko', 'day', 'severn', 'tolls', 'abolished', 'banksy', 'comes', 'wales', 'ko', 'grsgy'], tags=['2018']),\n",
       " TaggedDocument(words=['hilaryearle', 'amazing', 'things', 'happening', 'wales', 'severn', 'crossing', 'tolls', 'gone', 'pvkzntpehv'], tags=['2018']),\n",
       " TaggedDocument(words=['carolynbridgend', 'avcs', 'banksy', 'visited', 'port', 'talbot', 'left', 'street', 'art', 'pleased', 'see', 'cre'], tags=['2018']),\n",
       " TaggedDocument(words=['mattcartoonist', 'cayabzip'], tags=['2018']),\n",
       " TaggedDocument(words=['ukgovwales', 'two', 'minutes', 'toll', 'free', 'within', 'two', 'hours', 'uk', 'population', 'iccwales', 'best', 'possibl'], tags=['2018']),\n",
       " TaggedDocument(words=['thecelticmanor', 'today', 'move', 'tollfreesevern', 'fantastic', 'news', 'welsh', 'business', 'chief', 'executive', 'ianedwardscmr'], tags=['2018']),\n",
       " TaggedDocument(words=['tyfrancis', 'lovely', 'speech', 'secretary', 'state', 'wales', 'aluncairns', 'lancaster', 'house', 'iccwales', 'taste', 'christmas', 'event'], tags=['2018']),\n",
       " TaggedDocument(words=['guto_harri', 'aluncairns', 'addressing', 'lovely', 'event', 'promote', 'iccwales', 'lancasterhouse', 'tonight', 'vca', 'meooa'], tags=['2018']),\n",
       " TaggedDocument(words=['iccwales', 'venue', 'determination', 'help', 'business', 'grow', 'extremely', 'important', 'part', 'uk', 'aluncairns'], tags=['2018']),\n",
       " TaggedDocument(words=['conservatives', 'wait', 'jeremycorbyn', 'said', 'pmqs', 'kfq'], tags=['2018'])]"
      ]
     },
     "execution_count": 32,
     "metadata": {},
     "output_type": "execute_result"
    }
   ],
   "source": [
    "tagged_documents[0:20]"
   ]
  },
  {
   "cell_type": "markdown",
   "id": "f9fa682b",
   "metadata": {},
   "source": [
    "## Train the doc2vec model"
   ]
  },
  {
   "cell_type": "code",
   "execution_count": 24,
   "id": "b8913438",
   "metadata": {
    "ExecuteTime": {
     "end_time": "2022-06-24T05:01:45.562107Z",
     "start_time": "2022-06-24T04:34:54.737170Z"
    }
   },
   "outputs": [],
   "source": [
    "for dm in [0, 1]: # 0 - DBOW ( distributed bag of words ), 1 (default) - DM=distributed memory\n",
    "    doc2vec_model_file_name = os.path.join(data_folder, f'Brexit_doc2vec_{dm}.model1_tweets_v2')\n",
    "    if not os.path.isfile(doc2vec_model_file_name):\n",
    "        doc2vec_model = gensim.models.Doc2Vec(documents=tagged_documents, \n",
    "            vector_size=300, \n",
    "            window=7, \n",
    "            min_count=10, \n",
    "            epochs=20,\n",
    "            dm=dm,\n",
    "            negative=10,\n",
    "            workers = os.cpu_count()                                \n",
    "        )    \n",
    "        doc2vec_model.save(doc2vec_model_file_name)\n",
    "    else:\n",
    "        doc2vec_model =  gensim.models.Doc2Vec.load(doc2vec_model_file_name)\n",
    "    if dm==1: \n",
    "        doc2vec_model_dm  = doc2vec_model\n",
    "    else:\n",
    "        doc2vec_model_dbow  = doc2vec_model"
   ]
  },
  {
   "cell_type": "code",
   "execution_count": 25,
   "id": "2bc5b1ae",
   "metadata": {
    "ExecuteTime": {
     "end_time": "2022-06-24T05:02:05.184966Z",
     "start_time": "2022-06-24T05:02:04.317934Z"
    }
   },
   "outputs": [
    {
     "name": "stderr",
     "output_type": "stream",
     "text": [
      "C:\\Users\\roymad\\Anaconda3\\lib\\site-packages\\sklearn\\manifold\\_t_sne.py:780: FutureWarning: The default initialization in TSNE will change from 'random' to 'pca' in 1.2.\n",
      "  warnings.warn(\n",
      "C:\\Users\\roymad\\Anaconda3\\lib\\site-packages\\sklearn\\manifold\\_t_sne.py:790: FutureWarning: The default learning rate in TSNE will change from 200.0 to 'auto' in 1.2.\n",
      "  warnings.warn(\n"
     ]
    },
    {
     "data": {
      "text/html": [
       "<div>\n",
       "<style scoped>\n",
       "    .dataframe tbody tr th:only-of-type {\n",
       "        vertical-align: middle;\n",
       "    }\n",
       "\n",
       "    .dataframe tbody tr th {\n",
       "        vertical-align: top;\n",
       "    }\n",
       "\n",
       "    .dataframe thead th {\n",
       "        text-align: right;\n",
       "    }\n",
       "</style>\n",
       "<table border=\"1\" class=\"dataframe\">\n",
       "  <thead>\n",
       "    <tr style=\"text-align: right;\">\n",
       "      <th></th>\n",
       "      <th>x</th>\n",
       "      <th>y</th>\n",
       "      <th>word</th>\n",
       "      <th>distance_from_referenced_word</th>\n",
       "      <th>group</th>\n",
       "    </tr>\n",
       "  </thead>\n",
       "  <tbody>\n",
       "    <tr>\n",
       "      <th>0</th>\n",
       "      <td>-26.041590</td>\n",
       "      <td>14.164261</td>\n",
       "      <td>brexit</td>\n",
       "      <td>1.000000</td>\n",
       "      <td>brexit</td>\n",
       "    </tr>\n",
       "    <tr>\n",
       "      <th>1</th>\n",
       "      <td>-133.694275</td>\n",
       "      <td>8.920392</td>\n",
       "      <td>populistes</td>\n",
       "      <td>0.240648</td>\n",
       "      <td>Top 5</td>\n",
       "    </tr>\n",
       "    <tr>\n",
       "      <th>2</th>\n",
       "      <td>-35.561195</td>\n",
       "      <td>-14.141035</td>\n",
       "      <td>slpexppkws</td>\n",
       "      <td>0.236808</td>\n",
       "      <td>Top 5</td>\n",
       "    </tr>\n",
       "    <tr>\n",
       "      <th>3</th>\n",
       "      <td>53.106621</td>\n",
       "      <td>60.828293</td>\n",
       "      <td>(576</td>\n",
       "      <td>0.232762</td>\n",
       "      <td>Top 5</td>\n",
       "    </tr>\n",
       "    <tr>\n",
       "      <th>4</th>\n",
       "      <td>24.417057</td>\n",
       "      <td>-11.738787</td>\n",
       "      <td>qwdhe</td>\n",
       "      <td>0.230982</td>\n",
       "      <td>Top 5</td>\n",
       "    </tr>\n",
       "    <tr>\n",
       "      <th>5</th>\n",
       "      <td>75.963646</td>\n",
       "      <td>32.615593</td>\n",
       "      <td>sovbrit</td>\n",
       "      <td>0.229293</td>\n",
       "      <td>Top 5</td>\n",
       "    </tr>\n",
       "    <tr>\n",
       "      <th>6</th>\n",
       "      <td>-7.290796</td>\n",
       "      <td>62.641930</td>\n",
       "      <td>easd</td>\n",
       "      <td>0.228239</td>\n",
       "      <td>0</td>\n",
       "    </tr>\n",
       "    <tr>\n",
       "      <th>7</th>\n",
       "      <td>29.891045</td>\n",
       "      <td>-40.174908</td>\n",
       "      <td>pqzo</td>\n",
       "      <td>0.224819</td>\n",
       "      <td>0</td>\n",
       "    </tr>\n",
       "    <tr>\n",
       "      <th>8</th>\n",
       "      <td>-66.643333</td>\n",
       "      <td>-46.989162</td>\n",
       "      <td>newsde</td>\n",
       "      <td>0.222134</td>\n",
       "      <td>0</td>\n",
       "    </tr>\n",
       "    <tr>\n",
       "      <th>9</th>\n",
       "      <td>81.877922</td>\n",
       "      <td>-34.193123</td>\n",
       "      <td>leaveeu…</td>\n",
       "      <td>0.222094</td>\n",
       "      <td>0</td>\n",
       "    </tr>\n",
       "    <tr>\n",
       "      <th>10</th>\n",
       "      <td>-69.532860</td>\n",
       "      <td>55.992397</td>\n",
       "      <td>dapper_danb</td>\n",
       "      <td>0.221300</td>\n",
       "      <td>0</td>\n",
       "    </tr>\n",
       "    <tr>\n",
       "      <th>11</th>\n",
       "      <td>54.521690</td>\n",
       "      <td>-10.138385</td>\n",
       "      <td>xuvujurq</td>\n",
       "      <td>0.219788</td>\n",
       "      <td>0</td>\n",
       "    </tr>\n",
       "    <tr>\n",
       "      <th>12</th>\n",
       "      <td>-4.883650</td>\n",
       "      <td>32.971935</td>\n",
       "      <td>orme</td>\n",
       "      <td>0.219745</td>\n",
       "      <td>0</td>\n",
       "    </tr>\n",
       "    <tr>\n",
       "      <th>13</th>\n",
       "      <td>1.353114</td>\n",
       "      <td>-39.792728</td>\n",
       "      <td>philboswellsnp</td>\n",
       "      <td>0.219666</td>\n",
       "      <td>0</td>\n",
       "    </tr>\n",
       "    <tr>\n",
       "      <th>14</th>\n",
       "      <td>88.615578</td>\n",
       "      <td>1.475423</td>\n",
       "      <td>hxap</td>\n",
       "      <td>0.219522</td>\n",
       "      <td>0</td>\n",
       "    </tr>\n",
       "    <tr>\n",
       "      <th>15</th>\n",
       "      <td>-37.255852</td>\n",
       "      <td>46.525505</td>\n",
       "      <td>dafmdxrwt</td>\n",
       "      <td>0.219489</td>\n",
       "      <td>0</td>\n",
       "    </tr>\n",
       "  </tbody>\n",
       "</table>\n",
       "</div>"
      ],
      "text/plain": [
       "             x          y            word  distance_from_referenced_word  \\\n",
       "0   -26.041590  14.164261          brexit                       1.000000   \n",
       "1  -133.694275   8.920392      populistes                       0.240648   \n",
       "2   -35.561195 -14.141035      slpexppkws                       0.236808   \n",
       "3    53.106621  60.828293            (576                       0.232762   \n",
       "4    24.417057 -11.738787           qwdhe                       0.230982   \n",
       "5    75.963646  32.615593         sovbrit                       0.229293   \n",
       "6    -7.290796  62.641930            easd                       0.228239   \n",
       "7    29.891045 -40.174908            pqzo                       0.224819   \n",
       "8   -66.643333 -46.989162          newsde                       0.222134   \n",
       "9    81.877922 -34.193123        leaveeu…                       0.222094   \n",
       "10  -69.532860  55.992397     dapper_danb                       0.221300   \n",
       "11   54.521690 -10.138385        xuvujurq                       0.219788   \n",
       "12   -4.883650  32.971935            orme                       0.219745   \n",
       "13    1.353114 -39.792728  philboswellsnp                       0.219666   \n",
       "14   88.615578   1.475423            hxap                       0.219522   \n",
       "15  -37.255852  46.525505       dafmdxrwt                       0.219489   \n",
       "\n",
       "     group  \n",
       "0   brexit  \n",
       "1    Top 5  \n",
       "2    Top 5  \n",
       "3    Top 5  \n",
       "4    Top 5  \n",
       "5    Top 5  \n",
       "6        0  \n",
       "7        0  \n",
       "8        0  \n",
       "9        0  \n",
       "10       0  \n",
       "11       0  \n",
       "12       0  \n",
       "13       0  \n",
       "14       0  \n",
       "15       0  "
      ]
     },
     "metadata": {},
     "output_type": "display_data"
    },
    {
     "data": {
      "image/png": "[encoded data removed]",
      "text/plain": [
       "<Figure size 720x720 with 1 Axes>"
      ]
     },
     "metadata": {
      "needs_background": "light"
     },
     "output_type": "display_data"
    }
   ],
   "source": [
    "df_tsne_results_all1, plot_all1 = visualize_word2vec_K_most_similar_to_ref_word(model = doc2vec_model_dbow,\n",
    "                                                                                referenced_word = \"brexit\",\n",
    "                                                                                number_of_similar_words = 30,\n",
    "                                                                               top_k_to_show = 16,\n",
    "                                                                              random_state_for_Tsne = 555,\n",
    "                                                                             remove_legend = True,\n",
    "                                                                             year = \"All years\")"
   ]
  },
  {
   "cell_type": "code",
   "execution_count": 33,
   "id": "54c335e9",
   "metadata": {
    "ExecuteTime": {
     "end_time": "2022-06-24T08:04:39.267197Z",
     "start_time": "2022-06-24T07:34:33.839714Z"
    }
   },
   "outputs": [],
   "source": [
    "for dm in [1]: # 0 - DBOW ( distributed bag of words ), 1 (default) - DM=distributed memory\n",
    "    doc2vec_model_file_name = os.path.join(data_folder, f'Brexit_doc2vec_{dm}.model1_tweets_v5')\n",
    "    if not os.path.isfile(doc2vec_model_file_name):\n",
    "        doc2vec_model = gensim.models.Doc2Vec(documents=tagged_documents, \n",
    "            vector_size=300, \n",
    "            window=7, \n",
    "            min_count=10, \n",
    "            epochs=20,\n",
    "            dm=dm,\n",
    "            negative=10,\n",
    "            workers = os.cpu_count()                                \n",
    "        )    \n",
    "        doc2vec_model.save(doc2vec_model_file_name)\n",
    "    else:\n",
    "        doc2vec_model =  gensim.models.Doc2Vec.load(doc2vec_model_file_name)\n",
    "\n",
    "doc2vec_model_dm  = doc2vec_model\n"
   ]
  },
  {
   "cell_type": "code",
   "execution_count": null,
   "id": "38347c97",
   "metadata": {},
   "outputs": [],
   "source": []
  },
  {
   "cell_type": "code",
   "execution_count": 34,
   "id": "b994f53a",
   "metadata": {
    "ExecuteTime": {
     "end_time": "2022-06-24T08:04:54.083816Z",
     "start_time": "2022-06-24T08:04:53.246808Z"
    }
   },
   "outputs": [
    {
     "name": "stderr",
     "output_type": "stream",
     "text": [
      "C:\\Users\\roymad\\Anaconda3\\lib\\site-packages\\sklearn\\manifold\\_t_sne.py:780: FutureWarning: The default initialization in TSNE will change from 'random' to 'pca' in 1.2.\n",
      "  warnings.warn(\n",
      "C:\\Users\\roymad\\Anaconda3\\lib\\site-packages\\sklearn\\manifold\\_t_sne.py:790: FutureWarning: The default learning rate in TSNE will change from 200.0 to 'auto' in 1.2.\n",
      "  warnings.warn(\n"
     ]
    },
    {
     "data": {
      "text/html": [
       "<div>\n",
       "<style scoped>\n",
       "    .dataframe tbody tr th:only-of-type {\n",
       "        vertical-align: middle;\n",
       "    }\n",
       "\n",
       "    .dataframe tbody tr th {\n",
       "        vertical-align: top;\n",
       "    }\n",
       "\n",
       "    .dataframe thead th {\n",
       "        text-align: right;\n",
       "    }\n",
       "</style>\n",
       "<table border=\"1\" class=\"dataframe\">\n",
       "  <thead>\n",
       "    <tr style=\"text-align: right;\">\n",
       "      <th></th>\n",
       "      <th>x</th>\n",
       "      <th>y</th>\n",
       "      <th>word</th>\n",
       "      <th>distance_from_referenced_word</th>\n",
       "      <th>group</th>\n",
       "    </tr>\n",
       "  </thead>\n",
       "  <tbody>\n",
       "    <tr>\n",
       "      <th>0</th>\n",
       "      <td>-26.041590</td>\n",
       "      <td>14.164261</td>\n",
       "      <td>brexit</td>\n",
       "      <td>1.000000</td>\n",
       "      <td>brexit</td>\n",
       "    </tr>\n",
       "    <tr>\n",
       "      <th>1</th>\n",
       "      <td>-133.694275</td>\n",
       "      <td>8.920392</td>\n",
       "      <td>brexit!</td>\n",
       "      <td>0.316809</td>\n",
       "      <td>Top 5</td>\n",
       "    </tr>\n",
       "    <tr>\n",
       "      <th>2</th>\n",
       "      <td>-35.561195</td>\n",
       "      <td>-14.141035</td>\n",
       "      <td>leaving</td>\n",
       "      <td>0.287558</td>\n",
       "      <td>Top 5</td>\n",
       "    </tr>\n",
       "    <tr>\n",
       "      <th>3</th>\n",
       "      <td>53.106621</td>\n",
       "      <td>60.828293</td>\n",
       "      <td>brex…</td>\n",
       "      <td>0.282136</td>\n",
       "      <td>Top 5</td>\n",
       "    </tr>\n",
       "    <tr>\n",
       "      <th>4</th>\n",
       "      <td>24.417057</td>\n",
       "      <td>-11.738787</td>\n",
       "      <td>brexiteers</td>\n",
       "      <td>0.281599</td>\n",
       "      <td>Top 5</td>\n",
       "    </tr>\n",
       "    <tr>\n",
       "      <th>5</th>\n",
       "      <td>75.963646</td>\n",
       "      <td>32.615593</td>\n",
       "      <td>bexit</td>\n",
       "      <td>0.279823</td>\n",
       "      <td>Top 5</td>\n",
       "    </tr>\n",
       "    <tr>\n",
       "      <th>6</th>\n",
       "      <td>-7.290796</td>\n",
       "      <td>62.641930</td>\n",
       "      <td>brexshit</td>\n",
       "      <td>0.272575</td>\n",
       "      <td>0</td>\n",
       "    </tr>\n",
       "    <tr>\n",
       "      <th>7</th>\n",
       "      <td>29.891045</td>\n",
       "      <td>-40.174908</td>\n",
       "      <td>brexi</td>\n",
       "      <td>0.270732</td>\n",
       "      <td>0</td>\n",
       "    </tr>\n",
       "    <tr>\n",
       "      <th>8</th>\n",
       "      <td>-66.643333</td>\n",
       "      <td>-46.989162</td>\n",
       "      <td>marshillblog</td>\n",
       "      <td>0.268785</td>\n",
       "      <td>0</td>\n",
       "    </tr>\n",
       "    <tr>\n",
       "      <th>9</th>\n",
       "      <td>81.877922</td>\n",
       "      <td>-34.193123</td>\n",
       "      <td>leave</td>\n",
       "      <td>0.267340</td>\n",
       "      <td>0</td>\n",
       "    </tr>\n",
       "    <tr>\n",
       "      <th>10</th>\n",
       "      <td>-69.532860</td>\n",
       "      <td>55.992397</td>\n",
       "      <td>https//t.co/sntad3v1tu</td>\n",
       "      <td>0.262751</td>\n",
       "      <td>0</td>\n",
       "    </tr>\n",
       "    <tr>\n",
       "      <th>11</th>\n",
       "      <td>54.521690</td>\n",
       "      <td>-10.138385</td>\n",
       "      <td>brexiteer</td>\n",
       "      <td>0.262744</td>\n",
       "      <td>0</td>\n",
       "    </tr>\n",
       "    <tr>\n",
       "      <th>12</th>\n",
       "      <td>-4.883650</td>\n",
       "      <td>32.971935</td>\n",
       "      <td>brexit)</td>\n",
       "      <td>0.252938</td>\n",
       "      <td>0</td>\n",
       "    </tr>\n",
       "    <tr>\n",
       "      <th>13</th>\n",
       "      <td>1.353114</td>\n",
       "      <td>-39.792728</td>\n",
       "      <td>ensues</td>\n",
       "      <td>0.247331</td>\n",
       "      <td>0</td>\n",
       "    </tr>\n",
       "    <tr>\n",
       "      <th>14</th>\n",
       "      <td>88.615578</td>\n",
       "      <td>1.475423</td>\n",
       "      <td>https//t.co/jgbwofzgp5</td>\n",
       "      <td>0.246253</td>\n",
       "      <td>0</td>\n",
       "    </tr>\n",
       "    <tr>\n",
       "      <th>15</th>\n",
       "      <td>-37.255852</td>\n",
       "      <td>46.525505</td>\n",
       "      <td>owenjones84</td>\n",
       "      <td>0.243072</td>\n",
       "      <td>0</td>\n",
       "    </tr>\n",
       "  </tbody>\n",
       "</table>\n",
       "</div>"
      ],
      "text/plain": [
       "             x          y                    word  \\\n",
       "0   -26.041590  14.164261                  brexit   \n",
       "1  -133.694275   8.920392                 brexit!   \n",
       "2   -35.561195 -14.141035                 leaving   \n",
       "3    53.106621  60.828293                   brex…   \n",
       "4    24.417057 -11.738787              brexiteers   \n",
       "5    75.963646  32.615593                   bexit   \n",
       "6    -7.290796  62.641930                brexshit   \n",
       "7    29.891045 -40.174908                   brexi   \n",
       "8   -66.643333 -46.989162            marshillblog   \n",
       "9    81.877922 -34.193123                   leave   \n",
       "10  -69.532860  55.992397  https//t.co/sntad3v1tu   \n",
       "11   54.521690 -10.138385               brexiteer   \n",
       "12   -4.883650  32.971935                 brexit)   \n",
       "13    1.353114 -39.792728                  ensues   \n",
       "14   88.615578   1.475423  https//t.co/jgbwofzgp5   \n",
       "15  -37.255852  46.525505             owenjones84   \n",
       "\n",
       "    distance_from_referenced_word   group  \n",
       "0                        1.000000  brexit  \n",
       "1                        0.316809   Top 5  \n",
       "2                        0.287558   Top 5  \n",
       "3                        0.282136   Top 5  \n",
       "4                        0.281599   Top 5  \n",
       "5                        0.279823   Top 5  \n",
       "6                        0.272575       0  \n",
       "7                        0.270732       0  \n",
       "8                        0.268785       0  \n",
       "9                        0.267340       0  \n",
       "10                       0.262751       0  \n",
       "11                       0.262744       0  \n",
       "12                       0.252938       0  \n",
       "13                       0.247331       0  \n",
       "14                       0.246253       0  \n",
       "15                       0.243072       0  "
      ]
     },
     "metadata": {},
     "output_type": "display_data"
    },
    {
     "data": {
      "image/png": "[encoded data removed]",
      "text/plain": [
       "<Figure size 720x720 with 1 Axes>"
      ]
     },
     "metadata": {
      "needs_background": "light"
     },
     "output_type": "display_data"
    }
   ],
   "source": [
    "df_tsne_results_all1, plot_all1 = visualize_word2vec_K_most_similar_to_ref_word(model = doc2vec_model_dm,\n",
    "                                                                                referenced_word = \"brexit\",\n",
    "                                                                                number_of_similar_words = 30,\n",
    "                                                                               top_k_to_show = 16,\n",
    "                                                                              random_state_for_Tsne = 555,\n",
    "                                                                             remove_legend = True,\n",
    "                                                                             year = \"All years\")"
   ]
  },
  {
   "cell_type": "markdown",
   "id": "0994fcba",
   "metadata": {},
   "source": [
    "## Explore the models:\n",
    "\n",
    "### FInd most similar words:"
   ]
  },
  {
   "cell_type": "code",
   "execution_count": 22,
   "id": "121e4147",
   "metadata": {
    "ExecuteTime": {
     "end_time": "2022-06-24T04:28:42.246959Z",
     "start_time": "2022-06-24T04:28:42.193947Z"
    }
   },
   "outputs": [
    {
     "data": {
      "text/plain": [
       "[('https//t.co/zwfckaztck', 0.4448395371437073),\n",
       " ('brex', 0.4048062264919281),\n",
       " ('brexi', 0.38125815987586975),\n",
       " ('zqvejqganc', 0.3717782199382782),\n",
       " ('https//t.co/ykc6nrefmw', 0.370308518409729),\n",
       " ('framer', 0.35530444979667664),\n",
       " ('nbmcwhog', 0.3500799536705017),\n",
       " ('mefu', 0.3464982211589813),\n",
       " ('https//t.co/sixffpja1v', 0.34633669257164),\n",
       " ('leaving', 0.34401586651802063),\n",
       " ('https//t.co/wvtbbudhtk', 0.34288036823272705),\n",
       " ('eu', 0.34039878845214844),\n",
       " ('hzyec', 0.331280380487442),\n",
       " ('thelambkin', 0.329773485660553),\n",
       " ('beltway', 0.3295941650867462),\n",
       " ('https//t.co/xmy8zayjki', 0.32898908853530884),\n",
       " ('pro-brexit', 0.328843891620636),\n",
       " ('qgvh', 0.32795125246047974),\n",
       " ('https//t.co/9i8rn6lhfh', 0.32668137550354004),\n",
       " ('uk', 0.32573965191841125)]"
      ]
     },
     "execution_count": 22,
     "metadata": {},
     "output_type": "execute_result"
    }
   ],
   "source": [
    "doc2vec_model_dm.wv.most_similar(positive=['brexit'], negative=[], topn=20)"
   ]
  },
  {
   "cell_type": "code",
   "execution_count": 23,
   "id": "5fbd6b54",
   "metadata": {
    "ExecuteTime": {
     "end_time": "2022-06-24T04:28:54.889622Z",
     "start_time": "2022-06-24T04:28:54.829698Z"
    }
   },
   "outputs": [
    {
     "data": {
      "text/plain": [
       "[('https//t.co/haelfo1uc4', 0.7196817994117737),\n",
       " ('https//t.co/l9mhmjqdji', 0.6899676322937012),\n",
       " ('https//t.co/fhtjs9zwlh', 0.6842983365058899),\n",
       " ('https//t.co/cvwxwaizju', 0.6740484833717346),\n",
       " ('https//t.co/74bzlmtyme', 0.670715868473053),\n",
       " ('nailed.', 0.6702646613121033),\n",
       " ('https//t.co/zv0f1vha0w', 0.6650517582893372),\n",
       " ('iecxumnfu', 0.6555888652801514),\n",
       " ('https//t.co/lxf9tg7efd', 0.6533611416816711),\n",
       " ('https//t.co/d0awb9a1br', 0.6510686278343201)]"
      ]
     },
     "execution_count": 23,
     "metadata": {},
     "output_type": "execute_result"
    }
   ],
   "source": [
    "doc2vec_model_dm.wv.most_similar(positive=[], negative=[\"brexit\"], topn=10)"
   ]
  },
  {
   "cell_type": "code",
   "execution_count": 35,
   "id": "0067ee62",
   "metadata": {
    "ExecuteTime": {
     "end_time": "2022-05-27T15:37:32.444301Z",
     "start_time": "2022-05-27T15:37:32.378339Z"
    }
   },
   "outputs": [
    {
     "data": {
      "text/plain": [
       "[('economy.', 0.6478554606437683),\n",
       " ('economy,', 0.6334506869316101),\n",
       " ('growth', 0.5164996981620789),\n",
       " ('economies', 0.4556303918361664),\n",
       " ('productivity', 0.43400976061820984),\n",
       " ('productivity,', 0.4272322356700897),\n",
       " ('gdp', 0.4234206974506378),\n",
       " ('economies.', 0.4045814573764801),\n",
       " ('wages', 0.4013144075870514),\n",
       " ('growth,', 0.40019360184669495)]"
      ]
     },
     "execution_count": 35,
     "metadata": {},
     "output_type": "execute_result"
    }
   ],
   "source": [
    "doc2vec_model_dm.wv.most_similar(positive=[\"economy\"], negative=[], topn=10)"
   ]
  },
  {
   "cell_type": "code",
   "execution_count": 375,
   "id": "3ccf939d",
   "metadata": {
    "ExecuteTime": {
     "end_time": "2022-05-14T17:49:25.753838Z",
     "start_time": "2022-05-14T17:49:25.681879Z"
    }
   },
   "outputs": [
    {
     "data": {
      "text/plain": [
       "[('thefabians,', 0.24698682129383087),\n",
       " ('rcasecret', 0.23523086309432983),\n",
       " ('lambethcyclists', 0.22794093191623688),\n",
       " ('democrac…', 0.227413147687912),\n",
       " ('donald.', 0.22320152819156647),\n",
       " ('keyhole', 0.22166332602500916),\n",
       " ('cnc', 0.22012458741664886),\n",
       " ('chrishams', 0.2181398868560791),\n",
       " ('childhoods', 0.21149881184101105),\n",
       " ('derry-l’derry,', 0.2080446183681488)]"
      ]
     },
     "execution_count": 375,
     "metadata": {},
     "output_type": "execute_result"
    }
   ],
   "source": [
    "doc2vec_model_dm.wv.most_similar(positive=[], negative=[\"eu\"], topn=10)"
   ]
  },
  {
   "cell_type": "code",
   "execution_count": 36,
   "id": "63d769e4",
   "metadata": {
    "ExecuteTime": {
     "end_time": "2022-05-27T15:37:51.633300Z",
     "start_time": "2022-05-27T15:37:51.561344Z"
    }
   },
   "outputs": [
    {
     "data": {
      "text/plain": [
       "[('trump.', 0.6308656930923462),\n",
       " ('trumps', 0.6148446798324585),\n",
       " ('realdonaldtrump', 0.5864496827125549),\n",
       " ('donald', 0.5798147916793823),\n",
       " ('putin', 0.5725878477096558),\n",
       " ('trump’s', 0.572031557559967),\n",
       " ('trump,', 0.5638441443443298),\n",
       " ('obama', 0.5558142066001892),\n",
       " ('tusk', 0.5015538334846497),\n",
       " ('hillary', 0.49367278814315796)]"
      ]
     },
     "execution_count": 36,
     "metadata": {},
     "output_type": "execute_result"
    }
   ],
   "source": [
    "doc2vec_model_dm.wv.most_similar(positive=[\"trump\"], negative=[], topn=10)"
   ]
  },
  {
   "cell_type": "code",
   "execution_count": null,
   "id": "f856ef02",
   "metadata": {},
   "outputs": [],
   "source": [
    "### Get similar documents using doc2vec"
   ]
  },
  {
   "cell_type": "code",
   "execution_count": 40,
   "id": "86021ffe",
   "metadata": {
    "ExecuteTime": {
     "end_time": "2022-05-27T15:41:11.750819Z",
     "start_time": "2022-05-27T15:41:11.736826Z"
    }
   },
   "outputs": [],
   "source": [
    "def d2v_get_most_similar_to(data, doc2vec_model, query_doc_id, top_k):\n",
    "    from sklearn.metrics.pairwise import cosine_similarity\n",
    "    if isinstance(query_doc_id, int):\n",
    "        v1 = doc2vec_model.dv[query_doc_id]\n",
    "    elif isinstance(query_doc_id, list):\n",
    "        v1 = doc2vec_model.infer_vector(query_doc_id) # infer vector of unseen document\n",
    "    elif isinstance(query_doc_id, str):\n",
    "        import gensim\n",
    "        tokens = gensim.utils.simple_preprocess(query_doc_id)\n",
    "        return d2v_get_most_similar_to(data, doc2vec_model, tokens, top_k)\n",
    "    distances = 1-cosine_similarity(v1.reshape(1,-1),doc2vec_model.dv.vectors)[0]\n",
    "    sort_order = np.argsort(distances)[:top_k]\n",
    "    result = data[['text','text_tokens']].iloc[sort_order].copy()\n",
    "    result['distance'] = distances[sort_order]\n",
    "    return result"
   ]
  },
  {
   "cell_type": "code",
   "execution_count": 41,
   "id": "1852c88a",
   "metadata": {
    "ExecuteTime": {
     "end_time": "2022-05-27T15:41:32.672188Z",
     "start_time": "2022-05-27T15:41:31.828667Z"
    }
   },
   "outputs": [
    {
     "data": {
      "text/html": [
       "<div>\n",
       "<style scoped>\n",
       "    .dataframe tbody tr th:only-of-type {\n",
       "        vertical-align: middle;\n",
       "    }\n",
       "\n",
       "    .dataframe tbody tr th {\n",
       "        vertical-align: top;\n",
       "    }\n",
       "\n",
       "    .dataframe thead th {\n",
       "        text-align: right;\n",
       "    }\n",
       "</style>\n",
       "<table border=\"1\" class=\"dataframe\">\n",
       "  <thead>\n",
       "    <tr style=\"text-align: right;\">\n",
       "      <th></th>\n",
       "      <th>text</th>\n",
       "      <th>text_tokens</th>\n",
       "      <th>distance</th>\n",
       "    </tr>\n",
       "  </thead>\n",
       "  <tbody>\n",
       "    <tr>\n",
       "      <th>4</th>\n",
       "      <td>@WPL_Official @BarryTownUnited @the_nomads @Ba...</td>\n",
       "      <td>['wpl_official', 'barrytownunited', 'the_nomad...</td>\n",
       "      <td>0.000000</td>\n",
       "    </tr>\n",
       "    <tr>\n",
       "      <th>10216</th>\n",
       "      <td>The PM's constructive tone is welcome - we enc...</td>\n",
       "      <td>['pm', 'constructive', 'tone', 'welcome', 'enc...</td>\n",
       "      <td>0.289356</td>\n",
       "    </tr>\n",
       "    <tr>\n",
       "      <th>81551</th>\n",
       "      <td>Speaking at the biggest Young Labour conferenc...</td>\n",
       "      <td>['speaking', 'biggest', 'young', 'labour_confe...</td>\n",
       "      <td>0.290199</td>\n",
       "    </tr>\n",
       "    <tr>\n",
       "      <th>41124</th>\n",
       "      <td>Good meeting with EU Trade Commissioner Karel ...</td>\n",
       "      <td>['good_meeting_eu_trade', 'commissioner', 'kar...</td>\n",
       "      <td>0.293979</td>\n",
       "    </tr>\n",
       "    <tr>\n",
       "      <th>174205</th>\n",
       "      <td>Good piece by my colleague @StephenTwigg – onl...</td>\n",
       "      <td>['good_piece', 'colleague', 'stephentwigg', 'o...</td>\n",
       "      <td>0.297324</td>\n",
       "    </tr>\n",
       "    <tr>\n",
       "      <th>107806</th>\n",
       "      <td>RT @EU_Commission: #ParisAgreement enters into...</td>\n",
       "      <td>['rt_eu_commission', 'parisagreement_enters', ...</td>\n",
       "      <td>0.298624</td>\n",
       "    </tr>\n",
       "    <tr>\n",
       "      <th>115138</th>\n",
       "      <td>RT @UKSupremeCourt: Full text of Tuesday's jud...</td>\n",
       "      <td>['rt_uksupremecourt', 'full_text', 'tuesday', ...</td>\n",
       "      <td>0.301961</td>\n",
       "    </tr>\n",
       "    <tr>\n",
       "      <th>207789</th>\n",
       "      <td>Signs Michael Hesletine might be considering a...</td>\n",
       "      <td>['signs', 'michael', 'hesletine', 'might', 'co...</td>\n",
       "      <td>0.302426</td>\n",
       "    </tr>\n",
       "    <tr>\n",
       "      <th>207475</th>\n",
       "      <td>Listener Sam Whiteley, who has Type 2 Diabetes...</td>\n",
       "      <td>['listener', 'sam', 'whiteley', 'type_diabetes...</td>\n",
       "      <td>0.304927</td>\n",
       "    </tr>\n",
       "    <tr>\n",
       "      <th>72626</th>\n",
       "      <td>Enjoying the @CaringTogether1 Christmas Party ...</td>\n",
       "      <td>['enjoying', 'caringtogether', 'christmas_part...</td>\n",
       "      <td>0.306264</td>\n",
       "    </tr>\n",
       "  </tbody>\n",
       "</table>\n",
       "</div>"
      ],
      "text/plain": [
       "                                                     text  \\\n",
       "4       @WPL_Official @BarryTownUnited @the_nomads @Ba...   \n",
       "10216   The PM's constructive tone is welcome - we enc...   \n",
       "81551   Speaking at the biggest Young Labour conferenc...   \n",
       "41124   Good meeting with EU Trade Commissioner Karel ...   \n",
       "174205  Good piece by my colleague @StephenTwigg – onl...   \n",
       "107806  RT @EU_Commission: #ParisAgreement enters into...   \n",
       "115138  RT @UKSupremeCourt: Full text of Tuesday's jud...   \n",
       "207789  Signs Michael Hesletine might be considering a...   \n",
       "207475  Listener Sam Whiteley, who has Type 2 Diabetes...   \n",
       "72626   Enjoying the @CaringTogether1 Christmas Party ...   \n",
       "\n",
       "                                              text_tokens  distance  \n",
       "4       ['wpl_official', 'barrytownunited', 'the_nomad...  0.000000  \n",
       "10216   ['pm', 'constructive', 'tone', 'welcome', 'enc...  0.289356  \n",
       "81551   ['speaking', 'biggest', 'young', 'labour_confe...  0.290199  \n",
       "41124   ['good_meeting_eu_trade', 'commissioner', 'kar...  0.293979  \n",
       "174205  ['good_piece', 'colleague', 'stephentwigg', 'o...  0.297324  \n",
       "107806  ['rt_eu_commission', 'parisagreement_enters', ...  0.298624  \n",
       "115138  ['rt_uksupremecourt', 'full_text', 'tuesday', ...  0.301961  \n",
       "207789  ['signs', 'michael', 'hesletine', 'might', 'co...  0.302426  \n",
       "207475  ['listener', 'sam', 'whiteley', 'type_diabetes...  0.304927  \n",
       "72626   ['enjoying', 'caringtogether', 'christmas_part...  0.306264  "
      ]
     },
     "execution_count": 41,
     "metadata": {},
     "output_type": "execute_result"
    }
   ],
   "source": [
    "d2v_get_most_similar_to(data=data_for_model, \n",
    "    doc2vec_model=doc2vec_model_dm, query_doc_id=4, top_k=10)"
   ]
  },
  {
   "cell_type": "code",
   "execution_count": 42,
   "id": "dccf62a2",
   "metadata": {
    "ExecuteTime": {
     "end_time": "2022-05-27T15:41:52.750671Z",
     "start_time": "2022-05-27T15:41:51.937143Z"
    }
   },
   "outputs": [
    {
     "data": {
      "text/html": [
       "<div>\n",
       "<style scoped>\n",
       "    .dataframe tbody tr th:only-of-type {\n",
       "        vertical-align: middle;\n",
       "    }\n",
       "\n",
       "    .dataframe tbody tr th {\n",
       "        vertical-align: top;\n",
       "    }\n",
       "\n",
       "    .dataframe thead th {\n",
       "        text-align: right;\n",
       "    }\n",
       "</style>\n",
       "<table border=\"1\" class=\"dataframe\">\n",
       "  <thead>\n",
       "    <tr style=\"text-align: right;\">\n",
       "      <th></th>\n",
       "      <th>text</th>\n",
       "      <th>text_tokens</th>\n",
       "      <th>distance</th>\n",
       "    </tr>\n",
       "  </thead>\n",
       "  <tbody>\n",
       "    <tr>\n",
       "      <th>19969</th>\n",
       "      <td>RT @CER_London: Post #Brexit Norway option wou...</td>\n",
       "      <td>['rt', 'cer_london_post', 'brexit', 'norway_op...</td>\n",
       "      <td>0.217432</td>\n",
       "    </tr>\n",
       "    <tr>\n",
       "      <th>42840</th>\n",
       "      <td>There's a pipeline of women and ethnic minorit...</td>\n",
       "      <td>['pipeline', 'women_ethnic', 'minority', 'cand...</td>\n",
       "      <td>0.232403</td>\n",
       "    </tr>\n",
       "    <tr>\n",
       "      <th>47689</th>\n",
       "      <td>RT @GregHands: Arriving at the @WTO to meet Am...</td>\n",
       "      <td>['rt_greghands', 'arriving', 'wto', 'meet', 'a...</td>\n",
       "      <td>0.240682</td>\n",
       "    </tr>\n",
       "    <tr>\n",
       "      <th>135361</th>\n",
       "      <td>RT @HeartScotNews: FM @NicolaSturgeon extends ...</td>\n",
       "      <td>['rt_heartscotnews', 'fm_nicolasturgeon', 'ext...</td>\n",
       "      <td>0.240882</td>\n",
       "    </tr>\n",
       "    <tr>\n",
       "      <th>161484</th>\n",
       "      <td>RT @GettyVIP: It's official! #London will host...</td>\n",
       "      <td>['rt', 'gettyvip', 'official', 'london_host', ...</td>\n",
       "      <td>0.246173</td>\n",
       "    </tr>\n",
       "    <tr>\n",
       "      <th>161683</th>\n",
       "      <td>RT @GreenpeaceUK: School children have just de...</td>\n",
       "      <td>['rt_greenpeaceuk', 'school_children', 'delive...</td>\n",
       "      <td>0.247996</td>\n",
       "    </tr>\n",
       "    <tr>\n",
       "      <th>42839</th>\n",
       "      <td>If we don't see enough progress on increasing ...</td>\n",
       "      <td>['see', 'enough_progress', 'increasing_diversi...</td>\n",
       "      <td>0.248475</td>\n",
       "    </tr>\n",
       "    <tr>\n",
       "      <th>4418</th>\n",
       "      <td>RT @StandUpForBarry: Anyone in the Cardiff are...</td>\n",
       "      <td>['rt_standupforbarry', 'anyone', 'cardiff', 'a...</td>\n",
       "      <td>0.251893</td>\n",
       "    </tr>\n",
       "    <tr>\n",
       "      <th>47696</th>\n",
       "      <td>RT @SkyNews: .@KayBurley is celebrating 30 yea...</td>\n",
       "      <td>['rt_skynews', 'kayburley', 'celebrating_years...</td>\n",
       "      <td>0.253591</td>\n",
       "    </tr>\n",
       "    <tr>\n",
       "      <th>47683</th>\n",
       "      <td>Thank you for your thoughtful and constructive...</td>\n",
       "      <td>['thank', 'thoughtful_constructive', 'reply']</td>\n",
       "      <td>0.255708</td>\n",
       "    </tr>\n",
       "  </tbody>\n",
       "</table>\n",
       "</div>"
      ],
      "text/plain": [
       "                                                     text  \\\n",
       "19969   RT @CER_London: Post #Brexit Norway option wou...   \n",
       "42840   There's a pipeline of women and ethnic minorit...   \n",
       "47689   RT @GregHands: Arriving at the @WTO to meet Am...   \n",
       "135361  RT @HeartScotNews: FM @NicolaSturgeon extends ...   \n",
       "161484  RT @GettyVIP: It's official! #London will host...   \n",
       "161683  RT @GreenpeaceUK: School children have just de...   \n",
       "42839   If we don't see enough progress on increasing ...   \n",
       "4418    RT @StandUpForBarry: Anyone in the Cardiff are...   \n",
       "47696   RT @SkyNews: .@KayBurley is celebrating 30 yea...   \n",
       "47683   Thank you for your thoughtful and constructive...   \n",
       "\n",
       "                                              text_tokens  distance  \n",
       "19969   ['rt', 'cer_london_post', 'brexit', 'norway_op...  0.217432  \n",
       "42840   ['pipeline', 'women_ethnic', 'minority', 'cand...  0.232403  \n",
       "47689   ['rt_greghands', 'arriving', 'wto', 'meet', 'a...  0.240682  \n",
       "135361  ['rt_heartscotnews', 'fm_nicolasturgeon', 'ext...  0.240882  \n",
       "161484  ['rt', 'gettyvip', 'official', 'london_host', ...  0.246173  \n",
       "161683  ['rt_greenpeaceuk', 'school_children', 'delive...  0.247996  \n",
       "42839   ['see', 'enough_progress', 'increasing_diversi...  0.248475  \n",
       "4418    ['rt_standupforbarry', 'anyone', 'cardiff', 'a...  0.251893  \n",
       "47696   ['rt_skynews', 'kayburley', 'celebrating_years...  0.253591  \n",
       "47683       ['thank', 'thoughtful_constructive', 'reply']  0.255708  "
      ]
     },
     "execution_count": 42,
     "metadata": {},
     "output_type": "execute_result"
    }
   ],
   "source": [
    "text = \"\"\"Brexit is good\"\"\"\n",
    "result_table = d2v_get_most_similar_to(data=data_for_model, \n",
    "    doc2vec_model=doc2vec_model_dm, query_doc_id=text, top_k=10)\n",
    "\n",
    "result_table"
   ]
  },
  {
   "cell_type": "code",
   "execution_count": null,
   "id": "36e6fa05",
   "metadata": {},
   "outputs": [],
   "source": []
  },
  {
   "cell_type": "code",
   "execution_count": null,
   "id": "e6a9a1d8",
   "metadata": {},
   "outputs": [],
   "source": []
  },
  {
   "cell_type": "code",
   "execution_count": null,
   "id": "6c1e776e",
   "metadata": {},
   "outputs": [],
   "source": []
  },
  {
   "cell_type": "code",
   "execution_count": null,
   "id": "9c431484",
   "metadata": {},
   "outputs": [],
   "source": []
  },
  {
   "cell_type": "code",
   "execution_count": null,
   "id": "89b3725f",
   "metadata": {},
   "outputs": [],
   "source": []
  },
  {
   "cell_type": "code",
   "execution_count": null,
   "id": "757371ec",
   "metadata": {},
   "outputs": [],
   "source": []
  },
  {
   "cell_type": "markdown",
   "id": "c3f069eb",
   "metadata": {},
   "source": [
    "## EDA"
   ]
  },
  {
   "cell_type": "code",
   "execution_count": null,
   "id": "32096eb0",
   "metadata": {},
   "outputs": [],
   "source": [
    "# word cloud\n"
   ]
  },
  {
   "cell_type": "markdown",
   "id": "2c61a79e",
   "metadata": {},
   "source": [
    "## Model"
   ]
  },
  {
   "cell_type": "code",
   "execution_count": null,
   "id": "bdba7591",
   "metadata": {},
   "outputs": [],
   "source": []
  },
  {
   "cell_type": "code",
   "execution_count": null,
   "id": "1e9f4516",
   "metadata": {},
   "outputs": [],
   "source": []
  },
  {
   "cell_type": "markdown",
   "id": "f3515314",
   "metadata": {
    "ExecuteTime": {
     "end_time": "2022-05-27T16:19:12.082121Z",
     "start_time": "2022-05-27T16:19:12.075122Z"
    }
   },
   "source": [
    "## Sentiment analysis\n",
    "\n",
    "Here we present the EDA we conducted using the sentiment prediction (that was the outcome of the sentiment model)"
   ]
  },
  {
   "cell_type": "code",
   "execution_count": null,
   "id": "bc2c7745",
   "metadata": {},
   "outputs": [],
   "source": []
  },
  {
   "cell_type": "code",
   "execution_count": null,
   "id": "bed0ceab",
   "metadata": {},
   "outputs": [],
   "source": []
  },
  {
   "cell_type": "code",
   "execution_count": null,
   "id": "8b00d3e4",
   "metadata": {},
   "outputs": [],
   "source": []
  },
  {
   "cell_type": "code",
   "execution_count": 51,
   "id": "7624cfad",
   "metadata": {
    "ExecuteTime": {
     "end_time": "2022-05-27T16:21:40.255712Z",
     "start_time": "2022-05-27T16:21:40.235722Z"
    }
   },
   "outputs": [],
   "source": [
    "def nltk_sentiment(row, sentiment_intensity_analyzer):\n",
    "    import numpy as np, pandas as pd\n",
    "    sentiment_names = ['negative', 'neutral', 'positive']\n",
    "    nltk_sentiment = sentiment_intensity_analyzer.polarity_scores(row['clean_text'])\n",
    "    \n",
    "    #nltk_sentiment['nltk_verdict'] = sentiment_names[np.argmax([nltk_sentiment[s] for s in ['neg','neu','pos']])]\n",
    "    if nltk_sentiment['neu']>0.95:\n",
    "        nltk_sentiment['nltk_verdict'] = 'neutral'\n",
    "    elif nltk_sentiment['neg'] < nltk_sentiment['pos']:\n",
    "        nltk_sentiment['nltk_verdict'] = 'positive'\n",
    "    else:\n",
    "        nltk_sentiment['nltk_verdict'] = 'negative'\n",
    "    #nltk_sentiment['ground_truth'] = row['airline_sentiment']\n",
    "    #nltk_sentiment['ground_truth_value'] = {'negative': -1, 'neutral':0, 'positive':1 }[nltk_sentiment['ground_truth']]\n",
    "    return pd.Series(nltk_sentiment)"
   ]
  },
  {
   "cell_type": "code",
   "execution_count": 46,
   "id": "f5e12ce4",
   "metadata": {
    "ExecuteTime": {
     "end_time": "2022-05-27T16:18:37.268034Z",
     "start_time": "2022-05-27T16:18:37.188079Z"
    }
   },
   "outputs": [
    {
     "data": {
      "text/html": [
       "<div>\n",
       "<style scoped>\n",
       "    .dataframe tbody tr th:only-of-type {\n",
       "        vertical-align: middle;\n",
       "    }\n",
       "\n",
       "    .dataframe tbody tr th {\n",
       "        vertical-align: top;\n",
       "    }\n",
       "\n",
       "    .dataframe thead th {\n",
       "        text-align: right;\n",
       "    }\n",
       "</style>\n",
       "<table border=\"1\" class=\"dataframe\">\n",
       "  <thead>\n",
       "    <tr style=\"text-align: right;\">\n",
       "      <th></th>\n",
       "      <th>clean_text</th>\n",
       "    </tr>\n",
       "  </thead>\n",
       "  <tbody>\n",
       "    <tr>\n",
       "      <th>0</th>\n",
       "      <td>rt downingstreet more than countries places in...</td>\n",
       "    </tr>\n",
       "    <tr>\n",
       "      <th>1</th>\n",
       "      <td>rt gavinwilliamson want to thank all those ser...</td>\n",
       "    </tr>\n",
       "    <tr>\n",
       "      <th>2</th>\n",
       "      <td>rt ukgovwales welsh secretary aluncairns exten...</td>\n",
       "    </tr>\n",
       "    <tr>\n",
       "      <th>3</th>\n",
       "      <td>tickettattle tfwrail sure thing</td>\n",
       "    </tr>\n",
       "    <tr>\n",
       "      <th>4</th>\n",
       "      <td>wpl_official barrytownunited the_nomads balato...</td>\n",
       "    </tr>\n",
       "    <tr>\n",
       "      <th>...</th>\n",
       "      <td>...</td>\n",
       "    </tr>\n",
       "    <tr>\n",
       "      <th>234599</th>\n",
       "      <td>nasserjudeh agree and am pleased our countries...</td>\n",
       "    </tr>\n",
       "    <tr>\n",
       "      <th>234600</th>\n",
       "      <td>rt nasserjudeh had an excellent meeting with m...</td>\n",
       "    </tr>\n",
       "    <tr>\n",
       "      <th>234601</th>\n",
       "      <td>good talks with israeli foreign minister liebe...</td>\n",
       "    </tr>\n",
       "    <tr>\n",
       "      <th>234602</th>\n",
       "      <td>also discussed with president museveni working...</td>\n",
       "    </tr>\n",
       "    <tr>\n",
       "      <th>234603</th>\n",
       "      <td>called president museveni of uganda today to d...</td>\n",
       "    </tr>\n",
       "  </tbody>\n",
       "</table>\n",
       "<p>234604 rows × 1 columns</p>\n",
       "</div>"
      ],
      "text/plain": [
       "                                               clean_text\n",
       "0       rt downingstreet more than countries places in...\n",
       "1       rt gavinwilliamson want to thank all those ser...\n",
       "2       rt ukgovwales welsh secretary aluncairns exten...\n",
       "3                         tickettattle tfwrail sure thing\n",
       "4       wpl_official barrytownunited the_nomads balato...\n",
       "...                                                   ...\n",
       "234599  nasserjudeh agree and am pleased our countries...\n",
       "234600  rt nasserjudeh had an excellent meeting with m...\n",
       "234601  good talks with israeli foreign minister liebe...\n",
       "234602  also discussed with president museveni working...\n",
       "234603  called president museveni of uganda today to d...\n",
       "\n",
       "[234604 rows x 1 columns]"
      ]
     },
     "execution_count": 46,
     "metadata": {},
     "output_type": "execute_result"
    }
   ],
   "source": [
    "data_for_model[[\"clean_text\"]]"
   ]
  },
  {
   "cell_type": "code",
   "execution_count": 52,
   "id": "011f2a39",
   "metadata": {
    "ExecuteTime": {
     "end_time": "2022-05-27T16:31:29.880793Z",
     "start_time": "2022-05-27T16:22:03.361463Z"
    }
   },
   "outputs": [],
   "source": [
    "from nltk.sentiment import SentimentIntensityAnalyzer\n",
    "sentiment_intensity_analyzer = SentimentIntensityAnalyzer()\n",
    "\n",
    "nltk_sentiment = data_for_model.apply(nltk_sentiment, sentiment_intensity_analyzer=sentiment_intensity_analyzer, axis=1)"
   ]
  },
  {
   "cell_type": "code",
   "execution_count": 53,
   "id": "a99a6d1c",
   "metadata": {
    "ExecuteTime": {
     "end_time": "2022-05-27T16:38:56.885636Z",
     "start_time": "2022-05-27T16:38:56.839663Z"
    }
   },
   "outputs": [
    {
     "data": {
      "text/html": [
       "<div>\n",
       "<style scoped>\n",
       "    .dataframe tbody tr th:only-of-type {\n",
       "        vertical-align: middle;\n",
       "    }\n",
       "\n",
       "    .dataframe tbody tr th {\n",
       "        vertical-align: top;\n",
       "    }\n",
       "\n",
       "    .dataframe thead th {\n",
       "        text-align: right;\n",
       "    }\n",
       "</style>\n",
       "<table border=\"1\" class=\"dataframe\">\n",
       "  <thead>\n",
       "    <tr style=\"text-align: right;\">\n",
       "      <th></th>\n",
       "      <th>neg</th>\n",
       "      <th>neu</th>\n",
       "      <th>pos</th>\n",
       "      <th>compound</th>\n",
       "      <th>nltk_verdict</th>\n",
       "    </tr>\n",
       "  </thead>\n",
       "  <tbody>\n",
       "    <tr>\n",
       "      <th>0</th>\n",
       "      <td>0.000</td>\n",
       "      <td>1.000</td>\n",
       "      <td>0.000</td>\n",
       "      <td>0.0000</td>\n",
       "      <td>neutral</td>\n",
       "    </tr>\n",
       "    <tr>\n",
       "      <th>1</th>\n",
       "      <td>0.000</td>\n",
       "      <td>0.840</td>\n",
       "      <td>0.160</td>\n",
       "      <td>0.4215</td>\n",
       "      <td>positive</td>\n",
       "    </tr>\n",
       "    <tr>\n",
       "      <th>2</th>\n",
       "      <td>0.000</td>\n",
       "      <td>0.636</td>\n",
       "      <td>0.364</td>\n",
       "      <td>0.8225</td>\n",
       "      <td>positive</td>\n",
       "    </tr>\n",
       "    <tr>\n",
       "      <th>3</th>\n",
       "      <td>0.000</td>\n",
       "      <td>0.566</td>\n",
       "      <td>0.434</td>\n",
       "      <td>0.3182</td>\n",
       "      <td>positive</td>\n",
       "    </tr>\n",
       "    <tr>\n",
       "      <th>4</th>\n",
       "      <td>0.000</td>\n",
       "      <td>0.651</td>\n",
       "      <td>0.349</td>\n",
       "      <td>0.7096</td>\n",
       "      <td>positive</td>\n",
       "    </tr>\n",
       "    <tr>\n",
       "      <th>...</th>\n",
       "      <td>...</td>\n",
       "      <td>...</td>\n",
       "      <td>...</td>\n",
       "      <td>...</td>\n",
       "      <td>...</td>\n",
       "    </tr>\n",
       "    <tr>\n",
       "      <th>234599</th>\n",
       "      <td>0.000</td>\n",
       "      <td>0.685</td>\n",
       "      <td>0.315</td>\n",
       "      <td>0.7783</td>\n",
       "      <td>positive</td>\n",
       "    </tr>\n",
       "    <tr>\n",
       "      <th>234600</th>\n",
       "      <td>0.000</td>\n",
       "      <td>0.526</td>\n",
       "      <td>0.474</td>\n",
       "      <td>0.9260</td>\n",
       "      <td>positive</td>\n",
       "    </tr>\n",
       "    <tr>\n",
       "      <th>234601</th>\n",
       "      <td>0.000</td>\n",
       "      <td>0.714</td>\n",
       "      <td>0.286</td>\n",
       "      <td>0.7506</td>\n",
       "      <td>positive</td>\n",
       "    </tr>\n",
       "    <tr>\n",
       "      <th>234602</th>\n",
       "      <td>0.173</td>\n",
       "      <td>0.717</td>\n",
       "      <td>0.110</td>\n",
       "      <td>-0.1280</td>\n",
       "      <td>negative</td>\n",
       "    </tr>\n",
       "    <tr>\n",
       "      <th>234603</th>\n",
       "      <td>0.000</td>\n",
       "      <td>0.855</td>\n",
       "      <td>0.145</td>\n",
       "      <td>0.2960</td>\n",
       "      <td>positive</td>\n",
       "    </tr>\n",
       "  </tbody>\n",
       "</table>\n",
       "<p>234604 rows × 5 columns</p>\n",
       "</div>"
      ],
      "text/plain": [
       "          neg    neu    pos  compound nltk_verdict\n",
       "0       0.000  1.000  0.000    0.0000      neutral\n",
       "1       0.000  0.840  0.160    0.4215     positive\n",
       "2       0.000  0.636  0.364    0.8225     positive\n",
       "3       0.000  0.566  0.434    0.3182     positive\n",
       "4       0.000  0.651  0.349    0.7096     positive\n",
       "...       ...    ...    ...       ...          ...\n",
       "234599  0.000  0.685  0.315    0.7783     positive\n",
       "234600  0.000  0.526  0.474    0.9260     positive\n",
       "234601  0.000  0.714  0.286    0.7506     positive\n",
       "234602  0.173  0.717  0.110   -0.1280     negative\n",
       "234603  0.000  0.855  0.145    0.2960     positive\n",
       "\n",
       "[234604 rows x 5 columns]"
      ]
     },
     "execution_count": 53,
     "metadata": {},
     "output_type": "execute_result"
    }
   ],
   "source": [
    "nltk_sentiment"
   ]
  },
  {
   "cell_type": "code",
   "execution_count": 56,
   "id": "2dbd80c6",
   "metadata": {
    "ExecuteTime": {
     "end_time": "2022-05-27T16:41:22.937900Z",
     "start_time": "2022-05-27T16:41:22.838960Z"
    }
   },
   "outputs": [
    {
     "data": {
      "text/html": [
       "<div>\n",
       "<style scoped>\n",
       "    .dataframe tbody tr th:only-of-type {\n",
       "        vertical-align: middle;\n",
       "    }\n",
       "\n",
       "    .dataframe tbody tr th {\n",
       "        vertical-align: top;\n",
       "    }\n",
       "\n",
       "    .dataframe thead th {\n",
       "        text-align: right;\n",
       "    }\n",
       "</style>\n",
       "<table border=\"1\" class=\"dataframe\">\n",
       "  <thead>\n",
       "    <tr style=\"text-align: right;\">\n",
       "      <th></th>\n",
       "      <th>index</th>\n",
       "      <th>text</th>\n",
       "      <th>clean_text</th>\n",
       "      <th>text_tokens</th>\n",
       "      <th>conversation_id</th>\n",
       "      <th>author_id</th>\n",
       "      <th>created_at</th>\n",
       "      <th>public_metrics.like_count</th>\n",
       "      <th>public_metrics.reply_count</th>\n",
       "      <th>tokens_roy</th>\n",
       "      <th>language</th>\n",
       "      <th>created_at_date</th>\n",
       "      <th>negative</th>\n",
       "      <th>neutural</th>\n",
       "      <th>positive</th>\n",
       "      <th>compound</th>\n",
       "      <th>nltk_verdict</th>\n",
       "    </tr>\n",
       "  </thead>\n",
       "  <tbody>\n",
       "    <tr>\n",
       "      <th>0</th>\n",
       "      <td>0</td>\n",
       "      <td>RT @10DowningStreet: - More than 34 countries\\...</td>\n",
       "      <td>rt downingstreet more than countries places in...</td>\n",
       "      <td>['rt_downingstreet', 'countries', 'places_uk',...</td>\n",
       "      <td>1079747729419657217</td>\n",
       "      <td>76650839</td>\n",
       "      <td>2018-12-31T14:34:54.000Z</td>\n",
       "      <td>0</td>\n",
       "      <td>0</td>\n",
       "      <td>[rt, downingstreet, countries, places, uk, mee...</td>\n",
       "      <td>en</td>\n",
       "      <td>2018-12-31</td>\n",
       "      <td>0.0</td>\n",
       "      <td>1.000</td>\n",
       "      <td>0.000</td>\n",
       "      <td>0.0000</td>\n",
       "      <td>neutral</td>\n",
       "    </tr>\n",
       "    <tr>\n",
       "      <th>1</th>\n",
       "      <td>1</td>\n",
       "      <td>RT @GavinWilliamson: I want to thank all those...</td>\n",
       "      <td>rt gavinwilliamson want to thank all those ser...</td>\n",
       "      <td>['rt_gavinwilliamson', 'want_thank', 'serving'...</td>\n",
       "      <td>1079747690110570496</td>\n",
       "      <td>76650839</td>\n",
       "      <td>2018-12-31T14:34:44.000Z</td>\n",
       "      <td>0</td>\n",
       "      <td>0</td>\n",
       "      <td>[rt, gavinwilliamson, want, thank, serving, br...</td>\n",
       "      <td>en</td>\n",
       "      <td>2018-12-31</td>\n",
       "      <td>0.0</td>\n",
       "      <td>0.840</td>\n",
       "      <td>0.160</td>\n",
       "      <td>0.4215</td>\n",
       "      <td>positive</td>\n",
       "    </tr>\n",
       "    <tr>\n",
       "      <th>2</th>\n",
       "      <td>2</td>\n",
       "      <td>RT @UKGovWales: Welsh Secretary @AlunCairns ex...</td>\n",
       "      <td>rt ukgovwales welsh secretary aluncairns exten...</td>\n",
       "      <td>['rt_ukgovwales_welsh_secretary', 'aluncairns'...</td>\n",
       "      <td>1078943309744070657</td>\n",
       "      <td>76650839</td>\n",
       "      <td>2018-12-29T09:18:25.000Z</td>\n",
       "      <td>0</td>\n",
       "      <td>0</td>\n",
       "      <td>[rt, ukgovwales, welsh, secretary, aluncairns,...</td>\n",
       "      <td>en</td>\n",
       "      <td>2018-12-29</td>\n",
       "      <td>0.0</td>\n",
       "      <td>0.636</td>\n",
       "      <td>0.364</td>\n",
       "      <td>0.8225</td>\n",
       "      <td>positive</td>\n",
       "    </tr>\n",
       "    <tr>\n",
       "      <th>3</th>\n",
       "      <td>3</td>\n",
       "      <td>@TicketTattle @_BARRYISLAND_ @tfwrail Sure thing</td>\n",
       "      <td>tickettattle tfwrail sure thing</td>\n",
       "      <td>['tickettattle', 'tfwrail', 'sure_thing']</td>\n",
       "      <td>1078738567193640960</td>\n",
       "      <td>76650839</td>\n",
       "      <td>2018-12-28T19:58:04.000Z</td>\n",
       "      <td>1</td>\n",
       "      <td>3</td>\n",
       "      <td>[tickettattle, tfwrail, sure, thing]</td>\n",
       "      <td>en</td>\n",
       "      <td>2018-12-28</td>\n",
       "      <td>0.0</td>\n",
       "      <td>0.566</td>\n",
       "      <td>0.434</td>\n",
       "      <td>0.3182</td>\n",
       "      <td>positive</td>\n",
       "    </tr>\n",
       "    <tr>\n",
       "      <th>4</th>\n",
       "      <td>4</td>\n",
       "      <td>@WPL_Official @BarryTownUnited @the_nomads @Ba...</td>\n",
       "      <td>wpl_official barrytownunited the_nomads balato...</td>\n",
       "      <td>['wpl_official', 'barrytownunited', 'the_nomad...</td>\n",
       "      <td>1077967555879452672</td>\n",
       "      <td>76650839</td>\n",
       "      <td>2018-12-26T21:24:01.000Z</td>\n",
       "      <td>3</td>\n",
       "      <td>1</td>\n",
       "      <td>[wpl_official, barrytownunited, the_nomads, ba...</td>\n",
       "      <td>en</td>\n",
       "      <td>2018-12-26</td>\n",
       "      <td>0.0</td>\n",
       "      <td>0.651</td>\n",
       "      <td>0.349</td>\n",
       "      <td>0.7096</td>\n",
       "      <td>positive</td>\n",
       "    </tr>\n",
       "  </tbody>\n",
       "</table>\n",
       "</div>"
      ],
      "text/plain": [
       "   index                                               text  \\\n",
       "0      0  RT @10DowningStreet: - More than 34 countries\\...   \n",
       "1      1  RT @GavinWilliamson: I want to thank all those...   \n",
       "2      2  RT @UKGovWales: Welsh Secretary @AlunCairns ex...   \n",
       "3      3   @TicketTattle @_BARRYISLAND_ @tfwrail Sure thing   \n",
       "4      4  @WPL_Official @BarryTownUnited @the_nomads @Ba...   \n",
       "\n",
       "                                          clean_text  \\\n",
       "0  rt downingstreet more than countries places in...   \n",
       "1  rt gavinwilliamson want to thank all those ser...   \n",
       "2  rt ukgovwales welsh secretary aluncairns exten...   \n",
       "3                    tickettattle tfwrail sure thing   \n",
       "4  wpl_official barrytownunited the_nomads balato...   \n",
       "\n",
       "                                         text_tokens      conversation_id  \\\n",
       "0  ['rt_downingstreet', 'countries', 'places_uk',...  1079747729419657217   \n",
       "1  ['rt_gavinwilliamson', 'want_thank', 'serving'...  1079747690110570496   \n",
       "2  ['rt_ukgovwales_welsh_secretary', 'aluncairns'...  1078943309744070657   \n",
       "3          ['tickettattle', 'tfwrail', 'sure_thing']  1078738567193640960   \n",
       "4  ['wpl_official', 'barrytownunited', 'the_nomad...  1077967555879452672   \n",
       "\n",
       "  author_id                created_at  public_metrics.like_count  \\\n",
       "0  76650839  2018-12-31T14:34:54.000Z                          0   \n",
       "1  76650839  2018-12-31T14:34:44.000Z                          0   \n",
       "2  76650839  2018-12-29T09:18:25.000Z                          0   \n",
       "3  76650839  2018-12-28T19:58:04.000Z                          1   \n",
       "4  76650839  2018-12-26T21:24:01.000Z                          3   \n",
       "\n",
       "   public_metrics.reply_count  \\\n",
       "0                           0   \n",
       "1                           0   \n",
       "2                           0   \n",
       "3                           3   \n",
       "4                           1   \n",
       "\n",
       "                                          tokens_roy language created_at_date  \\\n",
       "0  [rt, downingstreet, countries, places, uk, mee...       en      2018-12-31   \n",
       "1  [rt, gavinwilliamson, want, thank, serving, br...       en      2018-12-31   \n",
       "2  [rt, ukgovwales, welsh, secretary, aluncairns,...       en      2018-12-29   \n",
       "3               [tickettattle, tfwrail, sure, thing]       en      2018-12-28   \n",
       "4  [wpl_official, barrytownunited, the_nomads, ba...       en      2018-12-26   \n",
       "\n",
       "   negative  neutural  positive  compound nltk_verdict  \n",
       "0       0.0     1.000     0.000    0.0000      neutral  \n",
       "1       0.0     0.840     0.160    0.4215     positive  \n",
       "2       0.0     0.636     0.364    0.8225     positive  \n",
       "3       0.0     0.566     0.434    0.3182     positive  \n",
       "4       0.0     0.651     0.349    0.7096     positive  "
      ]
     },
     "execution_count": 56,
     "metadata": {},
     "output_type": "execute_result"
    }
   ],
   "source": [
    "data_for_model[\"negative\"] = nltk_sentiment.neg\n",
    "data_for_model[\"neutural\"] = nltk_sentiment.neu\n",
    "data_for_model[\"positive\"] = nltk_sentiment.pos\n",
    "data_for_model[\"compound\"] = nltk_sentiment.compound\n",
    "data_for_model[\"nltk_verdict\"] = nltk_sentiment.nltk_verdict\n",
    "\n",
    "data_for_model.head()"
   ]
  },
  {
   "cell_type": "code",
   "execution_count": 60,
   "id": "4aea0093",
   "metadata": {
    "ExecuteTime": {
     "end_time": "2022-05-27T16:42:33.854243Z",
     "start_time": "2022-05-27T16:42:33.838252Z"
    }
   },
   "outputs": [
    {
     "data": {
      "text/plain": [
       "'tickettattle tfwrail sure thing'"
      ]
     },
     "execution_count": 60,
     "metadata": {},
     "output_type": "execute_result"
    }
   ],
   "source": [
    "data_for_model.clean_text[3]"
   ]
  },
  {
   "cell_type": "code",
   "execution_count": 61,
   "id": "f9690117",
   "metadata": {
    "ExecuteTime": {
     "end_time": "2022-05-27T16:58:20.898611Z",
     "start_time": "2022-05-27T16:58:20.870628Z"
    }
   },
   "outputs": [
    {
     "data": {
      "text/plain": [
       "'3.7'"
      ]
     },
     "execution_count": 61,
     "metadata": {},
     "output_type": "execute_result"
    }
   ],
   "source": [
    "nltk.__version__"
   ]
  }
 ],
 "metadata": {
  "kernelspec": {
   "display_name": "Python 3 (ipykernel)",
   "language": "python",
   "name": "python3"
  },
  "language_info": {
   "codemirror_mode": {
    "name": "ipython",
    "version": 3
   },
   "file_extension": ".py",
   "mimetype": "text/x-python",
   "name": "python",
   "nbconvert_exporter": "python",
   "pygments_lexer": "ipython3",
   "version": "3.9.12"
  },
  "latex_envs": {
   "LaTeX_envs_menu_present": true,
   "autoclose": false,
   "autocomplete": true,
   "bibliofile": "biblio.bib",
   "cite_by": "apalike",
   "current_citInitial": 1,
   "eqLabelWithNumbers": true,
   "eqNumInitial": 1,
   "hotkeys": {
    "equation": "Ctrl-E",
    "itemize": "Ctrl-I"
   },
   "labels_anchors": false,
   "latex_user_defs": false,
   "report_style_numbering": false,
   "user_envs_cfg": false
  },
  "toc": {
   "base_numbering": 1,
   "nav_menu": {},
   "number_sections": true,
   "sideBar": true,
   "skip_h1_title": false,
   "title_cell": "Table of Contents",
   "title_sidebar": "Contents",
   "toc_cell": false,
   "toc_position": {},
   "toc_section_display": true,
   "toc_window_display": false
  },
  "varInspector": {
   "cols": {
    "lenName": 16,
    "lenType": 16,
    "lenVar": 40
   },
   "kernels_config": {
    "python": {
     "delete_cmd_postfix": "",
     "delete_cmd_prefix": "del ",
     "library": "var_list.py",
     "varRefreshCmd": "print(var_dic_list())"
    },
    "r": {
     "delete_cmd_postfix": ") ",
     "delete_cmd_prefix": "rm(",
     "library": "var_list.r",
     "varRefreshCmd": "cat(var_dic_list()) "
    }
   },
   "types_to_exclude": [
    "module",
    "function",
    "builtin_function_or_method",
    "instance",
    "_Feature"
   ],
   "window_display": false
  }
 },
 "nbformat": 4,
 "nbformat_minor": 5
}
